{
 "cells": [
  {
   "cell_type": "code",
   "execution_count": null,
   "outputs": [],
   "source": [
    "TRABAJO FINAL PROGRAMACION ANALITICA\n",
    "\n",
    "Leer el documento donde se especifica el trabajo a realizar\n",
    "\n",
    "Este es el resumen del dataset\n",
    "\n",
    "* TIPO DE PROBLEMA: CLASIFICACION\n",
    "\n",
    "\n",
    "* DESCRIPCION:\n",
    "\n",
    "Las características se calculan a partir de una imagen digitalizada\n",
    "con aguja fina (PAAF) de una masa mamaria.\n",
    "Los datos describen las características de los núcleos celulares presentes en\n",
    "la imagen.\n",
    "\n",
    "La idea es utilizar el aprendizaje de maquina para determinar si la masa\n",
    "analizada es Benigna o Maligna.\n",
    "\n",
    "\n",
    "* DATOS:\n",
    "\n",
    "- idID number\n",
    "- diagnosis: The diagnosis of breast tissues (M = malignant, B = benign)\n",
    "- radius_mean: mean of distances from center to points on the perimeter\n",
    "- texture_mean: standard deviation of gray-scale values\n",
    "- perimeter_mean: mean size of the core tumor\n",
    "- area_mean\n",
    "- smoothness_mean: mean of local variation in radius lengths\n",
    "- compactness_mean: mean of perimeter^2 / area - 1.0\n",
    "- concavity_mean: mean of severity of concave portions of the contour\n",
    "- concave points_mean: mean for number of concave portions of the contour\n",
    "- symmetry_mean\n",
    "- fractal_dimension_mean: mean for \"coastline approximation\" - 1\n",
    "- radius_se: standard error for the mean of distances from center to points on the perimeter\n",
    "- texture_se: standard error for standard deviation of gray-scale values\n",
    "- perimeter_se\n",
    "- area_se\n",
    "- smoothness_se: standard error for local variation in radius lengths\n",
    "- compactness_se: standard error for perimeter^2 / area - 1.0\n",
    "- concavity_se: standard error for severity of concave portions of the contour\n",
    "- concave points_se: standard error for number of concave portions of the contour\n",
    "- symmetry_se\n",
    "- fractal_dimension_se: standard error for \"coastline approximation\" - 1\n",
    "- radius_worst: \"worst\" or largest mean value for mean of distances from center to points on the perimeter\n",
    "- texture_worst: \"worst\" or largest mean value for standard deviation of gray-scale values\n",
    "- perimeter_worst\n",
    "- area_worst\n",
    "- smoothness_worst: \"worst\" or largest mean value for local variation in radius lengths\n",
    "- compactness_worst: \"worst\" or largest mean value for perimeter^2 / area - 1.0\n",
    "- concavity_worst: \"worst\" or largest mean value for severity of concave portions of the contour\n",
    "- concave points_worst: \"worst\" or largest mean value for number of concave portions of the contour\n",
    "- symmetry_worst\n",
    "- fractal_dimension_worst: \"worst\" or largest mean value for \"coastline approximation\" - 1\n",
    "\n",
    "* DATOS DE SALIDA:\n",
    "- Diagnosis (M = malignant, B = benign)\n"
   ],
   "metadata": {
    "collapsed": false,
    "pycharm": {
     "name": "#%%\n"
    }
   }
  }
 ],
 "metadata": {
  "kernelspec": {
   "display_name": "Python 3",
   "language": "python",
   "name": "python3"
  },
  "language_info": {
   "codemirror_mode": {
    "name": "ipython",
    "version": 2
   },
   "file_extension": ".py",
   "mimetype": "text/x-python",
   "name": "python",
   "nbconvert_exporter": "python",
   "pygments_lexer": "ipython2",
   "version": "2.7.6"
  }
 },
 "nbformat": 4,
 "nbformat_minor": 0
}