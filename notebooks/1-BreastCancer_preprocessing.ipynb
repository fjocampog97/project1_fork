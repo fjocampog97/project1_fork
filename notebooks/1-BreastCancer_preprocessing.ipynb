{
 "cells": [
  {
   "cell_type": "markdown",
   "source": [
    "TRABAJO FINAL PROGRAMACION ANALITICA\n",
    "\n",
    "Leer el documento donde se especifica el trabajo a realizar\n",
    "\n",
    "Este es el resumen del dataset\n",
    "\n",
    "* TIPO DE PROBLEMA: CLASIFICACION\n",
    "\n",
    "\n",
    "* DESCRIPCION:\n",
    "\n",
    "Las características se calculan a partir de una imagen digitalizada\n",
    "con aguja fina (PAAF) de una masa mamaria.\n",
    "Los datos describen las características de los núcleos celulares presentes en\n",
    "la imagen.\n",
    "\n",
    "La idea es utilizar el aprendizaje de maquina para determinar si la masa\n",
    "analizada es Benigna o Maligna.\n",
    "\n",
    "\n"
   ],
   "metadata": {
    "collapsed": false,
    "pycharm": {
     "name": "#%% md\n"
    }
   }
  },
  {
   "cell_type": "markdown",
   "source": [
    "# Trabajo Preparacion, visualizacion de Datos y Machine learning con Python<a class=\"tocSkip\">\n",
    "## Ciencia de datos en Produccion <a class=\"tocSkip\">\n",
    "\n",
    "**Estudiantes :** Francisco Ocampo y Nicolas Restrepo\n",
    "\n",
    "**ID:** 10953409583, 234908234\n",
    "\n",
    "**Email:** nrestrepoc@uqvirtual.edu.co, fjocampog@uqvirtual.edu.co\n",
    "\n",
    "\n",
    "**Ponga su nombre en el archivo de Jupyter Notebook\n",
    "Docente: [Jose R. Zapata](https://joserzapata.github.io)\n",
    "- https://joserzapata.github.io\n",
    "- https://twitter.com/joserzapata\n",
    "- https://www.linkedin.com/in/jose-ricardo-zapata-gonzalez/"
   ],
   "metadata": {
    "collapsed": false,
    "pycharm": {
     "name": "#%% md\n"
    }
   }
  },
  {
   "cell_type": "markdown",
   "source": [
    "<h1>Contenido<span class=\"tocSkip\"></span></h1>\n",
    "<div class=\"toc\"><ul class=\"toc-item\"><li><span><a href=\"#Definir-el-Problema-a-Resolver\" data-toc-modified-id=\"Definir-el-Problema-a-Resolver-1\"><span class=\"toc-item-num\">1&nbsp;&nbsp;</span>Definir el Problema a Resolver</a></span><ul class=\"toc-item\"><li><span><a href=\"#Describir-los-datos-de-entrada-y-salida\" data-toc-modified-id=\"Describir-los-datos-de-entrada-y-salida-1.1\"><span class=\"toc-item-num\">1.1&nbsp;&nbsp;</span>Describir los datos de entrada y salida</a></span></li></ul></li><li><span><a href=\"#Importar-Librerias\" data-toc-modified-id=\"Importar-Librerias-2\"><span class=\"toc-item-num\">2&nbsp;&nbsp;</span>Importar Librerias</a></span></li><li><span><a href=\"#Cargar-Datasets\" data-toc-modified-id=\"Cargar-Datasets-3\"><span class=\"toc-item-num\">3&nbsp;&nbsp;</span>Cargar Datasets</a></span></li><li><span><a href=\"#Descripcion--y-Limpieza-de-los-datos\" data-toc-modified-id=\"Descripcion--y-Limpieza-de-los-datos-4\"><span class=\"toc-item-num\">4&nbsp;&nbsp;</span>Descripcion  y Limpieza de los datos</a></span><ul class=\"toc-item\"><li><span><a href=\"#Identificacion-de-Variables\" data-toc-modified-id=\"Identificacion-de-Variables-4.1\"><span class=\"toc-item-num\">4.1&nbsp;&nbsp;</span>Identificacion de Variables</a></span></li><li><span><a href=\"#Analisis-General-Univariable-y-Bivariable\" data-toc-modified-id=\"Analisis-General-Univariable-y-Bivariable-4.2\"><span class=\"toc-item-num\">4.2&nbsp;&nbsp;</span>Analisis General Univariable y Bivariable</a></span></li><li><span><a href=\"#Eliminar-columnas-de-datos-Innecesarios\" data-toc-modified-id=\"Eliminar-columnas-de-datos-Innecesarios-4.3\"><span class=\"toc-item-num\">4.3&nbsp;&nbsp;</span>Eliminar columnas de datos Innecesarios</a></span></li><li><span><a href=\"#Remover-Datos-Duplicados-Exactos\" data-toc-modified-id=\"Remover-Datos-Duplicados-Exactos-4.4\"><span class=\"toc-item-num\">4.4&nbsp;&nbsp;</span>Remover Datos Duplicados Exactos</a></span></li><li><span><a href=\"#Procesamiento-de-Datos-Faltantes\" data-toc-modified-id=\"Procesamiento-de-Datos-Faltantes-4.5\"><span class=\"toc-item-num\">4.5&nbsp;&nbsp;</span>Procesamiento de Datos Faltantes</a></span><ul class=\"toc-item\"><li><span><a href=\"#Borrar-Filas\" data-toc-modified-id=\"Borrar-Filas-4.5.1\"><span class=\"toc-item-num\">4.5.1&nbsp;&nbsp;</span>Borrar Filas</a></span></li><li><span><a href=\"#Reemplazar-datos-faltantes-con-la-Media/-Moda/-Mediana-(Mean/-Mode/-Median-Imputation)\" data-toc-modified-id=\"Reemplazar-datos-faltantes-con-la-Media/-Moda/-Mediana-(Mean/-Mode/-Median-Imputation)-4.5.2\"><span class=\"toc-item-num\">4.5.2&nbsp;&nbsp;</span>Reemplazar datos faltantes con la Media/ Moda/ Mediana (Mean/ Mode/ Median Imputation)</a></span></li></ul></li><li><span><a href=\"#Remover-Datos-Duplicados-Exactos\" data-toc-modified-id=\"Remover-Datos-Duplicados-Exactos-4.6\"><span class=\"toc-item-num\">4.6&nbsp;&nbsp;</span>Remover Datos Duplicados Exactos</a></span></li><li><span><a href=\"#Analisis-Univariable\" data-toc-modified-id=\"Analisis-Univariable-4.7\"><span class=\"toc-item-num\">4.7&nbsp;&nbsp;</span>Analisis Univariable</a></span><ul class=\"toc-item\"><li><span><a href=\"#Variables-Numericas\" data-toc-modified-id=\"Variables-Numericas-4.7.1\"><span class=\"toc-item-num\">4.7.1&nbsp;&nbsp;</span>Variables Numericas</a></span></li><li><span><a href=\"#Variables-Categoricas\" data-toc-modified-id=\"Variables-Categoricas-4.7.2\"><span class=\"toc-item-num\">4.7.2&nbsp;&nbsp;</span>Variables Categoricas</a></span></li></ul></li><li><span><a href=\"#Analisis-Bivariable\" data-toc-modified-id=\"Analisis-Bivariable-4.8\"><span class=\"toc-item-num\">4.8&nbsp;&nbsp;</span>Analisis Bivariable</a></span><ul class=\"toc-item\"><li><span><a href=\"#Numericas-vs-Numericas\" data-toc-modified-id=\"Numericas-vs-Numericas-4.8.1\"><span class=\"toc-item-num\">4.8.1&nbsp;&nbsp;</span>Numericas vs Numericas</a></span></li><li><span><a href=\"#Categoricas-vs-Categoricas\" data-toc-modified-id=\"Categoricas-vs-Categoricas-4.8.2\"><span class=\"toc-item-num\">4.8.2&nbsp;&nbsp;</span>Categoricas vs Categoricas</a></span></li><li><span><a href=\"#Categoricas-vs-Numericas\" data-toc-modified-id=\"Categoricas-vs-Numericas-4.8.3\"><span class=\"toc-item-num\">4.8.3&nbsp;&nbsp;</span>Categoricas vs Numericas</a></span></li></ul></li><li><span><a href=\"#Procesamiento-de-Outliers\" data-toc-modified-id=\"Procesamiento-de-Outliers-4.9\"><span class=\"toc-item-num\">4.9&nbsp;&nbsp;</span>Procesamiento de Outliers</a></span><ul class=\"toc-item\"><li><span><a href=\"#Deteccion-de-Outliers-(Univariables-y-Bi-variables)\" data-toc-modified-id=\"Deteccion-de-Outliers-(Univariables-y-Bi-variables)-4.9.1\"><span class=\"toc-item-num\">4.9.1&nbsp;&nbsp;</span>Deteccion de Outliers (Univariables y Bi variables)</a></span></li><li><span><a href=\"#Remover-Outliers\" data-toc-modified-id=\"Remover-Outliers-4.9.2\"><span class=\"toc-item-num\">4.9.2&nbsp;&nbsp;</span>Remover Outliers</a></span></li></ul></li><li><span><a href=\"#Procesamiento-de-Outliers\" data-toc-modified-id=\"Procesamiento-de-Outliers-4.10\"><span class=\"toc-item-num\">4.10&nbsp;&nbsp;</span>Procesamiento de Outliers</a></span><ul class=\"toc-item\"><li><span><a href=\"#Deteccion-de-Outliers-(Univariables-y-Bi-variables)\" data-toc-modified-id=\"Deteccion-de-Outliers-(Univariables-y-Bi-variables)-4.10.1\"><span class=\"toc-item-num\">4.10.1&nbsp;&nbsp;</span>Deteccion de Outliers (Univariables y Bi variables)</a></span></li><li><span><a href=\"#Remover-Outliers\" data-toc-modified-id=\"Remover-Outliers-4.10.2\"><span class=\"toc-item-num\">4.10.2&nbsp;&nbsp;</span>Remover Outliers</a></span></li></ul></li><li><span><a href=\"#Feature-Engineering\" data-toc-modified-id=\"Feature-Engineering-4.11\"><span class=\"toc-item-num\">4.11&nbsp;&nbsp;</span>Feature Engineering</a></span><ul class=\"toc-item\"><li><span><a href=\"#Transformacion-de-Variables\" data-toc-modified-id=\"Transformacion-de-Variables-4.11.1\"><span class=\"toc-item-num\">4.11.1&nbsp;&nbsp;</span>Transformacion de Variables</a></span><ul class=\"toc-item\"><li><span><a href=\"#Normalizacion\" data-toc-modified-id=\"Normalizacion-4.11.1.1\"><span class=\"toc-item-num\">4.11.1.1&nbsp;&nbsp;</span>Normalizacion</a></span></li><li><span><a href=\"#Escalamiento\" data-toc-modified-id=\"Escalamiento-4.11.1.2\"><span class=\"toc-item-num\">4.11.1.2&nbsp;&nbsp;</span>Escalamiento</a></span></li><li><span><a href=\"#Logaritmica\" data-toc-modified-id=\"Logaritmica-4.11.1.3\"><span class=\"toc-item-num\">4.11.1.3&nbsp;&nbsp;</span>Logaritmica</a></span></li><li><span><a href=\"#raíz-cuadrada-/-cúbica\" data-toc-modified-id=\"raíz-cuadrada-/-cúbica-4.11.1.4\"><span class=\"toc-item-num\">4.11.1.4&nbsp;&nbsp;</span>raíz cuadrada / cúbica</a></span></li><li><span><a href=\"#Binning-,-Cambios-de-Numericas-a-Categoricas\" data-toc-modified-id=\"Binning-,-Cambios-de-Numericas-a-Categoricas-4.11.1.5\"><span class=\"toc-item-num\">4.11.1.5&nbsp;&nbsp;</span>Binning , Cambios de Numericas a Categoricas</a></span></li></ul></li></ul></li><li><span><a href=\"#Analisis-Univariable-y-Bivariable-Final\" data-toc-modified-id=\"Analisis-Univariable-y-Bivariable-Final-4.12\"><span class=\"toc-item-num\">4.12&nbsp;&nbsp;</span>Analisis Univariable y Bivariable Final</a></span><ul class=\"toc-item\"><li><span><a href=\"#Creacion-de-Variables\" data-toc-modified-id=\"Creacion-de-Variables-4.12.1\"><span class=\"toc-item-num\">4.12.1&nbsp;&nbsp;</span>Creacion de Variables</a></span><ul class=\"toc-item\"><li><span><a href=\"#Crear-Variables-derivadas-de-Otras\" data-toc-modified-id=\"Crear-Variables-derivadas-de-Otras-4.12.1.1\"><span class=\"toc-item-num\">4.12.1.1&nbsp;&nbsp;</span>Crear Variables derivadas de Otras</a></span></li><li><span><a href=\"#Crear-Variables-de-Categorico-a-Numerico\" data-toc-modified-id=\"Crear-Variables-de-Categorico-a-Numerico-4.12.1.2\"><span class=\"toc-item-num\">4.12.1.2&nbsp;&nbsp;</span>Crear Variables de Categorico a Numerico</a></span></li></ul></li></ul></li><li><span><a href=\"#Reduccion-de-Dimensionalidad-y-Seleccion-de-Variables-(PCA)\" data-toc-modified-id=\"Reduccion-de-Dimensionalidad-y-Seleccion-de-Variables-(PCA)-4.13\"><span class=\"toc-item-num\">4.13&nbsp;&nbsp;</span>Reduccion de Dimensionalidad y Seleccion de Variables (PCA)</a></span></li><li><span><a href=\"#Balance-de-datos\" data-toc-modified-id=\"Balance-de-datos-4.14\"><span class=\"toc-item-num\">4.14&nbsp;&nbsp;</span>Balance de datos</a></span></li></ul></li><li><span><a href=\"#MODELAMIENTO-DE-LOS-DATOS-(MACHINE-LEARNING)\" data-toc-modified-id=\"MODELAMIENTO-DE-LOS-DATOS-(MACHINE-LEARNING)-5\"><span class=\"toc-item-num\">5&nbsp;&nbsp;</span>MODELAMIENTO DE LOS DATOS (MACHINE LEARNING)</a></span><ul class=\"toc-item\"><li><span><a href=\"#Dividir-el-dataset-en-Training-set-y-Test-set\" data-toc-modified-id=\"Dividir-el-dataset-en-Training-set-y-Test-set-5.1\"><span class=\"toc-item-num\">5.1&nbsp;&nbsp;</span>Dividir el dataset en Training set y Test set</a></span></li></ul></li><li><span><a href=\"#Validacion-y-Evaluacion-Cruzada-(k-fold-Cross-Validation)\" data-toc-modified-id=\"Validacion-y-Evaluacion-Cruzada-(k-fold-Cross-Validation)-6\"><span class=\"toc-item-num\">6&nbsp;&nbsp;</span>Validacion y Evaluacion Cruzada (k-fold Cross Validation)</a></span></li><li><span><a href=\"#Optimizacion-de-Hiper-parametros-(Hyper-Parameter-optimization)\" data-toc-modified-id=\"Optimizacion-de-Hiper-parametros-(Hyper-Parameter-optimization)-7\"><span class=\"toc-item-num\">7&nbsp;&nbsp;</span>Optimizacion de Hiper parametros (Hyper Parameter optimization)</a></span></li><li><span><a href=\"#Evaluacion-final-del-modelo-con-el-Test-set\" data-toc-modified-id=\"Evaluacion-final-del-modelo-con-el-Test-set-8\"><span class=\"toc-item-num\">8&nbsp;&nbsp;</span>Evaluacion final del modelo con el Test set</a></span></li><li><span><a href=\"#Implementacion-del-Modelo-(Deploying)\" data-toc-modified-id=\"Implementacion-del-Modelo-(Deploying)-9\"><span class=\"toc-item-num\">9&nbsp;&nbsp;</span>Implementacion del Modelo (Deploying)</a></span></li><li><span><a href=\"#Comunicacion-de-Resultados-(Data-Story-Telling)\" data-toc-modified-id=\"Comunicacion-de-Resultados-(Data-Story-Telling)-10\"><span class=\"toc-item-num\">10&nbsp;&nbsp;</span>Comunicacion de Resultados (Data Story Telling)</a></span></li><li><span><a href=\"#Conclusiones\" data-toc-modified-id=\"Conclusiones-11\"><span class=\"toc-item-num\">11&nbsp;&nbsp;</span>Conclusiones</a></span></li><li><span><a href=\"#Ayudas-Y-Referencias\" data-toc-modified-id=\"Ayudas-Y-Referencias-12\"><span class=\"toc-item-num\">12&nbsp;&nbsp;</span>Ayudas Y Referencias</a></span></li></ul></div>"
   ],
   "metadata": {
    "collapsed": false,
    "pycharm": {
     "name": "#%% md\n"
    }
   }
  },
  {
   "cell_type": "markdown",
   "source": [
    "## Objetivo del Trabajo <a class=\"tocSkip\">\n",
    "El objetivo inicial del trabajo es utilizar Python para el procesamiento, descripcion  y visualización de datos, con el fin de dejar los datos preparados para ser usados con algoritmos de Machine Learning para Regresión o Clasificación como objetivo final del trabajo.\n",
    "\n",
    "El trabajo se realizara en Python usando un jupyter notebook o un Notebook de Google Collaboratory, llenando los campos de este archivo y subirlo a github.\n",
    "\n",
    "## Las actividades a realizar<a class=\"tocSkip\">\n",
    "\n",
    "\n",
    "1) Preparar los datos, hacer cada uno de los pasos solo si es necesario:\n",
    "\n",
    "    - Poner los datos en sus tipos de datos correctos\n",
    "    - Remover los valores duplicados\n",
    "    - Procesar y Reemplazar los datos que faltan (Missing N.A values)\n",
    "    - Manejo de outliers\n",
    "    - Re-escalar las variables\n",
    "    - Normalizar\n",
    "    - Data Binning\n",
    "        - Conversión Numérico a categórico\n",
    "        - Conversión Categórico a Numérico\n",
    "\n",
    "2) Realizar una exploración estadística y con visualización de los datos\n",
    "    - Scatter plots\n",
    "    - Histogramas\n",
    "    - boxplot, o las gráficas que considere necesarias\n",
    "\n",
    "\n",
    "3) Entrene y Evalue modelos de Machine Learning según sea su problema, recuerde usar k-fold cross-validation para evitar over fitting, algunos algoritmos recomendados\n",
    "\n",
    "    (a) PREDICCIÓN:\n",
    "\n",
    "            ▪ Regresión Lineal\n",
    "            ▪ Lasso\n",
    "            ▪ Ridge\n",
    "            ▪ Decision Tree regressor\n",
    "            ▪ Random Forest regressor\n",
    "            ▪ SVR\n",
    "            ▪ KNR\n",
    "            ▪ catboost regressor\n",
    "\n",
    "\n",
    "\n",
    "    (b) CLASIFICACION\n",
    "\n",
    "            ▪ Regresión Logística\n",
    "            ▪ LinearSVC\n",
    "            ▪ KernelSVC\n",
    "            ▪ Decision Tree clasifier\n",
    "            ▪ Random Forest classifier\n",
    "            ▪ K-NN\n",
    "            ▪ GaussianNB\n",
    "            ▪ catboost\n",
    "\n",
    "**Nota: utilizar visualizaciones para comunicar los resultados obtenidos.**\n",
    "\n",
    "4) Realizar hyperparameter optimization  de los dos métodos que tengan mejor resultado en los pasos anteriores para mejorar el desempeño obtenido. (Tenga en cuenta, que realizar el hyperparameter tuning no garantiza una mejora significativa en el desempeño, pero es bueno intentarlo)\n",
    "\n",
    "5) Realizar comentarios de cada paso que va realizando en el documento y finalmente también agregue **conclusiones** de:\n",
    "\n",
    "    - los datos procesados\n",
    "    - la información que observa\n",
    "    - Comparación de la evaluación de los Métodos\n",
    "    - Cual fue el mejor modelo que obtuvo luego de la hiper parametrización\n",
    "\n",
    "\n",
    "*NOTA: No dude en contactarme para cualquier pregunta o inquietud :)\n",
    "\n",
    "## FORMATO DE ENTREGA  <a class=\"tocSkip\">\n",
    "\n",
    "EL jupyter notebook estara alojado en un repositorio de Github\n",
    "\n",
    "El código debe tener comentarios y explicaciones de la solución del trabajo.\n",
    "\n",
    "\n",
    "## EVALUACION <a class=\"tocSkip\">\n",
    "(33 % ) preparacion, descripcion y visualizacion de datos\n",
    "\n",
    "(33 % ) Machine Learning, hiperparametrizacion y Conclusiones\n",
    "\n",
    "\n",
    "|Porcentaje en la evaluación | Descripción| Nada | Incompleto | Completo |\n",
    "| :---: |:---: |:---: |:---: |:---: |\n",
    "| 11 % |**Preparación de los datos** <br> (datos nulos, outliers, duplicados, <br> corrección de formatos de tipos de datos) |\n",
    "|11 % | **Visualización de datos** <br> (Univarible y Bivariable) <br> Histogramas, boxplots, correlaciones, etc|\n",
    "|11 % | **Descripción y Análisis Estadístico de los datos** |\n",
    "|11 % | **Machine Learning** <br> Entrenar y evaluar todos los modelos propuestos |\n",
    "|11 % | **Hiper parametrizacion** <br> Hiperparametrizar 2 modelos y escoger el mejor modelo |\n",
    "|11 % | **Resultados y Conclusiones** <br> analisis de los datos, conclusiones del modelos y los resultados obtenidos|\n",
    "\n",
    "\n",
    "Ejemplos y links de ayuda al final del documento"
   ],
   "metadata": {
    "collapsed": false,
    "pycharm": {
     "name": "#%% md\n"
    }
   }
  },
  {
   "cell_type": "markdown",
   "source": [
    "# Definir el Problema a Resolver (problem definition)\n",
    "The problem will be modeled using a clasification algorithm in order to determine whether the breast mass is malignant or bening based on the cell features.\n",
    "Features are computed from a digitized image of a fine needle aspirate (FNA) of a breast mass. They describe characteristics of the cell nuclei present in the image. A few of the images can be found at  https://archive.ics.uci.edu/ml/datasets/Breast+Cancer+Wisconsin+%28Diagnostic%29\n",
    "\n",
    "\n",
    "https://pages.cs.wisc.edu/~olvi/uwmp/cancer.html\n"
   ],
   "metadata": {
    "collapsed": false,
    "pycharm": {
     "name": "#%% md\n"
    }
   }
  },
  {
   "cell_type": "markdown",
   "source": [
    "## Describir los datos de entrada y salida\n",
    "- Cantidad de Variables\n",
    "- Tipo de Variables\n",
    "- Significado de cada Variable"
   ],
   "metadata": {
    "collapsed": false,
    "pycharm": {
     "name": "#%% md\n"
    }
   }
  },
  {
   "cell_type": "markdown",
   "source": [
    "# Import libraries"
   ],
   "metadata": {
    "collapsed": false,
    "pycharm": {
     "name": "#%% md\n"
    }
   }
  },
  {
   "cell_type": "code",
   "execution_count": 346,
   "outputs": [],
   "source": [
    "import pandas as pd\n",
    "import numpy as np\n",
    "import re"
   ],
   "metadata": {
    "collapsed": false,
    "pycharm": {
     "name": "#%%\n"
    }
   }
  },
  {
   "cell_type": "markdown",
   "source": [
    "# Read dataset"
   ],
   "metadata": {
    "collapsed": false,
    "pycharm": {
     "name": "#%% md\n"
    }
   }
  },
  {
   "cell_type": "code",
   "execution_count": 347,
   "outputs": [],
   "source": [
    "data_raw=pd.read_csv('../data/raw/BreastCancerDS.csv',index_col=0)"
   ],
   "metadata": {
    "collapsed": false,
    "pycharm": {
     "name": "#%%\n"
    }
   }
  },
  {
   "cell_type": "code",
   "execution_count": 348,
   "outputs": [
    {
     "data": {
      "text/plain": "   index perimeter_se       radius_worst concave points_mean  \\\n0    223       2244.0              19.56             0.06462   \n1    279         1.83  999765432456788.0             0.03711   \n2    307       1144.0             9699.0            0.003472   \n3    571       2635.0              12.98             0.01115   \n4    576       2183.0                 ?              0.02278   \n\n     smoothness_mean area_mean concavity_se       texture_mean  \\\n0             0.1025     761.3      0.02384  999765432456788.0   \n1            0.09516     587.4      0.01457              15.18   \n2  -88888765432345.0     246.3     0.003681               14.4   \n3            0.08637     427.9      0.01168               21.6   \n4            0.09524     409.0      0.01349              18.75   \n\n  concavity_worst      smoothness_se  ...      symmetry_mean symmetry_worst  \\\n0          0.3976  999765432456788.0  ...             0.1935         0.3993   \n1          0.1456           0.004235  ...              211.0         0.2955   \n2         0.01472           0.007389  ...  -88888765432345.0         0.2991   \n3         0.05523                NaN  ...             0.1495            NaN   \n4              ?            0.008328  ...                 ?          0.3306   \n\n         diagnosis          erty fractal_dimension_se     perimeter_mean  \\\n0  999765432456788  908765434567             0.003131              102.6   \n1                B  908765434567             0.001593  999765432456788.0   \n2                B  908765434567             0.002153              56.36   \n3              NaN  908765434567             0.001769              74.72   \n4                B  908765434567             0.002386              73.34   \n\n  compactness_worst symmetry_se compactness_se          radius_se  \n0             448.0     0.01772        0.02374             0.3473  \n1            0.1724     0.01528        0.01541  999765432456788.0  \n2           0.05232     0.02701       0.004883             0.1746  \n3           0.08615     0.02406       0.009758             0.4062  \n4                ?      0.03218       0.008722             0.3249  \n\n[5 rows x 35 columns]",
      "text/html": "<div>\n<style scoped>\n    .dataframe tbody tr th:only-of-type {\n        vertical-align: middle;\n    }\n\n    .dataframe tbody tr th {\n        vertical-align: top;\n    }\n\n    .dataframe thead th {\n        text-align: right;\n    }\n</style>\n<table border=\"1\" class=\"dataframe\">\n  <thead>\n    <tr style=\"text-align: right;\">\n      <th></th>\n      <th>index</th>\n      <th>perimeter_se</th>\n      <th>radius_worst</th>\n      <th>concave points_mean</th>\n      <th>smoothness_mean</th>\n      <th>area_mean</th>\n      <th>concavity_se</th>\n      <th>texture_mean</th>\n      <th>concavity_worst</th>\n      <th>smoothness_se</th>\n      <th>...</th>\n      <th>symmetry_mean</th>\n      <th>symmetry_worst</th>\n      <th>diagnosis</th>\n      <th>erty</th>\n      <th>fractal_dimension_se</th>\n      <th>perimeter_mean</th>\n      <th>compactness_worst</th>\n      <th>symmetry_se</th>\n      <th>compactness_se</th>\n      <th>radius_se</th>\n    </tr>\n  </thead>\n  <tbody>\n    <tr>\n      <th>0</th>\n      <td>223</td>\n      <td>2244.0</td>\n      <td>19.56</td>\n      <td>0.06462</td>\n      <td>0.1025</td>\n      <td>761.3</td>\n      <td>0.02384</td>\n      <td>999765432456788.0</td>\n      <td>0.3976</td>\n      <td>999765432456788.0</td>\n      <td>...</td>\n      <td>0.1935</td>\n      <td>0.3993</td>\n      <td>999765432456788</td>\n      <td>908765434567</td>\n      <td>0.003131</td>\n      <td>102.6</td>\n      <td>448.0</td>\n      <td>0.01772</td>\n      <td>0.02374</td>\n      <td>0.3473</td>\n    </tr>\n    <tr>\n      <th>1</th>\n      <td>279</td>\n      <td>1.83</td>\n      <td>999765432456788.0</td>\n      <td>0.03711</td>\n      <td>0.09516</td>\n      <td>587.4</td>\n      <td>0.01457</td>\n      <td>15.18</td>\n      <td>0.1456</td>\n      <td>0.004235</td>\n      <td>...</td>\n      <td>211.0</td>\n      <td>0.2955</td>\n      <td>B</td>\n      <td>908765434567</td>\n      <td>0.001593</td>\n      <td>999765432456788.0</td>\n      <td>0.1724</td>\n      <td>0.01528</td>\n      <td>0.01541</td>\n      <td>999765432456788.0</td>\n    </tr>\n    <tr>\n      <th>2</th>\n      <td>307</td>\n      <td>1144.0</td>\n      <td>9699.0</td>\n      <td>0.003472</td>\n      <td>-88888765432345.0</td>\n      <td>246.3</td>\n      <td>0.003681</td>\n      <td>14.4</td>\n      <td>0.01472</td>\n      <td>0.007389</td>\n      <td>...</td>\n      <td>-88888765432345.0</td>\n      <td>0.2991</td>\n      <td>B</td>\n      <td>908765434567</td>\n      <td>0.002153</td>\n      <td>56.36</td>\n      <td>0.05232</td>\n      <td>0.02701</td>\n      <td>0.004883</td>\n      <td>0.1746</td>\n    </tr>\n    <tr>\n      <th>3</th>\n      <td>571</td>\n      <td>2635.0</td>\n      <td>12.98</td>\n      <td>0.01115</td>\n      <td>0.08637</td>\n      <td>427.9</td>\n      <td>0.01168</td>\n      <td>21.6</td>\n      <td>0.05523</td>\n      <td>NaN</td>\n      <td>...</td>\n      <td>0.1495</td>\n      <td>NaN</td>\n      <td>NaN</td>\n      <td>908765434567</td>\n      <td>0.001769</td>\n      <td>74.72</td>\n      <td>0.08615</td>\n      <td>0.02406</td>\n      <td>0.009758</td>\n      <td>0.4062</td>\n    </tr>\n    <tr>\n      <th>4</th>\n      <td>576</td>\n      <td>2183.0</td>\n      <td>?</td>\n      <td>0.02278</td>\n      <td>0.09524</td>\n      <td>409.0</td>\n      <td>0.01349</td>\n      <td>18.75</td>\n      <td>?</td>\n      <td>0.008328</td>\n      <td>...</td>\n      <td>?</td>\n      <td>0.3306</td>\n      <td>B</td>\n      <td>908765434567</td>\n      <td>0.002386</td>\n      <td>73.34</td>\n      <td>?</td>\n      <td>0.03218</td>\n      <td>0.008722</td>\n      <td>0.3249</td>\n    </tr>\n  </tbody>\n</table>\n<p>5 rows × 35 columns</p>\n</div>"
     },
     "execution_count": 348,
     "metadata": {},
     "output_type": "execute_result"
    }
   ],
   "source": [
    "data_raw.head()"
   ],
   "metadata": {
    "collapsed": false,
    "pycharm": {
     "name": "#%%\n"
    }
   }
  },
  {
   "cell_type": "markdown",
   "source": [
    "Breast cancer data set contains 35 features"
   ],
   "metadata": {
    "collapsed": false,
    "pycharm": {
     "name": "#%% md\n"
    }
   }
  },
  {
   "cell_type": "code",
   "execution_count": 348,
   "outputs": [],
   "source": [],
   "metadata": {
    "collapsed": false,
    "pycharm": {
     "name": "#%%\n"
    }
   }
  },
  {
   "cell_type": "markdown",
   "source": [
    "# Descripcion de los datos"
   ],
   "metadata": {
    "collapsed": false,
    "pycharm": {
     "name": "#%% md\n"
    }
   }
  },
  {
   "cell_type": "markdown",
   "source": [
    "*Inputs*:\n",
    "\n",
    "- **idID number**: unique identifier of the observation\n",
    "- **radius_mean**: mean of distances from center to points on the perimeter\n",
    "- **texture_mean**: standard deviation of gray-scale values\n",
    "- **perimeter_mean**: mean size of the core tumor\n",
    "- **area_mean**\n",
    "- **smoothness_mean**: mean of local variation in radius lengths\n",
    "- **compactness_mean**: mean of perimeter^2 / area - 1.0\n",
    "- **concavity_mean**: mean of severity of concave portions of the contour\n",
    "- **concave points_mean**: mean for number of concave portions of the contour\n",
    "- **symmetry_mean**\n",
    "- **fractal_dimension_mean**: mean for \"coastline approximation\" - 1\n",
    "- **radius_se**: standard error for the mean of distances from center to points on the perimeter\n",
    "- **texture_se**: standard error for standard deviation of gray-scale values\n",
    "- **perimeter_se**\n",
    "- **area_se**\n",
    "- **smoothness_se**: standard error for local variation in radius lengths\n",
    "- **compactness_se**: standard error for perimeter^2 / area - 1.0\n",
    "- **concavity_se**: standard error for severity of concave portions of the contour\n",
    "- **concave points_se**: standard error for number of concave portions of the contour\n",
    "- **symmetry_se**\n",
    "- **fractal_dimension_se**: standard error for \"coastline approximation\" - 1\n",
    "- **radius_worst**: \"worst\" or largest mean value for mean of distances from center to points on the perimeter\n",
    "- **texture_worst**: \"worst\" or largest mean value for standard deviation of gray-scale values\n",
    "- **perimeter_worst**\n",
    "- **area_worst**\n",
    "- **smoothness_worst**: \"worst\" or largest mean value for local variation in radius lengths\n",
    "- **compactness_worst**: \"worst\" or largest mean value for perimeter^2 / area - 1.0\n",
    "- **concavity_worst**: \"worst\" or largest mean value for severity of concave portions of the contour\n",
    "- **concave points_worst**: \"worst\" or largest mean value for number of concave portions of the contour\n",
    "- **symmetry_worst**\n",
    "- **fractal_dimension_worst**: \"worst\" or largest mean value for \"coastline approximation\" - 1\n",
    "\n",
    "*Output*:\n",
    "- **Diagnosis** (M = malignant, B = benign)\n"
   ],
   "metadata": {
    "collapsed": false,
    "pycharm": {
     "name": "#%% md\n"
    }
   }
  },
  {
   "cell_type": "code",
   "execution_count": 349,
   "outputs": [
    {
     "data": {
      "text/plain": "index                        0\nperimeter_se               695\nradius_worst               625\nconcave points_mean        730\nsmoothness_mean            885\narea_mean                  880\nconcavity_se               805\ntexture_mean               755\nconcavity_worst            655\nsmoothness_se              600\nconcave points_se          710\narea_worst                 650\ncompactness_mean           775\nradius_mean                710\narea_se                    815\nconcave points_worst       585\niuytr                      825\nfractal_dimension_worst    615\nperimeter_worst            655\ntexture_se                 665\nfractal_dimension_mean     665\ntexture_worst              650\nsmoothness_worst           705\nconcavity_mean             860\nid                         610\nsymmetry_mean              825\nsymmetry_worst             625\ndiagnosis                  910\nerty                         0\nfractal_dimension_se       675\nperimeter_mean             760\ncompactness_worst          610\nsymmetry_se                635\ncompactness_se             705\nradius_se                  650\ndtype: int64"
     },
     "execution_count": 349,
     "metadata": {},
     "output_type": "execute_result"
    }
   ],
   "source": [
    "data_raw.isnull().sum()"
   ],
   "metadata": {
    "collapsed": false,
    "pycharm": {
     "name": "#%%\n"
    }
   }
  },
  {
   "cell_type": "code",
   "execution_count": 350,
   "outputs": [
    {
     "data": {
      "text/plain": "       index               id\n0        223  999765432456788\n1        279          8911834\n2        307            89346\n3        571         857343.0\n4        576         85759902\n...      ...              ...\n19705    350           899187\n19706    442         90944601\n19707    279          8911834\n19708    501            91504\n19709    233         88206102\n\n[19710 rows x 2 columns]",
      "text/html": "<div>\n<style scoped>\n    .dataframe tbody tr th:only-of-type {\n        vertical-align: middle;\n    }\n\n    .dataframe tbody tr th {\n        vertical-align: top;\n    }\n\n    .dataframe thead th {\n        text-align: right;\n    }\n</style>\n<table border=\"1\" class=\"dataframe\">\n  <thead>\n    <tr style=\"text-align: right;\">\n      <th></th>\n      <th>index</th>\n      <th>id</th>\n    </tr>\n  </thead>\n  <tbody>\n    <tr>\n      <th>0</th>\n      <td>223</td>\n      <td>999765432456788</td>\n    </tr>\n    <tr>\n      <th>1</th>\n      <td>279</td>\n      <td>8911834</td>\n    </tr>\n    <tr>\n      <th>2</th>\n      <td>307</td>\n      <td>89346</td>\n    </tr>\n    <tr>\n      <th>3</th>\n      <td>571</td>\n      <td>857343.0</td>\n    </tr>\n    <tr>\n      <th>4</th>\n      <td>576</td>\n      <td>85759902</td>\n    </tr>\n    <tr>\n      <th>...</th>\n      <td>...</td>\n      <td>...</td>\n    </tr>\n    <tr>\n      <th>19705</th>\n      <td>350</td>\n      <td>899187</td>\n    </tr>\n    <tr>\n      <th>19706</th>\n      <td>442</td>\n      <td>90944601</td>\n    </tr>\n    <tr>\n      <th>19707</th>\n      <td>279</td>\n      <td>8911834</td>\n    </tr>\n    <tr>\n      <th>19708</th>\n      <td>501</td>\n      <td>91504</td>\n    </tr>\n    <tr>\n      <th>19709</th>\n      <td>233</td>\n      <td>88206102</td>\n    </tr>\n  </tbody>\n</table>\n<p>19710 rows × 2 columns</p>\n</div>"
     },
     "execution_count": 350,
     "metadata": {},
     "output_type": "execute_result"
    }
   ],
   "source": [
    "data_raw[['index','id']]"
   ],
   "metadata": {
    "collapsed": false,
    "pycharm": {
     "name": "#%%\n"
    }
   }
  },
  {
   "cell_type": "code",
   "execution_count": 351,
   "outputs": [
    {
     "name": "stdout",
     "output_type": "stream",
     "text": [
      "index null count : 0 , id null count: 610\n"
     ]
    }
   ],
   "source": [
    "print(\"index null count : \"+str(data_raw[\"index\"].isnull().sum()), \", id null count: \"+ str(data_raw[\"id\"].isnull().sum()))\n",
    "\n"
   ],
   "metadata": {
    "collapsed": false,
    "pycharm": {
     "name": "#%%\n"
    }
   }
  },
  {
   "cell_type": "markdown",
   "source": [],
   "metadata": {
    "collapsed": false,
    "pycharm": {
     "name": "#%% md\n"
    }
   }
  },
  {
   "cell_type": "code",
   "execution_count": 352,
   "outputs": [
    {
     "data": {
      "text/plain": "Index(['index', 'perimeter_se', 'radius_worst', 'concave points_mean',\n       'smoothness_mean', 'area_mean', 'concavity_se', 'texture_mean',\n       'concavity_worst', 'smoothness_se', 'concave points_se', 'area_worst',\n       'compactness_mean', 'radius_mean', 'area_se', 'concave points_worst',\n       'iuytr', 'fractal_dimension_worst', 'perimeter_worst', 'texture_se',\n       'fractal_dimension_mean', 'texture_worst', 'smoothness_worst',\n       'concavity_mean', 'id', 'symmetry_mean', 'symmetry_worst', 'diagnosis',\n       'erty', 'fractal_dimension_se', 'perimeter_mean', 'compactness_worst',\n       'symmetry_se', 'compactness_se', 'radius_se'],\n      dtype='object')"
     },
     "execution_count": 352,
     "metadata": {},
     "output_type": "execute_result"
    }
   ],
   "source": [
    "data_raw.columns"
   ],
   "metadata": {
    "collapsed": false,
    "pycharm": {
     "name": "#%%\n"
    }
   }
  },
  {
   "cell_type": "code",
   "execution_count": 353,
   "outputs": [
    {
     "data": {
      "text/plain": "True     18657\nFalse     1053\nName: id, dtype: int64"
     },
     "execution_count": 353,
     "metadata": {},
     "output_type": "execute_result"
    }
   ],
   "source": [
    "data_raw[\"id\"].duplicated().value_counts()\n",
    "\n"
   ],
   "metadata": {
    "collapsed": false,
    "pycharm": {
     "name": "#%%\n"
    }
   }
  },
  {
   "cell_type": "code",
   "execution_count": 354,
   "outputs": [
    {
     "data": {
      "text/plain": "True     19053\nFalse      657\nName: index, dtype: int64"
     },
     "execution_count": 354,
     "metadata": {},
     "output_type": "execute_result"
    }
   ],
   "source": [
    "data_raw['index'].duplicated().value_counts()"
   ],
   "metadata": {
    "collapsed": false,
    "pycharm": {
     "name": "#%%\n"
    }
   }
  },
  {
   "cell_type": "code",
   "execution_count": 355,
   "outputs": [
    {
     "data": {
      "text/plain": "B                          10245\nM                           5935\nNaN                          910\n999765432456788              655\n-88888765432345              655\n?                            655\nrxctf378968 7656463sdfg      655\nName: diagnosis, dtype: int64"
     },
     "execution_count": 355,
     "metadata": {},
     "output_type": "execute_result"
    }
   ],
   "source": [
    "data_raw['diagnosis'].value_counts(dropna=False)"
   ],
   "metadata": {
    "collapsed": false,
    "pycharm": {
     "name": "#%%\n"
    }
   }
  },
  {
   "cell_type": "markdown",
   "source": [],
   "metadata": {
    "collapsed": false,
    "pycharm": {
     "name": "#%% md\n"
    }
   }
  },
  {
   "cell_type": "markdown",
   "source": [],
   "metadata": {
    "collapsed": false,
    "pycharm": {
     "name": "#%% md\n"
    }
   }
  },
  {
   "cell_type": "code",
   "execution_count": 356,
   "outputs": [],
   "source": [
    "data_raw=data_raw[(data_raw['diagnosis']=='B')|(data_raw['diagnosis']=='M')]"
   ],
   "metadata": {
    "collapsed": false,
    "pycharm": {
     "name": "#%%\n"
    }
   }
  },
  {
   "cell_type": "code",
   "execution_count": 357,
   "outputs": [
    {
     "name": "stdout",
     "output_type": "stream",
     "text": [
      "<class 'pandas.core.frame.DataFrame'>\n",
      "Int64Index: 16180 entries, 1 to 19709\n",
      "Data columns (total 35 columns):\n",
      " #   Column                   Non-Null Count  Dtype \n",
      "---  ------                   --------------  ----- \n",
      " 0   index                    16180 non-null  int64 \n",
      " 1   perimeter_se             15650 non-null  object\n",
      " 2   radius_worst             15665 non-null  object\n",
      " 3   concave points_mean      15655 non-null  object\n",
      " 4   smoothness_mean          15485 non-null  object\n",
      " 5   area_mean                15510 non-null  object\n",
      " 6   concavity_se             15560 non-null  object\n",
      " 7   texture_mean             15610 non-null  object\n",
      " 8   concavity_worst          15660 non-null  object\n",
      " 9   smoothness_se            15755 non-null  object\n",
      " 10  concave points_se        15625 non-null  object\n",
      " 11  area_worst               15640 non-null  object\n",
      " 12  compactness_mean         15570 non-null  object\n",
      " 13  radius_mean              15615 non-null  object\n",
      " 14  area_se                  15560 non-null  object\n",
      " 15  concave points_worst     15695 non-null  object\n",
      " 16  iuytr                    15560 non-null  object\n",
      " 17  fractal_dimension_worst  15710 non-null  object\n",
      " 18  perimeter_worst          15670 non-null  object\n",
      " 19  texture_se               15665 non-null  object\n",
      " 20  fractal_dimension_mean   15680 non-null  object\n",
      " 21  texture_worst            15655 non-null  object\n",
      " 22  smoothness_worst         15640 non-null  object\n",
      " 23  concavity_mean           15485 non-null  object\n",
      " 24  id                       15750 non-null  object\n",
      " 25  symmetry_mean            15560 non-null  object\n",
      " 26  symmetry_worst           15720 non-null  object\n",
      " 27  diagnosis                16180 non-null  object\n",
      " 28  erty                     16180 non-null  int64 \n",
      " 29  fractal_dimension_se     15685 non-null  object\n",
      " 30  perimeter_mean           15570 non-null  object\n",
      " 31  compactness_worst        15700 non-null  object\n",
      " 32  symmetry_se              15700 non-null  object\n",
      " 33  compactness_se           15655 non-null  object\n",
      " 34  radius_se                15670 non-null  object\n",
      "dtypes: int64(2), object(33)\n",
      "memory usage: 4.4+ MB\n"
     ]
    }
   ],
   "source": [
    "data_raw.info()"
   ],
   "metadata": {
    "collapsed": false,
    "pycharm": {
     "name": "#%%\n"
    }
   }
  },
  {
   "cell_type": "code",
   "execution_count": 358,
   "outputs": [
    {
     "data": {
      "text/plain": "B    10245\nM     5935\nName: diagnosis, dtype: int64"
     },
     "execution_count": 358,
     "metadata": {},
     "output_type": "execute_result"
    }
   ],
   "source": [
    "data_raw['diagnosis'].value_counts(dropna=False)"
   ],
   "metadata": {
    "collapsed": false,
    "pycharm": {
     "name": "#%%\n"
    }
   }
  },
  {
   "cell_type": "code",
   "execution_count": 359,
   "outputs": [
    {
     "data": {
      "text/plain": "?                          535\n-88888765432345            530\n999765432456788            500\nrxctf378968 7656463sdfg    495\n911366                      65\n                          ... \n91594602.0                   5\n873592.0                     5\n8911163.0                    5\n9112085.0                    5\n92751.0                      5\nName: id, Length: 973, dtype: int64"
     },
     "execution_count": 359,
     "metadata": {},
     "output_type": "execute_result"
    }
   ],
   "source": [
    "data_raw['id'].value_counts()"
   ],
   "metadata": {
    "collapsed": false,
    "pycharm": {
     "name": "#%%\n"
    }
   }
  },
  {
   "cell_type": "code",
   "execution_count": 360,
   "outputs": [],
   "source": [
    "data_deduplicated=data_raw.drop_duplicates(subset='id')"
   ],
   "metadata": {
    "collapsed": false,
    "pycharm": {
     "name": "#%%\n"
    }
   }
  },
  {
   "cell_type": "code",
   "execution_count": 361,
   "outputs": [
    {
     "data": {
      "text/plain": "<bound method DataFrame.info of       index perimeter_se       radius_worst concave points_mean  \\\n1       279         1.83  999765432456788.0             0.03711   \n2       307       1144.0             9699.0            0.003472   \n4       576       2183.0                 ?              0.02278   \n5       350       2225.0              13.28             0.01162   \n7       120       1103.0              12.82             0.02623   \n...     ...          ...                ...                 ...   \n3882    344       2355.0                NaN              0.0325   \n3900    506       0.9857                NaN             0.02166   \n3908     13       2903.0              16.84             0.05364   \n3929    421       4795.0              16.46                63.0   \n3933    568          NaN             9456.0                 0.0   \n\n        smoothness_mean area_mean concavity_se texture_mean concavity_worst  \\\n1               0.09516     587.4      0.01457        15.18          0.1456   \n2     -88888765432345.0     246.3     0.003681         14.4         0.01472   \n4               0.09524     409.0      0.01349        18.75              ?    \n5               0.07561     421.0     0.005949        17.07         0.03046   \n7               0.09373     403.3      0.01514        10.82          0.2102   \n...                 ...       ...          ...          ...             ...   \n3882              115.0     420.3          NaN        15.45          0.1087   \n3900             0.1096     453.1          NaN        20.04          0.3535   \n3908            0.08401       NaN      0.05051        23.95          0.2322   \n3929             0.1031     656.1          NaN        13.98          0.3219   \n3933            0.05263     181.0          NaN        24.54             0.0   \n\n     smoothness_se  ...      symmetry_mean symmetry_worst diagnosis  \\\n1         0.004235  ...              211.0         0.2955         B   \n2         0.007389  ...  -88888765432345.0         0.2991         B   \n4         0.008328  ...                 ?          0.3306         B   \n5         0.006583  ...             0.1671         0.2731         B   \n7               ?   ...             0.1667         0.3016         B   \n...            ...  ...                ...            ...       ...   \n3882      0.009536  ...                NaN         0.2765         B   \n3900      0.006272  ...                NaN         0.2709         B   \n3908      0.009769  ...             0.1847         0.2809         M   \n3929      0.009976  ...             0.2086         0.2827         B   \n3933      0.007189  ...             0.1587         0.2871         B   \n\n              erty fractal_dimension_se     perimeter_mean compactness_worst  \\\n1     908765434567             0.001593  999765432456788.0            0.1724   \n2     908765434567             0.002153              56.36           0.05232   \n4     908765434567             0.002386              73.34                ?    \n5     908765434567             0.002668               73.7           0.06476   \n7     908765434567             0.002206              73.34             239.0   \n...            ...                  ...                ...               ...   \n3882  908765434567               0.0031              75.03               NaN   \n3900  908765434567                  NaN                NaN            0.2315   \n3908  908765434567             0.003002                NaN            0.1924   \n3929  908765434567                  NaN              98.22               NaN   \n3933  908765434567             0.002783              47.92           0.06444   \n\n     symmetry_se compactness_se          radius_se  \n1        0.01528        0.01541  999765432456788.0  \n2        0.02701       0.004883             0.1746  \n4        0.03218       0.008722             0.3249  \n5        0.02216       0.006991             0.3534  \n7        0.01344             ?                  ?   \n...          ...            ...                ...  \n3882     0.01953        0.01097             0.3446  \n3900         NaN            NaN             0.1811  \n3908     0.02981            NaN             0.4033  \n3929         NaN        0.05244             0.5462  \n3933         NaN        0.00466             0.3857  \n\n[974 rows x 35 columns]>"
     },
     "execution_count": 361,
     "metadata": {},
     "output_type": "execute_result"
    }
   ],
   "source": [
    "data_deduplicated.info"
   ],
   "metadata": {
    "collapsed": false,
    "pycharm": {
     "name": "#%%\n"
    }
   }
  },
  {
   "cell_type": "code",
   "execution_count": 362,
   "outputs": [],
   "source": [
    "df=data_deduplicated"
   ],
   "metadata": {
    "collapsed": false,
    "pycharm": {
     "name": "#%%\n"
    }
   }
  },
  {
   "cell_type": "code",
   "execution_count": 363,
   "outputs": [
    {
     "name": "stdout",
     "output_type": "stream",
     "text": [
      "<class 'pandas.core.frame.DataFrame'>\n",
      "Int64Index: 974 entries, 1 to 3933\n",
      "Data columns (total 35 columns):\n",
      " #   Column                   Non-Null Count  Dtype \n",
      "---  ------                   --------------  ----- \n",
      " 0   index                    974 non-null    int64 \n",
      " 1   perimeter_se             895 non-null    object\n",
      " 2   radius_worst             894 non-null    object\n",
      " 3   concave points_mean      905 non-null    object\n",
      " 4   smoothness_mean          871 non-null    object\n",
      " 5   area_mean                891 non-null    object\n",
      " 6   concavity_se             877 non-null    object\n",
      " 7   texture_mean             893 non-null    object\n",
      " 8   concavity_worst          897 non-null    object\n",
      " 9   smoothness_se            909 non-null    object\n",
      " 10  concave points_se        877 non-null    object\n",
      " 11  area_worst               894 non-null    object\n",
      " 12  compactness_mean         899 non-null    object\n",
      " 13  radius_mean              892 non-null    object\n",
      " 14  area_se                  883 non-null    object\n",
      " 15  concave points_worst     902 non-null    object\n",
      " 16  iuytr                    885 non-null    object\n",
      " 17  fractal_dimension_worst  906 non-null    object\n",
      " 18  perimeter_worst          898 non-null    object\n",
      " 19  texture_se               895 non-null    object\n",
      " 20  fractal_dimension_mean   896 non-null    object\n",
      " 21  texture_worst            900 non-null    object\n",
      " 22  smoothness_worst         888 non-null    object\n",
      " 23  concavity_mean           876 non-null    object\n",
      " 24  id                       973 non-null    object\n",
      " 25  symmetry_mean            885 non-null    object\n",
      " 26  symmetry_worst           900 non-null    object\n",
      " 27  diagnosis                974 non-null    object\n",
      " 28  erty                     974 non-null    int64 \n",
      " 29  fractal_dimension_se     897 non-null    object\n",
      " 30  perimeter_mean           887 non-null    object\n",
      " 31  compactness_worst        902 non-null    object\n",
      " 32  symmetry_se              898 non-null    object\n",
      " 33  compactness_se           894 non-null    object\n",
      " 34  radius_se                895 non-null    object\n",
      "dtypes: int64(2), object(33)\n",
      "memory usage: 273.9+ KB\n"
     ]
    }
   ],
   "source": [
    "df.info()"
   ],
   "metadata": {
    "collapsed": false,
    "pycharm": {
     "name": "#%%\n"
    }
   }
  },
  {
   "cell_type": "code",
   "execution_count": 364,
   "outputs": [],
   "source": [
    "list= ['index', 'perimeter_se', 'radius_worst', 'concave points_mean',\n",
    "       'smoothness_mean', 'area_mean', 'concavity_se', 'texture_mean',\n",
    "       'concavity_worst', 'smoothness_se', 'concave points_se', 'area_worst',\n",
    "       'compactness_mean', 'radius_mean', 'area_se', 'concave points_worst',\n",
    "       'iuytr', 'fractal_dimension_worst', 'perimeter_worst', 'texture_se',\n",
    "       'fractal_dimension_mean', 'texture_worst', 'smoothness_worst',\n",
    "       'concavity_mean', 'id', 'symmetry_mean', 'symmetry_worst', 'diagnosis',\n",
    "       'fractal_dimension_se', 'perimeter_mean', 'compactness_worst',\n",
    "       'symmetry_se', 'compactness_se', 'radius_se']"
   ],
   "metadata": {
    "collapsed": false,
    "pycharm": {
     "name": "#%%\n"
    }
   }
  },
  {
   "cell_type": "code",
   "execution_count": 365,
   "outputs": [
    {
     "name": "stderr",
     "output_type": "stream",
     "text": [
      "C:\\Users\\NICON\\AppData\\Local\\Temp\\ipykernel_10184\\2141732145.py:2: SettingWithCopyWarning: \n",
      "A value is trying to be set on a copy of a slice from a DataFrame.\n",
      "Try using .loc[row_indexer,col_indexer] = value instead\n",
      "\n",
      "See the caveats in the documentation: https://pandas.pydata.org/pandas-docs/stable/user_guide/indexing.html#returning-a-view-versus-a-copy\n",
      "  df[i]= df[i].str.strip()\n"
     ]
    }
   ],
   "source": [
    "for i in list:\n",
    "    df[i]= df[i].str.strip()"
   ],
   "metadata": {
    "collapsed": false,
    "pycharm": {
     "name": "#%%\n"
    }
   }
  },
  {
   "cell_type": "code",
   "execution_count": 366,
   "outputs": [
    {
     "name": "stderr",
     "output_type": "stream",
     "text": [
      "C:\\Users\\NICON\\AppData\\Local\\Temp\\ipykernel_10184\\2177221048.py:1: SettingWithCopyWarning: \n",
      "A value is trying to be set on a copy of a slice from a DataFrame\n",
      "\n",
      "See the caveats in the documentation: https://pandas.pydata.org/pandas-docs/stable/user_guide/indexing.html#returning-a-view-versus-a-copy\n",
      "  df.replace('?',np.nan,inplace=True)\n"
     ]
    },
    {
     "data": {
      "text/plain": "      index perimeter_se       radius_worst concave points_mean  \\\n1       279         1.83  999765432456788.0             0.03711   \n2       307       1144.0             9699.0            0.003472   \n4       576       2183.0                NaN             0.02278   \n5       350       2225.0              13.28             0.01162   \n7       120       1103.0              12.82             0.02623   \n...     ...          ...                ...                 ...   \n3882    344       2355.0                NaN              0.0325   \n3900    506       0.9857                NaN             0.02166   \n3908     13       2903.0              16.84             0.05364   \n3929    421       4795.0              16.46                63.0   \n3933    568          NaN             9456.0                 0.0   \n\n        smoothness_mean area_mean concavity_se texture_mean concavity_worst  \\\n1               0.09516     587.4      0.01457        15.18          0.1456   \n2     -88888765432345.0     246.3     0.003681         14.4         0.01472   \n4               0.09524     409.0      0.01349        18.75             NaN   \n5               0.07561     421.0     0.005949        17.07         0.03046   \n7               0.09373     403.3      0.01514        10.82          0.2102   \n...                 ...       ...          ...          ...             ...   \n3882              115.0     420.3          NaN        15.45          0.1087   \n3900             0.1096     453.1          NaN        20.04          0.3535   \n3908            0.08401       NaN      0.05051        23.95          0.2322   \n3929             0.1031     656.1          NaN        13.98          0.3219   \n3933            0.05263     181.0          NaN        24.54             0.0   \n\n     smoothness_se  ...      symmetry_mean symmetry_worst diagnosis  \\\n1         0.004235  ...              211.0         0.2955         B   \n2         0.007389  ...  -88888765432345.0         0.2991         B   \n4         0.008328  ...                NaN         0.3306         B   \n5         0.006583  ...             0.1671         0.2731         B   \n7              NaN  ...             0.1667         0.3016         B   \n...            ...  ...                ...            ...       ...   \n3882      0.009536  ...                NaN         0.2765         B   \n3900      0.006272  ...                NaN         0.2709         B   \n3908      0.009769  ...             0.1847         0.2809         M   \n3929      0.009976  ...             0.2086         0.2827         B   \n3933      0.007189  ...             0.1587         0.2871         B   \n\n              erty fractal_dimension_se     perimeter_mean compactness_worst  \\\n1     908765434567             0.001593  999765432456788.0            0.1724   \n2     908765434567             0.002153              56.36           0.05232   \n4     908765434567             0.002386              73.34               NaN   \n5     908765434567             0.002668               73.7           0.06476   \n7     908765434567             0.002206              73.34             239.0   \n...            ...                  ...                ...               ...   \n3882  908765434567               0.0031              75.03               NaN   \n3900  908765434567                  NaN                NaN            0.2315   \n3908  908765434567             0.003002                NaN            0.1924   \n3929  908765434567                  NaN              98.22               NaN   \n3933  908765434567             0.002783              47.92           0.06444   \n\n     symmetry_se compactness_se          radius_se  \n1        0.01528        0.01541  999765432456788.0  \n2        0.02701       0.004883             0.1746  \n4        0.03218       0.008722             0.3249  \n5        0.02216       0.006991             0.3534  \n7        0.01344            NaN                NaN  \n...          ...            ...                ...  \n3882     0.01953        0.01097             0.3446  \n3900         NaN            NaN             0.1811  \n3908     0.02981            NaN             0.4033  \n3929         NaN        0.05244             0.5462  \n3933         NaN        0.00466             0.3857  \n\n[974 rows x 35 columns]",
      "text/html": "<div>\n<style scoped>\n    .dataframe tbody tr th:only-of-type {\n        vertical-align: middle;\n    }\n\n    .dataframe tbody tr th {\n        vertical-align: top;\n    }\n\n    .dataframe thead th {\n        text-align: right;\n    }\n</style>\n<table border=\"1\" class=\"dataframe\">\n  <thead>\n    <tr style=\"text-align: right;\">\n      <th></th>\n      <th>index</th>\n      <th>perimeter_se</th>\n      <th>radius_worst</th>\n      <th>concave points_mean</th>\n      <th>smoothness_mean</th>\n      <th>area_mean</th>\n      <th>concavity_se</th>\n      <th>texture_mean</th>\n      <th>concavity_worst</th>\n      <th>smoothness_se</th>\n      <th>...</th>\n      <th>symmetry_mean</th>\n      <th>symmetry_worst</th>\n      <th>diagnosis</th>\n      <th>erty</th>\n      <th>fractal_dimension_se</th>\n      <th>perimeter_mean</th>\n      <th>compactness_worst</th>\n      <th>symmetry_se</th>\n      <th>compactness_se</th>\n      <th>radius_se</th>\n    </tr>\n  </thead>\n  <tbody>\n    <tr>\n      <th>1</th>\n      <td>279</td>\n      <td>1.83</td>\n      <td>999765432456788.0</td>\n      <td>0.03711</td>\n      <td>0.09516</td>\n      <td>587.4</td>\n      <td>0.01457</td>\n      <td>15.18</td>\n      <td>0.1456</td>\n      <td>0.004235</td>\n      <td>...</td>\n      <td>211.0</td>\n      <td>0.2955</td>\n      <td>B</td>\n      <td>908765434567</td>\n      <td>0.001593</td>\n      <td>999765432456788.0</td>\n      <td>0.1724</td>\n      <td>0.01528</td>\n      <td>0.01541</td>\n      <td>999765432456788.0</td>\n    </tr>\n    <tr>\n      <th>2</th>\n      <td>307</td>\n      <td>1144.0</td>\n      <td>9699.0</td>\n      <td>0.003472</td>\n      <td>-88888765432345.0</td>\n      <td>246.3</td>\n      <td>0.003681</td>\n      <td>14.4</td>\n      <td>0.01472</td>\n      <td>0.007389</td>\n      <td>...</td>\n      <td>-88888765432345.0</td>\n      <td>0.2991</td>\n      <td>B</td>\n      <td>908765434567</td>\n      <td>0.002153</td>\n      <td>56.36</td>\n      <td>0.05232</td>\n      <td>0.02701</td>\n      <td>0.004883</td>\n      <td>0.1746</td>\n    </tr>\n    <tr>\n      <th>4</th>\n      <td>576</td>\n      <td>2183.0</td>\n      <td>NaN</td>\n      <td>0.02278</td>\n      <td>0.09524</td>\n      <td>409.0</td>\n      <td>0.01349</td>\n      <td>18.75</td>\n      <td>NaN</td>\n      <td>0.008328</td>\n      <td>...</td>\n      <td>NaN</td>\n      <td>0.3306</td>\n      <td>B</td>\n      <td>908765434567</td>\n      <td>0.002386</td>\n      <td>73.34</td>\n      <td>NaN</td>\n      <td>0.03218</td>\n      <td>0.008722</td>\n      <td>0.3249</td>\n    </tr>\n    <tr>\n      <th>5</th>\n      <td>350</td>\n      <td>2225.0</td>\n      <td>13.28</td>\n      <td>0.01162</td>\n      <td>0.07561</td>\n      <td>421.0</td>\n      <td>0.005949</td>\n      <td>17.07</td>\n      <td>0.03046</td>\n      <td>0.006583</td>\n      <td>...</td>\n      <td>0.1671</td>\n      <td>0.2731</td>\n      <td>B</td>\n      <td>908765434567</td>\n      <td>0.002668</td>\n      <td>73.7</td>\n      <td>0.06476</td>\n      <td>0.02216</td>\n      <td>0.006991</td>\n      <td>0.3534</td>\n    </tr>\n    <tr>\n      <th>7</th>\n      <td>120</td>\n      <td>1103.0</td>\n      <td>12.82</td>\n      <td>0.02623</td>\n      <td>0.09373</td>\n      <td>403.3</td>\n      <td>0.01514</td>\n      <td>10.82</td>\n      <td>0.2102</td>\n      <td>NaN</td>\n      <td>...</td>\n      <td>0.1667</td>\n      <td>0.3016</td>\n      <td>B</td>\n      <td>908765434567</td>\n      <td>0.002206</td>\n      <td>73.34</td>\n      <td>239.0</td>\n      <td>0.01344</td>\n      <td>NaN</td>\n      <td>NaN</td>\n    </tr>\n    <tr>\n      <th>...</th>\n      <td>...</td>\n      <td>...</td>\n      <td>...</td>\n      <td>...</td>\n      <td>...</td>\n      <td>...</td>\n      <td>...</td>\n      <td>...</td>\n      <td>...</td>\n      <td>...</td>\n      <td>...</td>\n      <td>...</td>\n      <td>...</td>\n      <td>...</td>\n      <td>...</td>\n      <td>...</td>\n      <td>...</td>\n      <td>...</td>\n      <td>...</td>\n      <td>...</td>\n      <td>...</td>\n    </tr>\n    <tr>\n      <th>3882</th>\n      <td>344</td>\n      <td>2355.0</td>\n      <td>NaN</td>\n      <td>0.0325</td>\n      <td>115.0</td>\n      <td>420.3</td>\n      <td>NaN</td>\n      <td>15.45</td>\n      <td>0.1087</td>\n      <td>0.009536</td>\n      <td>...</td>\n      <td>NaN</td>\n      <td>0.2765</td>\n      <td>B</td>\n      <td>908765434567</td>\n      <td>0.0031</td>\n      <td>75.03</td>\n      <td>NaN</td>\n      <td>0.01953</td>\n      <td>0.01097</td>\n      <td>0.3446</td>\n    </tr>\n    <tr>\n      <th>3900</th>\n      <td>506</td>\n      <td>0.9857</td>\n      <td>NaN</td>\n      <td>0.02166</td>\n      <td>0.1096</td>\n      <td>453.1</td>\n      <td>NaN</td>\n      <td>20.04</td>\n      <td>0.3535</td>\n      <td>0.006272</td>\n      <td>...</td>\n      <td>NaN</td>\n      <td>0.2709</td>\n      <td>B</td>\n      <td>908765434567</td>\n      <td>NaN</td>\n      <td>NaN</td>\n      <td>0.2315</td>\n      <td>NaN</td>\n      <td>NaN</td>\n      <td>0.1811</td>\n    </tr>\n    <tr>\n      <th>3908</th>\n      <td>13</td>\n      <td>2903.0</td>\n      <td>16.84</td>\n      <td>0.05364</td>\n      <td>0.08401</td>\n      <td>NaN</td>\n      <td>0.05051</td>\n      <td>23.95</td>\n      <td>0.2322</td>\n      <td>0.009769</td>\n      <td>...</td>\n      <td>0.1847</td>\n      <td>0.2809</td>\n      <td>M</td>\n      <td>908765434567</td>\n      <td>0.003002</td>\n      <td>NaN</td>\n      <td>0.1924</td>\n      <td>0.02981</td>\n      <td>NaN</td>\n      <td>0.4033</td>\n    </tr>\n    <tr>\n      <th>3929</th>\n      <td>421</td>\n      <td>4795.0</td>\n      <td>16.46</td>\n      <td>63.0</td>\n      <td>0.1031</td>\n      <td>656.1</td>\n      <td>NaN</td>\n      <td>13.98</td>\n      <td>0.3219</td>\n      <td>0.009976</td>\n      <td>...</td>\n      <td>0.2086</td>\n      <td>0.2827</td>\n      <td>B</td>\n      <td>908765434567</td>\n      <td>NaN</td>\n      <td>98.22</td>\n      <td>NaN</td>\n      <td>NaN</td>\n      <td>0.05244</td>\n      <td>0.5462</td>\n    </tr>\n    <tr>\n      <th>3933</th>\n      <td>568</td>\n      <td>NaN</td>\n      <td>9456.0</td>\n      <td>0.0</td>\n      <td>0.05263</td>\n      <td>181.0</td>\n      <td>NaN</td>\n      <td>24.54</td>\n      <td>0.0</td>\n      <td>0.007189</td>\n      <td>...</td>\n      <td>0.1587</td>\n      <td>0.2871</td>\n      <td>B</td>\n      <td>908765434567</td>\n      <td>0.002783</td>\n      <td>47.92</td>\n      <td>0.06444</td>\n      <td>NaN</td>\n      <td>0.00466</td>\n      <td>0.3857</td>\n    </tr>\n  </tbody>\n</table>\n<p>974 rows × 35 columns</p>\n</div>"
     },
     "execution_count": 366,
     "metadata": {},
     "output_type": "execute_result"
    }
   ],
   "source": [
    "df.replace('?',np.nan,inplace=True)\n",
    "df"
   ],
   "metadata": {
    "collapsed": false,
    "pycharm": {
     "name": "#%%\n"
    }
   }
  },
  {
   "cell_type": "code",
   "execution_count": 367,
   "outputs": [
    {
     "data": {
      "text/plain": "908765434567    974\nName: erty, dtype: int64"
     },
     "execution_count": 367,
     "metadata": {},
     "output_type": "execute_result"
    }
   ],
   "source": [
    "df['erty'].value_counts() ## todos los valores son iguales, se borra erty"
   ],
   "metadata": {
    "collapsed": false,
    "pycharm": {
     "name": "#%%\n"
    }
   }
  },
  {
   "cell_type": "code",
   "execution_count": 368,
   "outputs": [
    {
     "name": "stderr",
     "output_type": "stream",
     "text": [
      "C:\\Users\\NICON\\AppData\\Local\\Temp\\ipykernel_10184\\2093998916.py:1: SettingWithCopyWarning: \n",
      "A value is trying to be set on a copy of a slice from a DataFrame\n",
      "\n",
      "See the caveats in the documentation: https://pandas.pydata.org/pandas-docs/stable/user_guide/indexing.html#returning-a-view-versus-a-copy\n",
      "  df.drop('erty',axis=1,inplace=True)\n"
     ]
    }
   ],
   "source": [
    "df.drop('erty',axis=1,inplace=True)"
   ],
   "metadata": {
    "collapsed": false,
    "pycharm": {
     "name": "#%%\n"
    }
   }
  },
  {
   "cell_type": "code",
   "execution_count": 369,
   "outputs": [
    {
     "data": {
      "text/plain": "                  iuytr      symmetry_mean\n1                 211.0              211.0\n2     -88888765432345.0  -88888765432345.0\n4                   NaN                NaN\n5                0.1671             0.1671\n7                0.1667             0.1667\n...                 ...                ...\n3882                NaN                NaN\n3900                NaN                NaN\n3908             0.1847             0.1847\n3929             0.2086             0.2086\n3933             0.1587             0.1587\n\n[974 rows x 2 columns]",
      "text/html": "<div>\n<style scoped>\n    .dataframe tbody tr th:only-of-type {\n        vertical-align: middle;\n    }\n\n    .dataframe tbody tr th {\n        vertical-align: top;\n    }\n\n    .dataframe thead th {\n        text-align: right;\n    }\n</style>\n<table border=\"1\" class=\"dataframe\">\n  <thead>\n    <tr style=\"text-align: right;\">\n      <th></th>\n      <th>iuytr</th>\n      <th>symmetry_mean</th>\n    </tr>\n  </thead>\n  <tbody>\n    <tr>\n      <th>1</th>\n      <td>211.0</td>\n      <td>211.0</td>\n    </tr>\n    <tr>\n      <th>2</th>\n      <td>-88888765432345.0</td>\n      <td>-88888765432345.0</td>\n    </tr>\n    <tr>\n      <th>4</th>\n      <td>NaN</td>\n      <td>NaN</td>\n    </tr>\n    <tr>\n      <th>5</th>\n      <td>0.1671</td>\n      <td>0.1671</td>\n    </tr>\n    <tr>\n      <th>7</th>\n      <td>0.1667</td>\n      <td>0.1667</td>\n    </tr>\n    <tr>\n      <th>...</th>\n      <td>...</td>\n      <td>...</td>\n    </tr>\n    <tr>\n      <th>3882</th>\n      <td>NaN</td>\n      <td>NaN</td>\n    </tr>\n    <tr>\n      <th>3900</th>\n      <td>NaN</td>\n      <td>NaN</td>\n    </tr>\n    <tr>\n      <th>3908</th>\n      <td>0.1847</td>\n      <td>0.1847</td>\n    </tr>\n    <tr>\n      <th>3929</th>\n      <td>0.2086</td>\n      <td>0.2086</td>\n    </tr>\n    <tr>\n      <th>3933</th>\n      <td>0.1587</td>\n      <td>0.1587</td>\n    </tr>\n  </tbody>\n</table>\n<p>974 rows × 2 columns</p>\n</div>"
     },
     "execution_count": 369,
     "metadata": {},
     "output_type": "execute_result"
    }
   ],
   "source": [
    "df[['iuytr','symmetry_mean']] ## estas dos columnas tienen la misma informacion, borrar una"
   ],
   "metadata": {
    "collapsed": false,
    "pycharm": {
     "name": "#%%\n"
    }
   }
  },
  {
   "cell_type": "code",
   "execution_count": 370,
   "outputs": [
    {
     "name": "stderr",
     "output_type": "stream",
     "text": [
      "C:\\Users\\NICON\\AppData\\Local\\Temp\\ipykernel_10184\\101361887.py:1: SettingWithCopyWarning: \n",
      "A value is trying to be set on a copy of a slice from a DataFrame\n",
      "\n",
      "See the caveats in the documentation: https://pandas.pydata.org/pandas-docs/stable/user_guide/indexing.html#returning-a-view-versus-a-copy\n",
      "  df.drop('iuytr',axis=1,inplace=True)\n"
     ]
    }
   ],
   "source": [
    "df.drop('iuytr',axis=1,inplace=True)"
   ],
   "metadata": {
    "collapsed": false,
    "pycharm": {
     "name": "#%%\n"
    }
   }
  },
  {
   "cell_type": "code",
   "execution_count": 371,
   "outputs": [
    {
     "data": {
      "text/plain": "      index perimeter_se       radius_worst concave points_mean  \\\n1       279         1.83  999765432456788.0             0.03711   \n2       307       1144.0             9699.0            0.003472   \n4       576       2183.0                NaN             0.02278   \n5       350       2225.0              13.28             0.01162   \n7       120       1103.0              12.82             0.02623   \n...     ...          ...                ...                 ...   \n3882    344       2355.0                NaN              0.0325   \n3900    506       0.9857                NaN             0.02166   \n3908     13       2903.0              16.84             0.05364   \n3929    421       4795.0              16.46                63.0   \n3933    568          NaN             9456.0                 0.0   \n\n        smoothness_mean area_mean concavity_se texture_mean concavity_worst  \\\n1               0.09516     587.4      0.01457        15.18          0.1456   \n2     -88888765432345.0     246.3     0.003681         14.4         0.01472   \n4               0.09524     409.0      0.01349        18.75             NaN   \n5               0.07561     421.0     0.005949        17.07         0.03046   \n7               0.09373     403.3      0.01514        10.82          0.2102   \n...                 ...       ...          ...          ...             ...   \n3882              115.0     420.3          NaN        15.45          0.1087   \n3900             0.1096     453.1          NaN        20.04          0.3535   \n3908            0.08401       NaN      0.05051        23.95          0.2322   \n3929             0.1031     656.1          NaN        13.98          0.3219   \n3933            0.05263     181.0          NaN        24.54             0.0   \n\n     smoothness_se  ...          id      symmetry_mean symmetry_worst  \\\n1         0.004235  ...     8911834              211.0         0.2955   \n2         0.007389  ...       89346  -88888765432345.0         0.2991   \n4         0.008328  ...    85759902                NaN         0.3306   \n5         0.006583  ...      899187             0.1671         0.2731   \n7              NaN  ...      865137             0.1667         0.3016   \n...            ...  ...         ...                ...            ...   \n3882      0.009536  ...  89864002.0                NaN         0.2765   \n3900      0.006272  ...  91544001.0                NaN         0.2709   \n3908      0.009769  ...    846381.0             0.1847         0.2809   \n3929      0.009976  ...    906564.0             0.2086         0.2827   \n3933      0.007189  ...     92751.0             0.1587         0.2871   \n\n     diagnosis fractal_dimension_se     perimeter_mean compactness_worst  \\\n1            B             0.001593  999765432456788.0            0.1724   \n2            B             0.002153              56.36           0.05232   \n4            B             0.002386              73.34               NaN   \n5            B             0.002668               73.7           0.06476   \n7            B             0.002206              73.34             239.0   \n...        ...                  ...                ...               ...   \n3882         B               0.0031              75.03               NaN   \n3900         B                  NaN                NaN            0.2315   \n3908         M             0.003002                NaN            0.1924   \n3929         B                  NaN              98.22               NaN   \n3933         B             0.002783              47.92           0.06444   \n\n     symmetry_se compactness_se          radius_se  \n1        0.01528        0.01541  999765432456788.0  \n2        0.02701       0.004883             0.1746  \n4        0.03218       0.008722             0.3249  \n5        0.02216       0.006991             0.3534  \n7        0.01344            NaN                NaN  \n...          ...            ...                ...  \n3882     0.01953        0.01097             0.3446  \n3900         NaN            NaN             0.1811  \n3908     0.02981            NaN             0.4033  \n3929         NaN        0.05244             0.5462  \n3933         NaN        0.00466             0.3857  \n\n[974 rows x 33 columns]",
      "text/html": "<div>\n<style scoped>\n    .dataframe tbody tr th:only-of-type {\n        vertical-align: middle;\n    }\n\n    .dataframe tbody tr th {\n        vertical-align: top;\n    }\n\n    .dataframe thead th {\n        text-align: right;\n    }\n</style>\n<table border=\"1\" class=\"dataframe\">\n  <thead>\n    <tr style=\"text-align: right;\">\n      <th></th>\n      <th>index</th>\n      <th>perimeter_se</th>\n      <th>radius_worst</th>\n      <th>concave points_mean</th>\n      <th>smoothness_mean</th>\n      <th>area_mean</th>\n      <th>concavity_se</th>\n      <th>texture_mean</th>\n      <th>concavity_worst</th>\n      <th>smoothness_se</th>\n      <th>...</th>\n      <th>id</th>\n      <th>symmetry_mean</th>\n      <th>symmetry_worst</th>\n      <th>diagnosis</th>\n      <th>fractal_dimension_se</th>\n      <th>perimeter_mean</th>\n      <th>compactness_worst</th>\n      <th>symmetry_se</th>\n      <th>compactness_se</th>\n      <th>radius_se</th>\n    </tr>\n  </thead>\n  <tbody>\n    <tr>\n      <th>1</th>\n      <td>279</td>\n      <td>1.83</td>\n      <td>999765432456788.0</td>\n      <td>0.03711</td>\n      <td>0.09516</td>\n      <td>587.4</td>\n      <td>0.01457</td>\n      <td>15.18</td>\n      <td>0.1456</td>\n      <td>0.004235</td>\n      <td>...</td>\n      <td>8911834</td>\n      <td>211.0</td>\n      <td>0.2955</td>\n      <td>B</td>\n      <td>0.001593</td>\n      <td>999765432456788.0</td>\n      <td>0.1724</td>\n      <td>0.01528</td>\n      <td>0.01541</td>\n      <td>999765432456788.0</td>\n    </tr>\n    <tr>\n      <th>2</th>\n      <td>307</td>\n      <td>1144.0</td>\n      <td>9699.0</td>\n      <td>0.003472</td>\n      <td>-88888765432345.0</td>\n      <td>246.3</td>\n      <td>0.003681</td>\n      <td>14.4</td>\n      <td>0.01472</td>\n      <td>0.007389</td>\n      <td>...</td>\n      <td>89346</td>\n      <td>-88888765432345.0</td>\n      <td>0.2991</td>\n      <td>B</td>\n      <td>0.002153</td>\n      <td>56.36</td>\n      <td>0.05232</td>\n      <td>0.02701</td>\n      <td>0.004883</td>\n      <td>0.1746</td>\n    </tr>\n    <tr>\n      <th>4</th>\n      <td>576</td>\n      <td>2183.0</td>\n      <td>NaN</td>\n      <td>0.02278</td>\n      <td>0.09524</td>\n      <td>409.0</td>\n      <td>0.01349</td>\n      <td>18.75</td>\n      <td>NaN</td>\n      <td>0.008328</td>\n      <td>...</td>\n      <td>85759902</td>\n      <td>NaN</td>\n      <td>0.3306</td>\n      <td>B</td>\n      <td>0.002386</td>\n      <td>73.34</td>\n      <td>NaN</td>\n      <td>0.03218</td>\n      <td>0.008722</td>\n      <td>0.3249</td>\n    </tr>\n    <tr>\n      <th>5</th>\n      <td>350</td>\n      <td>2225.0</td>\n      <td>13.28</td>\n      <td>0.01162</td>\n      <td>0.07561</td>\n      <td>421.0</td>\n      <td>0.005949</td>\n      <td>17.07</td>\n      <td>0.03046</td>\n      <td>0.006583</td>\n      <td>...</td>\n      <td>899187</td>\n      <td>0.1671</td>\n      <td>0.2731</td>\n      <td>B</td>\n      <td>0.002668</td>\n      <td>73.7</td>\n      <td>0.06476</td>\n      <td>0.02216</td>\n      <td>0.006991</td>\n      <td>0.3534</td>\n    </tr>\n    <tr>\n      <th>7</th>\n      <td>120</td>\n      <td>1103.0</td>\n      <td>12.82</td>\n      <td>0.02623</td>\n      <td>0.09373</td>\n      <td>403.3</td>\n      <td>0.01514</td>\n      <td>10.82</td>\n      <td>0.2102</td>\n      <td>NaN</td>\n      <td>...</td>\n      <td>865137</td>\n      <td>0.1667</td>\n      <td>0.3016</td>\n      <td>B</td>\n      <td>0.002206</td>\n      <td>73.34</td>\n      <td>239.0</td>\n      <td>0.01344</td>\n      <td>NaN</td>\n      <td>NaN</td>\n    </tr>\n    <tr>\n      <th>...</th>\n      <td>...</td>\n      <td>...</td>\n      <td>...</td>\n      <td>...</td>\n      <td>...</td>\n      <td>...</td>\n      <td>...</td>\n      <td>...</td>\n      <td>...</td>\n      <td>...</td>\n      <td>...</td>\n      <td>...</td>\n      <td>...</td>\n      <td>...</td>\n      <td>...</td>\n      <td>...</td>\n      <td>...</td>\n      <td>...</td>\n      <td>...</td>\n      <td>...</td>\n      <td>...</td>\n    </tr>\n    <tr>\n      <th>3882</th>\n      <td>344</td>\n      <td>2355.0</td>\n      <td>NaN</td>\n      <td>0.0325</td>\n      <td>115.0</td>\n      <td>420.3</td>\n      <td>NaN</td>\n      <td>15.45</td>\n      <td>0.1087</td>\n      <td>0.009536</td>\n      <td>...</td>\n      <td>89864002.0</td>\n      <td>NaN</td>\n      <td>0.2765</td>\n      <td>B</td>\n      <td>0.0031</td>\n      <td>75.03</td>\n      <td>NaN</td>\n      <td>0.01953</td>\n      <td>0.01097</td>\n      <td>0.3446</td>\n    </tr>\n    <tr>\n      <th>3900</th>\n      <td>506</td>\n      <td>0.9857</td>\n      <td>NaN</td>\n      <td>0.02166</td>\n      <td>0.1096</td>\n      <td>453.1</td>\n      <td>NaN</td>\n      <td>20.04</td>\n      <td>0.3535</td>\n      <td>0.006272</td>\n      <td>...</td>\n      <td>91544001.0</td>\n      <td>NaN</td>\n      <td>0.2709</td>\n      <td>B</td>\n      <td>NaN</td>\n      <td>NaN</td>\n      <td>0.2315</td>\n      <td>NaN</td>\n      <td>NaN</td>\n      <td>0.1811</td>\n    </tr>\n    <tr>\n      <th>3908</th>\n      <td>13</td>\n      <td>2903.0</td>\n      <td>16.84</td>\n      <td>0.05364</td>\n      <td>0.08401</td>\n      <td>NaN</td>\n      <td>0.05051</td>\n      <td>23.95</td>\n      <td>0.2322</td>\n      <td>0.009769</td>\n      <td>...</td>\n      <td>846381.0</td>\n      <td>0.1847</td>\n      <td>0.2809</td>\n      <td>M</td>\n      <td>0.003002</td>\n      <td>NaN</td>\n      <td>0.1924</td>\n      <td>0.02981</td>\n      <td>NaN</td>\n      <td>0.4033</td>\n    </tr>\n    <tr>\n      <th>3929</th>\n      <td>421</td>\n      <td>4795.0</td>\n      <td>16.46</td>\n      <td>63.0</td>\n      <td>0.1031</td>\n      <td>656.1</td>\n      <td>NaN</td>\n      <td>13.98</td>\n      <td>0.3219</td>\n      <td>0.009976</td>\n      <td>...</td>\n      <td>906564.0</td>\n      <td>0.2086</td>\n      <td>0.2827</td>\n      <td>B</td>\n      <td>NaN</td>\n      <td>98.22</td>\n      <td>NaN</td>\n      <td>NaN</td>\n      <td>0.05244</td>\n      <td>0.5462</td>\n    </tr>\n    <tr>\n      <th>3933</th>\n      <td>568</td>\n      <td>NaN</td>\n      <td>9456.0</td>\n      <td>0.0</td>\n      <td>0.05263</td>\n      <td>181.0</td>\n      <td>NaN</td>\n      <td>24.54</td>\n      <td>0.0</td>\n      <td>0.007189</td>\n      <td>...</td>\n      <td>92751.0</td>\n      <td>0.1587</td>\n      <td>0.2871</td>\n      <td>B</td>\n      <td>0.002783</td>\n      <td>47.92</td>\n      <td>0.06444</td>\n      <td>NaN</td>\n      <td>0.00466</td>\n      <td>0.3857</td>\n    </tr>\n  </tbody>\n</table>\n<p>974 rows × 33 columns</p>\n</div>"
     },
     "execution_count": 371,
     "metadata": {},
     "output_type": "execute_result"
    }
   ],
   "source": [
    "df"
   ],
   "metadata": {
    "collapsed": false,
    "pycharm": {
     "name": "#%%\n"
    }
   }
  },
  {
   "cell_type": "code",
   "execution_count": 372,
   "outputs": [
    {
     "data": {
      "text/plain": "True"
     },
     "execution_count": 372,
     "metadata": {},
     "output_type": "execute_result"
    }
   ],
   "source": [
    "df.index.is_unique"
   ],
   "metadata": {
    "collapsed": false,
    "pycharm": {
     "name": "#%%\n"
    }
   }
  },
  {
   "cell_type": "code",
   "execution_count": 373,
   "outputs": [
    {
     "data": {
      "text/plain": "False"
     },
     "execution_count": 373,
     "metadata": {},
     "output_type": "execute_result"
    }
   ],
   "source": [
    "df.id.is_unique"
   ],
   "metadata": {
    "collapsed": false,
    "pycharm": {
     "name": "#%%\n"
    }
   }
  },
  {
   "cell_type": "code",
   "execution_count": 374,
   "outputs": [
    {
     "name": "stderr",
     "output_type": "stream",
     "text": [
      "C:\\Users\\NICON\\AppData\\Local\\Temp\\ipykernel_10184\\3394610898.py:1: SettingWithCopyWarning: \n",
      "A value is trying to be set on a copy of a slice from a DataFrame\n",
      "\n",
      "See the caveats in the documentation: https://pandas.pydata.org/pandas-docs/stable/user_guide/indexing.html#returning-a-view-versus-a-copy\n",
      "  df.drop('index',axis=1,inplace=True)\n"
     ]
    }
   ],
   "source": [
    "df.drop('index',axis=1,inplace=True)"
   ],
   "metadata": {
    "collapsed": false,
    "pycharm": {
     "name": "#%%\n"
    }
   }
  },
  {
   "cell_type": "code",
   "execution_count": 375,
   "outputs": [
    {
     "name": "stdout",
     "output_type": "stream",
     "text": [
      "<class 'pandas.core.frame.DataFrame'>\n",
      "Int64Index: 974 entries, 1 to 3933\n",
      "Data columns (total 32 columns):\n",
      " #   Column                   Non-Null Count  Dtype \n",
      "---  ------                   --------------  ----- \n",
      " 0   perimeter_se             880 non-null    object\n",
      " 1   radius_worst             872 non-null    object\n",
      " 2   concave points_mean      886 non-null    object\n",
      " 3   smoothness_mean          851 non-null    object\n",
      " 4   area_mean                878 non-null    object\n",
      " 5   concavity_se             860 non-null    object\n",
      " 6   texture_mean             869 non-null    object\n",
      " 7   concavity_worst          877 non-null    object\n",
      " 8   smoothness_se            888 non-null    object\n",
      " 9   concave points_se        858 non-null    object\n",
      " 10  area_worst               869 non-null    object\n",
      " 11  compactness_mean         878 non-null    object\n",
      " 12  radius_mean              873 non-null    object\n",
      " 13  area_se                  858 non-null    object\n",
      " 14  concave points_worst     884 non-null    object\n",
      " 15  fractal_dimension_worst  885 non-null    object\n",
      " 16  perimeter_worst          877 non-null    object\n",
      " 17  texture_se               874 non-null    object\n",
      " 18  fractal_dimension_mean   868 non-null    object\n",
      " 19  texture_worst            886 non-null    object\n",
      " 20  smoothness_worst         863 non-null    object\n",
      " 21  concavity_mean           857 non-null    object\n",
      " 22  id                       972 non-null    object\n",
      " 23  symmetry_mean            865 non-null    object\n",
      " 24  symmetry_worst           878 non-null    object\n",
      " 25  diagnosis                974 non-null    object\n",
      " 26  fractal_dimension_se     877 non-null    object\n",
      " 27  perimeter_mean           870 non-null    object\n",
      " 28  compactness_worst        883 non-null    object\n",
      " 29  symmetry_se              882 non-null    object\n",
      " 30  compactness_se           870 non-null    object\n",
      " 31  radius_se                870 non-null    object\n",
      "dtypes: object(32)\n",
      "memory usage: 283.4+ KB\n"
     ]
    }
   ],
   "source": [
    "df.info()"
   ],
   "metadata": {
    "collapsed": false,
    "pycharm": {
     "name": "#%%\n"
    }
   }
  },
  {
   "cell_type": "code",
   "execution_count": 376,
   "outputs": [
    {
     "name": "stderr",
     "output_type": "stream",
     "text": [
      "C:\\Users\\NICON\\AppData\\Local\\Temp\\ipykernel_10184\\1197392700.py:1: SettingWithCopyWarning: \n",
      "A value is trying to be set on a copy of a slice from a DataFrame\n",
      "\n",
      "See the caveats in the documentation: https://pandas.pydata.org/pandas-docs/stable/user_guide/indexing.html#returning-a-view-versus-a-copy\n",
      "  df.drop('id',axis=1,inplace=True)\n"
     ]
    }
   ],
   "source": [
    "df.drop('id',axis=1,inplace=True)\n"
   ],
   "metadata": {
    "collapsed": false,
    "pycharm": {
     "name": "#%%\n"
    }
   }
  },
  {
   "cell_type": "code",
   "execution_count": 377,
   "outputs": [
    {
     "name": "stdout",
     "output_type": "stream",
     "text": [
      "<class 'pandas.core.frame.DataFrame'>\n",
      "Int64Index: 974 entries, 1 to 3933\n",
      "Data columns (total 31 columns):\n",
      " #   Column                   Non-Null Count  Dtype \n",
      "---  ------                   --------------  ----- \n",
      " 0   perimeter_se             880 non-null    object\n",
      " 1   radius_worst             872 non-null    object\n",
      " 2   concave points_mean      886 non-null    object\n",
      " 3   smoothness_mean          851 non-null    object\n",
      " 4   area_mean                878 non-null    object\n",
      " 5   concavity_se             860 non-null    object\n",
      " 6   texture_mean             869 non-null    object\n",
      " 7   concavity_worst          877 non-null    object\n",
      " 8   smoothness_se            888 non-null    object\n",
      " 9   concave points_se        858 non-null    object\n",
      " 10  area_worst               869 non-null    object\n",
      " 11  compactness_mean         878 non-null    object\n",
      " 12  radius_mean              873 non-null    object\n",
      " 13  area_se                  858 non-null    object\n",
      " 14  concave points_worst     884 non-null    object\n",
      " 15  fractal_dimension_worst  885 non-null    object\n",
      " 16  perimeter_worst          877 non-null    object\n",
      " 17  texture_se               874 non-null    object\n",
      " 18  fractal_dimension_mean   868 non-null    object\n",
      " 19  texture_worst            886 non-null    object\n",
      " 20  smoothness_worst         863 non-null    object\n",
      " 21  concavity_mean           857 non-null    object\n",
      " 22  symmetry_mean            865 non-null    object\n",
      " 23  symmetry_worst           878 non-null    object\n",
      " 24  diagnosis                974 non-null    object\n",
      " 25  fractal_dimension_se     877 non-null    object\n",
      " 26  perimeter_mean           870 non-null    object\n",
      " 27  compactness_worst        883 non-null    object\n",
      " 28  symmetry_se              882 non-null    object\n",
      " 29  compactness_se           870 non-null    object\n",
      " 30  radius_se                870 non-null    object\n",
      "dtypes: object(31)\n",
      "memory usage: 275.8+ KB\n"
     ]
    }
   ],
   "source": [
    "df.info()"
   ],
   "metadata": {
    "collapsed": false,
    "pycharm": {
     "name": "#%%\n"
    }
   }
  },
  {
   "cell_type": "code",
   "execution_count": 378,
   "outputs": [
    {
     "data": {
      "text/plain": "999765432456788.0          27\nrxctf378968 7656463sdfg    24\n-88888765432345.0          15\n1778.0                      6\n2903.0                      4\n                           ..\n2393.0                      1\n1974.0                      1\n1606.0                      1\n2806.0                      1\n4795.0                      1\nName: perimeter_se, Length: 508, dtype: int64"
     },
     "execution_count": 378,
     "metadata": {},
     "output_type": "execute_result"
    }
   ],
   "source": [
    "df['perimeter_se'].value_counts()"
   ],
   "metadata": {
    "collapsed": false,
    "pycharm": {
     "name": "#%%\n"
    }
   }
  },
  {
   "cell_type": "code",
   "execution_count": 379,
   "outputs": [],
   "source": [
    "mask_perimeter=df['perimeter_se']=='999765432456788.0'"
   ],
   "metadata": {
    "collapsed": false,
    "pycharm": {
     "name": "#%%\n"
    }
   }
  },
  {
   "cell_type": "code",
   "execution_count": 380,
   "outputs": [
    {
     "data": {
      "text/plain": "1       False\n2       False\n4       False\n5       False\n7       False\n        ...  \n3882    False\n3900    False\n3908    False\n3929    False\n3933    False\nName: perimeter_se, Length: 974, dtype: bool"
     },
     "execution_count": 380,
     "metadata": {},
     "output_type": "execute_result"
    }
   ],
   "source": [
    "mask_perimeter"
   ],
   "metadata": {
    "collapsed": false,
    "pycharm": {
     "name": "#%%\n"
    }
   }
  },
  {
   "cell_type": "code",
   "execution_count": 381,
   "outputs": [
    {
     "name": "stderr",
     "output_type": "stream",
     "text": [
      "C:\\Users\\NICON\\AppData\\Local\\Temp\\ipykernel_10184\\3556097411.py:1: SettingWithCopyWarning: \n",
      "A value is trying to be set on a copy of a slice from a DataFrame\n",
      "\n",
      "See the caveats in the documentation: https://pandas.pydata.org/pandas-docs/stable/user_guide/indexing.html#returning-a-view-versus-a-copy\n",
      "  df.drop(df[df['perimeter_se']=='999765432456788.0'].index,inplace=True,axis=0)\n"
     ]
    }
   ],
   "source": [
    "df.drop(df[df['perimeter_se']=='999765432456788.0'].index,inplace=True,axis=0)"
   ],
   "metadata": {
    "collapsed": false,
    "pycharm": {
     "name": "#%%\n"
    }
   }
  },
  {
   "cell_type": "code",
   "execution_count": 382,
   "outputs": [
    {
     "data": {
      "text/plain": "rxctf378968 7656463sdfg    24\n-88888765432345.0          15\n1778.0                      6\n2155.0                      4\n1535.0                      4\n                           ..\n2393.0                      1\n1974.0                      1\n1606.0                      1\n2806.0                      1\n4795.0                      1\nName: perimeter_se, Length: 507, dtype: int64"
     },
     "execution_count": 382,
     "metadata": {},
     "output_type": "execute_result"
    }
   ],
   "source": [
    "df['perimeter_se'].value_counts()\n"
   ],
   "metadata": {
    "collapsed": false,
    "pycharm": {
     "name": "#%%\n"
    }
   }
  },
  {
   "cell_type": "code",
   "execution_count": 383,
   "outputs": [
    {
     "data": {
      "text/plain": "     perimeter_se       radius_worst concave points_mean    smoothness_mean  \\\n1            1.83  999765432456788.0             0.03711            0.09516   \n2          1144.0             9699.0            0.003472  -88888765432345.0   \n4          2183.0                NaN             0.02278            0.09524   \n5          2225.0              13.28             0.01162            0.07561   \n7          1103.0              12.82             0.02623            0.09373   \n...           ...                ...                 ...                ...   \n3882       2355.0                NaN              0.0325              115.0   \n3900       0.9857                NaN             0.02166             0.1096   \n3908       2903.0              16.84             0.05364            0.08401   \n3929       4795.0              16.46                63.0             0.1031   \n3933          NaN             9456.0                 0.0            0.05263   \n\n     area_mean concavity_se texture_mean concavity_worst smoothness_se  \\\n1        587.4      0.01457        15.18          0.1456      0.004235   \n2        246.3     0.003681         14.4         0.01472      0.007389   \n4        409.0      0.01349        18.75             NaN      0.008328   \n5        421.0     0.005949        17.07         0.03046      0.006583   \n7        403.3      0.01514        10.82          0.2102           NaN   \n...        ...          ...          ...             ...           ...   \n3882     420.3          NaN        15.45          0.1087      0.009536   \n3900     453.1          NaN        20.04          0.3535      0.006272   \n3908       NaN      0.05051        23.95          0.2322      0.009769   \n3929     656.1          NaN        13.98          0.3219      0.009976   \n3933     181.0          NaN        24.54             0.0      0.007189   \n\n      concave points_se  ...     concavity_mean      symmetry_mean  \\\n1     999765432456788.0  ...  999765432456788.0              211.0   \n2              0.003472  ...           0.003681  -88888765432345.0   \n4               0.00867  ...                NaN                NaN   \n5              0.006296  ...           0.008306             0.1671   \n7                   NaN  ...            0.03512             0.1667   \n...                 ...  ...                ...                ...   \n3882                NaN  ...            0.04006                NaN   \n3900                NaN  ...            0.08175                NaN   \n3908            0.01992  ...            0.09938             0.1847   \n3929             0.0158  ...                NaN             0.2086   \n3933                NaN  ...                NaN             0.1587   \n\n     symmetry_worst diagnosis fractal_dimension_se     perimeter_mean  \\\n1            0.2955         B             0.001593  999765432456788.0   \n2            0.2991         B             0.002153              56.36   \n4            0.3306         B             0.002386              73.34   \n5            0.2731         B             0.002668               73.7   \n7            0.3016         B             0.002206              73.34   \n...             ...       ...                  ...                ...   \n3882         0.2765         B               0.0031              75.03   \n3900         0.2709         B                  NaN                NaN   \n3908         0.2809         M             0.003002                NaN   \n3929         0.2827         B                  NaN              98.22   \n3933         0.2871         B             0.002783              47.92   \n\n     compactness_worst symmetry_se compactness_se          radius_se  \n1               0.1724     0.01528        0.01541  999765432456788.0  \n2              0.05232     0.02701       0.004883             0.1746  \n4                  NaN     0.03218       0.008722             0.3249  \n5              0.06476     0.02216       0.006991             0.3534  \n7                239.0     0.01344            NaN                NaN  \n...                ...         ...            ...                ...  \n3882               NaN     0.01953        0.01097             0.3446  \n3900            0.2315         NaN            NaN             0.1811  \n3908            0.1924     0.02981            NaN             0.4033  \n3929               NaN         NaN        0.05244             0.5462  \n3933           0.06444         NaN        0.00466             0.3857  \n\n[947 rows x 31 columns]",
      "text/html": "<div>\n<style scoped>\n    .dataframe tbody tr th:only-of-type {\n        vertical-align: middle;\n    }\n\n    .dataframe tbody tr th {\n        vertical-align: top;\n    }\n\n    .dataframe thead th {\n        text-align: right;\n    }\n</style>\n<table border=\"1\" class=\"dataframe\">\n  <thead>\n    <tr style=\"text-align: right;\">\n      <th></th>\n      <th>perimeter_se</th>\n      <th>radius_worst</th>\n      <th>concave points_mean</th>\n      <th>smoothness_mean</th>\n      <th>area_mean</th>\n      <th>concavity_se</th>\n      <th>texture_mean</th>\n      <th>concavity_worst</th>\n      <th>smoothness_se</th>\n      <th>concave points_se</th>\n      <th>...</th>\n      <th>concavity_mean</th>\n      <th>symmetry_mean</th>\n      <th>symmetry_worst</th>\n      <th>diagnosis</th>\n      <th>fractal_dimension_se</th>\n      <th>perimeter_mean</th>\n      <th>compactness_worst</th>\n      <th>symmetry_se</th>\n      <th>compactness_se</th>\n      <th>radius_se</th>\n    </tr>\n  </thead>\n  <tbody>\n    <tr>\n      <th>1</th>\n      <td>1.83</td>\n      <td>999765432456788.0</td>\n      <td>0.03711</td>\n      <td>0.09516</td>\n      <td>587.4</td>\n      <td>0.01457</td>\n      <td>15.18</td>\n      <td>0.1456</td>\n      <td>0.004235</td>\n      <td>999765432456788.0</td>\n      <td>...</td>\n      <td>999765432456788.0</td>\n      <td>211.0</td>\n      <td>0.2955</td>\n      <td>B</td>\n      <td>0.001593</td>\n      <td>999765432456788.0</td>\n      <td>0.1724</td>\n      <td>0.01528</td>\n      <td>0.01541</td>\n      <td>999765432456788.0</td>\n    </tr>\n    <tr>\n      <th>2</th>\n      <td>1144.0</td>\n      <td>9699.0</td>\n      <td>0.003472</td>\n      <td>-88888765432345.0</td>\n      <td>246.3</td>\n      <td>0.003681</td>\n      <td>14.4</td>\n      <td>0.01472</td>\n      <td>0.007389</td>\n      <td>0.003472</td>\n      <td>...</td>\n      <td>0.003681</td>\n      <td>-88888765432345.0</td>\n      <td>0.2991</td>\n      <td>B</td>\n      <td>0.002153</td>\n      <td>56.36</td>\n      <td>0.05232</td>\n      <td>0.02701</td>\n      <td>0.004883</td>\n      <td>0.1746</td>\n    </tr>\n    <tr>\n      <th>4</th>\n      <td>2183.0</td>\n      <td>NaN</td>\n      <td>0.02278</td>\n      <td>0.09524</td>\n      <td>409.0</td>\n      <td>0.01349</td>\n      <td>18.75</td>\n      <td>NaN</td>\n      <td>0.008328</td>\n      <td>0.00867</td>\n      <td>...</td>\n      <td>NaN</td>\n      <td>NaN</td>\n      <td>0.3306</td>\n      <td>B</td>\n      <td>0.002386</td>\n      <td>73.34</td>\n      <td>NaN</td>\n      <td>0.03218</td>\n      <td>0.008722</td>\n      <td>0.3249</td>\n    </tr>\n    <tr>\n      <th>5</th>\n      <td>2225.0</td>\n      <td>13.28</td>\n      <td>0.01162</td>\n      <td>0.07561</td>\n      <td>421.0</td>\n      <td>0.005949</td>\n      <td>17.07</td>\n      <td>0.03046</td>\n      <td>0.006583</td>\n      <td>0.006296</td>\n      <td>...</td>\n      <td>0.008306</td>\n      <td>0.1671</td>\n      <td>0.2731</td>\n      <td>B</td>\n      <td>0.002668</td>\n      <td>73.7</td>\n      <td>0.06476</td>\n      <td>0.02216</td>\n      <td>0.006991</td>\n      <td>0.3534</td>\n    </tr>\n    <tr>\n      <th>7</th>\n      <td>1103.0</td>\n      <td>12.82</td>\n      <td>0.02623</td>\n      <td>0.09373</td>\n      <td>403.3</td>\n      <td>0.01514</td>\n      <td>10.82</td>\n      <td>0.2102</td>\n      <td>NaN</td>\n      <td>NaN</td>\n      <td>...</td>\n      <td>0.03512</td>\n      <td>0.1667</td>\n      <td>0.3016</td>\n      <td>B</td>\n      <td>0.002206</td>\n      <td>73.34</td>\n      <td>239.0</td>\n      <td>0.01344</td>\n      <td>NaN</td>\n      <td>NaN</td>\n    </tr>\n    <tr>\n      <th>...</th>\n      <td>...</td>\n      <td>...</td>\n      <td>...</td>\n      <td>...</td>\n      <td>...</td>\n      <td>...</td>\n      <td>...</td>\n      <td>...</td>\n      <td>...</td>\n      <td>...</td>\n      <td>...</td>\n      <td>...</td>\n      <td>...</td>\n      <td>...</td>\n      <td>...</td>\n      <td>...</td>\n      <td>...</td>\n      <td>...</td>\n      <td>...</td>\n      <td>...</td>\n      <td>...</td>\n    </tr>\n    <tr>\n      <th>3882</th>\n      <td>2355.0</td>\n      <td>NaN</td>\n      <td>0.0325</td>\n      <td>115.0</td>\n      <td>420.3</td>\n      <td>NaN</td>\n      <td>15.45</td>\n      <td>0.1087</td>\n      <td>0.009536</td>\n      <td>NaN</td>\n      <td>...</td>\n      <td>0.04006</td>\n      <td>NaN</td>\n      <td>0.2765</td>\n      <td>B</td>\n      <td>0.0031</td>\n      <td>75.03</td>\n      <td>NaN</td>\n      <td>0.01953</td>\n      <td>0.01097</td>\n      <td>0.3446</td>\n    </tr>\n    <tr>\n      <th>3900</th>\n      <td>0.9857</td>\n      <td>NaN</td>\n      <td>0.02166</td>\n      <td>0.1096</td>\n      <td>453.1</td>\n      <td>NaN</td>\n      <td>20.04</td>\n      <td>0.3535</td>\n      <td>0.006272</td>\n      <td>NaN</td>\n      <td>...</td>\n      <td>0.08175</td>\n      <td>NaN</td>\n      <td>0.2709</td>\n      <td>B</td>\n      <td>NaN</td>\n      <td>NaN</td>\n      <td>0.2315</td>\n      <td>NaN</td>\n      <td>NaN</td>\n      <td>0.1811</td>\n    </tr>\n    <tr>\n      <th>3908</th>\n      <td>2903.0</td>\n      <td>16.84</td>\n      <td>0.05364</td>\n      <td>0.08401</td>\n      <td>NaN</td>\n      <td>0.05051</td>\n      <td>23.95</td>\n      <td>0.2322</td>\n      <td>0.009769</td>\n      <td>0.01992</td>\n      <td>...</td>\n      <td>0.09938</td>\n      <td>0.1847</td>\n      <td>0.2809</td>\n      <td>M</td>\n      <td>0.003002</td>\n      <td>NaN</td>\n      <td>0.1924</td>\n      <td>0.02981</td>\n      <td>NaN</td>\n      <td>0.4033</td>\n    </tr>\n    <tr>\n      <th>3929</th>\n      <td>4795.0</td>\n      <td>16.46</td>\n      <td>63.0</td>\n      <td>0.1031</td>\n      <td>656.1</td>\n      <td>NaN</td>\n      <td>13.98</td>\n      <td>0.3219</td>\n      <td>0.009976</td>\n      <td>0.0158</td>\n      <td>...</td>\n      <td>NaN</td>\n      <td>0.2086</td>\n      <td>0.2827</td>\n      <td>B</td>\n      <td>NaN</td>\n      <td>98.22</td>\n      <td>NaN</td>\n      <td>NaN</td>\n      <td>0.05244</td>\n      <td>0.5462</td>\n    </tr>\n    <tr>\n      <th>3933</th>\n      <td>NaN</td>\n      <td>9456.0</td>\n      <td>0.0</td>\n      <td>0.05263</td>\n      <td>181.0</td>\n      <td>NaN</td>\n      <td>24.54</td>\n      <td>0.0</td>\n      <td>0.007189</td>\n      <td>NaN</td>\n      <td>...</td>\n      <td>NaN</td>\n      <td>0.1587</td>\n      <td>0.2871</td>\n      <td>B</td>\n      <td>0.002783</td>\n      <td>47.92</td>\n      <td>0.06444</td>\n      <td>NaN</td>\n      <td>0.00466</td>\n      <td>0.3857</td>\n    </tr>\n  </tbody>\n</table>\n<p>947 rows × 31 columns</p>\n</div>"
     },
     "execution_count": 383,
     "metadata": {},
     "output_type": "execute_result"
    }
   ],
   "source": [
    "df"
   ],
   "metadata": {
    "collapsed": false,
    "pycharm": {
     "name": "#%%\n"
    }
   }
  },
  {
   "cell_type": "code",
   "execution_count": 384,
   "outputs": [],
   "source": [
    "mask_perimeter=df[df['perimeter_se']=='rxctf378968 7656463sdfg']\n"
   ],
   "metadata": {
    "collapsed": false,
    "pycharm": {
     "name": "#%%\n"
    }
   }
  },
  {
   "cell_type": "code",
   "execution_count": 385,
   "outputs": [
    {
     "data": {
      "text/plain": "                 perimeter_se             radius_worst  \\\n21    rxctf378968 7656463sdfg                    12.98   \n61    rxctf378968 7656463sdfg                    33.12   \n73    rxctf378968 7656463sdfg                    13.45   \n104   rxctf378968 7656463sdfg                    25.73   \n204   rxctf378968 7656463sdfg                    20.42   \n237   rxctf378968 7656463sdfg                    13.09   \n244   rxctf378968 7656463sdfg                    26.68   \n338   rxctf378968 7656463sdfg                    22.93   \n381   rxctf378968 7656463sdfg  rxctf378968 7656463sdfg   \n416   rxctf378968 7656463sdfg  rxctf378968 7656463sdfg   \n487   rxctf378968 7656463sdfg                    23.32   \n525   rxctf378968 7656463sdfg  rxctf378968 7656463sdfg   \n549   rxctf378968 7656463sdfg                    15.77   \n614   rxctf378968 7656463sdfg  rxctf378968 7656463sdfg   \n824   rxctf378968 7656463sdfg                    24.54   \n934   rxctf378968 7656463sdfg  rxctf378968 7656463sdfg   \n1014  rxctf378968 7656463sdfg                    12.51   \n1128  rxctf378968 7656463sdfg  rxctf378968 7656463sdfg   \n1199  rxctf378968 7656463sdfg  rxctf378968 7656463sdfg   \n1241  rxctf378968 7656463sdfg                    15.51   \n1259  rxctf378968 7656463sdfg                    14.39   \n1523  rxctf378968 7656463sdfg                    25.37   \n1578  rxctf378968 7656463sdfg                    11.69   \n1978  rxctf378968 7656463sdfg                    11.26   \n\n          concave points_mean          smoothness_mean  \\\n21                    0.04274                    103.0   \n61                     0.1878                   0.1094   \n73    rxctf378968 7656463sdfg                      NaN   \n104                   0.08691                  0.09383   \n204   rxctf378968 7656463sdfg                  0.08968   \n237   rxctf378968 7656463sdfg                  0.08437   \n244                    0.1496                   0.1141   \n338                   0.08795                  0.09874   \n381   rxctf378968 7656463sdfg                  0.09768   \n416   rxctf378968 7656463sdfg                   0.1054   \n487                   0.07944                   0.1071   \n525   rxctf378968 7656463sdfg                   0.1006   \n549   rxctf378968 7656463sdfg  rxctf378968 7656463sdfg   \n614                   0.06759                   0.1162   \n824   rxctf378968 7656463sdfg                  0.09116   \n934   rxctf378968 7656463sdfg                   0.1031   \n1014                  0.02322                  0.09076   \n1128                  0.05246                   0.1096   \n1199                    141.0  rxctf378968 7656463sdfg   \n1241                 0.008507                  0.07026   \n1259  rxctf378968 7656463sdfg                   0.0876   \n1523                  0.08941                  0.09446   \n1578  rxctf378968 7656463sdfg                   0.1194   \n1978                  0.03716                  0.09699   \n\n                    area_mean             concavity_se  \\\n21                      441.3                  0.02334   \n61                     2250.0  rxctf378968 7656463sdfg   \n73                        NaN  rxctf378968 7656463sdfg   \n104                    1230.0  rxctf378968 7656463sdfg   \n204                     951.6                  0.02713   \n237                     442.5                  0.02941   \n244                    1311.0  rxctf378968 7656463sdfg   \n338   rxctf378968 7656463sdfg                  0.02806   \n381   rxctf378968 7656463sdfg                  0.01835   \n416                     467.8                  0.04861   \n487                     929.4                  0.04252   \n525                     948.0                   0.1438   \n549                     651.0                   0.0996   \n614                     595.9                  0.03476   \n824                    1092.0                  0.03914   \n934                     656.1  rxctf378968 7656463sdfg   \n1014                    402.7                   0.0094   \n1128                    602.4                  0.03119   \n1199  rxctf378968 7656463sdfg  rxctf378968 7656463sdfg   \n1241  rxctf378968 7656463sdfg                  0.01988   \n1259  rxctf378968 7656463sdfg                  0.08158   \n1523                   1335.0                  0.02681   \n1578  rxctf378968 7656463sdfg                     18.0   \n1978                    302.4                   0.1197   \n\n                 texture_mean          concavity_worst  \\\n21    rxctf378968 7656463sdfg  rxctf378968 7656463sdfg   \n61                      21.87                    534.0   \n73                        NaN                      0.0   \n104                     21.56  rxctf378968 7656463sdfg   \n204                     19.32                   0.3508   \n237                     28.23                   0.1811   \n244                     26.57                    678.0   \n338                     18.52                   0.3157   \n381                     21.53                   0.1503   \n416                     17.68                   0.2403   \n487                     24.52                   0.6566   \n525                     25.56                   0.2803   \n549                     19.73                    222.0   \n614                     24.49                   0.3381   \n824   rxctf378968 7656463sdfg                   0.4634   \n934                     13.98  rxctf378968 7656463sdfg   \n1014                    16.03                  0.09823   \n1128                    17.05                   0.3209   \n1199                    24.27                   0.4819   \n1241  rxctf378968 7656463sdfg                   0.1091   \n1259  rxctf378968 7656463sdfg                   0.7727   \n1523                    17.35                   0.4159   \n1578                    17.12                   0.1256   \n1978  rxctf378968 7656463sdfg                   0.3486   \n\n                smoothness_se        concave points_se  ...  \\\n21                    0.00832                  0.01665  ...   \n61                   0.004631                  0.01241  ...   \n73    rxctf378968 7656463sdfg                      0.0  ...   \n104                  0.006804                  0.01712  ...   \n204                   0.00609                  0.01345  ...   \n237                  0.007334                 0.009166  ...   \n244   rxctf378968 7656463sdfg                  0.01567  ...   \n338   rxctf378968 7656463sdfg                   0.0142  ...   \n381   rxctf378968 7656463sdfg                 0.007711  ...   \n416                      0.01                  0.01167  ...   \n487                   0.00582                  0.01127  ...   \n525                   0.03113  rxctf378968 7656463sdfg  ...   \n549                  0.007762                  0.02771  ...   \n614                   0.00968  rxctf378968 7656463sdfg  ...   \n824                  0.007548  rxctf378968 7656463sdfg  ...   \n934                  0.009976                   0.0158  ...   \n1014                 0.009191                 0.006315  ...   \n1128                 0.006351                  0.01342  ...   \n1199                 0.006292                  0.01301  ...   \n1241                 0.003728                 0.007016  ...   \n1259                 0.005501  rxctf378968 7656463sdfg  ...   \n1523                 0.006211                  0.01232  ...   \n1578  rxctf378968 7656463sdfg                  0.01285  ...   \n1978  rxctf378968 7656463sdfg                   0.0246  ...   \n\n               concavity_mean            symmetry_mean  \\\n21    rxctf378968 7656463sdfg                    182.0   \n61    rxctf378968 7656463sdfg                     0.18   \n73    rxctf378968 7656463sdfg  rxctf378968 7656463sdfg   \n104                    0.1272                   0.2094   \n204   rxctf378968 7656463sdfg  rxctf378968 7656463sdfg   \n237                   0.04055  rxctf378968 7656463sdfg   \n244                    0.2487                   0.2395   \n338                    0.1335                   0.2132   \n381                   0.03328  rxctf378968 7656463sdfg   \n416                   0.07741  rxctf378968 7656463sdfg   \n487                    0.1692  rxctf378968 7656463sdfg   \n525                    0.1682                   0.1308   \n549                    0.1362                   0.1714   \n614                    0.1357  rxctf378968 7656463sdfg   \n824                     106.0                   0.1953   \n934                     145.0                   0.2086   \n1014                  0.02587                   0.1634   \n1128                  0.09789                   0.1908   \n1199                   0.2308                   0.1797   \n1241                  0.02045                   0.1607   \n1259                   0.1374                   0.1596   \n1523                   0.1527                   0.1571   \n1578                  0.04063                   0.1954   \n1978  rxctf378968 7656463sdfg                   0.1669   \n\n               symmetry_worst diagnosis     fractal_dimension_se  \\\n21                     0.2599         B                 0.003674   \n61                     0.2856         M                 0.002747   \n73                     0.2409         B                 0.003136   \n104   rxctf378968 7656463sdfg         M                 0.004045   \n204   rxctf378968 7656463sdfg         M                 0.002658   \n237   rxctf378968 7656463sdfg         B                 0.004302   \n244                    0.4098         M  rxctf378968 7656463sdfg   \n338                    0.3695         M                 0.003755   \n381                    0.2438         B  rxctf378968 7656463sdfg   \n416                    0.2556         B                 0.006005   \n487                    0.3313         M                 0.006299   \n525                    0.1603         M                  0.01256   \n549                    0.2272         B                  0.02286   \n614   rxctf378968 7656463sdfg         M                 0.006995   \n824                    0.3679         M                 0.004445   \n934                    0.2827         B                 0.005444   \n1014                   0.2851         B                 0.003009   \n1128                   0.3068         M                 0.002695   \n1199  rxctf378968 7656463sdfg         M                 0.003118   \n1241                   0.2542         B                  0.00197   \n1259  rxctf378968 7656463sdfg         B                 0.007555   \n1523                   0.2689         M                 0.001711   \n1578                    278.0         B                 0.008313   \n1978                   0.2614         B                  0.01792   \n\n               perimeter_mean        compactness_worst  \\\n21                      77.61                   0.1822   \n61                      182.1  rxctf378968 7656463sdfg   \n73    rxctf378968 7656463sdfg                  0.05213   \n104                     129.7                   0.3235   \n204                     115.1  rxctf378968 7656463sdfg   \n237                     76.77                   0.1856   \n244   rxctf378968 7656463sdfg                   0.7584   \n338   rxctf378968 7656463sdfg                   0.2089   \n381   rxctf378968 7656463sdfg                   0.2399   \n416                     81.47                   0.2629   \n487   rxctf378968 7656463sdfg                   0.7394   \n525                     114.5                   0.1793   \n549                     96.03                   0.2472   \n614                     92.33                   0.3966   \n824                     122.9                   0.4827   \n934                     98.22                   0.3635   \n1014  rxctf378968 7656463sdfg                    112.0   \n1128                    91.43                   0.3262   \n1199                    155.1                   0.2678   \n1241                    88.37                   0.1233   \n1259  rxctf378968 7656463sdfg                   0.5849   \n1523  rxctf378968 7656463sdfg  rxctf378968 7656463sdfg   \n1578                    71.25                   0.2031   \n1978                     64.6                    295.0   \n\n                  symmetry_se           compactness_se  \\\n21    rxctf378968 7656463sdfg  rxctf378968 7656463sdfg   \n61                    0.01575                  0.02537   \n73                    0.03141                 0.008243   \n104                   0.01897                  0.03169   \n204   rxctf378968 7656463sdfg  rxctf378968 7656463sdfg   \n237                   0.01745                  0.02589   \n244   rxctf378968 7656463sdfg                  0.04759   \n338                    0.0237                  0.01649   \n381   rxctf378968 7656463sdfg                  0.02507   \n416                   0.02187                  0.03295   \n487                   0.01527                  0.05616   \n525   rxctf378968 7656463sdfg  rxctf378968 7656463sdfg   \n549                   0.04077                   0.1064   \n614                   0.02434                  0.03856   \n824   rxctf378968 7656463sdfg                  0.03897   \n934   rxctf378968 7656463sdfg  rxctf378968 7656463sdfg   \n1014  rxctf378968 7656463sdfg                 0.008548   \n1128  rxctf378968 7656463sdfg  rxctf378968 7656463sdfg   \n1199  rxctf378968 7656463sdfg                  0.01971   \n1241                  0.01647                  0.01415   \n1259                  0.01266                  0.05592   \n1523  rxctf378968 7656463sdfg  rxctf378968 7656463sdfg   \n1578                   0.0222                  0.02348   \n1978  rxctf378968 7656463sdfg  rxctf378968 7656463sdfg   \n\n                    radius_se  \n21                     0.2623  \n61                     0.8361  \n73                     0.4455  \n104                    0.9553  \n204                    0.3971  \n237                    0.1912  \n244                    0.6298  \n338                    0.6997  \n381   rxctf378968 7656463sdfg  \n416                    0.1767  \n487                    0.5907  \n525                    0.5296  \n549                    0.8811  \n614                    0.4751  \n824   rxctf378968 7656463sdfg  \n934                    0.5462  \n1014                   0.1707  \n1128                    425.0  \n1199  rxctf378968 7656463sdfg  \n1241                   0.2541  \n1259                   0.2025  \n1523                   0.6137  \n1578                   0.1779  \n1978  rxctf378968 7656463sdfg  \n\n[24 rows x 31 columns]",
      "text/html": "<div>\n<style scoped>\n    .dataframe tbody tr th:only-of-type {\n        vertical-align: middle;\n    }\n\n    .dataframe tbody tr th {\n        vertical-align: top;\n    }\n\n    .dataframe thead th {\n        text-align: right;\n    }\n</style>\n<table border=\"1\" class=\"dataframe\">\n  <thead>\n    <tr style=\"text-align: right;\">\n      <th></th>\n      <th>perimeter_se</th>\n      <th>radius_worst</th>\n      <th>concave points_mean</th>\n      <th>smoothness_mean</th>\n      <th>area_mean</th>\n      <th>concavity_se</th>\n      <th>texture_mean</th>\n      <th>concavity_worst</th>\n      <th>smoothness_se</th>\n      <th>concave points_se</th>\n      <th>...</th>\n      <th>concavity_mean</th>\n      <th>symmetry_mean</th>\n      <th>symmetry_worst</th>\n      <th>diagnosis</th>\n      <th>fractal_dimension_se</th>\n      <th>perimeter_mean</th>\n      <th>compactness_worst</th>\n      <th>symmetry_se</th>\n      <th>compactness_se</th>\n      <th>radius_se</th>\n    </tr>\n  </thead>\n  <tbody>\n    <tr>\n      <th>21</th>\n      <td>rxctf378968 7656463sdfg</td>\n      <td>12.98</td>\n      <td>0.04274</td>\n      <td>103.0</td>\n      <td>441.3</td>\n      <td>0.02334</td>\n      <td>rxctf378968 7656463sdfg</td>\n      <td>rxctf378968 7656463sdfg</td>\n      <td>0.00832</td>\n      <td>0.01665</td>\n      <td>...</td>\n      <td>rxctf378968 7656463sdfg</td>\n      <td>182.0</td>\n      <td>0.2599</td>\n      <td>B</td>\n      <td>0.003674</td>\n      <td>77.61</td>\n      <td>0.1822</td>\n      <td>rxctf378968 7656463sdfg</td>\n      <td>rxctf378968 7656463sdfg</td>\n      <td>0.2623</td>\n    </tr>\n    <tr>\n      <th>61</th>\n      <td>rxctf378968 7656463sdfg</td>\n      <td>33.12</td>\n      <td>0.1878</td>\n      <td>0.1094</td>\n      <td>2250.0</td>\n      <td>rxctf378968 7656463sdfg</td>\n      <td>21.87</td>\n      <td>534.0</td>\n      <td>0.004631</td>\n      <td>0.01241</td>\n      <td>...</td>\n      <td>rxctf378968 7656463sdfg</td>\n      <td>0.18</td>\n      <td>0.2856</td>\n      <td>M</td>\n      <td>0.002747</td>\n      <td>182.1</td>\n      <td>rxctf378968 7656463sdfg</td>\n      <td>0.01575</td>\n      <td>0.02537</td>\n      <td>0.8361</td>\n    </tr>\n    <tr>\n      <th>73</th>\n      <td>rxctf378968 7656463sdfg</td>\n      <td>13.45</td>\n      <td>rxctf378968 7656463sdfg</td>\n      <td>NaN</td>\n      <td>NaN</td>\n      <td>rxctf378968 7656463sdfg</td>\n      <td>NaN</td>\n      <td>0.0</td>\n      <td>rxctf378968 7656463sdfg</td>\n      <td>0.0</td>\n      <td>...</td>\n      <td>rxctf378968 7656463sdfg</td>\n      <td>rxctf378968 7656463sdfg</td>\n      <td>0.2409</td>\n      <td>B</td>\n      <td>0.003136</td>\n      <td>rxctf378968 7656463sdfg</td>\n      <td>0.05213</td>\n      <td>0.03141</td>\n      <td>0.008243</td>\n      <td>0.4455</td>\n    </tr>\n    <tr>\n      <th>104</th>\n      <td>rxctf378968 7656463sdfg</td>\n      <td>25.73</td>\n      <td>0.08691</td>\n      <td>0.09383</td>\n      <td>1230.0</td>\n      <td>rxctf378968 7656463sdfg</td>\n      <td>21.56</td>\n      <td>rxctf378968 7656463sdfg</td>\n      <td>0.006804</td>\n      <td>0.01712</td>\n      <td>...</td>\n      <td>0.1272</td>\n      <td>0.2094</td>\n      <td>rxctf378968 7656463sdfg</td>\n      <td>M</td>\n      <td>0.004045</td>\n      <td>129.7</td>\n      <td>0.3235</td>\n      <td>0.01897</td>\n      <td>0.03169</td>\n      <td>0.9553</td>\n    </tr>\n    <tr>\n      <th>204</th>\n      <td>rxctf378968 7656463sdfg</td>\n      <td>20.42</td>\n      <td>rxctf378968 7656463sdfg</td>\n      <td>0.08968</td>\n      <td>951.6</td>\n      <td>0.02713</td>\n      <td>19.32</td>\n      <td>0.3508</td>\n      <td>0.00609</td>\n      <td>0.01345</td>\n      <td>...</td>\n      <td>rxctf378968 7656463sdfg</td>\n      <td>rxctf378968 7656463sdfg</td>\n      <td>rxctf378968 7656463sdfg</td>\n      <td>M</td>\n      <td>0.002658</td>\n      <td>115.1</td>\n      <td>rxctf378968 7656463sdfg</td>\n      <td>rxctf378968 7656463sdfg</td>\n      <td>rxctf378968 7656463sdfg</td>\n      <td>0.3971</td>\n    </tr>\n    <tr>\n      <th>237</th>\n      <td>rxctf378968 7656463sdfg</td>\n      <td>13.09</td>\n      <td>rxctf378968 7656463sdfg</td>\n      <td>0.08437</td>\n      <td>442.5</td>\n      <td>0.02941</td>\n      <td>28.23</td>\n      <td>0.1811</td>\n      <td>0.007334</td>\n      <td>0.009166</td>\n      <td>...</td>\n      <td>0.04055</td>\n      <td>rxctf378968 7656463sdfg</td>\n      <td>rxctf378968 7656463sdfg</td>\n      <td>B</td>\n      <td>0.004302</td>\n      <td>76.77</td>\n      <td>0.1856</td>\n      <td>0.01745</td>\n      <td>0.02589</td>\n      <td>0.1912</td>\n    </tr>\n    <tr>\n      <th>244</th>\n      <td>rxctf378968 7656463sdfg</td>\n      <td>26.68</td>\n      <td>0.1496</td>\n      <td>0.1141</td>\n      <td>1311.0</td>\n      <td>rxctf378968 7656463sdfg</td>\n      <td>26.57</td>\n      <td>678.0</td>\n      <td>rxctf378968 7656463sdfg</td>\n      <td>0.01567</td>\n      <td>...</td>\n      <td>0.2487</td>\n      <td>0.2395</td>\n      <td>0.4098</td>\n      <td>M</td>\n      <td>rxctf378968 7656463sdfg</td>\n      <td>rxctf378968 7656463sdfg</td>\n      <td>0.7584</td>\n      <td>rxctf378968 7656463sdfg</td>\n      <td>0.04759</td>\n      <td>0.6298</td>\n    </tr>\n    <tr>\n      <th>338</th>\n      <td>rxctf378968 7656463sdfg</td>\n      <td>22.93</td>\n      <td>0.08795</td>\n      <td>0.09874</td>\n      <td>rxctf378968 7656463sdfg</td>\n      <td>0.02806</td>\n      <td>18.52</td>\n      <td>0.3157</td>\n      <td>rxctf378968 7656463sdfg</td>\n      <td>0.0142</td>\n      <td>...</td>\n      <td>0.1335</td>\n      <td>0.2132</td>\n      <td>0.3695</td>\n      <td>M</td>\n      <td>0.003755</td>\n      <td>rxctf378968 7656463sdfg</td>\n      <td>0.2089</td>\n      <td>0.0237</td>\n      <td>0.01649</td>\n      <td>0.6997</td>\n    </tr>\n    <tr>\n      <th>381</th>\n      <td>rxctf378968 7656463sdfg</td>\n      <td>rxctf378968 7656463sdfg</td>\n      <td>rxctf378968 7656463sdfg</td>\n      <td>0.09768</td>\n      <td>rxctf378968 7656463sdfg</td>\n      <td>0.01835</td>\n      <td>21.53</td>\n      <td>0.1503</td>\n      <td>rxctf378968 7656463sdfg</td>\n      <td>0.007711</td>\n      <td>...</td>\n      <td>0.03328</td>\n      <td>rxctf378968 7656463sdfg</td>\n      <td>0.2438</td>\n      <td>B</td>\n      <td>rxctf378968 7656463sdfg</td>\n      <td>rxctf378968 7656463sdfg</td>\n      <td>0.2399</td>\n      <td>rxctf378968 7656463sdfg</td>\n      <td>0.02507</td>\n      <td>rxctf378968 7656463sdfg</td>\n    </tr>\n    <tr>\n      <th>416</th>\n      <td>rxctf378968 7656463sdfg</td>\n      <td>rxctf378968 7656463sdfg</td>\n      <td>rxctf378968 7656463sdfg</td>\n      <td>0.1054</td>\n      <td>467.8</td>\n      <td>0.04861</td>\n      <td>17.68</td>\n      <td>0.2403</td>\n      <td>0.01</td>\n      <td>0.01167</td>\n      <td>...</td>\n      <td>0.07741</td>\n      <td>rxctf378968 7656463sdfg</td>\n      <td>0.2556</td>\n      <td>B</td>\n      <td>0.006005</td>\n      <td>81.47</td>\n      <td>0.2629</td>\n      <td>0.02187</td>\n      <td>0.03295</td>\n      <td>0.1767</td>\n    </tr>\n    <tr>\n      <th>487</th>\n      <td>rxctf378968 7656463sdfg</td>\n      <td>23.32</td>\n      <td>0.07944</td>\n      <td>0.1071</td>\n      <td>929.4</td>\n      <td>0.04252</td>\n      <td>24.52</td>\n      <td>0.6566</td>\n      <td>0.00582</td>\n      <td>0.01127</td>\n      <td>...</td>\n      <td>0.1692</td>\n      <td>rxctf378968 7656463sdfg</td>\n      <td>0.3313</td>\n      <td>M</td>\n      <td>0.006299</td>\n      <td>rxctf378968 7656463sdfg</td>\n      <td>0.7394</td>\n      <td>0.01527</td>\n      <td>0.05616</td>\n      <td>0.5907</td>\n    </tr>\n    <tr>\n      <th>525</th>\n      <td>rxctf378968 7656463sdfg</td>\n      <td>rxctf378968 7656463sdfg</td>\n      <td>rxctf378968 7656463sdfg</td>\n      <td>0.1006</td>\n      <td>948.0</td>\n      <td>0.1438</td>\n      <td>25.56</td>\n      <td>0.2803</td>\n      <td>0.03113</td>\n      <td>rxctf378968 7656463sdfg</td>\n      <td>...</td>\n      <td>0.1682</td>\n      <td>0.1308</td>\n      <td>0.1603</td>\n      <td>M</td>\n      <td>0.01256</td>\n      <td>114.5</td>\n      <td>0.1793</td>\n      <td>rxctf378968 7656463sdfg</td>\n      <td>rxctf378968 7656463sdfg</td>\n      <td>0.5296</td>\n    </tr>\n    <tr>\n      <th>549</th>\n      <td>rxctf378968 7656463sdfg</td>\n      <td>15.77</td>\n      <td>rxctf378968 7656463sdfg</td>\n      <td>rxctf378968 7656463sdfg</td>\n      <td>651.0</td>\n      <td>0.0996</td>\n      <td>19.73</td>\n      <td>222.0</td>\n      <td>0.007762</td>\n      <td>0.02771</td>\n      <td>...</td>\n      <td>0.1362</td>\n      <td>0.1714</td>\n      <td>0.2272</td>\n      <td>B</td>\n      <td>0.02286</td>\n      <td>96.03</td>\n      <td>0.2472</td>\n      <td>0.04077</td>\n      <td>0.1064</td>\n      <td>0.8811</td>\n    </tr>\n    <tr>\n      <th>614</th>\n      <td>rxctf378968 7656463sdfg</td>\n      <td>rxctf378968 7656463sdfg</td>\n      <td>0.06759</td>\n      <td>0.1162</td>\n      <td>595.9</td>\n      <td>0.03476</td>\n      <td>24.49</td>\n      <td>0.3381</td>\n      <td>0.00968</td>\n      <td>rxctf378968 7656463sdfg</td>\n      <td>...</td>\n      <td>0.1357</td>\n      <td>rxctf378968 7656463sdfg</td>\n      <td>rxctf378968 7656463sdfg</td>\n      <td>M</td>\n      <td>0.006995</td>\n      <td>92.33</td>\n      <td>0.3966</td>\n      <td>0.02434</td>\n      <td>0.03856</td>\n      <td>0.4751</td>\n    </tr>\n    <tr>\n      <th>824</th>\n      <td>rxctf378968 7656463sdfg</td>\n      <td>24.54</td>\n      <td>rxctf378968 7656463sdfg</td>\n      <td>0.09116</td>\n      <td>1092.0</td>\n      <td>0.03914</td>\n      <td>rxctf378968 7656463sdfg</td>\n      <td>0.4634</td>\n      <td>0.007548</td>\n      <td>rxctf378968 7656463sdfg</td>\n      <td>...</td>\n      <td>106.0</td>\n      <td>0.1953</td>\n      <td>0.3679</td>\n      <td>M</td>\n      <td>0.004445</td>\n      <td>122.9</td>\n      <td>0.4827</td>\n      <td>rxctf378968 7656463sdfg</td>\n      <td>0.03897</td>\n      <td>rxctf378968 7656463sdfg</td>\n    </tr>\n    <tr>\n      <th>934</th>\n      <td>rxctf378968 7656463sdfg</td>\n      <td>rxctf378968 7656463sdfg</td>\n      <td>rxctf378968 7656463sdfg</td>\n      <td>0.1031</td>\n      <td>656.1</td>\n      <td>rxctf378968 7656463sdfg</td>\n      <td>13.98</td>\n      <td>rxctf378968 7656463sdfg</td>\n      <td>0.009976</td>\n      <td>0.0158</td>\n      <td>...</td>\n      <td>145.0</td>\n      <td>0.2086</td>\n      <td>0.2827</td>\n      <td>B</td>\n      <td>0.005444</td>\n      <td>98.22</td>\n      <td>0.3635</td>\n      <td>rxctf378968 7656463sdfg</td>\n      <td>rxctf378968 7656463sdfg</td>\n      <td>0.5462</td>\n    </tr>\n    <tr>\n      <th>1014</th>\n      <td>rxctf378968 7656463sdfg</td>\n      <td>12.51</td>\n      <td>0.02322</td>\n      <td>0.09076</td>\n      <td>402.7</td>\n      <td>0.0094</td>\n      <td>16.03</td>\n      <td>0.09823</td>\n      <td>0.009191</td>\n      <td>0.006315</td>\n      <td>...</td>\n      <td>0.02587</td>\n      <td>0.1634</td>\n      <td>0.2851</td>\n      <td>B</td>\n      <td>0.003009</td>\n      <td>rxctf378968 7656463sdfg</td>\n      <td>112.0</td>\n      <td>rxctf378968 7656463sdfg</td>\n      <td>0.008548</td>\n      <td>0.1707</td>\n    </tr>\n    <tr>\n      <th>1128</th>\n      <td>rxctf378968 7656463sdfg</td>\n      <td>rxctf378968 7656463sdfg</td>\n      <td>0.05246</td>\n      <td>0.1096</td>\n      <td>602.4</td>\n      <td>0.03119</td>\n      <td>17.05</td>\n      <td>0.3209</td>\n      <td>0.006351</td>\n      <td>0.01342</td>\n      <td>...</td>\n      <td>0.09789</td>\n      <td>0.1908</td>\n      <td>0.3068</td>\n      <td>M</td>\n      <td>0.002695</td>\n      <td>91.43</td>\n      <td>0.3262</td>\n      <td>rxctf378968 7656463sdfg</td>\n      <td>rxctf378968 7656463sdfg</td>\n      <td>425.0</td>\n    </tr>\n    <tr>\n      <th>1199</th>\n      <td>rxctf378968 7656463sdfg</td>\n      <td>rxctf378968 7656463sdfg</td>\n      <td>141.0</td>\n      <td>rxctf378968 7656463sdfg</td>\n      <td>rxctf378968 7656463sdfg</td>\n      <td>rxctf378968 7656463sdfg</td>\n      <td>24.27</td>\n      <td>0.4819</td>\n      <td>0.006292</td>\n      <td>0.01301</td>\n      <td>...</td>\n      <td>0.2308</td>\n      <td>0.1797</td>\n      <td>rxctf378968 7656463sdfg</td>\n      <td>M</td>\n      <td>0.003118</td>\n      <td>155.1</td>\n      <td>0.2678</td>\n      <td>rxctf378968 7656463sdfg</td>\n      <td>0.01971</td>\n      <td>rxctf378968 7656463sdfg</td>\n    </tr>\n    <tr>\n      <th>1241</th>\n      <td>rxctf378968 7656463sdfg</td>\n      <td>15.51</td>\n      <td>0.008507</td>\n      <td>0.07026</td>\n      <td>rxctf378968 7656463sdfg</td>\n      <td>0.01988</td>\n      <td>rxctf378968 7656463sdfg</td>\n      <td>0.1091</td>\n      <td>0.003728</td>\n      <td>0.007016</td>\n      <td>...</td>\n      <td>0.02045</td>\n      <td>0.1607</td>\n      <td>0.2542</td>\n      <td>B</td>\n      <td>0.00197</td>\n      <td>88.37</td>\n      <td>0.1233</td>\n      <td>0.01647</td>\n      <td>0.01415</td>\n      <td>0.2541</td>\n    </tr>\n    <tr>\n      <th>1259</th>\n      <td>rxctf378968 7656463sdfg</td>\n      <td>14.39</td>\n      <td>rxctf378968 7656463sdfg</td>\n      <td>0.0876</td>\n      <td>rxctf378968 7656463sdfg</td>\n      <td>0.08158</td>\n      <td>rxctf378968 7656463sdfg</td>\n      <td>0.7727</td>\n      <td>0.005501</td>\n      <td>rxctf378968 7656463sdfg</td>\n      <td>...</td>\n      <td>0.1374</td>\n      <td>0.1596</td>\n      <td>rxctf378968 7656463sdfg</td>\n      <td>B</td>\n      <td>0.007555</td>\n      <td>rxctf378968 7656463sdfg</td>\n      <td>0.5849</td>\n      <td>0.01266</td>\n      <td>0.05592</td>\n      <td>0.2025</td>\n    </tr>\n    <tr>\n      <th>1523</th>\n      <td>rxctf378968 7656463sdfg</td>\n      <td>25.37</td>\n      <td>0.08941</td>\n      <td>0.09446</td>\n      <td>1335.0</td>\n      <td>0.02681</td>\n      <td>17.35</td>\n      <td>0.4159</td>\n      <td>0.006211</td>\n      <td>0.01232</td>\n      <td>...</td>\n      <td>0.1527</td>\n      <td>0.1571</td>\n      <td>0.2689</td>\n      <td>M</td>\n      <td>0.001711</td>\n      <td>rxctf378968 7656463sdfg</td>\n      <td>rxctf378968 7656463sdfg</td>\n      <td>rxctf378968 7656463sdfg</td>\n      <td>rxctf378968 7656463sdfg</td>\n      <td>0.6137</td>\n    </tr>\n    <tr>\n      <th>1578</th>\n      <td>rxctf378968 7656463sdfg</td>\n      <td>11.69</td>\n      <td>rxctf378968 7656463sdfg</td>\n      <td>0.1194</td>\n      <td>rxctf378968 7656463sdfg</td>\n      <td>18.0</td>\n      <td>17.12</td>\n      <td>0.1256</td>\n      <td>rxctf378968 7656463sdfg</td>\n      <td>0.01285</td>\n      <td>...</td>\n      <td>0.04063</td>\n      <td>0.1954</td>\n      <td>278.0</td>\n      <td>B</td>\n      <td>0.008313</td>\n      <td>71.25</td>\n      <td>0.2031</td>\n      <td>0.0222</td>\n      <td>0.02348</td>\n      <td>0.1779</td>\n    </tr>\n    <tr>\n      <th>1978</th>\n      <td>rxctf378968 7656463sdfg</td>\n      <td>11.26</td>\n      <td>0.03716</td>\n      <td>0.09699</td>\n      <td>302.4</td>\n      <td>0.1197</td>\n      <td>rxctf378968 7656463sdfg</td>\n      <td>0.3486</td>\n      <td>rxctf378968 7656463sdfg</td>\n      <td>0.0246</td>\n      <td>...</td>\n      <td>rxctf378968 7656463sdfg</td>\n      <td>0.1669</td>\n      <td>0.2614</td>\n      <td>B</td>\n      <td>0.01792</td>\n      <td>64.6</td>\n      <td>295.0</td>\n      <td>rxctf378968 7656463sdfg</td>\n      <td>rxctf378968 7656463sdfg</td>\n      <td>rxctf378968 7656463sdfg</td>\n    </tr>\n  </tbody>\n</table>\n<p>24 rows × 31 columns</p>\n</div>"
     },
     "execution_count": 385,
     "metadata": {},
     "output_type": "execute_result"
    }
   ],
   "source": [
    "mask_perimeter"
   ],
   "metadata": {
    "collapsed": false,
    "pycharm": {
     "name": "#%%\n"
    }
   }
  },
  {
   "cell_type": "code",
   "execution_count": 386,
   "outputs": [
    {
     "name": "stderr",
     "output_type": "stream",
     "text": [
      "C:\\Users\\NICON\\AppData\\Local\\Temp\\ipykernel_10184\\1416447368.py:1: SettingWithCopyWarning: \n",
      "A value is trying to be set on a copy of a slice from a DataFrame\n",
      "\n",
      "See the caveats in the documentation: https://pandas.pydata.org/pandas-docs/stable/user_guide/indexing.html#returning-a-view-versus-a-copy\n",
      "  df.drop(df[df['perimeter_se']=='rxctf378968 7656463sdfg'].index,inplace=True,axis=0)\n"
     ]
    }
   ],
   "source": [
    "df.drop(df[df['perimeter_se']=='rxctf378968 7656463sdfg'].index,inplace=True,axis=0)\n"
   ],
   "metadata": {
    "collapsed": false,
    "pycharm": {
     "name": "#%%\n"
    }
   }
  },
  {
   "cell_type": "code",
   "execution_count": 387,
   "outputs": [
    {
     "data": {
      "text/plain": "-88888765432345.0    15\n1778.0                6\n1143.0                4\n1535.0                4\n2155.0                4\n                     ..\n2393.0                1\n1974.0                1\n1606.0                1\n2806.0                1\n4795.0                1\nName: perimeter_se, Length: 506, dtype: int64"
     },
     "execution_count": 387,
     "metadata": {},
     "output_type": "execute_result"
    }
   ],
   "source": [
    "df.perimeter_se.value_counts()"
   ],
   "metadata": {
    "collapsed": false,
    "pycharm": {
     "name": "#%%\n"
    }
   }
  },
  {
   "cell_type": "code",
   "execution_count": 388,
   "outputs": [],
   "source": [
    "mask_perimeter=df[df['perimeter_se']=='-88888765432345.0']\n"
   ],
   "metadata": {
    "collapsed": false,
    "pycharm": {
     "name": "#%%\n"
    }
   }
  },
  {
   "cell_type": "code",
   "execution_count": 389,
   "outputs": [
    {
     "data": {
      "text/plain": "           perimeter_se radius_worst concave points_mean    smoothness_mean  \\\n50    -88888765432345.0         14.9              0.0287            0.07466   \n67    -88888765432345.0        19.82             0.04178  -88888765432345.0   \n84    -88888765432345.0        19.19             0.03323  -88888765432345.0   \n125   -88888765432345.0        20.33              0.1469  -88888765432345.0   \n206   -88888765432345.0        13.15             0.03003             0.1152   \n314   -88888765432345.0        15.33             0.01896             0.0907   \n501   -88888765432345.0        23.15              0.1244             0.1064   \n842   -88888765432345.0        22.51             0.08811            0.09812   \n898   -88888765432345.0        25.58               131.0             0.1007   \n925   -88888765432345.0        24.47              0.0834            0.09159   \n1131  -88888765432345.0        13.59             0.02331            0.08654   \n1437  -88888765432345.0        23.24             0.09561             0.0909   \n2148  -88888765432345.0        11.88             0.02642            0.09688   \n2177  -88888765432345.0        15.66             0.02944            0.08458   \n2361  -88888765432345.0        15.53             0.05439             0.1016   \n\n              area_mean       concavity_se       texture_mean  \\\n50    -88888765432345.0            0.01564  -88888765432345.0   \n67    -88888765432345.0            0.01153              13.23   \n84    -88888765432345.0            0.01101  -88888765432345.0   \n125              1132.0            0.02134  -88888765432345.0   \n206               432.8  -88888765432345.0  -88888765432345.0   \n314               603.4           0.007302              21.25   \n501              1088.0            0.05196              25.11   \n842   -88888765432345.0            0.02602              39.28   \n898              1364.0            0.09518              23.56   \n925              1319.0            0.03457              27.81   \n1131              460.3  -88888765432345.0              17.94   \n1437             1290.0            0.05489  -88888765432345.0   \n2148              346.4            0.03354              18.95   \n2177              611.2            0.01608              15.98   \n2361              559.2  -88888765432345.0              20.82   \n\n        concavity_worst      smoothness_se  concave points_se  ...  \\\n50               0.1876           0.005969  -88888765432345.0  ...   \n67    -88888765432345.0  -88888765432345.0           0.007437  ...   \n84    -88888765432345.0           0.004029           0.007591  ...   \n125   -88888765432345.0           0.007545            0.01843  ...   \n206              0.0942            0.01017  -88888765432345.0  ...   \n314   -88888765432345.0           0.007389            0.01004  ...   \n501              0.6133  -88888765432345.0            0.01158  ...   \n842              0.3241            0.00486            0.01374  ...   \n898              0.6991  -88888765432345.0            0.01864  ...   \n925              0.4146  -88888765432345.0  -88888765432345.0  ...   \n1131             0.1943           0.005518           0.007924  ...   \n1437             0.3861  -88888765432345.0  -88888765432345.0  ...   \n2148             0.1916            0.00747            0.01365  ...   \n2177             0.1117  -88888765432345.0           0.009046  ...   \n2361              503.0           0.005367            0.01262  ...   \n\n     concavity_mean      symmetry_mean     symmetry_worst diagnosis  \\\n50          0.04859             0.1454             0.2235         B   \n67          0.04445              122.0  -88888765432345.0         B   \n84          0.03299  -88888765432345.0             0.2948         M   \n125          0.1937             0.1634             0.2311         M   \n206          0.0371             0.1995             0.2727         B   \n314         0.01462             0.1517             0.2226         B   \n501          0.2319             0.2183             0.3444         M   \n842          0.1417             0.1809             0.2853         M   \n898          0.2712             0.2205             0.3126         M   \n925          0.1554  -88888765432345.0  -88888765432345.0         M   \n1131        0.03885              197.0             0.3113         B   \n1437          164.0  -88888765432345.0             0.2909         M   \n2148        0.06387             0.1922              294.0         B   \n2177        0.03534             0.1714             0.2725         B   \n2361         0.1063              172.0             0.2807         M   \n\n     fractal_dimension_se     perimeter_mean  compactness_worst  \\\n50               0.001672              84.28             0.1965   \n67               0.001309  -88888765432345.0            0.09976   \n84      -88888765432345.0              102.7             0.1551   \n125     -88888765432345.0              129.1             0.2817   \n206              0.009423              78.11             0.2517   \n314              0.002925              89.79             0.1513   \n501               0.00456              124.8             0.4257   \n842              0.002759  -88888765432345.0             0.3735   \n898              0.005002  -88888765432345.0             0.3172   \n925              0.002887  -88888765432345.0  -88888765432345.0   \n1131             0.002484              78.27             0.1788   \n1437             0.002365              134.7  -88888765432345.0   \n2148             0.003318              69.28  -88888765432345.0   \n2177              0.00283              89.78             0.1252   \n2361    -88888765432345.0  -88888765432345.0             0.4225   \n\n            symmetry_se     compactness_se          radius_se  \n50              0.01093            0.01493             0.2023  \n67              0.01302           0.008274             0.4834  \n84               0.0146           0.009269             0.3795  \n125             0.03056  -88888765432345.0              519.0  \n206             0.03127            0.04741             0.3962  \n314             0.01263            0.01383  -88888765432345.0  \n501             0.02007            0.03374  -88888765432345.0  \n842             0.01226            0.02785             0.5366  \n898             0.02401  -88888765432345.0             1004.0  \n925   -88888765432345.0            0.02062  -88888765432345.0  \n1131            0.01799            0.01562               0.22  \n1437  -88888765432345.0            0.03611             0.8601  \n2148            0.03504            0.03581  -88888765432345.0  \n2177            0.02005  -88888765432345.0             0.3892  \n2361            0.01377            0.02239  -88888765432345.0  \n\n[15 rows x 31 columns]",
      "text/html": "<div>\n<style scoped>\n    .dataframe tbody tr th:only-of-type {\n        vertical-align: middle;\n    }\n\n    .dataframe tbody tr th {\n        vertical-align: top;\n    }\n\n    .dataframe thead th {\n        text-align: right;\n    }\n</style>\n<table border=\"1\" class=\"dataframe\">\n  <thead>\n    <tr style=\"text-align: right;\">\n      <th></th>\n      <th>perimeter_se</th>\n      <th>radius_worst</th>\n      <th>concave points_mean</th>\n      <th>smoothness_mean</th>\n      <th>area_mean</th>\n      <th>concavity_se</th>\n      <th>texture_mean</th>\n      <th>concavity_worst</th>\n      <th>smoothness_se</th>\n      <th>concave points_se</th>\n      <th>...</th>\n      <th>concavity_mean</th>\n      <th>symmetry_mean</th>\n      <th>symmetry_worst</th>\n      <th>diagnosis</th>\n      <th>fractal_dimension_se</th>\n      <th>perimeter_mean</th>\n      <th>compactness_worst</th>\n      <th>symmetry_se</th>\n      <th>compactness_se</th>\n      <th>radius_se</th>\n    </tr>\n  </thead>\n  <tbody>\n    <tr>\n      <th>50</th>\n      <td>-88888765432345.0</td>\n      <td>14.9</td>\n      <td>0.0287</td>\n      <td>0.07466</td>\n      <td>-88888765432345.0</td>\n      <td>0.01564</td>\n      <td>-88888765432345.0</td>\n      <td>0.1876</td>\n      <td>0.005969</td>\n      <td>-88888765432345.0</td>\n      <td>...</td>\n      <td>0.04859</td>\n      <td>0.1454</td>\n      <td>0.2235</td>\n      <td>B</td>\n      <td>0.001672</td>\n      <td>84.28</td>\n      <td>0.1965</td>\n      <td>0.01093</td>\n      <td>0.01493</td>\n      <td>0.2023</td>\n    </tr>\n    <tr>\n      <th>67</th>\n      <td>-88888765432345.0</td>\n      <td>19.82</td>\n      <td>0.04178</td>\n      <td>-88888765432345.0</td>\n      <td>-88888765432345.0</td>\n      <td>0.01153</td>\n      <td>13.23</td>\n      <td>-88888765432345.0</td>\n      <td>-88888765432345.0</td>\n      <td>0.007437</td>\n      <td>...</td>\n      <td>0.04445</td>\n      <td>122.0</td>\n      <td>-88888765432345.0</td>\n      <td>B</td>\n      <td>0.001309</td>\n      <td>-88888765432345.0</td>\n      <td>0.09976</td>\n      <td>0.01302</td>\n      <td>0.008274</td>\n      <td>0.4834</td>\n    </tr>\n    <tr>\n      <th>84</th>\n      <td>-88888765432345.0</td>\n      <td>19.19</td>\n      <td>0.03323</td>\n      <td>-88888765432345.0</td>\n      <td>-88888765432345.0</td>\n      <td>0.01101</td>\n      <td>-88888765432345.0</td>\n      <td>-88888765432345.0</td>\n      <td>0.004029</td>\n      <td>0.007591</td>\n      <td>...</td>\n      <td>0.03299</td>\n      <td>-88888765432345.0</td>\n      <td>0.2948</td>\n      <td>M</td>\n      <td>-88888765432345.0</td>\n      <td>102.7</td>\n      <td>0.1551</td>\n      <td>0.0146</td>\n      <td>0.009269</td>\n      <td>0.3795</td>\n    </tr>\n    <tr>\n      <th>125</th>\n      <td>-88888765432345.0</td>\n      <td>20.33</td>\n      <td>0.1469</td>\n      <td>-88888765432345.0</td>\n      <td>1132.0</td>\n      <td>0.02134</td>\n      <td>-88888765432345.0</td>\n      <td>-88888765432345.0</td>\n      <td>0.007545</td>\n      <td>0.01843</td>\n      <td>...</td>\n      <td>0.1937</td>\n      <td>0.1634</td>\n      <td>0.2311</td>\n      <td>M</td>\n      <td>-88888765432345.0</td>\n      <td>129.1</td>\n      <td>0.2817</td>\n      <td>0.03056</td>\n      <td>-88888765432345.0</td>\n      <td>519.0</td>\n    </tr>\n    <tr>\n      <th>206</th>\n      <td>-88888765432345.0</td>\n      <td>13.15</td>\n      <td>0.03003</td>\n      <td>0.1152</td>\n      <td>432.8</td>\n      <td>-88888765432345.0</td>\n      <td>-88888765432345.0</td>\n      <td>0.0942</td>\n      <td>0.01017</td>\n      <td>-88888765432345.0</td>\n      <td>...</td>\n      <td>0.0371</td>\n      <td>0.1995</td>\n      <td>0.2727</td>\n      <td>B</td>\n      <td>0.009423</td>\n      <td>78.11</td>\n      <td>0.2517</td>\n      <td>0.03127</td>\n      <td>0.04741</td>\n      <td>0.3962</td>\n    </tr>\n    <tr>\n      <th>314</th>\n      <td>-88888765432345.0</td>\n      <td>15.33</td>\n      <td>0.01896</td>\n      <td>0.0907</td>\n      <td>603.4</td>\n      <td>0.007302</td>\n      <td>21.25</td>\n      <td>-88888765432345.0</td>\n      <td>0.007389</td>\n      <td>0.01004</td>\n      <td>...</td>\n      <td>0.01462</td>\n      <td>0.1517</td>\n      <td>0.2226</td>\n      <td>B</td>\n      <td>0.002925</td>\n      <td>89.79</td>\n      <td>0.1513</td>\n      <td>0.01263</td>\n      <td>0.01383</td>\n      <td>-88888765432345.0</td>\n    </tr>\n    <tr>\n      <th>501</th>\n      <td>-88888765432345.0</td>\n      <td>23.15</td>\n      <td>0.1244</td>\n      <td>0.1064</td>\n      <td>1088.0</td>\n      <td>0.05196</td>\n      <td>25.11</td>\n      <td>0.6133</td>\n      <td>-88888765432345.0</td>\n      <td>0.01158</td>\n      <td>...</td>\n      <td>0.2319</td>\n      <td>0.2183</td>\n      <td>0.3444</td>\n      <td>M</td>\n      <td>0.00456</td>\n      <td>124.8</td>\n      <td>0.4257</td>\n      <td>0.02007</td>\n      <td>0.03374</td>\n      <td>-88888765432345.0</td>\n    </tr>\n    <tr>\n      <th>842</th>\n      <td>-88888765432345.0</td>\n      <td>22.51</td>\n      <td>0.08811</td>\n      <td>0.09812</td>\n      <td>-88888765432345.0</td>\n      <td>0.02602</td>\n      <td>39.28</td>\n      <td>0.3241</td>\n      <td>0.00486</td>\n      <td>0.01374</td>\n      <td>...</td>\n      <td>0.1417</td>\n      <td>0.1809</td>\n      <td>0.2853</td>\n      <td>M</td>\n      <td>0.002759</td>\n      <td>-88888765432345.0</td>\n      <td>0.3735</td>\n      <td>0.01226</td>\n      <td>0.02785</td>\n      <td>0.5366</td>\n    </tr>\n    <tr>\n      <th>898</th>\n      <td>-88888765432345.0</td>\n      <td>25.58</td>\n      <td>131.0</td>\n      <td>0.1007</td>\n      <td>1364.0</td>\n      <td>0.09518</td>\n      <td>23.56</td>\n      <td>0.6991</td>\n      <td>-88888765432345.0</td>\n      <td>0.01864</td>\n      <td>...</td>\n      <td>0.2712</td>\n      <td>0.2205</td>\n      <td>0.3126</td>\n      <td>M</td>\n      <td>0.005002</td>\n      <td>-88888765432345.0</td>\n      <td>0.3172</td>\n      <td>0.02401</td>\n      <td>-88888765432345.0</td>\n      <td>1004.0</td>\n    </tr>\n    <tr>\n      <th>925</th>\n      <td>-88888765432345.0</td>\n      <td>24.47</td>\n      <td>0.0834</td>\n      <td>0.09159</td>\n      <td>1319.0</td>\n      <td>0.03457</td>\n      <td>27.81</td>\n      <td>0.4146</td>\n      <td>-88888765432345.0</td>\n      <td>-88888765432345.0</td>\n      <td>...</td>\n      <td>0.1554</td>\n      <td>-88888765432345.0</td>\n      <td>-88888765432345.0</td>\n      <td>M</td>\n      <td>0.002887</td>\n      <td>-88888765432345.0</td>\n      <td>-88888765432345.0</td>\n      <td>-88888765432345.0</td>\n      <td>0.02062</td>\n      <td>-88888765432345.0</td>\n    </tr>\n    <tr>\n      <th>1131</th>\n      <td>-88888765432345.0</td>\n      <td>13.59</td>\n      <td>0.02331</td>\n      <td>0.08654</td>\n      <td>460.3</td>\n      <td>-88888765432345.0</td>\n      <td>17.94</td>\n      <td>0.1943</td>\n      <td>0.005518</td>\n      <td>0.007924</td>\n      <td>...</td>\n      <td>0.03885</td>\n      <td>197.0</td>\n      <td>0.3113</td>\n      <td>B</td>\n      <td>0.002484</td>\n      <td>78.27</td>\n      <td>0.1788</td>\n      <td>0.01799</td>\n      <td>0.01562</td>\n      <td>0.22</td>\n    </tr>\n    <tr>\n      <th>1437</th>\n      <td>-88888765432345.0</td>\n      <td>23.24</td>\n      <td>0.09561</td>\n      <td>0.0909</td>\n      <td>1290.0</td>\n      <td>0.05489</td>\n      <td>-88888765432345.0</td>\n      <td>0.3861</td>\n      <td>-88888765432345.0</td>\n      <td>-88888765432345.0</td>\n      <td>...</td>\n      <td>164.0</td>\n      <td>-88888765432345.0</td>\n      <td>0.2909</td>\n      <td>M</td>\n      <td>0.002365</td>\n      <td>134.7</td>\n      <td>-88888765432345.0</td>\n      <td>-88888765432345.0</td>\n      <td>0.03611</td>\n      <td>0.8601</td>\n    </tr>\n    <tr>\n      <th>2148</th>\n      <td>-88888765432345.0</td>\n      <td>11.88</td>\n      <td>0.02642</td>\n      <td>0.09688</td>\n      <td>346.4</td>\n      <td>0.03354</td>\n      <td>18.95</td>\n      <td>0.1916</td>\n      <td>0.00747</td>\n      <td>0.01365</td>\n      <td>...</td>\n      <td>0.06387</td>\n      <td>0.1922</td>\n      <td>294.0</td>\n      <td>B</td>\n      <td>0.003318</td>\n      <td>69.28</td>\n      <td>-88888765432345.0</td>\n      <td>0.03504</td>\n      <td>0.03581</td>\n      <td>-88888765432345.0</td>\n    </tr>\n    <tr>\n      <th>2177</th>\n      <td>-88888765432345.0</td>\n      <td>15.66</td>\n      <td>0.02944</td>\n      <td>0.08458</td>\n      <td>611.2</td>\n      <td>0.01608</td>\n      <td>15.98</td>\n      <td>0.1117</td>\n      <td>-88888765432345.0</td>\n      <td>0.009046</td>\n      <td>...</td>\n      <td>0.03534</td>\n      <td>0.1714</td>\n      <td>0.2725</td>\n      <td>B</td>\n      <td>0.00283</td>\n      <td>89.78</td>\n      <td>0.1252</td>\n      <td>0.02005</td>\n      <td>-88888765432345.0</td>\n      <td>0.3892</td>\n    </tr>\n    <tr>\n      <th>2361</th>\n      <td>-88888765432345.0</td>\n      <td>15.53</td>\n      <td>0.05439</td>\n      <td>0.1016</td>\n      <td>559.2</td>\n      <td>-88888765432345.0</td>\n      <td>20.82</td>\n      <td>503.0</td>\n      <td>0.005367</td>\n      <td>0.01262</td>\n      <td>...</td>\n      <td>0.1063</td>\n      <td>172.0</td>\n      <td>0.2807</td>\n      <td>M</td>\n      <td>-88888765432345.0</td>\n      <td>-88888765432345.0</td>\n      <td>0.4225</td>\n      <td>0.01377</td>\n      <td>0.02239</td>\n      <td>-88888765432345.0</td>\n    </tr>\n  </tbody>\n</table>\n<p>15 rows × 31 columns</p>\n</div>"
     },
     "execution_count": 389,
     "metadata": {},
     "output_type": "execute_result"
    }
   ],
   "source": [
    "mask_perimeter"
   ],
   "metadata": {
    "collapsed": false,
    "pycharm": {
     "name": "#%%\n"
    }
   }
  },
  {
   "cell_type": "code",
   "execution_count": 390,
   "outputs": [
    {
     "data": {
      "text/plain": "-88888765432345.0    15\n1778.0                6\n1143.0                4\n1535.0                4\n2155.0                4\n                     ..\n2393.0                1\n1974.0                1\n1606.0                1\n2806.0                1\n4795.0                1\nName: perimeter_se, Length: 506, dtype: int64"
     },
     "execution_count": 390,
     "metadata": {},
     "output_type": "execute_result"
    }
   ],
   "source": [
    "df['perimeter_se'].value_counts()"
   ],
   "metadata": {
    "collapsed": false,
    "pycharm": {
     "name": "#%%\n"
    }
   }
  },
  {
   "cell_type": "code",
   "execution_count": 391,
   "outputs": [
    {
     "name": "stderr",
     "output_type": "stream",
     "text": [
      "C:\\Users\\NICON\\AppData\\Local\\Temp\\ipykernel_10184\\4186382760.py:1: SettingWithCopyWarning: \n",
      "A value is trying to be set on a copy of a slice from a DataFrame\n",
      "\n",
      "See the caveats in the documentation: https://pandas.pydata.org/pandas-docs/stable/user_guide/indexing.html#returning-a-view-versus-a-copy\n",
      "  df.drop(df[df['perimeter_se']=='-88888765432345.0'].index,inplace=True,axis=0)\n"
     ]
    }
   ],
   "source": [
    "df.drop(df[df['perimeter_se']=='-88888765432345.0'].index,inplace=True,axis=0)\n"
   ],
   "metadata": {
    "collapsed": false,
    "pycharm": {
     "name": "#%%\n"
    }
   }
  },
  {
   "cell_type": "code",
   "execution_count": 392,
   "outputs": [
    {
     "data": {
      "text/plain": "1         1.83\n2       1144.0\n4       2183.0\n5       2225.0\n7       1103.0\n         ...  \n3882    2355.0\n3900    0.9857\n3908    2903.0\n3929    4795.0\n3933       NaN\nName: perimeter_se, Length: 908, dtype: object"
     },
     "execution_count": 392,
     "metadata": {},
     "output_type": "execute_result"
    }
   ],
   "source": [
    "df['perimeter_se']"
   ],
   "metadata": {
    "collapsed": false,
    "pycharm": {
     "name": "#%%\n"
    }
   }
  },
  {
   "cell_type": "code",
   "execution_count": 393,
   "outputs": [
    {
     "name": "stderr",
     "output_type": "stream",
     "text": [
      "C:\\Users\\NICON\\AppData\\Local\\Temp\\ipykernel_10184\\2575701362.py:1: SettingWithCopyWarning: \n",
      "A value is trying to be set on a copy of a slice from a DataFrame.\n",
      "Try using .loc[row_indexer,col_indexer] = value instead\n",
      "\n",
      "See the caveats in the documentation: https://pandas.pydata.org/pandas-docs/stable/user_guide/indexing.html#returning-a-view-versus-a-copy\n",
      "  df['perimeter_se']=df['perimeter_se'].astype(str).astype(float)\n"
     ]
    }
   ],
   "source": [
    "df['perimeter_se']=df['perimeter_se'].astype(str).astype(float)"
   ],
   "metadata": {
    "collapsed": false,
    "pycharm": {
     "name": "#%%\n"
    }
   }
  },
  {
   "cell_type": "code",
   "execution_count": 394,
   "outputs": [
    {
     "data": {
      "text/plain": "count     814.000000\nmean     2551.440575\nstd      1813.414356\nmin         0.771400\n25%      1471.000000\n50%      2108.500000\n75%      3176.000000\nmax      9807.000000\nName: perimeter_se, dtype: float64"
     },
     "execution_count": 394,
     "metadata": {},
     "output_type": "execute_result"
    }
   ],
   "source": [
    "df['perimeter_se'].describe()"
   ],
   "metadata": {
    "collapsed": false,
    "pycharm": {
     "name": "#%%\n"
    }
   }
  },
  {
   "cell_type": "code",
   "execution_count": 395,
   "outputs": [
    {
     "data": {
      "text/plain": "      perimeter_se       radius_worst concave points_mean    smoothness_mean  \\\n1           1.8300  999765432456788.0             0.03711            0.09516   \n2        1144.0000             9699.0            0.003472  -88888765432345.0   \n4        2183.0000                NaN             0.02278            0.09524   \n5        2225.0000              13.28             0.01162            0.07561   \n7        1103.0000              12.82             0.02623            0.09373   \n...            ...                ...                 ...                ...   \n3882     2355.0000                NaN              0.0325              115.0   \n3900        0.9857                NaN             0.02166             0.1096   \n3908     2903.0000              16.84             0.05364            0.08401   \n3929     4795.0000              16.46                63.0             0.1031   \n3933           NaN             9456.0                 0.0            0.05263   \n\n     area_mean concavity_se texture_mean concavity_worst smoothness_se  \\\n1        587.4      0.01457        15.18          0.1456      0.004235   \n2        246.3     0.003681         14.4         0.01472      0.007389   \n4        409.0      0.01349        18.75             NaN      0.008328   \n5        421.0     0.005949        17.07         0.03046      0.006583   \n7        403.3      0.01514        10.82          0.2102           NaN   \n...        ...          ...          ...             ...           ...   \n3882     420.3          NaN        15.45          0.1087      0.009536   \n3900     453.1          NaN        20.04          0.3535      0.006272   \n3908       NaN      0.05051        23.95          0.2322      0.009769   \n3929     656.1          NaN        13.98          0.3219      0.009976   \n3933     181.0          NaN        24.54             0.0      0.007189   \n\n      concave points_se  ...     concavity_mean      symmetry_mean  \\\n1     999765432456788.0  ...  999765432456788.0              211.0   \n2              0.003472  ...           0.003681  -88888765432345.0   \n4               0.00867  ...                NaN                NaN   \n5              0.006296  ...           0.008306             0.1671   \n7                   NaN  ...            0.03512             0.1667   \n...                 ...  ...                ...                ...   \n3882                NaN  ...            0.04006                NaN   \n3900                NaN  ...            0.08175                NaN   \n3908            0.01992  ...            0.09938             0.1847   \n3929             0.0158  ...                NaN             0.2086   \n3933                NaN  ...                NaN             0.1587   \n\n     symmetry_worst diagnosis fractal_dimension_se     perimeter_mean  \\\n1            0.2955         B             0.001593  999765432456788.0   \n2            0.2991         B             0.002153              56.36   \n4            0.3306         B             0.002386              73.34   \n5            0.2731         B             0.002668               73.7   \n7            0.3016         B             0.002206              73.34   \n...             ...       ...                  ...                ...   \n3882         0.2765         B               0.0031              75.03   \n3900         0.2709         B                  NaN                NaN   \n3908         0.2809         M             0.003002                NaN   \n3929         0.2827         B                  NaN              98.22   \n3933         0.2871         B             0.002783              47.92   \n\n     compactness_worst symmetry_se compactness_se          radius_se  \n1               0.1724     0.01528        0.01541  999765432456788.0  \n2              0.05232     0.02701       0.004883             0.1746  \n4                  NaN     0.03218       0.008722             0.3249  \n5              0.06476     0.02216       0.006991             0.3534  \n7                239.0     0.01344            NaN                NaN  \n...                ...         ...            ...                ...  \n3882               NaN     0.01953        0.01097             0.3446  \n3900            0.2315         NaN            NaN             0.1811  \n3908            0.1924     0.02981            NaN             0.4033  \n3929               NaN         NaN        0.05244             0.5462  \n3933           0.06444         NaN        0.00466             0.3857  \n\n[908 rows x 31 columns]",
      "text/html": "<div>\n<style scoped>\n    .dataframe tbody tr th:only-of-type {\n        vertical-align: middle;\n    }\n\n    .dataframe tbody tr th {\n        vertical-align: top;\n    }\n\n    .dataframe thead th {\n        text-align: right;\n    }\n</style>\n<table border=\"1\" class=\"dataframe\">\n  <thead>\n    <tr style=\"text-align: right;\">\n      <th></th>\n      <th>perimeter_se</th>\n      <th>radius_worst</th>\n      <th>concave points_mean</th>\n      <th>smoothness_mean</th>\n      <th>area_mean</th>\n      <th>concavity_se</th>\n      <th>texture_mean</th>\n      <th>concavity_worst</th>\n      <th>smoothness_se</th>\n      <th>concave points_se</th>\n      <th>...</th>\n      <th>concavity_mean</th>\n      <th>symmetry_mean</th>\n      <th>symmetry_worst</th>\n      <th>diagnosis</th>\n      <th>fractal_dimension_se</th>\n      <th>perimeter_mean</th>\n      <th>compactness_worst</th>\n      <th>symmetry_se</th>\n      <th>compactness_se</th>\n      <th>radius_se</th>\n    </tr>\n  </thead>\n  <tbody>\n    <tr>\n      <th>1</th>\n      <td>1.8300</td>\n      <td>999765432456788.0</td>\n      <td>0.03711</td>\n      <td>0.09516</td>\n      <td>587.4</td>\n      <td>0.01457</td>\n      <td>15.18</td>\n      <td>0.1456</td>\n      <td>0.004235</td>\n      <td>999765432456788.0</td>\n      <td>...</td>\n      <td>999765432456788.0</td>\n      <td>211.0</td>\n      <td>0.2955</td>\n      <td>B</td>\n      <td>0.001593</td>\n      <td>999765432456788.0</td>\n      <td>0.1724</td>\n      <td>0.01528</td>\n      <td>0.01541</td>\n      <td>999765432456788.0</td>\n    </tr>\n    <tr>\n      <th>2</th>\n      <td>1144.0000</td>\n      <td>9699.0</td>\n      <td>0.003472</td>\n      <td>-88888765432345.0</td>\n      <td>246.3</td>\n      <td>0.003681</td>\n      <td>14.4</td>\n      <td>0.01472</td>\n      <td>0.007389</td>\n      <td>0.003472</td>\n      <td>...</td>\n      <td>0.003681</td>\n      <td>-88888765432345.0</td>\n      <td>0.2991</td>\n      <td>B</td>\n      <td>0.002153</td>\n      <td>56.36</td>\n      <td>0.05232</td>\n      <td>0.02701</td>\n      <td>0.004883</td>\n      <td>0.1746</td>\n    </tr>\n    <tr>\n      <th>4</th>\n      <td>2183.0000</td>\n      <td>NaN</td>\n      <td>0.02278</td>\n      <td>0.09524</td>\n      <td>409.0</td>\n      <td>0.01349</td>\n      <td>18.75</td>\n      <td>NaN</td>\n      <td>0.008328</td>\n      <td>0.00867</td>\n      <td>...</td>\n      <td>NaN</td>\n      <td>NaN</td>\n      <td>0.3306</td>\n      <td>B</td>\n      <td>0.002386</td>\n      <td>73.34</td>\n      <td>NaN</td>\n      <td>0.03218</td>\n      <td>0.008722</td>\n      <td>0.3249</td>\n    </tr>\n    <tr>\n      <th>5</th>\n      <td>2225.0000</td>\n      <td>13.28</td>\n      <td>0.01162</td>\n      <td>0.07561</td>\n      <td>421.0</td>\n      <td>0.005949</td>\n      <td>17.07</td>\n      <td>0.03046</td>\n      <td>0.006583</td>\n      <td>0.006296</td>\n      <td>...</td>\n      <td>0.008306</td>\n      <td>0.1671</td>\n      <td>0.2731</td>\n      <td>B</td>\n      <td>0.002668</td>\n      <td>73.7</td>\n      <td>0.06476</td>\n      <td>0.02216</td>\n      <td>0.006991</td>\n      <td>0.3534</td>\n    </tr>\n    <tr>\n      <th>7</th>\n      <td>1103.0000</td>\n      <td>12.82</td>\n      <td>0.02623</td>\n      <td>0.09373</td>\n      <td>403.3</td>\n      <td>0.01514</td>\n      <td>10.82</td>\n      <td>0.2102</td>\n      <td>NaN</td>\n      <td>NaN</td>\n      <td>...</td>\n      <td>0.03512</td>\n      <td>0.1667</td>\n      <td>0.3016</td>\n      <td>B</td>\n      <td>0.002206</td>\n      <td>73.34</td>\n      <td>239.0</td>\n      <td>0.01344</td>\n      <td>NaN</td>\n      <td>NaN</td>\n    </tr>\n    <tr>\n      <th>...</th>\n      <td>...</td>\n      <td>...</td>\n      <td>...</td>\n      <td>...</td>\n      <td>...</td>\n      <td>...</td>\n      <td>...</td>\n      <td>...</td>\n      <td>...</td>\n      <td>...</td>\n      <td>...</td>\n      <td>...</td>\n      <td>...</td>\n      <td>...</td>\n      <td>...</td>\n      <td>...</td>\n      <td>...</td>\n      <td>...</td>\n      <td>...</td>\n      <td>...</td>\n      <td>...</td>\n    </tr>\n    <tr>\n      <th>3882</th>\n      <td>2355.0000</td>\n      <td>NaN</td>\n      <td>0.0325</td>\n      <td>115.0</td>\n      <td>420.3</td>\n      <td>NaN</td>\n      <td>15.45</td>\n      <td>0.1087</td>\n      <td>0.009536</td>\n      <td>NaN</td>\n      <td>...</td>\n      <td>0.04006</td>\n      <td>NaN</td>\n      <td>0.2765</td>\n      <td>B</td>\n      <td>0.0031</td>\n      <td>75.03</td>\n      <td>NaN</td>\n      <td>0.01953</td>\n      <td>0.01097</td>\n      <td>0.3446</td>\n    </tr>\n    <tr>\n      <th>3900</th>\n      <td>0.9857</td>\n      <td>NaN</td>\n      <td>0.02166</td>\n      <td>0.1096</td>\n      <td>453.1</td>\n      <td>NaN</td>\n      <td>20.04</td>\n      <td>0.3535</td>\n      <td>0.006272</td>\n      <td>NaN</td>\n      <td>...</td>\n      <td>0.08175</td>\n      <td>NaN</td>\n      <td>0.2709</td>\n      <td>B</td>\n      <td>NaN</td>\n      <td>NaN</td>\n      <td>0.2315</td>\n      <td>NaN</td>\n      <td>NaN</td>\n      <td>0.1811</td>\n    </tr>\n    <tr>\n      <th>3908</th>\n      <td>2903.0000</td>\n      <td>16.84</td>\n      <td>0.05364</td>\n      <td>0.08401</td>\n      <td>NaN</td>\n      <td>0.05051</td>\n      <td>23.95</td>\n      <td>0.2322</td>\n      <td>0.009769</td>\n      <td>0.01992</td>\n      <td>...</td>\n      <td>0.09938</td>\n      <td>0.1847</td>\n      <td>0.2809</td>\n      <td>M</td>\n      <td>0.003002</td>\n      <td>NaN</td>\n      <td>0.1924</td>\n      <td>0.02981</td>\n      <td>NaN</td>\n      <td>0.4033</td>\n    </tr>\n    <tr>\n      <th>3929</th>\n      <td>4795.0000</td>\n      <td>16.46</td>\n      <td>63.0</td>\n      <td>0.1031</td>\n      <td>656.1</td>\n      <td>NaN</td>\n      <td>13.98</td>\n      <td>0.3219</td>\n      <td>0.009976</td>\n      <td>0.0158</td>\n      <td>...</td>\n      <td>NaN</td>\n      <td>0.2086</td>\n      <td>0.2827</td>\n      <td>B</td>\n      <td>NaN</td>\n      <td>98.22</td>\n      <td>NaN</td>\n      <td>NaN</td>\n      <td>0.05244</td>\n      <td>0.5462</td>\n    </tr>\n    <tr>\n      <th>3933</th>\n      <td>NaN</td>\n      <td>9456.0</td>\n      <td>0.0</td>\n      <td>0.05263</td>\n      <td>181.0</td>\n      <td>NaN</td>\n      <td>24.54</td>\n      <td>0.0</td>\n      <td>0.007189</td>\n      <td>NaN</td>\n      <td>...</td>\n      <td>NaN</td>\n      <td>0.1587</td>\n      <td>0.2871</td>\n      <td>B</td>\n      <td>0.002783</td>\n      <td>47.92</td>\n      <td>0.06444</td>\n      <td>NaN</td>\n      <td>0.00466</td>\n      <td>0.3857</td>\n    </tr>\n  </tbody>\n</table>\n<p>908 rows × 31 columns</p>\n</div>"
     },
     "execution_count": 395,
     "metadata": {},
     "output_type": "execute_result"
    }
   ],
   "source": [
    "df"
   ],
   "metadata": {
    "collapsed": false,
    "pycharm": {
     "name": "#%%\n"
    }
   }
  },
  {
   "cell_type": "code",
   "execution_count": 396,
   "outputs": [
    {
     "data": {
      "text/plain": "0.0                        18\nrxctf378968 7656463sdfg    16\n-88888765432345.0          13\n999765432456788.0          13\n0.02864                     6\n                           ..\n0.03613                     1\n0.08488                     1\n0.03279                     1\n0.003333                    1\n63.0                        1\nName: concave points_mean, Length: 492, dtype: int64"
     },
     "execution_count": 396,
     "metadata": {},
     "output_type": "execute_result"
    }
   ],
   "source": [
    "df['concave points_mean'].value_counts()"
   ],
   "metadata": {
    "collapsed": false,
    "pycharm": {
     "name": "#%%\n"
    }
   }
  },
  {
   "cell_type": "code",
   "execution_count": 397,
   "outputs": [],
   "source": [
    "mask_concave=df[df['concave points_mean']=='-88888765432345.0']\n"
   ],
   "metadata": {
    "collapsed": false,
    "pycharm": {
     "name": "#%%\n"
    }
   }
  },
  {
   "cell_type": "code",
   "execution_count": 398,
   "outputs": [
    {
     "data": {
      "text/plain": "      perimeter_se       radius_worst concave points_mean    smoothness_mean  \\\n87          3479.0              18.22   -88888765432345.0            0.07445   \n271         6051.0              22.96   -88888765432345.0            0.09898   \n347         1954.0              12.36   -88888765432345.0            0.08713   \n385         4206.0  -88888765432345.0   -88888765432345.0             0.1085   \n414         2829.0              15.01   -88888765432345.0            0.08043   \n808         2765.0              22.63   -88888765432345.0             0.1015   \n1024        1819.0  -88888765432345.0   -88888765432345.0  -88888765432345.0   \n1067        5029.0              19.77   -88888765432345.0            0.09168   \n1161        4106.0  -88888765432345.0   -88888765432345.0            0.08772   \n1205        2873.0  -88888765432345.0   -88888765432345.0             0.1135   \n1383        4012.0               25.3   -88888765432345.0              117.0   \n2127        1937.0              12.78   -88888765432345.0             0.1092   \n2553        8077.0              14.99   -88888765432345.0            0.09387   \n\n              area_mean       concavity_se       texture_mean  \\\n87                880.2            0.03056              19.46   \n271   -88888765432345.0            0.02721              27.15   \n347               396.0            0.01376              18.89   \n385   -88888765432345.0            0.04062              21.24   \n414   -88888765432345.0            0.03371              23.77   \n808   -88888765432345.0            0.04755              25.12   \n1024              538.9            0.03047  -88888765432345.0   \n1067              817.7  -88888765432345.0  -88888765432345.0   \n1161  -88888765432345.0            0.01946              20.26   \n1205              519.4            0.01949              20.78   \n1383  -88888765432345.0  -88888765432345.0              21.51   \n2127              398.0  -88888765432345.0              17.31   \n2553              698.8            0.01818               25.2   \n\n        concavity_worst      smoothness_se  concave points_se  ...  \\\n87               0.1882           0.003443             0.0111  ...   \n271   -88888765432345.0            0.00874            0.01458  ...   \n347             0.07529           0.006538           0.009924  ...   \n385              0.5179           0.006666            0.01479  ...   \n414              0.1359           0.004351            0.01007  ...   \n808              0.5673           0.005033            0.01043  ...   \n1024  -88888765432345.0           0.008584           0.009536  ...   \n1067             0.2829            0.01082            0.01809  ...   \n1161             0.1932           0.005038            0.01123  ...   \n1205            0.08112  -88888765432345.0            0.01153  ...   \n1383             0.5344           0.005485            0.01369  ...   \n2127            0.07708           0.006664  -88888765432345.0  ...   \n2553            0.02398           0.006883            0.01917  ...   \n\n     concavity_mean      symmetry_mean     symmetry_worst diagnosis  \\\n87           0.0515             0.1844             0.2527         B   \n271          0.1007             0.1793  -88888765432345.0         M   \n347         0.02399             0.2013             0.3267         B   \n385          0.2188  -88888765432345.0              248.0         M   \n414         0.04697  -88888765432345.0             0.2663         B   \n808          0.2545             0.2202             0.3305         M   \n1024        0.09293             0.1822             0.3849         B   \n1067        0.09769             0.1798              265.0         M   \n1161         0.0695             0.2026             0.3275         M   \n1205        0.03136              254.0             0.3196         B   \n1383         0.2565             0.2569             0.5558         M   \n2127        0.02031             0.1645             0.2584         B   \n2553        0.02398  -88888765432345.0             0.1565         M   \n\n     fractal_dimension_se     perimeter_mean  compactness_worst  \\\n87               0.001519              108.4              171.0   \n271              0.004417              111.2             0.2444   \n347              0.002928              72.17            0.09708   \n385              0.003727              137.8             0.3597   \n414              0.003087              88.54             0.1442   \n808              0.003224              130.4             0.3861   \n1024             0.003479              85.31             0.2256   \n1067             0.001948  -88888765432345.0             0.2045   \n1161             0.002581              109.7  -88888765432345.0   \n1205             0.001533  -88888765432345.0             0.1105   \n1383             0.003345              135.9  -88888765432345.0   \n2127             0.003526              73.66  -88888765432345.0   \n2553             0.001754  -88888765432345.0            0.05131   \n\n            symmetry_se     compactness_se          radius_se  \n87               0.0152  -88888765432345.0  -88888765432345.0  \n271             0.02045            0.02219             0.9291  \n347             0.03416            0.01395             0.2656  \n385   -88888765432345.0            0.02791  -88888765432345.0  \n414             0.02598            0.02667             0.4347  \n808             0.01578            0.03179             0.4953  \n1024            0.02769            0.02017              271.0  \n1067             0.0155            0.02203             0.7474  \n1161            0.02294            0.01503             0.5858  \n1205            0.02951  -88888765432345.0             0.4202  \n1383            0.02768            0.02431             0.5702  \n2127            0.02282  -88888765432345.0  -88888765432345.0  \n2553           0.007882            0.01094             1214.0  \n\n[13 rows x 31 columns]",
      "text/html": "<div>\n<style scoped>\n    .dataframe tbody tr th:only-of-type {\n        vertical-align: middle;\n    }\n\n    .dataframe tbody tr th {\n        vertical-align: top;\n    }\n\n    .dataframe thead th {\n        text-align: right;\n    }\n</style>\n<table border=\"1\" class=\"dataframe\">\n  <thead>\n    <tr style=\"text-align: right;\">\n      <th></th>\n      <th>perimeter_se</th>\n      <th>radius_worst</th>\n      <th>concave points_mean</th>\n      <th>smoothness_mean</th>\n      <th>area_mean</th>\n      <th>concavity_se</th>\n      <th>texture_mean</th>\n      <th>concavity_worst</th>\n      <th>smoothness_se</th>\n      <th>concave points_se</th>\n      <th>...</th>\n      <th>concavity_mean</th>\n      <th>symmetry_mean</th>\n      <th>symmetry_worst</th>\n      <th>diagnosis</th>\n      <th>fractal_dimension_se</th>\n      <th>perimeter_mean</th>\n      <th>compactness_worst</th>\n      <th>symmetry_se</th>\n      <th>compactness_se</th>\n      <th>radius_se</th>\n    </tr>\n  </thead>\n  <tbody>\n    <tr>\n      <th>87</th>\n      <td>3479.0</td>\n      <td>18.22</td>\n      <td>-88888765432345.0</td>\n      <td>0.07445</td>\n      <td>880.2</td>\n      <td>0.03056</td>\n      <td>19.46</td>\n      <td>0.1882</td>\n      <td>0.003443</td>\n      <td>0.0111</td>\n      <td>...</td>\n      <td>0.0515</td>\n      <td>0.1844</td>\n      <td>0.2527</td>\n      <td>B</td>\n      <td>0.001519</td>\n      <td>108.4</td>\n      <td>171.0</td>\n      <td>0.0152</td>\n      <td>-88888765432345.0</td>\n      <td>-88888765432345.0</td>\n    </tr>\n    <tr>\n      <th>271</th>\n      <td>6051.0</td>\n      <td>22.96</td>\n      <td>-88888765432345.0</td>\n      <td>0.09898</td>\n      <td>-88888765432345.0</td>\n      <td>0.02721</td>\n      <td>27.15</td>\n      <td>-88888765432345.0</td>\n      <td>0.00874</td>\n      <td>0.01458</td>\n      <td>...</td>\n      <td>0.1007</td>\n      <td>0.1793</td>\n      <td>-88888765432345.0</td>\n      <td>M</td>\n      <td>0.004417</td>\n      <td>111.2</td>\n      <td>0.2444</td>\n      <td>0.02045</td>\n      <td>0.02219</td>\n      <td>0.9291</td>\n    </tr>\n    <tr>\n      <th>347</th>\n      <td>1954.0</td>\n      <td>12.36</td>\n      <td>-88888765432345.0</td>\n      <td>0.08713</td>\n      <td>396.0</td>\n      <td>0.01376</td>\n      <td>18.89</td>\n      <td>0.07529</td>\n      <td>0.006538</td>\n      <td>0.009924</td>\n      <td>...</td>\n      <td>0.02399</td>\n      <td>0.2013</td>\n      <td>0.3267</td>\n      <td>B</td>\n      <td>0.002928</td>\n      <td>72.17</td>\n      <td>0.09708</td>\n      <td>0.03416</td>\n      <td>0.01395</td>\n      <td>0.2656</td>\n    </tr>\n    <tr>\n      <th>385</th>\n      <td>4206.0</td>\n      <td>-88888765432345.0</td>\n      <td>-88888765432345.0</td>\n      <td>0.1085</td>\n      <td>-88888765432345.0</td>\n      <td>0.04062</td>\n      <td>21.24</td>\n      <td>0.5179</td>\n      <td>0.006666</td>\n      <td>0.01479</td>\n      <td>...</td>\n      <td>0.2188</td>\n      <td>-88888765432345.0</td>\n      <td>248.0</td>\n      <td>M</td>\n      <td>0.003727</td>\n      <td>137.8</td>\n      <td>0.3597</td>\n      <td>-88888765432345.0</td>\n      <td>0.02791</td>\n      <td>-88888765432345.0</td>\n    </tr>\n    <tr>\n      <th>414</th>\n      <td>2829.0</td>\n      <td>15.01</td>\n      <td>-88888765432345.0</td>\n      <td>0.08043</td>\n      <td>-88888765432345.0</td>\n      <td>0.03371</td>\n      <td>23.77</td>\n      <td>0.1359</td>\n      <td>0.004351</td>\n      <td>0.01007</td>\n      <td>...</td>\n      <td>0.04697</td>\n      <td>-88888765432345.0</td>\n      <td>0.2663</td>\n      <td>B</td>\n      <td>0.003087</td>\n      <td>88.54</td>\n      <td>0.1442</td>\n      <td>0.02598</td>\n      <td>0.02667</td>\n      <td>0.4347</td>\n    </tr>\n    <tr>\n      <th>808</th>\n      <td>2765.0</td>\n      <td>22.63</td>\n      <td>-88888765432345.0</td>\n      <td>0.1015</td>\n      <td>-88888765432345.0</td>\n      <td>0.04755</td>\n      <td>25.12</td>\n      <td>0.5673</td>\n      <td>0.005033</td>\n      <td>0.01043</td>\n      <td>...</td>\n      <td>0.2545</td>\n      <td>0.2202</td>\n      <td>0.3305</td>\n      <td>M</td>\n      <td>0.003224</td>\n      <td>130.4</td>\n      <td>0.3861</td>\n      <td>0.01578</td>\n      <td>0.03179</td>\n      <td>0.4953</td>\n    </tr>\n    <tr>\n      <th>1024</th>\n      <td>1819.0</td>\n      <td>-88888765432345.0</td>\n      <td>-88888765432345.0</td>\n      <td>-88888765432345.0</td>\n      <td>538.9</td>\n      <td>0.03047</td>\n      <td>-88888765432345.0</td>\n      <td>-88888765432345.0</td>\n      <td>0.008584</td>\n      <td>0.009536</td>\n      <td>...</td>\n      <td>0.09293</td>\n      <td>0.1822</td>\n      <td>0.3849</td>\n      <td>B</td>\n      <td>0.003479</td>\n      <td>85.31</td>\n      <td>0.2256</td>\n      <td>0.02769</td>\n      <td>0.02017</td>\n      <td>271.0</td>\n    </tr>\n    <tr>\n      <th>1067</th>\n      <td>5029.0</td>\n      <td>19.77</td>\n      <td>-88888765432345.0</td>\n      <td>0.09168</td>\n      <td>817.7</td>\n      <td>-88888765432345.0</td>\n      <td>-88888765432345.0</td>\n      <td>0.2829</td>\n      <td>0.01082</td>\n      <td>0.01809</td>\n      <td>...</td>\n      <td>0.09769</td>\n      <td>0.1798</td>\n      <td>265.0</td>\n      <td>M</td>\n      <td>0.001948</td>\n      <td>-88888765432345.0</td>\n      <td>0.2045</td>\n      <td>0.0155</td>\n      <td>0.02203</td>\n      <td>0.7474</td>\n    </tr>\n    <tr>\n      <th>1161</th>\n      <td>4106.0</td>\n      <td>-88888765432345.0</td>\n      <td>-88888765432345.0</td>\n      <td>0.08772</td>\n      <td>-88888765432345.0</td>\n      <td>0.01946</td>\n      <td>20.26</td>\n      <td>0.1932</td>\n      <td>0.005038</td>\n      <td>0.01123</td>\n      <td>...</td>\n      <td>0.0695</td>\n      <td>0.2026</td>\n      <td>0.3275</td>\n      <td>M</td>\n      <td>0.002581</td>\n      <td>109.7</td>\n      <td>-88888765432345.0</td>\n      <td>0.02294</td>\n      <td>0.01503</td>\n      <td>0.5858</td>\n    </tr>\n    <tr>\n      <th>1205</th>\n      <td>2873.0</td>\n      <td>-88888765432345.0</td>\n      <td>-88888765432345.0</td>\n      <td>0.1135</td>\n      <td>519.4</td>\n      <td>0.01949</td>\n      <td>20.78</td>\n      <td>0.08112</td>\n      <td>-88888765432345.0</td>\n      <td>0.01153</td>\n      <td>...</td>\n      <td>0.03136</td>\n      <td>254.0</td>\n      <td>0.3196</td>\n      <td>B</td>\n      <td>0.001533</td>\n      <td>-88888765432345.0</td>\n      <td>0.1105</td>\n      <td>0.02951</td>\n      <td>-88888765432345.0</td>\n      <td>0.4202</td>\n    </tr>\n    <tr>\n      <th>1383</th>\n      <td>4012.0</td>\n      <td>25.3</td>\n      <td>-88888765432345.0</td>\n      <td>117.0</td>\n      <td>-88888765432345.0</td>\n      <td>-88888765432345.0</td>\n      <td>21.51</td>\n      <td>0.5344</td>\n      <td>0.005485</td>\n      <td>0.01369</td>\n      <td>...</td>\n      <td>0.2565</td>\n      <td>0.2569</td>\n      <td>0.5558</td>\n      <td>M</td>\n      <td>0.003345</td>\n      <td>135.9</td>\n      <td>-88888765432345.0</td>\n      <td>0.02768</td>\n      <td>0.02431</td>\n      <td>0.5702</td>\n    </tr>\n    <tr>\n      <th>2127</th>\n      <td>1937.0</td>\n      <td>12.78</td>\n      <td>-88888765432345.0</td>\n      <td>0.1092</td>\n      <td>398.0</td>\n      <td>-88888765432345.0</td>\n      <td>17.31</td>\n      <td>0.07708</td>\n      <td>0.006664</td>\n      <td>-88888765432345.0</td>\n      <td>...</td>\n      <td>0.02031</td>\n      <td>0.1645</td>\n      <td>0.2584</td>\n      <td>B</td>\n      <td>0.003526</td>\n      <td>73.66</td>\n      <td>-88888765432345.0</td>\n      <td>0.02282</td>\n      <td>-88888765432345.0</td>\n      <td>-88888765432345.0</td>\n    </tr>\n    <tr>\n      <th>2553</th>\n      <td>8077.0</td>\n      <td>14.99</td>\n      <td>-88888765432345.0</td>\n      <td>0.09387</td>\n      <td>698.8</td>\n      <td>0.01818</td>\n      <td>25.2</td>\n      <td>0.02398</td>\n      <td>0.006883</td>\n      <td>0.01917</td>\n      <td>...</td>\n      <td>0.02398</td>\n      <td>-88888765432345.0</td>\n      <td>0.1565</td>\n      <td>M</td>\n      <td>0.001754</td>\n      <td>-88888765432345.0</td>\n      <td>0.05131</td>\n      <td>0.007882</td>\n      <td>0.01094</td>\n      <td>1214.0</td>\n    </tr>\n  </tbody>\n</table>\n<p>13 rows × 31 columns</p>\n</div>"
     },
     "execution_count": 398,
     "metadata": {},
     "output_type": "execute_result"
    }
   ],
   "source": [
    "mask_concave"
   ],
   "metadata": {
    "collapsed": false,
    "pycharm": {
     "name": "#%%\n"
    }
   }
  },
  {
   "cell_type": "code",
   "execution_count": 399,
   "outputs": [
    {
     "name": "stderr",
     "output_type": "stream",
     "text": [
      "C:\\Users\\NICON\\AppData\\Local\\Temp\\ipykernel_10184\\3302028008.py:3: SettingWithCopyWarning: \n",
      "A value is trying to be set on a copy of a slice from a DataFrame\n",
      "\n",
      "See the caveats in the documentation: https://pandas.pydata.org/pandas-docs/stable/user_guide/indexing.html#returning-a-view-versus-a-copy\n",
      "  df.drop(df[df['concave points_mean']==i].index,inplace=True,axis=0)\n"
     ]
    }
   ],
   "source": [
    "list=['rxctf378968 7656463sdfg','-88888765432345.0','999765432456788.0']\n",
    "for i in list:\n",
    "       df.drop(df[df['concave points_mean']==i].index,inplace=True,axis=0)\n"
   ],
   "metadata": {
    "collapsed": false,
    "pycharm": {
     "name": "#%%\n"
    }
   }
  },
  {
   "cell_type": "code",
   "execution_count": 400,
   "outputs": [
    {
     "data": {
      "text/plain": "0.0        18\n0.02864     6\n0.02272     4\n0.1242      4\n0.02031     4\n           ..\n0.02424     1\n0.03613     1\n0.08488     1\n0.03279     1\n63.0        1\nName: concave points_mean, Length: 489, dtype: int64"
     },
     "execution_count": 400,
     "metadata": {},
     "output_type": "execute_result"
    }
   ],
   "source": [
    "df['concave points_mean'].value_counts()\n"
   ],
   "metadata": {
    "collapsed": false,
    "pycharm": {
     "name": "#%%\n"
    }
   }
  },
  {
   "cell_type": "code",
   "execution_count": 401,
   "outputs": [
    {
     "name": "stderr",
     "output_type": "stream",
     "text": [
      "C:\\Users\\NICON\\AppData\\Local\\Temp\\ipykernel_10184\\757963210.py:1: SettingWithCopyWarning: \n",
      "A value is trying to be set on a copy of a slice from a DataFrame.\n",
      "Try using .loc[row_indexer,col_indexer] = value instead\n",
      "\n",
      "See the caveats in the documentation: https://pandas.pydata.org/pandas-docs/stable/user_guide/indexing.html#returning-a-view-versus-a-copy\n",
      "  df['concave points_mean']=df['concave points_mean'].astype(str).astype(float)\n"
     ]
    }
   ],
   "source": [
    "df['concave points_mean']=df['concave points_mean'].astype(str).astype(float)\n"
   ],
   "metadata": {
    "collapsed": false,
    "pycharm": {
     "name": "#%%\n"
    }
   }
  },
  {
   "cell_type": "code",
   "execution_count": 402,
   "outputs": [
    {
     "data": {
      "text/plain": "count    778.000000\nmean       2.345392\nstd       16.028853\nmin        0.000000\n25%        0.019787\n50%        0.033335\n75%        0.074660\nmax      162.000000\nName: concave points_mean, dtype: float64"
     },
     "execution_count": 402,
     "metadata": {},
     "output_type": "execute_result"
    }
   ],
   "source": [
    "df['concave points_mean'].describe()"
   ],
   "metadata": {
    "collapsed": false,
    "pycharm": {
     "name": "#%%\n"
    }
   }
  },
  {
   "cell_type": "code",
   "execution_count": 403,
   "outputs": [
    {
     "data": {
      "text/plain": "     perimeter_se       radius_worst  concave points_mean    smoothness_mean  \\\n1            1.83  999765432456788.0             0.037110            0.09516   \n2         1144.00             9699.0             0.003472  -88888765432345.0   \n4         2183.00                NaN             0.022780            0.09524   \n5         2225.00              13.28             0.011620            0.07561   \n7         1103.00              12.82             0.026230            0.09373   \n..            ...                ...                  ...                ...   \n175       1826.00              17.18             0.032210            0.08098   \n179       1752.00              16.89             0.030850            0.09258   \n180         18.65              36.04             0.168900             0.1084   \n181          1.52  -88888765432345.0             0.013490            0.08261   \n182           NaN              13.71             0.021070             0.1028   \n\n    area_mean concavity_se texture_mean    concavity_worst smoothness_se  \\\n1       587.4      0.01457        15.18             0.1456      0.004235   \n2       246.3     0.003681         14.4            0.01472      0.007389   \n4       409.0      0.01349        18.75                NaN      0.008328   \n5       421.0     0.005949        17.07            0.03046      0.006583   \n7       403.3      0.01514        10.82             0.2102           NaN   \n..        ...          ...          ...                ...           ...   \n175     686.9       0.0231        14.93             0.3151      0.003271   \n179     572.6      0.01796        24.69             0.3796      0.004088   \n180    2501.0      0.08055        26.27             0.6833       0.00765   \n181     437.6      0.01311        18.24  -88888765432345.0       0.00721   \n182       NaN      0.01329         17.3                NaN      0.006809   \n\n     concave points_se  ...     concavity_mean      symmetry_mean  \\\n1    999765432456788.0  ...  999765432456788.0              211.0   \n2             0.003472  ...           0.003681  -88888765432345.0   \n4              0.00867  ...                NaN                NaN   \n5             0.006296  ...           0.008306             0.1671   \n7                  NaN  ...            0.03512             0.1667   \n..                 ...  ...                ...                ...   \n175           0.008399  ...            0.05539             0.1687   \n179            0.00688  ...            0.05285             0.1761   \n180            0.02598  ...             0.3635             0.2061   \n181                8.0  ...  -88888765432345.0             0.1868   \n182           0.006474  ...            0.03193             0.1707   \n\n    symmetry_worst diagnosis fractal_dimension_se     perimeter_mean  \\\n1           0.2955         B             0.001593  999765432456788.0   \n2           0.2991         B             0.002153              56.36   \n4           0.3306         B             0.002386              73.34   \n5           0.2731         B             0.002668               73.7   \n7           0.3016         B             0.002206              73.34   \n..             ...       ...                  ...                ...   \n175         0.2688         B             0.002379              96.45   \n179          347.0         M             0.001465              87.76   \n180         0.2641         M             0.004558              186.9   \n181         0.2785         B             0.002635  -88888765432345.0   \n182            NaN         B             0.001784              81.25   \n\n    compactness_worst symmetry_se compactness_se          radius_se  \n1              0.1724     0.01528        0.01541  999765432456788.0  \n2             0.05232     0.02701       0.004883             0.1746  \n4                 NaN     0.03218       0.008722             0.3249  \n5             0.06476     0.02216       0.006991             0.3534  \n7               239.0     0.01344            NaN                NaN  \n..                ...         ...            ...                ...  \n175            0.2791     0.01148         0.0177             0.2446  \n179            0.2884     0.01323        0.01174              231.0  \n180            0.4256     0.01697        0.05374             2547.0  \n181           0.08906     0.01996        0.00838             0.2273  \n182            0.1212     0.02057       0.009514               0.21  \n\n[100 rows x 31 columns]",
      "text/html": "<div>\n<style scoped>\n    .dataframe tbody tr th:only-of-type {\n        vertical-align: middle;\n    }\n\n    .dataframe tbody tr th {\n        vertical-align: top;\n    }\n\n    .dataframe thead th {\n        text-align: right;\n    }\n</style>\n<table border=\"1\" class=\"dataframe\">\n  <thead>\n    <tr style=\"text-align: right;\">\n      <th></th>\n      <th>perimeter_se</th>\n      <th>radius_worst</th>\n      <th>concave points_mean</th>\n      <th>smoothness_mean</th>\n      <th>area_mean</th>\n      <th>concavity_se</th>\n      <th>texture_mean</th>\n      <th>concavity_worst</th>\n      <th>smoothness_se</th>\n      <th>concave points_se</th>\n      <th>...</th>\n      <th>concavity_mean</th>\n      <th>symmetry_mean</th>\n      <th>symmetry_worst</th>\n      <th>diagnosis</th>\n      <th>fractal_dimension_se</th>\n      <th>perimeter_mean</th>\n      <th>compactness_worst</th>\n      <th>symmetry_se</th>\n      <th>compactness_se</th>\n      <th>radius_se</th>\n    </tr>\n  </thead>\n  <tbody>\n    <tr>\n      <th>1</th>\n      <td>1.83</td>\n      <td>999765432456788.0</td>\n      <td>0.037110</td>\n      <td>0.09516</td>\n      <td>587.4</td>\n      <td>0.01457</td>\n      <td>15.18</td>\n      <td>0.1456</td>\n      <td>0.004235</td>\n      <td>999765432456788.0</td>\n      <td>...</td>\n      <td>999765432456788.0</td>\n      <td>211.0</td>\n      <td>0.2955</td>\n      <td>B</td>\n      <td>0.001593</td>\n      <td>999765432456788.0</td>\n      <td>0.1724</td>\n      <td>0.01528</td>\n      <td>0.01541</td>\n      <td>999765432456788.0</td>\n    </tr>\n    <tr>\n      <th>2</th>\n      <td>1144.00</td>\n      <td>9699.0</td>\n      <td>0.003472</td>\n      <td>-88888765432345.0</td>\n      <td>246.3</td>\n      <td>0.003681</td>\n      <td>14.4</td>\n      <td>0.01472</td>\n      <td>0.007389</td>\n      <td>0.003472</td>\n      <td>...</td>\n      <td>0.003681</td>\n      <td>-88888765432345.0</td>\n      <td>0.2991</td>\n      <td>B</td>\n      <td>0.002153</td>\n      <td>56.36</td>\n      <td>0.05232</td>\n      <td>0.02701</td>\n      <td>0.004883</td>\n      <td>0.1746</td>\n    </tr>\n    <tr>\n      <th>4</th>\n      <td>2183.00</td>\n      <td>NaN</td>\n      <td>0.022780</td>\n      <td>0.09524</td>\n      <td>409.0</td>\n      <td>0.01349</td>\n      <td>18.75</td>\n      <td>NaN</td>\n      <td>0.008328</td>\n      <td>0.00867</td>\n      <td>...</td>\n      <td>NaN</td>\n      <td>NaN</td>\n      <td>0.3306</td>\n      <td>B</td>\n      <td>0.002386</td>\n      <td>73.34</td>\n      <td>NaN</td>\n      <td>0.03218</td>\n      <td>0.008722</td>\n      <td>0.3249</td>\n    </tr>\n    <tr>\n      <th>5</th>\n      <td>2225.00</td>\n      <td>13.28</td>\n      <td>0.011620</td>\n      <td>0.07561</td>\n      <td>421.0</td>\n      <td>0.005949</td>\n      <td>17.07</td>\n      <td>0.03046</td>\n      <td>0.006583</td>\n      <td>0.006296</td>\n      <td>...</td>\n      <td>0.008306</td>\n      <td>0.1671</td>\n      <td>0.2731</td>\n      <td>B</td>\n      <td>0.002668</td>\n      <td>73.7</td>\n      <td>0.06476</td>\n      <td>0.02216</td>\n      <td>0.006991</td>\n      <td>0.3534</td>\n    </tr>\n    <tr>\n      <th>7</th>\n      <td>1103.00</td>\n      <td>12.82</td>\n      <td>0.026230</td>\n      <td>0.09373</td>\n      <td>403.3</td>\n      <td>0.01514</td>\n      <td>10.82</td>\n      <td>0.2102</td>\n      <td>NaN</td>\n      <td>NaN</td>\n      <td>...</td>\n      <td>0.03512</td>\n      <td>0.1667</td>\n      <td>0.3016</td>\n      <td>B</td>\n      <td>0.002206</td>\n      <td>73.34</td>\n      <td>239.0</td>\n      <td>0.01344</td>\n      <td>NaN</td>\n      <td>NaN</td>\n    </tr>\n    <tr>\n      <th>...</th>\n      <td>...</td>\n      <td>...</td>\n      <td>...</td>\n      <td>...</td>\n      <td>...</td>\n      <td>...</td>\n      <td>...</td>\n      <td>...</td>\n      <td>...</td>\n      <td>...</td>\n      <td>...</td>\n      <td>...</td>\n      <td>...</td>\n      <td>...</td>\n      <td>...</td>\n      <td>...</td>\n      <td>...</td>\n      <td>...</td>\n      <td>...</td>\n      <td>...</td>\n      <td>...</td>\n    </tr>\n    <tr>\n      <th>175</th>\n      <td>1826.00</td>\n      <td>17.18</td>\n      <td>0.032210</td>\n      <td>0.08098</td>\n      <td>686.9</td>\n      <td>0.0231</td>\n      <td>14.93</td>\n      <td>0.3151</td>\n      <td>0.003271</td>\n      <td>0.008399</td>\n      <td>...</td>\n      <td>0.05539</td>\n      <td>0.1687</td>\n      <td>0.2688</td>\n      <td>B</td>\n      <td>0.002379</td>\n      <td>96.45</td>\n      <td>0.2791</td>\n      <td>0.01148</td>\n      <td>0.0177</td>\n      <td>0.2446</td>\n    </tr>\n    <tr>\n      <th>179</th>\n      <td>1752.00</td>\n      <td>16.89</td>\n      <td>0.030850</td>\n      <td>0.09258</td>\n      <td>572.6</td>\n      <td>0.01796</td>\n      <td>24.69</td>\n      <td>0.3796</td>\n      <td>0.004088</td>\n      <td>0.00688</td>\n      <td>...</td>\n      <td>0.05285</td>\n      <td>0.1761</td>\n      <td>347.0</td>\n      <td>M</td>\n      <td>0.001465</td>\n      <td>87.76</td>\n      <td>0.2884</td>\n      <td>0.01323</td>\n      <td>0.01174</td>\n      <td>231.0</td>\n    </tr>\n    <tr>\n      <th>180</th>\n      <td>18.65</td>\n      <td>36.04</td>\n      <td>0.168900</td>\n      <td>0.1084</td>\n      <td>2501.0</td>\n      <td>0.08055</td>\n      <td>26.27</td>\n      <td>0.6833</td>\n      <td>0.00765</td>\n      <td>0.02598</td>\n      <td>...</td>\n      <td>0.3635</td>\n      <td>0.2061</td>\n      <td>0.2641</td>\n      <td>M</td>\n      <td>0.004558</td>\n      <td>186.9</td>\n      <td>0.4256</td>\n      <td>0.01697</td>\n      <td>0.05374</td>\n      <td>2547.0</td>\n    </tr>\n    <tr>\n      <th>181</th>\n      <td>1.52</td>\n      <td>-88888765432345.0</td>\n      <td>0.013490</td>\n      <td>0.08261</td>\n      <td>437.6</td>\n      <td>0.01311</td>\n      <td>18.24</td>\n      <td>-88888765432345.0</td>\n      <td>0.00721</td>\n      <td>8.0</td>\n      <td>...</td>\n      <td>-88888765432345.0</td>\n      <td>0.1868</td>\n      <td>0.2785</td>\n      <td>B</td>\n      <td>0.002635</td>\n      <td>-88888765432345.0</td>\n      <td>0.08906</td>\n      <td>0.01996</td>\n      <td>0.00838</td>\n      <td>0.2273</td>\n    </tr>\n    <tr>\n      <th>182</th>\n      <td>NaN</td>\n      <td>13.71</td>\n      <td>0.021070</td>\n      <td>0.1028</td>\n      <td>NaN</td>\n      <td>0.01329</td>\n      <td>17.3</td>\n      <td>NaN</td>\n      <td>0.006809</td>\n      <td>0.006474</td>\n      <td>...</td>\n      <td>0.03193</td>\n      <td>0.1707</td>\n      <td>NaN</td>\n      <td>B</td>\n      <td>0.001784</td>\n      <td>81.25</td>\n      <td>0.1212</td>\n      <td>0.02057</td>\n      <td>0.009514</td>\n      <td>0.21</td>\n    </tr>\n  </tbody>\n</table>\n<p>100 rows × 31 columns</p>\n</div>"
     },
     "execution_count": 403,
     "metadata": {},
     "output_type": "execute_result"
    }
   ],
   "source": [
    "df.head(100)"
   ],
   "metadata": {
    "collapsed": false,
    "pycharm": {
     "name": "#%%\n"
    }
   }
  },
  {
   "cell_type": "code",
   "execution_count": 404,
   "outputs": [
    {
     "data": {
      "text/plain": "rxctf378968 7656463sdfg    19\n999765432456788.0          18\n-88888765432345.0          15\n0.1054                      6\n0.1066                      5\n                           ..\n0.1022                      1\n0.09469                     1\n0.09446                     1\n0.08588                     1\n0.1031                      1\nName: smoothness_mean, Length: 419, dtype: int64"
     },
     "execution_count": 404,
     "metadata": {},
     "output_type": "execute_result"
    }
   ],
   "source": [
    "df['smoothness_mean'].value_counts()"
   ],
   "metadata": {
    "collapsed": false,
    "pycharm": {
     "name": "#%%\n"
    }
   }
  },
  {
   "cell_type": "code",
   "execution_count": 405,
   "outputs": [
    {
     "name": "stderr",
     "output_type": "stream",
     "text": [
      "C:\\Users\\NICON\\AppData\\Local\\Temp\\ipykernel_10184\\996049896.py:3: SettingWithCopyWarning: \n",
      "A value is trying to be set on a copy of a slice from a DataFrame\n",
      "\n",
      "See the caveats in the documentation: https://pandas.pydata.org/pandas-docs/stable/user_guide/indexing.html#returning-a-view-versus-a-copy\n",
      "  df.drop(df[df['smoothness_mean']==i].index,inplace=True,axis=0)\n"
     ]
    }
   ],
   "source": [
    "list=['rxctf378968 7656463sdfg','-88888765432345.0','999765432456788.0']\n",
    "for i in list:\n",
    "       df.drop(df[df['smoothness_mean']==i].index,inplace=True,axis=0)"
   ],
   "metadata": {
    "collapsed": false,
    "pycharm": {
     "name": "#%%\n"
    }
   }
  },
  {
   "cell_type": "code",
   "execution_count": 406,
   "outputs": [
    {
     "data": {
      "text/plain": "      perimeter_se       radius_worst  concave points_mean smoothness_mean  \\\n1           1.8300  999765432456788.0              0.03711         0.09516   \n4        2183.0000                NaN              0.02278         0.09524   \n5        2225.0000              13.28              0.01162         0.07561   \n7        1103.0000              12.82              0.02623         0.09373   \n8        4877.0000                NaN            106.00000          0.1148   \n...            ...                ...                  ...             ...   \n3882     2355.0000                NaN              0.03250           115.0   \n3900        0.9857                NaN              0.02166          0.1096   \n3908     2903.0000              16.84              0.05364         0.08401   \n3929     4795.0000              16.46             63.00000          0.1031   \n3933           NaN             9456.0              0.00000         0.05263   \n\n     area_mean concavity_se texture_mean concavity_worst smoothness_se  \\\n1        587.4      0.01457        15.18          0.1456      0.004235   \n4        409.0      0.01349        18.75             NaN      0.008328   \n5        421.0     0.005949        17.07         0.03046      0.006583   \n7        403.3      0.01514        10.82          0.2102           NaN   \n8       1033.0      0.02817         18.7          0.2623      0.003899   \n...        ...          ...          ...             ...           ...   \n3882     420.3          NaN        15.45          0.1087      0.009536   \n3900     453.1          NaN        20.04          0.3535      0.006272   \n3908       NaN      0.05051        23.95          0.2322      0.009769   \n3929     656.1          NaN        13.98          0.3219      0.009976   \n3933     181.0          NaN        24.54             0.0      0.007189   \n\n      concave points_se  ...     concavity_mean symmetry_mean symmetry_worst  \\\n1     999765432456788.0  ...  999765432456788.0         211.0         0.2955   \n4               0.00867  ...                NaN           NaN         0.3306   \n5              0.006296  ...           0.008306        0.1671         0.2731   \n7                   NaN  ...            0.03512        0.1667         0.3016   \n8                   NaN  ...             0.1772        0.2092         0.3021   \n...                 ...  ...                ...           ...            ...   \n3882                NaN  ...            0.04006           NaN         0.2765   \n3900                NaN  ...            0.08175           NaN         0.2709   \n3908            0.01992  ...            0.09938        0.1847         0.2809   \n3929             0.0158  ...                NaN        0.2086         0.2827   \n3933                NaN  ...                NaN        0.1587         0.2871   \n\n     diagnosis fractal_dimension_se     perimeter_mean compactness_worst  \\\n1            B             0.001593  999765432456788.0            0.1724   \n4            B             0.002386              73.34               NaN   \n5            B             0.002668               73.7           0.06476   \n7            B             0.002206              73.34             239.0   \n8            M             0.005126                NaN            0.2297   \n...        ...                  ...                ...               ...   \n3882         B               0.0031              75.03               NaN   \n3900         B                  NaN                NaN            0.2315   \n3908         M             0.003002                NaN            0.1924   \n3929         B                  NaN              98.22               NaN   \n3933         B             0.002783              47.92           0.06444   \n\n     symmetry_se compactness_se          radius_se  \n1        0.01528        0.01541  999765432456788.0  \n4        0.03218       0.008722             0.3249  \n5        0.02216       0.006991             0.3534  \n7        0.01344            NaN                NaN  \n8        0.02674        0.02961             0.8337  \n...          ...            ...                ...  \n3882     0.01953        0.01097             0.3446  \n3900         NaN            NaN             0.1811  \n3908     0.02981            NaN             0.4033  \n3929         NaN        0.05244             0.5462  \n3933         NaN        0.00466             0.3857  \n\n[814 rows x 31 columns]",
      "text/html": "<div>\n<style scoped>\n    .dataframe tbody tr th:only-of-type {\n        vertical-align: middle;\n    }\n\n    .dataframe tbody tr th {\n        vertical-align: top;\n    }\n\n    .dataframe thead th {\n        text-align: right;\n    }\n</style>\n<table border=\"1\" class=\"dataframe\">\n  <thead>\n    <tr style=\"text-align: right;\">\n      <th></th>\n      <th>perimeter_se</th>\n      <th>radius_worst</th>\n      <th>concave points_mean</th>\n      <th>smoothness_mean</th>\n      <th>area_mean</th>\n      <th>concavity_se</th>\n      <th>texture_mean</th>\n      <th>concavity_worst</th>\n      <th>smoothness_se</th>\n      <th>concave points_se</th>\n      <th>...</th>\n      <th>concavity_mean</th>\n      <th>symmetry_mean</th>\n      <th>symmetry_worst</th>\n      <th>diagnosis</th>\n      <th>fractal_dimension_se</th>\n      <th>perimeter_mean</th>\n      <th>compactness_worst</th>\n      <th>symmetry_se</th>\n      <th>compactness_se</th>\n      <th>radius_se</th>\n    </tr>\n  </thead>\n  <tbody>\n    <tr>\n      <th>1</th>\n      <td>1.8300</td>\n      <td>999765432456788.0</td>\n      <td>0.03711</td>\n      <td>0.09516</td>\n      <td>587.4</td>\n      <td>0.01457</td>\n      <td>15.18</td>\n      <td>0.1456</td>\n      <td>0.004235</td>\n      <td>999765432456788.0</td>\n      <td>...</td>\n      <td>999765432456788.0</td>\n      <td>211.0</td>\n      <td>0.2955</td>\n      <td>B</td>\n      <td>0.001593</td>\n      <td>999765432456788.0</td>\n      <td>0.1724</td>\n      <td>0.01528</td>\n      <td>0.01541</td>\n      <td>999765432456788.0</td>\n    </tr>\n    <tr>\n      <th>4</th>\n      <td>2183.0000</td>\n      <td>NaN</td>\n      <td>0.02278</td>\n      <td>0.09524</td>\n      <td>409.0</td>\n      <td>0.01349</td>\n      <td>18.75</td>\n      <td>NaN</td>\n      <td>0.008328</td>\n      <td>0.00867</td>\n      <td>...</td>\n      <td>NaN</td>\n      <td>NaN</td>\n      <td>0.3306</td>\n      <td>B</td>\n      <td>0.002386</td>\n      <td>73.34</td>\n      <td>NaN</td>\n      <td>0.03218</td>\n      <td>0.008722</td>\n      <td>0.3249</td>\n    </tr>\n    <tr>\n      <th>5</th>\n      <td>2225.0000</td>\n      <td>13.28</td>\n      <td>0.01162</td>\n      <td>0.07561</td>\n      <td>421.0</td>\n      <td>0.005949</td>\n      <td>17.07</td>\n      <td>0.03046</td>\n      <td>0.006583</td>\n      <td>0.006296</td>\n      <td>...</td>\n      <td>0.008306</td>\n      <td>0.1671</td>\n      <td>0.2731</td>\n      <td>B</td>\n      <td>0.002668</td>\n      <td>73.7</td>\n      <td>0.06476</td>\n      <td>0.02216</td>\n      <td>0.006991</td>\n      <td>0.3534</td>\n    </tr>\n    <tr>\n      <th>7</th>\n      <td>1103.0000</td>\n      <td>12.82</td>\n      <td>0.02623</td>\n      <td>0.09373</td>\n      <td>403.3</td>\n      <td>0.01514</td>\n      <td>10.82</td>\n      <td>0.2102</td>\n      <td>NaN</td>\n      <td>NaN</td>\n      <td>...</td>\n      <td>0.03512</td>\n      <td>0.1667</td>\n      <td>0.3016</td>\n      <td>B</td>\n      <td>0.002206</td>\n      <td>73.34</td>\n      <td>239.0</td>\n      <td>0.01344</td>\n      <td>NaN</td>\n      <td>NaN</td>\n    </tr>\n    <tr>\n      <th>8</th>\n      <td>4877.0000</td>\n      <td>NaN</td>\n      <td>106.00000</td>\n      <td>0.1148</td>\n      <td>1033.0</td>\n      <td>0.02817</td>\n      <td>18.7</td>\n      <td>0.2623</td>\n      <td>0.003899</td>\n      <td>NaN</td>\n      <td>...</td>\n      <td>0.1772</td>\n      <td>0.2092</td>\n      <td>0.3021</td>\n      <td>M</td>\n      <td>0.005126</td>\n      <td>NaN</td>\n      <td>0.2297</td>\n      <td>0.02674</td>\n      <td>0.02961</td>\n      <td>0.8337</td>\n    </tr>\n    <tr>\n      <th>...</th>\n      <td>...</td>\n      <td>...</td>\n      <td>...</td>\n      <td>...</td>\n      <td>...</td>\n      <td>...</td>\n      <td>...</td>\n      <td>...</td>\n      <td>...</td>\n      <td>...</td>\n      <td>...</td>\n      <td>...</td>\n      <td>...</td>\n      <td>...</td>\n      <td>...</td>\n      <td>...</td>\n      <td>...</td>\n      <td>...</td>\n      <td>...</td>\n      <td>...</td>\n      <td>...</td>\n    </tr>\n    <tr>\n      <th>3882</th>\n      <td>2355.0000</td>\n      <td>NaN</td>\n      <td>0.03250</td>\n      <td>115.0</td>\n      <td>420.3</td>\n      <td>NaN</td>\n      <td>15.45</td>\n      <td>0.1087</td>\n      <td>0.009536</td>\n      <td>NaN</td>\n      <td>...</td>\n      <td>0.04006</td>\n      <td>NaN</td>\n      <td>0.2765</td>\n      <td>B</td>\n      <td>0.0031</td>\n      <td>75.03</td>\n      <td>NaN</td>\n      <td>0.01953</td>\n      <td>0.01097</td>\n      <td>0.3446</td>\n    </tr>\n    <tr>\n      <th>3900</th>\n      <td>0.9857</td>\n      <td>NaN</td>\n      <td>0.02166</td>\n      <td>0.1096</td>\n      <td>453.1</td>\n      <td>NaN</td>\n      <td>20.04</td>\n      <td>0.3535</td>\n      <td>0.006272</td>\n      <td>NaN</td>\n      <td>...</td>\n      <td>0.08175</td>\n      <td>NaN</td>\n      <td>0.2709</td>\n      <td>B</td>\n      <td>NaN</td>\n      <td>NaN</td>\n      <td>0.2315</td>\n      <td>NaN</td>\n      <td>NaN</td>\n      <td>0.1811</td>\n    </tr>\n    <tr>\n      <th>3908</th>\n      <td>2903.0000</td>\n      <td>16.84</td>\n      <td>0.05364</td>\n      <td>0.08401</td>\n      <td>NaN</td>\n      <td>0.05051</td>\n      <td>23.95</td>\n      <td>0.2322</td>\n      <td>0.009769</td>\n      <td>0.01992</td>\n      <td>...</td>\n      <td>0.09938</td>\n      <td>0.1847</td>\n      <td>0.2809</td>\n      <td>M</td>\n      <td>0.003002</td>\n      <td>NaN</td>\n      <td>0.1924</td>\n      <td>0.02981</td>\n      <td>NaN</td>\n      <td>0.4033</td>\n    </tr>\n    <tr>\n      <th>3929</th>\n      <td>4795.0000</td>\n      <td>16.46</td>\n      <td>63.00000</td>\n      <td>0.1031</td>\n      <td>656.1</td>\n      <td>NaN</td>\n      <td>13.98</td>\n      <td>0.3219</td>\n      <td>0.009976</td>\n      <td>0.0158</td>\n      <td>...</td>\n      <td>NaN</td>\n      <td>0.2086</td>\n      <td>0.2827</td>\n      <td>B</td>\n      <td>NaN</td>\n      <td>98.22</td>\n      <td>NaN</td>\n      <td>NaN</td>\n      <td>0.05244</td>\n      <td>0.5462</td>\n    </tr>\n    <tr>\n      <th>3933</th>\n      <td>NaN</td>\n      <td>9456.0</td>\n      <td>0.00000</td>\n      <td>0.05263</td>\n      <td>181.0</td>\n      <td>NaN</td>\n      <td>24.54</td>\n      <td>0.0</td>\n      <td>0.007189</td>\n      <td>NaN</td>\n      <td>...</td>\n      <td>NaN</td>\n      <td>0.1587</td>\n      <td>0.2871</td>\n      <td>B</td>\n      <td>0.002783</td>\n      <td>47.92</td>\n      <td>0.06444</td>\n      <td>NaN</td>\n      <td>0.00466</td>\n      <td>0.3857</td>\n    </tr>\n  </tbody>\n</table>\n<p>814 rows × 31 columns</p>\n</div>"
     },
     "execution_count": 406,
     "metadata": {},
     "output_type": "execute_result"
    }
   ],
   "source": [
    "df"
   ],
   "metadata": {
    "collapsed": false,
    "pycharm": {
     "name": "#%%\n"
    }
   }
  },
  {
   "cell_type": "code",
   "execution_count": 407,
   "outputs": [
    {
     "data": {
      "text/plain": "-88888765432345.0          18\n0.0                        17\n999765432456788.0           6\nrxctf378968 7656463sdfg     5\n0.01412                     4\n                           ..\n0.02575                     1\n0.02828                     1\n0.02143                     1\n0.009075                    1\n0.04497                     1\nName: concavity_se, Length: 445, dtype: int64"
     },
     "execution_count": 407,
     "metadata": {},
     "output_type": "execute_result"
    }
   ],
   "source": [
    "df['concavity_se'].value_counts()\n"
   ],
   "metadata": {
    "collapsed": false,
    "pycharm": {
     "name": "#%%\n"
    }
   }
  },
  {
   "cell_type": "code",
   "execution_count": 408,
   "outputs": [],
   "source": [
    "mask_ccativy=df[df['concavity_se']=='-88888765432345.0']\n"
   ],
   "metadata": {
    "collapsed": false,
    "pycharm": {
     "name": "#%%\n"
    }
   }
  },
  {
   "cell_type": "code",
   "execution_count": 409,
   "outputs": [
    {
     "data": {
      "text/plain": "      perimeter_se       radius_worst  concave points_mean smoothness_mean  \\\n40         2916.00  -88888765432345.0              0.09063          0.1032   \n65         2117.00              14.18              0.02880          0.1042   \n134        2108.00  -88888765432345.0              0.01149         0.07372   \n242        1429.00              11.99              0.01786         0.09754   \n262        2989.00              18.81              0.08923          0.1162   \n285           3.28             9414.0              0.02308         0.09462   \n339        1539.00              14.37              0.03275         0.08671   \n524        2279.00              16.11              0.02957         0.08974   \n759        2759.00              10.85              0.01257          0.1044   \n1051       1968.00              12.36              0.01076          0.1018   \n1057          1.34               13.5              0.01924         0.09667   \n1202       1778.00              14.24              0.02315         0.09934   \n1312       1657.00              14.34              0.01762         0.08369   \n2048       2153.00  -88888765432345.0            109.00000          0.1141   \n2108       3198.00              13.24              0.03791         0.08605   \n2164       2652.00              14.08              0.06556          0.1291   \n2834       2579.00              13.46              0.03099         0.08451   \n2924       3399.00               15.3              0.07798         0.07837   \n\n              area_mean       concavity_se       texture_mean  \\\n40               1191.0  -88888765432345.0               25.0   \n65                462.9  -88888765432345.0              17.48   \n134               477.3  -88888765432345.0              12.83   \n242               381.9  -88888765432345.0              13.08   \n262               682.5  -88888765432345.0  -88888765432345.0   \n285               245.2  -88888765432345.0              15.76   \n339               538.4  -88888765432345.0              28.06   \n524   -88888765432345.0  -88888765432345.0              24.02   \n759               271.2  -88888765432345.0               21.7   \n1051              380.3  -88888765432345.0              21.41   \n1057              492.1  -88888765432345.0              13.78   \n1202              506.3  -88888765432345.0               18.0   \n1312              520.2  -88888765432345.0              25.13   \n2048              895.0  -88888765432345.0              19.08   \n2108              441.0  -88888765432345.0              20.76   \n2164  -88888765432345.0  -88888765432345.0              10.94   \n2834  -88888765432345.0  -88888765432345.0              19.89   \n2924              629.9  -88888765432345.0              19.65   \n\n        concavity_worst      smoothness_se  concave points_se  ...  \\\n40               0.3977             0.0119            0.01499  ...   \n65               0.3206           0.006715            0.01051  ...   \n134   -88888765432345.0            0.01039           0.007895  ...   \n242             0.07116  -88888765432345.0           0.008232  ...   \n262              0.4704           0.006985            0.01271  ...   \n285              0.1544            0.01835  -88888765432345.0  ...   \n339   -88888765432345.0           0.004973           0.009117  ...   \n524   -88888765432345.0           0.004868           0.008606  ...   \n759             0.06141  -88888765432345.0           0.008674  ...   \n1051            0.03582  -88888765432345.0           0.006159  ...   \n1057  -88888765432345.0           0.006064           0.007978  ...   \n1202             0.1731           0.005293           0.008179  ...   \n1312            0.04462           0.006054           0.006336  ...   \n2048             0.5018           0.005532            0.01384  ...   \n2108  -88888765432345.0           0.006719            0.01633  ...   \n2164            0.08539             0.0134           0.008239  ...   \n2834  -88888765432345.0            0.00653            0.01403  ...   \n2924             0.6783           0.005298            0.02292  ...   \n\n         concavity_mean      symmetry_mean     symmetry_worst diagnosis  \\\n40    -88888765432345.0  -88888765432345.0             0.2293         M   \n65              0.05892             0.1779             0.2819         B   \n134            0.007173             0.1613              228.0         B   \n242             0.01982              183.0  -88888765432345.0         B   \n262               169.0             0.2157             0.3585         M   \n285             0.09263             0.1305  -88888765432345.0         B   \n339             0.02987             0.1628             0.2473         B   \n524             0.03102             0.1685             0.2522         B   \n759             0.02047  -88888765432345.0             0.2872         B   \n1051           0.008955  -88888765432345.0             0.2976         B   \n1057  -88888765432345.0             0.1638             0.2369         B   \n1202            0.03889             0.1718             0.2779         B   \n1312            0.01206  -88888765432345.0             0.2306         B   \n2048              191.0             0.2131  -88888765432345.0         M   \n2108            0.06574             0.1588             0.2465         B   \n2164            0.06877             0.2403              271.0         B   \n2834             0.0683             0.1781             0.2685         B   \n2924             0.3003             0.1704             0.2398         B   \n\n     fractal_dimension_se     perimeter_mean  compactness_worst  \\\n40               0.001807              127.7             0.1845   \n65               0.006884              80.64             0.3593   \n134              0.004821  -88888765432345.0            0.06477   \n242     -88888765432345.0              70.87  -88888765432345.0   \n262              0.003884              98.64              448.0   \n285              0.005601              58.74             0.1879   \n339              0.001343              84.88             0.1381   \n524     -88888765432345.0              94.57             0.1766   \n759               0.00459               59.6             0.1193   \n1051              0.00206              70.95             0.1108   \n1057             0.001392  -88888765432345.0             0.1472   \n1202             0.002848              83.19  -88888765432345.0   \n1312             0.001514              82.61             0.1093   \n2048    -88888765432345.0              113.4             0.3934   \n2108             0.008015              77.87             0.2813   \n2164             0.006164              87.91             0.1379   \n2834             0.004651              80.43             0.2158   \n2924              0.01298              97.83  -88888765432345.0   \n\n            symmetry_se     compactness_se          radius_se  \n40              0.01641  -88888765432345.0  -88888765432345.0  \n65    -88888765432345.0            0.03705             0.2608  \n134             0.02869            0.01003  -88888765432345.0  \n242             0.02388           0.008985             0.2251  \n262             0.01602            0.02563             0.4266  \n285             0.02384             0.0676             0.3132  \n339   -88888765432345.0  -88888765432345.0             0.2351  \n524             0.02085  -88888765432345.0             0.3721  \n759             0.03044            0.01674             0.4302  \n1051            0.02694           0.009442             0.2865  \n1057            0.01374  -88888765432345.0             0.1807  \n1202            0.01748            0.01661             0.2655  \n1312            0.01215           0.008974             0.2621  \n2048            0.01177            0.02008  -88888765432345.0  \n2108            0.01872            0.05156             0.2742  \n2164            0.02572            0.02839  -88888765432345.0  \n2834             0.0274            0.03369             0.3642  \n2924  -88888765432345.0            0.07446  -88888765432345.0  \n\n[18 rows x 31 columns]",
      "text/html": "<div>\n<style scoped>\n    .dataframe tbody tr th:only-of-type {\n        vertical-align: middle;\n    }\n\n    .dataframe tbody tr th {\n        vertical-align: top;\n    }\n\n    .dataframe thead th {\n        text-align: right;\n    }\n</style>\n<table border=\"1\" class=\"dataframe\">\n  <thead>\n    <tr style=\"text-align: right;\">\n      <th></th>\n      <th>perimeter_se</th>\n      <th>radius_worst</th>\n      <th>concave points_mean</th>\n      <th>smoothness_mean</th>\n      <th>area_mean</th>\n      <th>concavity_se</th>\n      <th>texture_mean</th>\n      <th>concavity_worst</th>\n      <th>smoothness_se</th>\n      <th>concave points_se</th>\n      <th>...</th>\n      <th>concavity_mean</th>\n      <th>symmetry_mean</th>\n      <th>symmetry_worst</th>\n      <th>diagnosis</th>\n      <th>fractal_dimension_se</th>\n      <th>perimeter_mean</th>\n      <th>compactness_worst</th>\n      <th>symmetry_se</th>\n      <th>compactness_se</th>\n      <th>radius_se</th>\n    </tr>\n  </thead>\n  <tbody>\n    <tr>\n      <th>40</th>\n      <td>2916.00</td>\n      <td>-88888765432345.0</td>\n      <td>0.09063</td>\n      <td>0.1032</td>\n      <td>1191.0</td>\n      <td>-88888765432345.0</td>\n      <td>25.0</td>\n      <td>0.3977</td>\n      <td>0.0119</td>\n      <td>0.01499</td>\n      <td>...</td>\n      <td>-88888765432345.0</td>\n      <td>-88888765432345.0</td>\n      <td>0.2293</td>\n      <td>M</td>\n      <td>0.001807</td>\n      <td>127.7</td>\n      <td>0.1845</td>\n      <td>0.01641</td>\n      <td>-88888765432345.0</td>\n      <td>-88888765432345.0</td>\n    </tr>\n    <tr>\n      <th>65</th>\n      <td>2117.00</td>\n      <td>14.18</td>\n      <td>0.02880</td>\n      <td>0.1042</td>\n      <td>462.9</td>\n      <td>-88888765432345.0</td>\n      <td>17.48</td>\n      <td>0.3206</td>\n      <td>0.006715</td>\n      <td>0.01051</td>\n      <td>...</td>\n      <td>0.05892</td>\n      <td>0.1779</td>\n      <td>0.2819</td>\n      <td>B</td>\n      <td>0.006884</td>\n      <td>80.64</td>\n      <td>0.3593</td>\n      <td>-88888765432345.0</td>\n      <td>0.03705</td>\n      <td>0.2608</td>\n    </tr>\n    <tr>\n      <th>134</th>\n      <td>2108.00</td>\n      <td>-88888765432345.0</td>\n      <td>0.01149</td>\n      <td>0.07372</td>\n      <td>477.3</td>\n      <td>-88888765432345.0</td>\n      <td>12.83</td>\n      <td>-88888765432345.0</td>\n      <td>0.01039</td>\n      <td>0.007895</td>\n      <td>...</td>\n      <td>0.007173</td>\n      <td>0.1613</td>\n      <td>228.0</td>\n      <td>B</td>\n      <td>0.004821</td>\n      <td>-88888765432345.0</td>\n      <td>0.06477</td>\n      <td>0.02869</td>\n      <td>0.01003</td>\n      <td>-88888765432345.0</td>\n    </tr>\n    <tr>\n      <th>242</th>\n      <td>1429.00</td>\n      <td>11.99</td>\n      <td>0.01786</td>\n      <td>0.09754</td>\n      <td>381.9</td>\n      <td>-88888765432345.0</td>\n      <td>13.08</td>\n      <td>0.07116</td>\n      <td>-88888765432345.0</td>\n      <td>0.008232</td>\n      <td>...</td>\n      <td>0.01982</td>\n      <td>183.0</td>\n      <td>-88888765432345.0</td>\n      <td>B</td>\n      <td>-88888765432345.0</td>\n      <td>70.87</td>\n      <td>-88888765432345.0</td>\n      <td>0.02388</td>\n      <td>0.008985</td>\n      <td>0.2251</td>\n    </tr>\n    <tr>\n      <th>262</th>\n      <td>2989.00</td>\n      <td>18.81</td>\n      <td>0.08923</td>\n      <td>0.1162</td>\n      <td>682.5</td>\n      <td>-88888765432345.0</td>\n      <td>-88888765432345.0</td>\n      <td>0.4704</td>\n      <td>0.006985</td>\n      <td>0.01271</td>\n      <td>...</td>\n      <td>169.0</td>\n      <td>0.2157</td>\n      <td>0.3585</td>\n      <td>M</td>\n      <td>0.003884</td>\n      <td>98.64</td>\n      <td>448.0</td>\n      <td>0.01602</td>\n      <td>0.02563</td>\n      <td>0.4266</td>\n    </tr>\n    <tr>\n      <th>285</th>\n      <td>3.28</td>\n      <td>9414.0</td>\n      <td>0.02308</td>\n      <td>0.09462</td>\n      <td>245.2</td>\n      <td>-88888765432345.0</td>\n      <td>15.76</td>\n      <td>0.1544</td>\n      <td>0.01835</td>\n      <td>-88888765432345.0</td>\n      <td>...</td>\n      <td>0.09263</td>\n      <td>0.1305</td>\n      <td>-88888765432345.0</td>\n      <td>B</td>\n      <td>0.005601</td>\n      <td>58.74</td>\n      <td>0.1879</td>\n      <td>0.02384</td>\n      <td>0.0676</td>\n      <td>0.3132</td>\n    </tr>\n    <tr>\n      <th>339</th>\n      <td>1539.00</td>\n      <td>14.37</td>\n      <td>0.03275</td>\n      <td>0.08671</td>\n      <td>538.4</td>\n      <td>-88888765432345.0</td>\n      <td>28.06</td>\n      <td>-88888765432345.0</td>\n      <td>0.004973</td>\n      <td>0.009117</td>\n      <td>...</td>\n      <td>0.02987</td>\n      <td>0.1628</td>\n      <td>0.2473</td>\n      <td>B</td>\n      <td>0.001343</td>\n      <td>84.88</td>\n      <td>0.1381</td>\n      <td>-88888765432345.0</td>\n      <td>-88888765432345.0</td>\n      <td>0.2351</td>\n    </tr>\n    <tr>\n      <th>524</th>\n      <td>2279.00</td>\n      <td>16.11</td>\n      <td>0.02957</td>\n      <td>0.08974</td>\n      <td>-88888765432345.0</td>\n      <td>-88888765432345.0</td>\n      <td>24.02</td>\n      <td>-88888765432345.0</td>\n      <td>0.004868</td>\n      <td>0.008606</td>\n      <td>...</td>\n      <td>0.03102</td>\n      <td>0.1685</td>\n      <td>0.2522</td>\n      <td>B</td>\n      <td>-88888765432345.0</td>\n      <td>94.57</td>\n      <td>0.1766</td>\n      <td>0.02085</td>\n      <td>-88888765432345.0</td>\n      <td>0.3721</td>\n    </tr>\n    <tr>\n      <th>759</th>\n      <td>2759.00</td>\n      <td>10.85</td>\n      <td>0.01257</td>\n      <td>0.1044</td>\n      <td>271.2</td>\n      <td>-88888765432345.0</td>\n      <td>21.7</td>\n      <td>0.06141</td>\n      <td>-88888765432345.0</td>\n      <td>0.008674</td>\n      <td>...</td>\n      <td>0.02047</td>\n      <td>-88888765432345.0</td>\n      <td>0.2872</td>\n      <td>B</td>\n      <td>0.00459</td>\n      <td>59.6</td>\n      <td>0.1193</td>\n      <td>0.03044</td>\n      <td>0.01674</td>\n      <td>0.4302</td>\n    </tr>\n    <tr>\n      <th>1051</th>\n      <td>1968.00</td>\n      <td>12.36</td>\n      <td>0.01076</td>\n      <td>0.1018</td>\n      <td>380.3</td>\n      <td>-88888765432345.0</td>\n      <td>21.41</td>\n      <td>0.03582</td>\n      <td>-88888765432345.0</td>\n      <td>0.006159</td>\n      <td>...</td>\n      <td>0.008955</td>\n      <td>-88888765432345.0</td>\n      <td>0.2976</td>\n      <td>B</td>\n      <td>0.00206</td>\n      <td>70.95</td>\n      <td>0.1108</td>\n      <td>0.02694</td>\n      <td>0.009442</td>\n      <td>0.2865</td>\n    </tr>\n    <tr>\n      <th>1057</th>\n      <td>1.34</td>\n      <td>13.5</td>\n      <td>0.01924</td>\n      <td>0.09667</td>\n      <td>492.1</td>\n      <td>-88888765432345.0</td>\n      <td>13.78</td>\n      <td>-88888765432345.0</td>\n      <td>0.006064</td>\n      <td>0.007978</td>\n      <td>...</td>\n      <td>-88888765432345.0</td>\n      <td>0.1638</td>\n      <td>0.2369</td>\n      <td>B</td>\n      <td>0.001392</td>\n      <td>-88888765432345.0</td>\n      <td>0.1472</td>\n      <td>0.01374</td>\n      <td>-88888765432345.0</td>\n      <td>0.1807</td>\n    </tr>\n    <tr>\n      <th>1202</th>\n      <td>1778.00</td>\n      <td>14.24</td>\n      <td>0.02315</td>\n      <td>0.09934</td>\n      <td>506.3</td>\n      <td>-88888765432345.0</td>\n      <td>18.0</td>\n      <td>0.1731</td>\n      <td>0.005293</td>\n      <td>0.008179</td>\n      <td>...</td>\n      <td>0.03889</td>\n      <td>0.1718</td>\n      <td>0.2779</td>\n      <td>B</td>\n      <td>0.002848</td>\n      <td>83.19</td>\n      <td>-88888765432345.0</td>\n      <td>0.01748</td>\n      <td>0.01661</td>\n      <td>0.2655</td>\n    </tr>\n    <tr>\n      <th>1312</th>\n      <td>1657.00</td>\n      <td>14.34</td>\n      <td>0.01762</td>\n      <td>0.08369</td>\n      <td>520.2</td>\n      <td>-88888765432345.0</td>\n      <td>25.13</td>\n      <td>0.04462</td>\n      <td>0.006054</td>\n      <td>0.006336</td>\n      <td>...</td>\n      <td>0.01206</td>\n      <td>-88888765432345.0</td>\n      <td>0.2306</td>\n      <td>B</td>\n      <td>0.001514</td>\n      <td>82.61</td>\n      <td>0.1093</td>\n      <td>0.01215</td>\n      <td>0.008974</td>\n      <td>0.2621</td>\n    </tr>\n    <tr>\n      <th>2048</th>\n      <td>2153.00</td>\n      <td>-88888765432345.0</td>\n      <td>109.00000</td>\n      <td>0.1141</td>\n      <td>895.0</td>\n      <td>-88888765432345.0</td>\n      <td>19.08</td>\n      <td>0.5018</td>\n      <td>0.005532</td>\n      <td>0.01384</td>\n      <td>...</td>\n      <td>191.0</td>\n      <td>0.2131</td>\n      <td>-88888765432345.0</td>\n      <td>M</td>\n      <td>-88888765432345.0</td>\n      <td>113.4</td>\n      <td>0.3934</td>\n      <td>0.01177</td>\n      <td>0.02008</td>\n      <td>-88888765432345.0</td>\n    </tr>\n    <tr>\n      <th>2108</th>\n      <td>3198.00</td>\n      <td>13.24</td>\n      <td>0.03791</td>\n      <td>0.08605</td>\n      <td>441.0</td>\n      <td>-88888765432345.0</td>\n      <td>20.76</td>\n      <td>-88888765432345.0</td>\n      <td>0.006719</td>\n      <td>0.01633</td>\n      <td>...</td>\n      <td>0.06574</td>\n      <td>0.1588</td>\n      <td>0.2465</td>\n      <td>B</td>\n      <td>0.008015</td>\n      <td>77.87</td>\n      <td>0.2813</td>\n      <td>0.01872</td>\n      <td>0.05156</td>\n      <td>0.2742</td>\n    </tr>\n    <tr>\n      <th>2164</th>\n      <td>2652.00</td>\n      <td>14.08</td>\n      <td>0.06556</td>\n      <td>0.1291</td>\n      <td>-88888765432345.0</td>\n      <td>-88888765432345.0</td>\n      <td>10.94</td>\n      <td>0.08539</td>\n      <td>0.0134</td>\n      <td>0.008239</td>\n      <td>...</td>\n      <td>0.06877</td>\n      <td>0.2403</td>\n      <td>271.0</td>\n      <td>B</td>\n      <td>0.006164</td>\n      <td>87.91</td>\n      <td>0.1379</td>\n      <td>0.02572</td>\n      <td>0.02839</td>\n      <td>-88888765432345.0</td>\n    </tr>\n    <tr>\n      <th>2834</th>\n      <td>2579.00</td>\n      <td>13.46</td>\n      <td>0.03099</td>\n      <td>0.08451</td>\n      <td>-88888765432345.0</td>\n      <td>-88888765432345.0</td>\n      <td>19.89</td>\n      <td>-88888765432345.0</td>\n      <td>0.00653</td>\n      <td>0.01403</td>\n      <td>...</td>\n      <td>0.0683</td>\n      <td>0.1781</td>\n      <td>0.2685</td>\n      <td>B</td>\n      <td>0.004651</td>\n      <td>80.43</td>\n      <td>0.2158</td>\n      <td>0.0274</td>\n      <td>0.03369</td>\n      <td>0.3642</td>\n    </tr>\n    <tr>\n      <th>2924</th>\n      <td>3399.00</td>\n      <td>15.3</td>\n      <td>0.07798</td>\n      <td>0.07837</td>\n      <td>629.9</td>\n      <td>-88888765432345.0</td>\n      <td>19.65</td>\n      <td>0.6783</td>\n      <td>0.005298</td>\n      <td>0.02292</td>\n      <td>...</td>\n      <td>0.3003</td>\n      <td>0.1704</td>\n      <td>0.2398</td>\n      <td>B</td>\n      <td>0.01298</td>\n      <td>97.83</td>\n      <td>-88888765432345.0</td>\n      <td>-88888765432345.0</td>\n      <td>0.07446</td>\n      <td>-88888765432345.0</td>\n    </tr>\n  </tbody>\n</table>\n<p>18 rows × 31 columns</p>\n</div>"
     },
     "execution_count": 409,
     "metadata": {},
     "output_type": "execute_result"
    }
   ],
   "source": [
    "mask_ccativy"
   ],
   "metadata": {
    "collapsed": false,
    "pycharm": {
     "name": "#%%\n"
    }
   }
  },
  {
   "cell_type": "code",
   "execution_count": 410,
   "outputs": [
    {
     "name": "stderr",
     "output_type": "stream",
     "text": [
      "C:\\Users\\NICON\\AppData\\Local\\Temp\\ipykernel_10184\\2807251704.py:3: SettingWithCopyWarning: \n",
      "A value is trying to be set on a copy of a slice from a DataFrame\n",
      "\n",
      "See the caveats in the documentation: https://pandas.pydata.org/pandas-docs/stable/user_guide/indexing.html#returning-a-view-versus-a-copy\n",
      "  df.drop(df[df['concavity_se']==i].index,inplace=True,axis=0)\n"
     ]
    }
   ],
   "source": [
    "list=['rxctf378968 7656463sdfg','-88888765432345.0','999765432456788.0']\n",
    "for i in list:\n",
    "       df.drop(df[df['concavity_se']==i].index,inplace=True,axis=0)"
   ],
   "metadata": {
    "collapsed": false,
    "pycharm": {
     "name": "#%%\n"
    }
   }
  },
  {
   "cell_type": "code",
   "execution_count": 411,
   "outputs": [
    {
     "data": {
      "text/plain": "      perimeter_se       radius_worst  concave points_mean smoothness_mean  \\\n1           1.8300  999765432456788.0              0.03711         0.09516   \n4        2183.0000                NaN              0.02278         0.09524   \n5        2225.0000              13.28              0.01162         0.07561   \n7        1103.0000              12.82              0.02623         0.09373   \n8        4877.0000                NaN            106.00000          0.1148   \n...            ...                ...                  ...             ...   \n3882     2355.0000                NaN              0.03250           115.0   \n3900        0.9857                NaN              0.02166          0.1096   \n3908     2903.0000              16.84              0.05364         0.08401   \n3929     4795.0000              16.46             63.00000          0.1031   \n3933           NaN             9456.0              0.00000         0.05263   \n\n     area_mean concavity_se texture_mean concavity_worst smoothness_se  \\\n1        587.4      0.01457        15.18          0.1456      0.004235   \n4        409.0      0.01349        18.75             NaN      0.008328   \n5        421.0     0.005949        17.07         0.03046      0.006583   \n7        403.3      0.01514        10.82          0.2102           NaN   \n8       1033.0      0.02817         18.7          0.2623      0.003899   \n...        ...          ...          ...             ...           ...   \n3882     420.3          NaN        15.45          0.1087      0.009536   \n3900     453.1          NaN        20.04          0.3535      0.006272   \n3908       NaN      0.05051        23.95          0.2322      0.009769   \n3929     656.1          NaN        13.98          0.3219      0.009976   \n3933     181.0          NaN        24.54             0.0      0.007189   \n\n      concave points_se  ...     concavity_mean symmetry_mean symmetry_worst  \\\n1     999765432456788.0  ...  999765432456788.0         211.0         0.2955   \n4               0.00867  ...                NaN           NaN         0.3306   \n5              0.006296  ...           0.008306        0.1671         0.2731   \n7                   NaN  ...            0.03512        0.1667         0.3016   \n8                   NaN  ...             0.1772        0.2092         0.3021   \n...                 ...  ...                ...           ...            ...   \n3882                NaN  ...            0.04006           NaN         0.2765   \n3900                NaN  ...            0.08175           NaN         0.2709   \n3908            0.01992  ...            0.09938        0.1847         0.2809   \n3929             0.0158  ...                NaN        0.2086         0.2827   \n3933                NaN  ...                NaN        0.1587         0.2871   \n\n     diagnosis fractal_dimension_se     perimeter_mean compactness_worst  \\\n1            B             0.001593  999765432456788.0            0.1724   \n4            B             0.002386              73.34               NaN   \n5            B             0.002668               73.7           0.06476   \n7            B             0.002206              73.34             239.0   \n8            M             0.005126                NaN            0.2297   \n...        ...                  ...                ...               ...   \n3882         B               0.0031              75.03               NaN   \n3900         B                  NaN                NaN            0.2315   \n3908         M             0.003002                NaN            0.1924   \n3929         B                  NaN              98.22               NaN   \n3933         B             0.002783              47.92           0.06444   \n\n     symmetry_se compactness_se          radius_se  \n1        0.01528        0.01541  999765432456788.0  \n4        0.03218       0.008722             0.3249  \n5        0.02216       0.006991             0.3534  \n7        0.01344            NaN                NaN  \n8        0.02674        0.02961             0.8337  \n...          ...            ...                ...  \n3882     0.01953        0.01097             0.3446  \n3900         NaN            NaN             0.1811  \n3908     0.02981            NaN             0.4033  \n3929         NaN        0.05244             0.5462  \n3933         NaN        0.00466             0.3857  \n\n[785 rows x 31 columns]",
      "text/html": "<div>\n<style scoped>\n    .dataframe tbody tr th:only-of-type {\n        vertical-align: middle;\n    }\n\n    .dataframe tbody tr th {\n        vertical-align: top;\n    }\n\n    .dataframe thead th {\n        text-align: right;\n    }\n</style>\n<table border=\"1\" class=\"dataframe\">\n  <thead>\n    <tr style=\"text-align: right;\">\n      <th></th>\n      <th>perimeter_se</th>\n      <th>radius_worst</th>\n      <th>concave points_mean</th>\n      <th>smoothness_mean</th>\n      <th>area_mean</th>\n      <th>concavity_se</th>\n      <th>texture_mean</th>\n      <th>concavity_worst</th>\n      <th>smoothness_se</th>\n      <th>concave points_se</th>\n      <th>...</th>\n      <th>concavity_mean</th>\n      <th>symmetry_mean</th>\n      <th>symmetry_worst</th>\n      <th>diagnosis</th>\n      <th>fractal_dimension_se</th>\n      <th>perimeter_mean</th>\n      <th>compactness_worst</th>\n      <th>symmetry_se</th>\n      <th>compactness_se</th>\n      <th>radius_se</th>\n    </tr>\n  </thead>\n  <tbody>\n    <tr>\n      <th>1</th>\n      <td>1.8300</td>\n      <td>999765432456788.0</td>\n      <td>0.03711</td>\n      <td>0.09516</td>\n      <td>587.4</td>\n      <td>0.01457</td>\n      <td>15.18</td>\n      <td>0.1456</td>\n      <td>0.004235</td>\n      <td>999765432456788.0</td>\n      <td>...</td>\n      <td>999765432456788.0</td>\n      <td>211.0</td>\n      <td>0.2955</td>\n      <td>B</td>\n      <td>0.001593</td>\n      <td>999765432456788.0</td>\n      <td>0.1724</td>\n      <td>0.01528</td>\n      <td>0.01541</td>\n      <td>999765432456788.0</td>\n    </tr>\n    <tr>\n      <th>4</th>\n      <td>2183.0000</td>\n      <td>NaN</td>\n      <td>0.02278</td>\n      <td>0.09524</td>\n      <td>409.0</td>\n      <td>0.01349</td>\n      <td>18.75</td>\n      <td>NaN</td>\n      <td>0.008328</td>\n      <td>0.00867</td>\n      <td>...</td>\n      <td>NaN</td>\n      <td>NaN</td>\n      <td>0.3306</td>\n      <td>B</td>\n      <td>0.002386</td>\n      <td>73.34</td>\n      <td>NaN</td>\n      <td>0.03218</td>\n      <td>0.008722</td>\n      <td>0.3249</td>\n    </tr>\n    <tr>\n      <th>5</th>\n      <td>2225.0000</td>\n      <td>13.28</td>\n      <td>0.01162</td>\n      <td>0.07561</td>\n      <td>421.0</td>\n      <td>0.005949</td>\n      <td>17.07</td>\n      <td>0.03046</td>\n      <td>0.006583</td>\n      <td>0.006296</td>\n      <td>...</td>\n      <td>0.008306</td>\n      <td>0.1671</td>\n      <td>0.2731</td>\n      <td>B</td>\n      <td>0.002668</td>\n      <td>73.7</td>\n      <td>0.06476</td>\n      <td>0.02216</td>\n      <td>0.006991</td>\n      <td>0.3534</td>\n    </tr>\n    <tr>\n      <th>7</th>\n      <td>1103.0000</td>\n      <td>12.82</td>\n      <td>0.02623</td>\n      <td>0.09373</td>\n      <td>403.3</td>\n      <td>0.01514</td>\n      <td>10.82</td>\n      <td>0.2102</td>\n      <td>NaN</td>\n      <td>NaN</td>\n      <td>...</td>\n      <td>0.03512</td>\n      <td>0.1667</td>\n      <td>0.3016</td>\n      <td>B</td>\n      <td>0.002206</td>\n      <td>73.34</td>\n      <td>239.0</td>\n      <td>0.01344</td>\n      <td>NaN</td>\n      <td>NaN</td>\n    </tr>\n    <tr>\n      <th>8</th>\n      <td>4877.0000</td>\n      <td>NaN</td>\n      <td>106.00000</td>\n      <td>0.1148</td>\n      <td>1033.0</td>\n      <td>0.02817</td>\n      <td>18.7</td>\n      <td>0.2623</td>\n      <td>0.003899</td>\n      <td>NaN</td>\n      <td>...</td>\n      <td>0.1772</td>\n      <td>0.2092</td>\n      <td>0.3021</td>\n      <td>M</td>\n      <td>0.005126</td>\n      <td>NaN</td>\n      <td>0.2297</td>\n      <td>0.02674</td>\n      <td>0.02961</td>\n      <td>0.8337</td>\n    </tr>\n    <tr>\n      <th>...</th>\n      <td>...</td>\n      <td>...</td>\n      <td>...</td>\n      <td>...</td>\n      <td>...</td>\n      <td>...</td>\n      <td>...</td>\n      <td>...</td>\n      <td>...</td>\n      <td>...</td>\n      <td>...</td>\n      <td>...</td>\n      <td>...</td>\n      <td>...</td>\n      <td>...</td>\n      <td>...</td>\n      <td>...</td>\n      <td>...</td>\n      <td>...</td>\n      <td>...</td>\n      <td>...</td>\n    </tr>\n    <tr>\n      <th>3882</th>\n      <td>2355.0000</td>\n      <td>NaN</td>\n      <td>0.03250</td>\n      <td>115.0</td>\n      <td>420.3</td>\n      <td>NaN</td>\n      <td>15.45</td>\n      <td>0.1087</td>\n      <td>0.009536</td>\n      <td>NaN</td>\n      <td>...</td>\n      <td>0.04006</td>\n      <td>NaN</td>\n      <td>0.2765</td>\n      <td>B</td>\n      <td>0.0031</td>\n      <td>75.03</td>\n      <td>NaN</td>\n      <td>0.01953</td>\n      <td>0.01097</td>\n      <td>0.3446</td>\n    </tr>\n    <tr>\n      <th>3900</th>\n      <td>0.9857</td>\n      <td>NaN</td>\n      <td>0.02166</td>\n      <td>0.1096</td>\n      <td>453.1</td>\n      <td>NaN</td>\n      <td>20.04</td>\n      <td>0.3535</td>\n      <td>0.006272</td>\n      <td>NaN</td>\n      <td>...</td>\n      <td>0.08175</td>\n      <td>NaN</td>\n      <td>0.2709</td>\n      <td>B</td>\n      <td>NaN</td>\n      <td>NaN</td>\n      <td>0.2315</td>\n      <td>NaN</td>\n      <td>NaN</td>\n      <td>0.1811</td>\n    </tr>\n    <tr>\n      <th>3908</th>\n      <td>2903.0000</td>\n      <td>16.84</td>\n      <td>0.05364</td>\n      <td>0.08401</td>\n      <td>NaN</td>\n      <td>0.05051</td>\n      <td>23.95</td>\n      <td>0.2322</td>\n      <td>0.009769</td>\n      <td>0.01992</td>\n      <td>...</td>\n      <td>0.09938</td>\n      <td>0.1847</td>\n      <td>0.2809</td>\n      <td>M</td>\n      <td>0.003002</td>\n      <td>NaN</td>\n      <td>0.1924</td>\n      <td>0.02981</td>\n      <td>NaN</td>\n      <td>0.4033</td>\n    </tr>\n    <tr>\n      <th>3929</th>\n      <td>4795.0000</td>\n      <td>16.46</td>\n      <td>63.00000</td>\n      <td>0.1031</td>\n      <td>656.1</td>\n      <td>NaN</td>\n      <td>13.98</td>\n      <td>0.3219</td>\n      <td>0.009976</td>\n      <td>0.0158</td>\n      <td>...</td>\n      <td>NaN</td>\n      <td>0.2086</td>\n      <td>0.2827</td>\n      <td>B</td>\n      <td>NaN</td>\n      <td>98.22</td>\n      <td>NaN</td>\n      <td>NaN</td>\n      <td>0.05244</td>\n      <td>0.5462</td>\n    </tr>\n    <tr>\n      <th>3933</th>\n      <td>NaN</td>\n      <td>9456.0</td>\n      <td>0.00000</td>\n      <td>0.05263</td>\n      <td>181.0</td>\n      <td>NaN</td>\n      <td>24.54</td>\n      <td>0.0</td>\n      <td>0.007189</td>\n      <td>NaN</td>\n      <td>...</td>\n      <td>NaN</td>\n      <td>0.1587</td>\n      <td>0.2871</td>\n      <td>B</td>\n      <td>0.002783</td>\n      <td>47.92</td>\n      <td>0.06444</td>\n      <td>NaN</td>\n      <td>0.00466</td>\n      <td>0.3857</td>\n    </tr>\n  </tbody>\n</table>\n<p>785 rows × 31 columns</p>\n</div>"
     },
     "execution_count": 411,
     "metadata": {},
     "output_type": "execute_result"
    }
   ],
   "source": [
    "df"
   ],
   "metadata": {
    "collapsed": false,
    "pycharm": {
     "name": "#%%\n"
    }
   }
  },
  {
   "cell_type": "code",
   "execution_count": 412,
   "outputs": [
    {
     "data": {
      "text/plain": "      perimeter_se       radius_worst  concave points_mean smoothness_mean  \\\n115         1334.0  -88888765432345.0             0.052520         0.09714   \n224         1199.0              13.35             0.008535         0.08313   \n369         2615.0  -88888765432345.0             0.038900         0.08837   \n710         7749.0              32.49             0.086460         0.09469   \n750         1286.0              15.98             0.019390         0.08421   \n754         1101.0               14.0             0.001852         0.06251   \n943         3142.0              17.98             0.034380         0.09048   \n1245        1831.0              12.33             0.022300         0.08139   \n\n              area_mean concavity_se       texture_mean    concavity_worst  \\\n115   -88888765432345.0      0.01452              21.81             0.3728   \n224               464.4     0.007004              19.02  -88888765432345.0   \n369               656.4      0.03829  -88888765432345.0              404.0   \n710   -88888765432345.0      0.02143              31.12             0.3442   \n750               690.2     0.008268              19.76             0.0775   \n754               526.4     0.001595              22.22           0.007977   \n943               565.4      0.02151              19.63  -88888765432345.0   \n1245              394.1      0.02063              19.04             0.1444   \n\n          smoothness_se concave points_se  ...     concavity_mean  \\\n115   -88888765432345.0          0.006853  ...            0.08259   \n224   -88888765432345.0          0.006522  ...  -88888765432345.0   \n369   -88888765432345.0           0.01162  ...             0.1009   \n710   -88888765432345.0           0.00928  ...             0.1367   \n750   -88888765432345.0          0.006432  ...            0.01947   \n754   -88888765432345.0          0.001852  ...           0.001595   \n943   -88888765432345.0          0.009443  ...  -88888765432345.0   \n1245  -88888765432345.0          0.008965  ...            0.03709   \n\n          symmetry_mean     symmetry_worst diagnosis fractal_dimension_se  \\\n115              0.1746             0.3693         M              0.00172   \n224              0.1539             0.2554         B             0.002222   \n369              0.1872             0.3187         B             0.006111   \n710   -88888765432345.0             0.2868         M             0.002299   \n750              0.1515  -88888765432345.0         B              0.00152   \n754              0.1395             0.2295         B    -88888765432345.0   \n943              0.1598             0.2884         M    -88888765432345.0   \n1245             0.1516               0.24         B             0.002146   \n\n     perimeter_mean compactness_worst symmetry_se     compactness_se  \\\n115           85.42            0.3904     0.01113            0.01384   \n224           77.88           0.09052     0.01939  -88888765432345.0   \n369           95.81            0.4202     0.02068            0.04653   \n710           135.7            0.2644     0.01367            0.01478   \n750            95.5           0.09995     0.01924           0.007983   \n754           82.01           0.03432     0.01613           0.002252   \n943           85.84            0.1546      0.0152            0.01063   \n1245           71.8           0.09148     0.02183           0.009216   \n\n              radius_se  \n115   -88888765432345.0  \n224               184.0  \n369              0.2542  \n710              1172.0  \n750               184.0  \n754              0.1731  \n943              0.4697  \n1245  -88888765432345.0  \n\n[8 rows x 31 columns]",
      "text/html": "<div>\n<style scoped>\n    .dataframe tbody tr th:only-of-type {\n        vertical-align: middle;\n    }\n\n    .dataframe tbody tr th {\n        vertical-align: top;\n    }\n\n    .dataframe thead th {\n        text-align: right;\n    }\n</style>\n<table border=\"1\" class=\"dataframe\">\n  <thead>\n    <tr style=\"text-align: right;\">\n      <th></th>\n      <th>perimeter_se</th>\n      <th>radius_worst</th>\n      <th>concave points_mean</th>\n      <th>smoothness_mean</th>\n      <th>area_mean</th>\n      <th>concavity_se</th>\n      <th>texture_mean</th>\n      <th>concavity_worst</th>\n      <th>smoothness_se</th>\n      <th>concave points_se</th>\n      <th>...</th>\n      <th>concavity_mean</th>\n      <th>symmetry_mean</th>\n      <th>symmetry_worst</th>\n      <th>diagnosis</th>\n      <th>fractal_dimension_se</th>\n      <th>perimeter_mean</th>\n      <th>compactness_worst</th>\n      <th>symmetry_se</th>\n      <th>compactness_se</th>\n      <th>radius_se</th>\n    </tr>\n  </thead>\n  <tbody>\n    <tr>\n      <th>115</th>\n      <td>1334.0</td>\n      <td>-88888765432345.0</td>\n      <td>0.052520</td>\n      <td>0.09714</td>\n      <td>-88888765432345.0</td>\n      <td>0.01452</td>\n      <td>21.81</td>\n      <td>0.3728</td>\n      <td>-88888765432345.0</td>\n      <td>0.006853</td>\n      <td>...</td>\n      <td>0.08259</td>\n      <td>0.1746</td>\n      <td>0.3693</td>\n      <td>M</td>\n      <td>0.00172</td>\n      <td>85.42</td>\n      <td>0.3904</td>\n      <td>0.01113</td>\n      <td>0.01384</td>\n      <td>-88888765432345.0</td>\n    </tr>\n    <tr>\n      <th>224</th>\n      <td>1199.0</td>\n      <td>13.35</td>\n      <td>0.008535</td>\n      <td>0.08313</td>\n      <td>464.4</td>\n      <td>0.007004</td>\n      <td>19.02</td>\n      <td>-88888765432345.0</td>\n      <td>-88888765432345.0</td>\n      <td>0.006522</td>\n      <td>...</td>\n      <td>-88888765432345.0</td>\n      <td>0.1539</td>\n      <td>0.2554</td>\n      <td>B</td>\n      <td>0.002222</td>\n      <td>77.88</td>\n      <td>0.09052</td>\n      <td>0.01939</td>\n      <td>-88888765432345.0</td>\n      <td>184.0</td>\n    </tr>\n    <tr>\n      <th>369</th>\n      <td>2615.0</td>\n      <td>-88888765432345.0</td>\n      <td>0.038900</td>\n      <td>0.08837</td>\n      <td>656.4</td>\n      <td>0.03829</td>\n      <td>-88888765432345.0</td>\n      <td>404.0</td>\n      <td>-88888765432345.0</td>\n      <td>0.01162</td>\n      <td>...</td>\n      <td>0.1009</td>\n      <td>0.1872</td>\n      <td>0.3187</td>\n      <td>B</td>\n      <td>0.006111</td>\n      <td>95.81</td>\n      <td>0.4202</td>\n      <td>0.02068</td>\n      <td>0.04653</td>\n      <td>0.2542</td>\n    </tr>\n    <tr>\n      <th>710</th>\n      <td>7749.0</td>\n      <td>32.49</td>\n      <td>0.086460</td>\n      <td>0.09469</td>\n      <td>-88888765432345.0</td>\n      <td>0.02143</td>\n      <td>31.12</td>\n      <td>0.3442</td>\n      <td>-88888765432345.0</td>\n      <td>0.00928</td>\n      <td>...</td>\n      <td>0.1367</td>\n      <td>-88888765432345.0</td>\n      <td>0.2868</td>\n      <td>M</td>\n      <td>0.002299</td>\n      <td>135.7</td>\n      <td>0.2644</td>\n      <td>0.01367</td>\n      <td>0.01478</td>\n      <td>1172.0</td>\n    </tr>\n    <tr>\n      <th>750</th>\n      <td>1286.0</td>\n      <td>15.98</td>\n      <td>0.019390</td>\n      <td>0.08421</td>\n      <td>690.2</td>\n      <td>0.008268</td>\n      <td>19.76</td>\n      <td>0.0775</td>\n      <td>-88888765432345.0</td>\n      <td>0.006432</td>\n      <td>...</td>\n      <td>0.01947</td>\n      <td>0.1515</td>\n      <td>-88888765432345.0</td>\n      <td>B</td>\n      <td>0.00152</td>\n      <td>95.5</td>\n      <td>0.09995</td>\n      <td>0.01924</td>\n      <td>0.007983</td>\n      <td>184.0</td>\n    </tr>\n    <tr>\n      <th>754</th>\n      <td>1101.0</td>\n      <td>14.0</td>\n      <td>0.001852</td>\n      <td>0.06251</td>\n      <td>526.4</td>\n      <td>0.001595</td>\n      <td>22.22</td>\n      <td>0.007977</td>\n      <td>-88888765432345.0</td>\n      <td>0.001852</td>\n      <td>...</td>\n      <td>0.001595</td>\n      <td>0.1395</td>\n      <td>0.2295</td>\n      <td>B</td>\n      <td>-88888765432345.0</td>\n      <td>82.01</td>\n      <td>0.03432</td>\n      <td>0.01613</td>\n      <td>0.002252</td>\n      <td>0.1731</td>\n    </tr>\n    <tr>\n      <th>943</th>\n      <td>3142.0</td>\n      <td>17.98</td>\n      <td>0.034380</td>\n      <td>0.09048</td>\n      <td>565.4</td>\n      <td>0.02151</td>\n      <td>19.63</td>\n      <td>-88888765432345.0</td>\n      <td>-88888765432345.0</td>\n      <td>0.009443</td>\n      <td>...</td>\n      <td>-88888765432345.0</td>\n      <td>0.1598</td>\n      <td>0.2884</td>\n      <td>M</td>\n      <td>-88888765432345.0</td>\n      <td>85.84</td>\n      <td>0.1546</td>\n      <td>0.0152</td>\n      <td>0.01063</td>\n      <td>0.4697</td>\n    </tr>\n    <tr>\n      <th>1245</th>\n      <td>1831.0</td>\n      <td>12.33</td>\n      <td>0.022300</td>\n      <td>0.08139</td>\n      <td>394.1</td>\n      <td>0.02063</td>\n      <td>19.04</td>\n      <td>0.1444</td>\n      <td>-88888765432345.0</td>\n      <td>0.008965</td>\n      <td>...</td>\n      <td>0.03709</td>\n      <td>0.1516</td>\n      <td>0.24</td>\n      <td>B</td>\n      <td>0.002146</td>\n      <td>71.8</td>\n      <td>0.09148</td>\n      <td>0.02183</td>\n      <td>0.009216</td>\n      <td>-88888765432345.0</td>\n    </tr>\n  </tbody>\n</table>\n<p>8 rows × 31 columns</p>\n</div>"
     },
     "execution_count": 412,
     "metadata": {},
     "output_type": "execute_result"
    }
   ],
   "source": [
    "mask_smooth=df[df['smoothness_se']=='-88888765432345.0']\n",
    "mask_smooth"
   ],
   "metadata": {
    "collapsed": false,
    "pycharm": {
     "name": "#%%\n"
    }
   }
  },
  {
   "cell_type": "code",
   "execution_count": 413,
   "outputs": [
    {
     "data": {
      "text/plain": "999765432456788.0          10\nrxctf378968 7656463sdfg     9\n-88888765432345.0           8\n0.007189                    4\n0.00591                     3\n                           ..\n0.007501                    1\n0.004452                    1\n0.01159                     1\n0.007897                    1\n0.009976                    1\nName: smoothness_se, Length: 455, dtype: int64"
     },
     "execution_count": 413,
     "metadata": {},
     "output_type": "execute_result"
    }
   ],
   "source": [
    "df['smoothness_se'].value_counts()"
   ],
   "metadata": {
    "collapsed": false,
    "pycharm": {
     "name": "#%%\n"
    }
   }
  },
  {
   "cell_type": "code",
   "execution_count": 414,
   "outputs": [
    {
     "name": "stderr",
     "output_type": "stream",
     "text": [
      "C:\\Users\\NICON\\AppData\\Local\\Temp\\ipykernel_10184\\3745801658.py:3: SettingWithCopyWarning: \n",
      "A value is trying to be set on a copy of a slice from a DataFrame\n",
      "\n",
      "See the caveats in the documentation: https://pandas.pydata.org/pandas-docs/stable/user_guide/indexing.html#returning-a-view-versus-a-copy\n",
      "  df.drop(df[df['smoothness_se']==i].index,inplace=True,axis=0)\n"
     ]
    }
   ],
   "source": [
    "list=['rxctf378968 7656463sdfg','-88888765432345.0','999765432456788.0']\n",
    "for i in list:\n",
    "       df.drop(df[df['smoothness_se']==i].index,inplace=True,axis=0)"
   ],
   "metadata": {
    "collapsed": false,
    "pycharm": {
     "name": "#%%\n"
    }
   }
  },
  {
   "cell_type": "code",
   "execution_count": 415,
   "outputs": [
    {
     "data": {
      "text/plain": "      perimeter_se       radius_worst  concave points_mean smoothness_mean  \\\n1           1.8300  999765432456788.0              0.03711         0.09516   \n4        2183.0000                NaN              0.02278         0.09524   \n5        2225.0000              13.28              0.01162         0.07561   \n7        1103.0000              12.82              0.02623         0.09373   \n8        4877.0000                NaN            106.00000          0.1148   \n...            ...                ...                  ...             ...   \n3882     2355.0000                NaN              0.03250           115.0   \n3900        0.9857                NaN              0.02166          0.1096   \n3908     2903.0000              16.84              0.05364         0.08401   \n3929     4795.0000              16.46             63.00000          0.1031   \n3933           NaN             9456.0              0.00000         0.05263   \n\n     area_mean concavity_se texture_mean concavity_worst smoothness_se  \\\n1        587.4      0.01457        15.18          0.1456      0.004235   \n4        409.0      0.01349        18.75             NaN      0.008328   \n5        421.0     0.005949        17.07         0.03046      0.006583   \n7        403.3      0.01514        10.82          0.2102           NaN   \n8       1033.0      0.02817         18.7          0.2623      0.003899   \n...        ...          ...          ...             ...           ...   \n3882     420.3          NaN        15.45          0.1087      0.009536   \n3900     453.1          NaN        20.04          0.3535      0.006272   \n3908       NaN      0.05051        23.95          0.2322      0.009769   \n3929     656.1          NaN        13.98          0.3219      0.009976   \n3933     181.0          NaN        24.54             0.0      0.007189   \n\n      concave points_se  ...     concavity_mean symmetry_mean symmetry_worst  \\\n1     999765432456788.0  ...  999765432456788.0         211.0         0.2955   \n4               0.00867  ...                NaN           NaN         0.3306   \n5              0.006296  ...           0.008306        0.1671         0.2731   \n7                   NaN  ...            0.03512        0.1667         0.3016   \n8                   NaN  ...             0.1772        0.2092         0.3021   \n...                 ...  ...                ...           ...            ...   \n3882                NaN  ...            0.04006           NaN         0.2765   \n3900                NaN  ...            0.08175           NaN         0.2709   \n3908            0.01992  ...            0.09938        0.1847         0.2809   \n3929             0.0158  ...                NaN        0.2086         0.2827   \n3933                NaN  ...                NaN        0.1587         0.2871   \n\n     diagnosis fractal_dimension_se     perimeter_mean compactness_worst  \\\n1            B             0.001593  999765432456788.0            0.1724   \n4            B             0.002386              73.34               NaN   \n5            B             0.002668               73.7           0.06476   \n7            B             0.002206              73.34             239.0   \n8            M             0.005126                NaN            0.2297   \n...        ...                  ...                ...               ...   \n3882         B               0.0031              75.03               NaN   \n3900         B                  NaN                NaN            0.2315   \n3908         M             0.003002                NaN            0.1924   \n3929         B                  NaN              98.22               NaN   \n3933         B             0.002783              47.92           0.06444   \n\n     symmetry_se compactness_se          radius_se  \n1        0.01528        0.01541  999765432456788.0  \n4        0.03218       0.008722             0.3249  \n5        0.02216       0.006991             0.3534  \n7        0.01344            NaN                NaN  \n8        0.02674        0.02961             0.8337  \n...          ...            ...                ...  \n3882     0.01953        0.01097             0.3446  \n3900         NaN            NaN             0.1811  \n3908     0.02981            NaN             0.4033  \n3929         NaN        0.05244             0.5462  \n3933         NaN        0.00466             0.3857  \n\n[758 rows x 31 columns]",
      "text/html": "<div>\n<style scoped>\n    .dataframe tbody tr th:only-of-type {\n        vertical-align: middle;\n    }\n\n    .dataframe tbody tr th {\n        vertical-align: top;\n    }\n\n    .dataframe thead th {\n        text-align: right;\n    }\n</style>\n<table border=\"1\" class=\"dataframe\">\n  <thead>\n    <tr style=\"text-align: right;\">\n      <th></th>\n      <th>perimeter_se</th>\n      <th>radius_worst</th>\n      <th>concave points_mean</th>\n      <th>smoothness_mean</th>\n      <th>area_mean</th>\n      <th>concavity_se</th>\n      <th>texture_mean</th>\n      <th>concavity_worst</th>\n      <th>smoothness_se</th>\n      <th>concave points_se</th>\n      <th>...</th>\n      <th>concavity_mean</th>\n      <th>symmetry_mean</th>\n      <th>symmetry_worst</th>\n      <th>diagnosis</th>\n      <th>fractal_dimension_se</th>\n      <th>perimeter_mean</th>\n      <th>compactness_worst</th>\n      <th>symmetry_se</th>\n      <th>compactness_se</th>\n      <th>radius_se</th>\n    </tr>\n  </thead>\n  <tbody>\n    <tr>\n      <th>1</th>\n      <td>1.8300</td>\n      <td>999765432456788.0</td>\n      <td>0.03711</td>\n      <td>0.09516</td>\n      <td>587.4</td>\n      <td>0.01457</td>\n      <td>15.18</td>\n      <td>0.1456</td>\n      <td>0.004235</td>\n      <td>999765432456788.0</td>\n      <td>...</td>\n      <td>999765432456788.0</td>\n      <td>211.0</td>\n      <td>0.2955</td>\n      <td>B</td>\n      <td>0.001593</td>\n      <td>999765432456788.0</td>\n      <td>0.1724</td>\n      <td>0.01528</td>\n      <td>0.01541</td>\n      <td>999765432456788.0</td>\n    </tr>\n    <tr>\n      <th>4</th>\n      <td>2183.0000</td>\n      <td>NaN</td>\n      <td>0.02278</td>\n      <td>0.09524</td>\n      <td>409.0</td>\n      <td>0.01349</td>\n      <td>18.75</td>\n      <td>NaN</td>\n      <td>0.008328</td>\n      <td>0.00867</td>\n      <td>...</td>\n      <td>NaN</td>\n      <td>NaN</td>\n      <td>0.3306</td>\n      <td>B</td>\n      <td>0.002386</td>\n      <td>73.34</td>\n      <td>NaN</td>\n      <td>0.03218</td>\n      <td>0.008722</td>\n      <td>0.3249</td>\n    </tr>\n    <tr>\n      <th>5</th>\n      <td>2225.0000</td>\n      <td>13.28</td>\n      <td>0.01162</td>\n      <td>0.07561</td>\n      <td>421.0</td>\n      <td>0.005949</td>\n      <td>17.07</td>\n      <td>0.03046</td>\n      <td>0.006583</td>\n      <td>0.006296</td>\n      <td>...</td>\n      <td>0.008306</td>\n      <td>0.1671</td>\n      <td>0.2731</td>\n      <td>B</td>\n      <td>0.002668</td>\n      <td>73.7</td>\n      <td>0.06476</td>\n      <td>0.02216</td>\n      <td>0.006991</td>\n      <td>0.3534</td>\n    </tr>\n    <tr>\n      <th>7</th>\n      <td>1103.0000</td>\n      <td>12.82</td>\n      <td>0.02623</td>\n      <td>0.09373</td>\n      <td>403.3</td>\n      <td>0.01514</td>\n      <td>10.82</td>\n      <td>0.2102</td>\n      <td>NaN</td>\n      <td>NaN</td>\n      <td>...</td>\n      <td>0.03512</td>\n      <td>0.1667</td>\n      <td>0.3016</td>\n      <td>B</td>\n      <td>0.002206</td>\n      <td>73.34</td>\n      <td>239.0</td>\n      <td>0.01344</td>\n      <td>NaN</td>\n      <td>NaN</td>\n    </tr>\n    <tr>\n      <th>8</th>\n      <td>4877.0000</td>\n      <td>NaN</td>\n      <td>106.00000</td>\n      <td>0.1148</td>\n      <td>1033.0</td>\n      <td>0.02817</td>\n      <td>18.7</td>\n      <td>0.2623</td>\n      <td>0.003899</td>\n      <td>NaN</td>\n      <td>...</td>\n      <td>0.1772</td>\n      <td>0.2092</td>\n      <td>0.3021</td>\n      <td>M</td>\n      <td>0.005126</td>\n      <td>NaN</td>\n      <td>0.2297</td>\n      <td>0.02674</td>\n      <td>0.02961</td>\n      <td>0.8337</td>\n    </tr>\n    <tr>\n      <th>...</th>\n      <td>...</td>\n      <td>...</td>\n      <td>...</td>\n      <td>...</td>\n      <td>...</td>\n      <td>...</td>\n      <td>...</td>\n      <td>...</td>\n      <td>...</td>\n      <td>...</td>\n      <td>...</td>\n      <td>...</td>\n      <td>...</td>\n      <td>...</td>\n      <td>...</td>\n      <td>...</td>\n      <td>...</td>\n      <td>...</td>\n      <td>...</td>\n      <td>...</td>\n      <td>...</td>\n    </tr>\n    <tr>\n      <th>3882</th>\n      <td>2355.0000</td>\n      <td>NaN</td>\n      <td>0.03250</td>\n      <td>115.0</td>\n      <td>420.3</td>\n      <td>NaN</td>\n      <td>15.45</td>\n      <td>0.1087</td>\n      <td>0.009536</td>\n      <td>NaN</td>\n      <td>...</td>\n      <td>0.04006</td>\n      <td>NaN</td>\n      <td>0.2765</td>\n      <td>B</td>\n      <td>0.0031</td>\n      <td>75.03</td>\n      <td>NaN</td>\n      <td>0.01953</td>\n      <td>0.01097</td>\n      <td>0.3446</td>\n    </tr>\n    <tr>\n      <th>3900</th>\n      <td>0.9857</td>\n      <td>NaN</td>\n      <td>0.02166</td>\n      <td>0.1096</td>\n      <td>453.1</td>\n      <td>NaN</td>\n      <td>20.04</td>\n      <td>0.3535</td>\n      <td>0.006272</td>\n      <td>NaN</td>\n      <td>...</td>\n      <td>0.08175</td>\n      <td>NaN</td>\n      <td>0.2709</td>\n      <td>B</td>\n      <td>NaN</td>\n      <td>NaN</td>\n      <td>0.2315</td>\n      <td>NaN</td>\n      <td>NaN</td>\n      <td>0.1811</td>\n    </tr>\n    <tr>\n      <th>3908</th>\n      <td>2903.0000</td>\n      <td>16.84</td>\n      <td>0.05364</td>\n      <td>0.08401</td>\n      <td>NaN</td>\n      <td>0.05051</td>\n      <td>23.95</td>\n      <td>0.2322</td>\n      <td>0.009769</td>\n      <td>0.01992</td>\n      <td>...</td>\n      <td>0.09938</td>\n      <td>0.1847</td>\n      <td>0.2809</td>\n      <td>M</td>\n      <td>0.003002</td>\n      <td>NaN</td>\n      <td>0.1924</td>\n      <td>0.02981</td>\n      <td>NaN</td>\n      <td>0.4033</td>\n    </tr>\n    <tr>\n      <th>3929</th>\n      <td>4795.0000</td>\n      <td>16.46</td>\n      <td>63.00000</td>\n      <td>0.1031</td>\n      <td>656.1</td>\n      <td>NaN</td>\n      <td>13.98</td>\n      <td>0.3219</td>\n      <td>0.009976</td>\n      <td>0.0158</td>\n      <td>...</td>\n      <td>NaN</td>\n      <td>0.2086</td>\n      <td>0.2827</td>\n      <td>B</td>\n      <td>NaN</td>\n      <td>98.22</td>\n      <td>NaN</td>\n      <td>NaN</td>\n      <td>0.05244</td>\n      <td>0.5462</td>\n    </tr>\n    <tr>\n      <th>3933</th>\n      <td>NaN</td>\n      <td>9456.0</td>\n      <td>0.00000</td>\n      <td>0.05263</td>\n      <td>181.0</td>\n      <td>NaN</td>\n      <td>24.54</td>\n      <td>0.0</td>\n      <td>0.007189</td>\n      <td>NaN</td>\n      <td>...</td>\n      <td>NaN</td>\n      <td>0.1587</td>\n      <td>0.2871</td>\n      <td>B</td>\n      <td>0.002783</td>\n      <td>47.92</td>\n      <td>0.06444</td>\n      <td>NaN</td>\n      <td>0.00466</td>\n      <td>0.3857</td>\n    </tr>\n  </tbody>\n</table>\n<p>758 rows × 31 columns</p>\n</div>"
     },
     "execution_count": 415,
     "metadata": {},
     "output_type": "execute_result"
    }
   ],
   "source": [
    "df"
   ],
   "metadata": {
    "collapsed": false,
    "pycharm": {
     "name": "#%%\n"
    }
   }
  },
  {
   "cell_type": "code",
   "execution_count": 416,
   "outputs": [
    {
     "data": {
      "text/plain": "-88888765432345.0          10\n999765432456788.0           9\nrxctf378968 7656463sdfg     6\n15.05                       6\n13.34                       5\n                           ..\n18.22                       1\n11.14                       1\n14.84                       1\n10.49                       1\n9456.0                      1\nName: radius_worst, Length: 382, dtype: int64"
     },
     "execution_count": 416,
     "metadata": {},
     "output_type": "execute_result"
    }
   ],
   "source": [
    "df['radius_worst'].value_counts()\n"
   ],
   "metadata": {
    "collapsed": false,
    "pycharm": {
     "name": "#%%\n"
    }
   }
  },
  {
   "cell_type": "code",
   "execution_count": 417,
   "outputs": [
    {
     "name": "stderr",
     "output_type": "stream",
     "text": [
      "C:\\Users\\NICON\\AppData\\Local\\Temp\\ipykernel_10184\\2469897941.py:3: SettingWithCopyWarning: \n",
      "A value is trying to be set on a copy of a slice from a DataFrame\n",
      "\n",
      "See the caveats in the documentation: https://pandas.pydata.org/pandas-docs/stable/user_guide/indexing.html#returning-a-view-versus-a-copy\n",
      "  df.drop(df[df['radius_worst']==i].index,inplace=True,axis=0)\n"
     ]
    }
   ],
   "source": [
    "list=['rxctf378968 7656463sdfg','-88888765432345.0','999765432456788.0']\n",
    "for i in list:\n",
    "       df.drop(df[df['radius_worst']==i].index,inplace=True,axis=0)"
   ],
   "metadata": {
    "collapsed": false,
    "pycharm": {
     "name": "#%%\n"
    }
   }
  },
  {
   "cell_type": "code",
   "execution_count": 418,
   "outputs": [
    {
     "data": {
      "text/plain": "      perimeter_se radius_worst  concave points_mean smoothness_mean  \\\n4        2183.0000          NaN              0.02278         0.09524   \n5        2225.0000        13.28              0.01162         0.07561   \n7        1103.0000        12.82              0.02623         0.09373   \n8        4877.0000          NaN            106.00000          0.1148   \n9        7276.0000        22.25              0.14010          0.1186   \n...            ...          ...                  ...             ...   \n3882     2355.0000          NaN              0.03250           115.0   \n3900        0.9857          NaN              0.02166          0.1096   \n3908     2903.0000        16.84              0.05364         0.08401   \n3929     4795.0000        16.46             63.00000          0.1031   \n3933           NaN       9456.0              0.00000         0.05263   \n\n     area_mean concavity_se texture_mean concavity_worst smoothness_se  \\\n4        409.0      0.01349        18.75             NaN      0.008328   \n5        421.0     0.005949        17.07         0.03046      0.006583   \n7        403.3      0.01514        10.82          0.2102           NaN   \n8       1033.0      0.02817         18.7          0.2623      0.003899   \n9        912.7      0.03732         16.4          0.3853      0.008029   \n...        ...          ...          ...             ...           ...   \n3882     420.3          NaN        15.45          0.1087      0.009536   \n3900     453.1          NaN        20.04          0.3535      0.006272   \n3908       NaN      0.05051        23.95          0.2322      0.009769   \n3929     656.1          NaN        13.98          0.3219      0.009976   \n3933     181.0          NaN        24.54             0.0      0.007189   \n\n     concave points_se  ... concavity_mean symmetry_mean     symmetry_worst  \\\n4              0.00867  ...            NaN           NaN             0.3306   \n5             0.006296  ...       0.008306        0.1671             0.2731   \n7                  NaN  ...        0.03512        0.1667             0.3016   \n8                  NaN  ...         0.1772        0.2092             0.3021   \n9              0.02397  ...         0.2229         304.0  999765432456788.0   \n...                ...  ...            ...           ...                ...   \n3882               NaN  ...        0.04006           NaN             0.2765   \n3900               NaN  ...        0.08175           NaN             0.2709   \n3908           0.01992  ...        0.09938        0.1847             0.2809   \n3929            0.0158  ...            NaN        0.2086             0.2827   \n3933               NaN  ...            NaN        0.1587             0.2871   \n\n     diagnosis fractal_dimension_se     perimeter_mean compactness_worst  \\\n4            B             0.002386              73.34               NaN   \n5            B             0.002668               73.7           0.06476   \n7            B             0.002206              73.34             239.0   \n8            M             0.005126                NaN            0.2297   \n9            M             0.007444  999765432456788.0            0.3949   \n...        ...                  ...                ...               ...   \n3882         B               0.0031              75.03               NaN   \n3900         B                  NaN                NaN            0.2315   \n3908         M             0.003002                NaN            0.1924   \n3929         B                  NaN              98.22               NaN   \n3933         B             0.002783              47.92           0.06444   \n\n     symmetry_se     compactness_se radius_se  \n4        0.03218           0.008722    0.3249  \n5        0.02216           0.006991    0.3534  \n7        0.01344                NaN       NaN  \n8        0.02674            0.02961    0.8337  \n9        0.02308  999765432456788.0    1046.0  \n...          ...                ...       ...  \n3882     0.01953            0.01097    0.3446  \n3900         NaN                NaN    0.1811  \n3908     0.02981                NaN    0.4033  \n3929         NaN            0.05244    0.5462  \n3933         NaN            0.00466    0.3857  \n\n[733 rows x 31 columns]",
      "text/html": "<div>\n<style scoped>\n    .dataframe tbody tr th:only-of-type {\n        vertical-align: middle;\n    }\n\n    .dataframe tbody tr th {\n        vertical-align: top;\n    }\n\n    .dataframe thead th {\n        text-align: right;\n    }\n</style>\n<table border=\"1\" class=\"dataframe\">\n  <thead>\n    <tr style=\"text-align: right;\">\n      <th></th>\n      <th>perimeter_se</th>\n      <th>radius_worst</th>\n      <th>concave points_mean</th>\n      <th>smoothness_mean</th>\n      <th>area_mean</th>\n      <th>concavity_se</th>\n      <th>texture_mean</th>\n      <th>concavity_worst</th>\n      <th>smoothness_se</th>\n      <th>concave points_se</th>\n      <th>...</th>\n      <th>concavity_mean</th>\n      <th>symmetry_mean</th>\n      <th>symmetry_worst</th>\n      <th>diagnosis</th>\n      <th>fractal_dimension_se</th>\n      <th>perimeter_mean</th>\n      <th>compactness_worst</th>\n      <th>symmetry_se</th>\n      <th>compactness_se</th>\n      <th>radius_se</th>\n    </tr>\n  </thead>\n  <tbody>\n    <tr>\n      <th>4</th>\n      <td>2183.0000</td>\n      <td>NaN</td>\n      <td>0.02278</td>\n      <td>0.09524</td>\n      <td>409.0</td>\n      <td>0.01349</td>\n      <td>18.75</td>\n      <td>NaN</td>\n      <td>0.008328</td>\n      <td>0.00867</td>\n      <td>...</td>\n      <td>NaN</td>\n      <td>NaN</td>\n      <td>0.3306</td>\n      <td>B</td>\n      <td>0.002386</td>\n      <td>73.34</td>\n      <td>NaN</td>\n      <td>0.03218</td>\n      <td>0.008722</td>\n      <td>0.3249</td>\n    </tr>\n    <tr>\n      <th>5</th>\n      <td>2225.0000</td>\n      <td>13.28</td>\n      <td>0.01162</td>\n      <td>0.07561</td>\n      <td>421.0</td>\n      <td>0.005949</td>\n      <td>17.07</td>\n      <td>0.03046</td>\n      <td>0.006583</td>\n      <td>0.006296</td>\n      <td>...</td>\n      <td>0.008306</td>\n      <td>0.1671</td>\n      <td>0.2731</td>\n      <td>B</td>\n      <td>0.002668</td>\n      <td>73.7</td>\n      <td>0.06476</td>\n      <td>0.02216</td>\n      <td>0.006991</td>\n      <td>0.3534</td>\n    </tr>\n    <tr>\n      <th>7</th>\n      <td>1103.0000</td>\n      <td>12.82</td>\n      <td>0.02623</td>\n      <td>0.09373</td>\n      <td>403.3</td>\n      <td>0.01514</td>\n      <td>10.82</td>\n      <td>0.2102</td>\n      <td>NaN</td>\n      <td>NaN</td>\n      <td>...</td>\n      <td>0.03512</td>\n      <td>0.1667</td>\n      <td>0.3016</td>\n      <td>B</td>\n      <td>0.002206</td>\n      <td>73.34</td>\n      <td>239.0</td>\n      <td>0.01344</td>\n      <td>NaN</td>\n      <td>NaN</td>\n    </tr>\n    <tr>\n      <th>8</th>\n      <td>4877.0000</td>\n      <td>NaN</td>\n      <td>106.00000</td>\n      <td>0.1148</td>\n      <td>1033.0</td>\n      <td>0.02817</td>\n      <td>18.7</td>\n      <td>0.2623</td>\n      <td>0.003899</td>\n      <td>NaN</td>\n      <td>...</td>\n      <td>0.1772</td>\n      <td>0.2092</td>\n      <td>0.3021</td>\n      <td>M</td>\n      <td>0.005126</td>\n      <td>NaN</td>\n      <td>0.2297</td>\n      <td>0.02674</td>\n      <td>0.02961</td>\n      <td>0.8337</td>\n    </tr>\n    <tr>\n      <th>9</th>\n      <td>7276.0000</td>\n      <td>22.25</td>\n      <td>0.14010</td>\n      <td>0.1186</td>\n      <td>912.7</td>\n      <td>0.03732</td>\n      <td>16.4</td>\n      <td>0.3853</td>\n      <td>0.008029</td>\n      <td>0.02397</td>\n      <td>...</td>\n      <td>0.2229</td>\n      <td>304.0</td>\n      <td>999765432456788.0</td>\n      <td>M</td>\n      <td>0.007444</td>\n      <td>999765432456788.0</td>\n      <td>0.3949</td>\n      <td>0.02308</td>\n      <td>999765432456788.0</td>\n      <td>1046.0</td>\n    </tr>\n    <tr>\n      <th>...</th>\n      <td>...</td>\n      <td>...</td>\n      <td>...</td>\n      <td>...</td>\n      <td>...</td>\n      <td>...</td>\n      <td>...</td>\n      <td>...</td>\n      <td>...</td>\n      <td>...</td>\n      <td>...</td>\n      <td>...</td>\n      <td>...</td>\n      <td>...</td>\n      <td>...</td>\n      <td>...</td>\n      <td>...</td>\n      <td>...</td>\n      <td>...</td>\n      <td>...</td>\n      <td>...</td>\n    </tr>\n    <tr>\n      <th>3882</th>\n      <td>2355.0000</td>\n      <td>NaN</td>\n      <td>0.03250</td>\n      <td>115.0</td>\n      <td>420.3</td>\n      <td>NaN</td>\n      <td>15.45</td>\n      <td>0.1087</td>\n      <td>0.009536</td>\n      <td>NaN</td>\n      <td>...</td>\n      <td>0.04006</td>\n      <td>NaN</td>\n      <td>0.2765</td>\n      <td>B</td>\n      <td>0.0031</td>\n      <td>75.03</td>\n      <td>NaN</td>\n      <td>0.01953</td>\n      <td>0.01097</td>\n      <td>0.3446</td>\n    </tr>\n    <tr>\n      <th>3900</th>\n      <td>0.9857</td>\n      <td>NaN</td>\n      <td>0.02166</td>\n      <td>0.1096</td>\n      <td>453.1</td>\n      <td>NaN</td>\n      <td>20.04</td>\n      <td>0.3535</td>\n      <td>0.006272</td>\n      <td>NaN</td>\n      <td>...</td>\n      <td>0.08175</td>\n      <td>NaN</td>\n      <td>0.2709</td>\n      <td>B</td>\n      <td>NaN</td>\n      <td>NaN</td>\n      <td>0.2315</td>\n      <td>NaN</td>\n      <td>NaN</td>\n      <td>0.1811</td>\n    </tr>\n    <tr>\n      <th>3908</th>\n      <td>2903.0000</td>\n      <td>16.84</td>\n      <td>0.05364</td>\n      <td>0.08401</td>\n      <td>NaN</td>\n      <td>0.05051</td>\n      <td>23.95</td>\n      <td>0.2322</td>\n      <td>0.009769</td>\n      <td>0.01992</td>\n      <td>...</td>\n      <td>0.09938</td>\n      <td>0.1847</td>\n      <td>0.2809</td>\n      <td>M</td>\n      <td>0.003002</td>\n      <td>NaN</td>\n      <td>0.1924</td>\n      <td>0.02981</td>\n      <td>NaN</td>\n      <td>0.4033</td>\n    </tr>\n    <tr>\n      <th>3929</th>\n      <td>4795.0000</td>\n      <td>16.46</td>\n      <td>63.00000</td>\n      <td>0.1031</td>\n      <td>656.1</td>\n      <td>NaN</td>\n      <td>13.98</td>\n      <td>0.3219</td>\n      <td>0.009976</td>\n      <td>0.0158</td>\n      <td>...</td>\n      <td>NaN</td>\n      <td>0.2086</td>\n      <td>0.2827</td>\n      <td>B</td>\n      <td>NaN</td>\n      <td>98.22</td>\n      <td>NaN</td>\n      <td>NaN</td>\n      <td>0.05244</td>\n      <td>0.5462</td>\n    </tr>\n    <tr>\n      <th>3933</th>\n      <td>NaN</td>\n      <td>9456.0</td>\n      <td>0.00000</td>\n      <td>0.05263</td>\n      <td>181.0</td>\n      <td>NaN</td>\n      <td>24.54</td>\n      <td>0.0</td>\n      <td>0.007189</td>\n      <td>NaN</td>\n      <td>...</td>\n      <td>NaN</td>\n      <td>0.1587</td>\n      <td>0.2871</td>\n      <td>B</td>\n      <td>0.002783</td>\n      <td>47.92</td>\n      <td>0.06444</td>\n      <td>NaN</td>\n      <td>0.00466</td>\n      <td>0.3857</td>\n    </tr>\n  </tbody>\n</table>\n<p>733 rows × 31 columns</p>\n</div>"
     },
     "execution_count": 418,
     "metadata": {},
     "output_type": "execute_result"
    }
   ],
   "source": [
    "df"
   ],
   "metadata": {
    "collapsed": false,
    "pycharm": {
     "name": "#%%\n"
    }
   }
  },
  {
   "cell_type": "code",
   "execution_count": 419,
   "outputs": [
    {
     "data": {
      "text/plain": "-88888765432345.0          5\nrxctf378968 7656463sdfg    5\n399.8                      4\n999765432456788.0          4\n582.7                      4\n                          ..\n584.8                      1\n355.3                      1\n555.1                      1\n477.4                      1\n181.0                      1\nName: area_mean, Length: 437, dtype: int64"
     },
     "execution_count": 419,
     "metadata": {},
     "output_type": "execute_result"
    }
   ],
   "source": [
    "df['area_mean'].value_counts()"
   ],
   "metadata": {
    "collapsed": false,
    "pycharm": {
     "name": "#%%\n"
    }
   }
  },
  {
   "cell_type": "code",
   "execution_count": 420,
   "outputs": [
    {
     "name": "stderr",
     "output_type": "stream",
     "text": [
      "C:\\Users\\NICON\\AppData\\Local\\Temp\\ipykernel_10184\\877090238.py:3: SettingWithCopyWarning: \n",
      "A value is trying to be set on a copy of a slice from a DataFrame\n",
      "\n",
      "See the caveats in the documentation: https://pandas.pydata.org/pandas-docs/stable/user_guide/indexing.html#returning-a-view-versus-a-copy\n",
      "  df.drop(df[df['area_mean']==i].index,inplace=True,axis=0)\n"
     ]
    }
   ],
   "source": [
    "list=['rxctf378968 7656463sdfg','-88888765432345.0','999765432456788.0']\n",
    "for i in list:\n",
    "       df.drop(df[df['area_mean']==i].index,inplace=True,axis=0)"
   ],
   "metadata": {
    "collapsed": false,
    "pycharm": {
     "name": "#%%\n"
    }
   }
  },
  {
   "cell_type": "code",
   "execution_count": 421,
   "outputs": [
    {
     "data": {
      "text/plain": "      perimeter_se radius_worst  concave points_mean smoothness_mean  \\\n4        2183.0000          NaN              0.02278         0.09524   \n5        2225.0000        13.28              0.01162         0.07561   \n7        1103.0000        12.82              0.02623         0.09373   \n8        4877.0000          NaN            106.00000          0.1148   \n9        7276.0000        22.25              0.14010          0.1186   \n...            ...          ...                  ...             ...   \n3882     2355.0000          NaN              0.03250           115.0   \n3900        0.9857          NaN              0.02166          0.1096   \n3908     2903.0000        16.84              0.05364         0.08401   \n3929     4795.0000        16.46             63.00000          0.1031   \n3933           NaN       9456.0              0.00000         0.05263   \n\n     area_mean concavity_se texture_mean concavity_worst smoothness_se  \\\n4        409.0      0.01349        18.75             NaN      0.008328   \n5        421.0     0.005949        17.07         0.03046      0.006583   \n7        403.3      0.01514        10.82          0.2102           NaN   \n8       1033.0      0.02817         18.7          0.2623      0.003899   \n9        912.7      0.03732         16.4          0.3853      0.008029   \n...        ...          ...          ...             ...           ...   \n3882     420.3          NaN        15.45          0.1087      0.009536   \n3900     453.1          NaN        20.04          0.3535      0.006272   \n3908       NaN      0.05051        23.95          0.2322      0.009769   \n3929     656.1          NaN        13.98          0.3219      0.009976   \n3933     181.0          NaN        24.54             0.0      0.007189   \n\n     concave points_se  ... concavity_mean symmetry_mean     symmetry_worst  \\\n4              0.00867  ...            NaN           NaN             0.3306   \n5             0.006296  ...       0.008306        0.1671             0.2731   \n7                  NaN  ...        0.03512        0.1667             0.3016   \n8                  NaN  ...         0.1772        0.2092             0.3021   \n9              0.02397  ...         0.2229         304.0  999765432456788.0   \n...                ...  ...            ...           ...                ...   \n3882               NaN  ...        0.04006           NaN             0.2765   \n3900               NaN  ...        0.08175           NaN             0.2709   \n3908           0.01992  ...        0.09938        0.1847             0.2809   \n3929            0.0158  ...            NaN        0.2086             0.2827   \n3933               NaN  ...            NaN        0.1587             0.2871   \n\n     diagnosis fractal_dimension_se     perimeter_mean compactness_worst  \\\n4            B             0.002386              73.34               NaN   \n5            B             0.002668               73.7           0.06476   \n7            B             0.002206              73.34             239.0   \n8            M             0.005126                NaN            0.2297   \n9            M             0.007444  999765432456788.0            0.3949   \n...        ...                  ...                ...               ...   \n3882         B               0.0031              75.03               NaN   \n3900         B                  NaN                NaN            0.2315   \n3908         M             0.003002                NaN            0.1924   \n3929         B                  NaN              98.22               NaN   \n3933         B             0.002783              47.92           0.06444   \n\n     symmetry_se     compactness_se radius_se  \n4        0.03218           0.008722    0.3249  \n5        0.02216           0.006991    0.3534  \n7        0.01344                NaN       NaN  \n8        0.02674            0.02961    0.8337  \n9        0.02308  999765432456788.0    1046.0  \n...          ...                ...       ...  \n3882     0.01953            0.01097    0.3446  \n3900         NaN                NaN    0.1811  \n3908     0.02981                NaN    0.4033  \n3929         NaN            0.05244    0.5462  \n3933         NaN            0.00466    0.3857  \n\n[719 rows x 31 columns]",
      "text/html": "<div>\n<style scoped>\n    .dataframe tbody tr th:only-of-type {\n        vertical-align: middle;\n    }\n\n    .dataframe tbody tr th {\n        vertical-align: top;\n    }\n\n    .dataframe thead th {\n        text-align: right;\n    }\n</style>\n<table border=\"1\" class=\"dataframe\">\n  <thead>\n    <tr style=\"text-align: right;\">\n      <th></th>\n      <th>perimeter_se</th>\n      <th>radius_worst</th>\n      <th>concave points_mean</th>\n      <th>smoothness_mean</th>\n      <th>area_mean</th>\n      <th>concavity_se</th>\n      <th>texture_mean</th>\n      <th>concavity_worst</th>\n      <th>smoothness_se</th>\n      <th>concave points_se</th>\n      <th>...</th>\n      <th>concavity_mean</th>\n      <th>symmetry_mean</th>\n      <th>symmetry_worst</th>\n      <th>diagnosis</th>\n      <th>fractal_dimension_se</th>\n      <th>perimeter_mean</th>\n      <th>compactness_worst</th>\n      <th>symmetry_se</th>\n      <th>compactness_se</th>\n      <th>radius_se</th>\n    </tr>\n  </thead>\n  <tbody>\n    <tr>\n      <th>4</th>\n      <td>2183.0000</td>\n      <td>NaN</td>\n      <td>0.02278</td>\n      <td>0.09524</td>\n      <td>409.0</td>\n      <td>0.01349</td>\n      <td>18.75</td>\n      <td>NaN</td>\n      <td>0.008328</td>\n      <td>0.00867</td>\n      <td>...</td>\n      <td>NaN</td>\n      <td>NaN</td>\n      <td>0.3306</td>\n      <td>B</td>\n      <td>0.002386</td>\n      <td>73.34</td>\n      <td>NaN</td>\n      <td>0.03218</td>\n      <td>0.008722</td>\n      <td>0.3249</td>\n    </tr>\n    <tr>\n      <th>5</th>\n      <td>2225.0000</td>\n      <td>13.28</td>\n      <td>0.01162</td>\n      <td>0.07561</td>\n      <td>421.0</td>\n      <td>0.005949</td>\n      <td>17.07</td>\n      <td>0.03046</td>\n      <td>0.006583</td>\n      <td>0.006296</td>\n      <td>...</td>\n      <td>0.008306</td>\n      <td>0.1671</td>\n      <td>0.2731</td>\n      <td>B</td>\n      <td>0.002668</td>\n      <td>73.7</td>\n      <td>0.06476</td>\n      <td>0.02216</td>\n      <td>0.006991</td>\n      <td>0.3534</td>\n    </tr>\n    <tr>\n      <th>7</th>\n      <td>1103.0000</td>\n      <td>12.82</td>\n      <td>0.02623</td>\n      <td>0.09373</td>\n      <td>403.3</td>\n      <td>0.01514</td>\n      <td>10.82</td>\n      <td>0.2102</td>\n      <td>NaN</td>\n      <td>NaN</td>\n      <td>...</td>\n      <td>0.03512</td>\n      <td>0.1667</td>\n      <td>0.3016</td>\n      <td>B</td>\n      <td>0.002206</td>\n      <td>73.34</td>\n      <td>239.0</td>\n      <td>0.01344</td>\n      <td>NaN</td>\n      <td>NaN</td>\n    </tr>\n    <tr>\n      <th>8</th>\n      <td>4877.0000</td>\n      <td>NaN</td>\n      <td>106.00000</td>\n      <td>0.1148</td>\n      <td>1033.0</td>\n      <td>0.02817</td>\n      <td>18.7</td>\n      <td>0.2623</td>\n      <td>0.003899</td>\n      <td>NaN</td>\n      <td>...</td>\n      <td>0.1772</td>\n      <td>0.2092</td>\n      <td>0.3021</td>\n      <td>M</td>\n      <td>0.005126</td>\n      <td>NaN</td>\n      <td>0.2297</td>\n      <td>0.02674</td>\n      <td>0.02961</td>\n      <td>0.8337</td>\n    </tr>\n    <tr>\n      <th>9</th>\n      <td>7276.0000</td>\n      <td>22.25</td>\n      <td>0.14010</td>\n      <td>0.1186</td>\n      <td>912.7</td>\n      <td>0.03732</td>\n      <td>16.4</td>\n      <td>0.3853</td>\n      <td>0.008029</td>\n      <td>0.02397</td>\n      <td>...</td>\n      <td>0.2229</td>\n      <td>304.0</td>\n      <td>999765432456788.0</td>\n      <td>M</td>\n      <td>0.007444</td>\n      <td>999765432456788.0</td>\n      <td>0.3949</td>\n      <td>0.02308</td>\n      <td>999765432456788.0</td>\n      <td>1046.0</td>\n    </tr>\n    <tr>\n      <th>...</th>\n      <td>...</td>\n      <td>...</td>\n      <td>...</td>\n      <td>...</td>\n      <td>...</td>\n      <td>...</td>\n      <td>...</td>\n      <td>...</td>\n      <td>...</td>\n      <td>...</td>\n      <td>...</td>\n      <td>...</td>\n      <td>...</td>\n      <td>...</td>\n      <td>...</td>\n      <td>...</td>\n      <td>...</td>\n      <td>...</td>\n      <td>...</td>\n      <td>...</td>\n      <td>...</td>\n    </tr>\n    <tr>\n      <th>3882</th>\n      <td>2355.0000</td>\n      <td>NaN</td>\n      <td>0.03250</td>\n      <td>115.0</td>\n      <td>420.3</td>\n      <td>NaN</td>\n      <td>15.45</td>\n      <td>0.1087</td>\n      <td>0.009536</td>\n      <td>NaN</td>\n      <td>...</td>\n      <td>0.04006</td>\n      <td>NaN</td>\n      <td>0.2765</td>\n      <td>B</td>\n      <td>0.0031</td>\n      <td>75.03</td>\n      <td>NaN</td>\n      <td>0.01953</td>\n      <td>0.01097</td>\n      <td>0.3446</td>\n    </tr>\n    <tr>\n      <th>3900</th>\n      <td>0.9857</td>\n      <td>NaN</td>\n      <td>0.02166</td>\n      <td>0.1096</td>\n      <td>453.1</td>\n      <td>NaN</td>\n      <td>20.04</td>\n      <td>0.3535</td>\n      <td>0.006272</td>\n      <td>NaN</td>\n      <td>...</td>\n      <td>0.08175</td>\n      <td>NaN</td>\n      <td>0.2709</td>\n      <td>B</td>\n      <td>NaN</td>\n      <td>NaN</td>\n      <td>0.2315</td>\n      <td>NaN</td>\n      <td>NaN</td>\n      <td>0.1811</td>\n    </tr>\n    <tr>\n      <th>3908</th>\n      <td>2903.0000</td>\n      <td>16.84</td>\n      <td>0.05364</td>\n      <td>0.08401</td>\n      <td>NaN</td>\n      <td>0.05051</td>\n      <td>23.95</td>\n      <td>0.2322</td>\n      <td>0.009769</td>\n      <td>0.01992</td>\n      <td>...</td>\n      <td>0.09938</td>\n      <td>0.1847</td>\n      <td>0.2809</td>\n      <td>M</td>\n      <td>0.003002</td>\n      <td>NaN</td>\n      <td>0.1924</td>\n      <td>0.02981</td>\n      <td>NaN</td>\n      <td>0.4033</td>\n    </tr>\n    <tr>\n      <th>3929</th>\n      <td>4795.0000</td>\n      <td>16.46</td>\n      <td>63.00000</td>\n      <td>0.1031</td>\n      <td>656.1</td>\n      <td>NaN</td>\n      <td>13.98</td>\n      <td>0.3219</td>\n      <td>0.009976</td>\n      <td>0.0158</td>\n      <td>...</td>\n      <td>NaN</td>\n      <td>0.2086</td>\n      <td>0.2827</td>\n      <td>B</td>\n      <td>NaN</td>\n      <td>98.22</td>\n      <td>NaN</td>\n      <td>NaN</td>\n      <td>0.05244</td>\n      <td>0.5462</td>\n    </tr>\n    <tr>\n      <th>3933</th>\n      <td>NaN</td>\n      <td>9456.0</td>\n      <td>0.00000</td>\n      <td>0.05263</td>\n      <td>181.0</td>\n      <td>NaN</td>\n      <td>24.54</td>\n      <td>0.0</td>\n      <td>0.007189</td>\n      <td>NaN</td>\n      <td>...</td>\n      <td>NaN</td>\n      <td>0.1587</td>\n      <td>0.2871</td>\n      <td>B</td>\n      <td>0.002783</td>\n      <td>47.92</td>\n      <td>0.06444</td>\n      <td>NaN</td>\n      <td>0.00466</td>\n      <td>0.3857</td>\n    </tr>\n  </tbody>\n</table>\n<p>719 rows × 31 columns</p>\n</div>"
     },
     "execution_count": 421,
     "metadata": {},
     "output_type": "execute_result"
    }
   ],
   "source": [
    "df"
   ],
   "metadata": {
    "collapsed": false,
    "pycharm": {
     "name": "#%%\n"
    }
   }
  },
  {
   "cell_type": "code",
   "execution_count": 422,
   "outputs": [
    {
     "data": {
      "text/plain": "0.0                  13\n0.4504                5\n-88888765432345.0     4\n0.1791                4\n999765432456788.0     4\n                     ..\n0.3617                1\n0.2702                1\n0.08669               1\n0.3889                1\n0.3219                1\nName: concavity_worst, Length: 433, dtype: int64"
     },
     "execution_count": 422,
     "metadata": {},
     "output_type": "execute_result"
    }
   ],
   "source": [
    "df['concavity_worst'].value_counts()"
   ],
   "metadata": {
    "collapsed": false,
    "pycharm": {
     "name": "#%%\n"
    }
   }
  },
  {
   "cell_type": "code",
   "execution_count": 423,
   "outputs": [
    {
     "data": {
      "text/plain": "      perimeter_se radius_worst  concave points_mean smoothness_mean  \\\n49         3868.00        23.06              0.07726          0.0802   \n96         1804.00        15.14              0.04812         0.09057   \n354        2222.00       8952.0              0.00000          0.1074   \n394        2143.00         15.8              0.06495          0.1099   \n469        3176.00        15.05              0.05303          0.1218   \n1168          2.45        17.31              0.09029          0.1172   \n1198       2284.00        15.11              0.03783         0.09916   \n1228       1553.00         7.93              0.00000           117.0   \n1324       3212.00        13.37              0.04391          0.0876   \n2449       1435.00       9262.0              0.00000         0.09138   \n2488       1502.00        13.89              0.02343         0.08123   \n\n     area_mean concavity_se             texture_mean          concavity_worst  \\\n49      1274.0      0.02645                    19.66        -88888765432345.0   \n96       575.3      0.03669                    19.13        999765432456788.0   \n354      221.2          0.0  rxctf378968 7656463sdfg  rxctf378968 7656463sdfg   \n394      644.2      0.01615                    13.98        -88888765432345.0   \n469      493.1      0.01405        999765432456788.0        999765432456788.0   \n1168     668.3      0.02315                    23.94        999765432456788.0   \n1198     571.0      0.02086                    18.68        -88888765432345.0   \n1228     143.5          0.0                    13.43  rxctf378968 7656463sdfg   \n1324     485.8      0.06271                    19.07  rxctf378968 7656463sdfg   \n2449     227.2          0.0                    14.45        -88888765432345.0   \n2488     514.3      0.03898                    28.92        999765432456788.0   \n\n     smoothness_se        concave points_se  ...     concavity_mean  \\\n49        0.004536                  0.01247  ...             0.1155   \n96         0.00398                  0.01274  ...            0.09657   \n354        0.02075                      0.0  ...                0.0   \n394       0.006133                  0.01136  ...            0.06895   \n469       0.005273                  0.01244  ...  999765432456788.0   \n1168      0.006703                  0.01184  ...             0.1267   \n1198      0.006739                  0.01352  ...            0.05385   \n1228       0.01019  rxctf378968 7656463sdfg  ...                0.0   \n1324      0.009853                  0.01966  ...              103.0   \n2449      0.009172                      0.0  ...                0.0   \n2488      0.008412                  0.00762  ...            0.06195   \n\n     symmetry_mean           symmetry_worst diagnosis  \\\n49          0.1928                   0.3055         M   \n96          0.1848        999765432456788.0         B   \n354         0.2163                   0.3142         B   \n394          165.0        -88888765432345.0         B   \n469         0.1709                   0.2582         B   \n1168        0.1953                   0.3321         M   \n1198        0.1714                   0.2849         B   \n1228         193.0  rxctf378968 7656463sdfg         B   \n1324        0.1533                   0.2121         B   \n2449        0.1722                   0.2592         B   \n2488        0.1566        999765432456788.0         B   \n\n         fractal_dimension_se           perimeter_mean  \\\n49                   0.001589        -88888765432345.0   \n96                   0.003956                    89.46   \n354   rxctf378968 7656463sdfg                    54.09   \n394                  0.003563                    93.86   \n469         999765432456788.0                    84.45   \n1168        999765432456788.0                     97.4   \n1198                 0.003747                    88.73   \n1228  rxctf378968 7656463sdfg                    43.79   \n1324                 0.004205  rxctf378968 7656463sdfg   \n2449                 0.003399                    54.42   \n2488                 0.002801                     82.5   \n\n            compactness_worst              symmetry_se  \\\n49                     0.1537                  0.02193   \n96                     0.3167                  0.01581   \n354   rxctf378968 7656463sdfg  rxctf378968 7656463sdfg   \n394                    0.1478                  0.02207   \n469                    0.2961                  0.01816   \n1168                   0.3416        999765432456788.0   \n1198                   0.2566                   0.0187   \n1228                   0.1202                  0.02659   \n1324  rxctf378968 7656463sdfg  rxctf378968 7656463sdfg   \n2449        -88888765432345.0        -88888765432345.0   \n2488                    162.0                  0.01695   \n\n               compactness_se          radius_se  \n49          -88888765432345.0             0.5925  \n96                    0.02809             0.2244  \n354   rxctf378968 7656463sdfg             0.3368  \n394                   0.01251  -88888765432345.0  \n469                   0.02329             0.4426  \n1168                   0.0231  999765432456788.0  \n1198                  0.02251             0.3191  \n1228  rxctf378968 7656463sdfg             0.2241  \n1324                  0.04235             0.3602  \n2449                 0.008007             0.2204  \n2488        999765432456788.0             0.2116  \n\n[11 rows x 31 columns]",
      "text/html": "<div>\n<style scoped>\n    .dataframe tbody tr th:only-of-type {\n        vertical-align: middle;\n    }\n\n    .dataframe tbody tr th {\n        vertical-align: top;\n    }\n\n    .dataframe thead th {\n        text-align: right;\n    }\n</style>\n<table border=\"1\" class=\"dataframe\">\n  <thead>\n    <tr style=\"text-align: right;\">\n      <th></th>\n      <th>perimeter_se</th>\n      <th>radius_worst</th>\n      <th>concave points_mean</th>\n      <th>smoothness_mean</th>\n      <th>area_mean</th>\n      <th>concavity_se</th>\n      <th>texture_mean</th>\n      <th>concavity_worst</th>\n      <th>smoothness_se</th>\n      <th>concave points_se</th>\n      <th>...</th>\n      <th>concavity_mean</th>\n      <th>symmetry_mean</th>\n      <th>symmetry_worst</th>\n      <th>diagnosis</th>\n      <th>fractal_dimension_se</th>\n      <th>perimeter_mean</th>\n      <th>compactness_worst</th>\n      <th>symmetry_se</th>\n      <th>compactness_se</th>\n      <th>radius_se</th>\n    </tr>\n  </thead>\n  <tbody>\n    <tr>\n      <th>49</th>\n      <td>3868.00</td>\n      <td>23.06</td>\n      <td>0.07726</td>\n      <td>0.0802</td>\n      <td>1274.0</td>\n      <td>0.02645</td>\n      <td>19.66</td>\n      <td>-88888765432345.0</td>\n      <td>0.004536</td>\n      <td>0.01247</td>\n      <td>...</td>\n      <td>0.1155</td>\n      <td>0.1928</td>\n      <td>0.3055</td>\n      <td>M</td>\n      <td>0.001589</td>\n      <td>-88888765432345.0</td>\n      <td>0.1537</td>\n      <td>0.02193</td>\n      <td>-88888765432345.0</td>\n      <td>0.5925</td>\n    </tr>\n    <tr>\n      <th>96</th>\n      <td>1804.00</td>\n      <td>15.14</td>\n      <td>0.04812</td>\n      <td>0.09057</td>\n      <td>575.3</td>\n      <td>0.03669</td>\n      <td>19.13</td>\n      <td>999765432456788.0</td>\n      <td>0.00398</td>\n      <td>0.01274</td>\n      <td>...</td>\n      <td>0.09657</td>\n      <td>0.1848</td>\n      <td>999765432456788.0</td>\n      <td>B</td>\n      <td>0.003956</td>\n      <td>89.46</td>\n      <td>0.3167</td>\n      <td>0.01581</td>\n      <td>0.02809</td>\n      <td>0.2244</td>\n    </tr>\n    <tr>\n      <th>354</th>\n      <td>2222.00</td>\n      <td>8952.0</td>\n      <td>0.00000</td>\n      <td>0.1074</td>\n      <td>221.2</td>\n      <td>0.0</td>\n      <td>rxctf378968 7656463sdfg</td>\n      <td>rxctf378968 7656463sdfg</td>\n      <td>0.02075</td>\n      <td>0.0</td>\n      <td>...</td>\n      <td>0.0</td>\n      <td>0.2163</td>\n      <td>0.3142</td>\n      <td>B</td>\n      <td>rxctf378968 7656463sdfg</td>\n      <td>54.09</td>\n      <td>rxctf378968 7656463sdfg</td>\n      <td>rxctf378968 7656463sdfg</td>\n      <td>rxctf378968 7656463sdfg</td>\n      <td>0.3368</td>\n    </tr>\n    <tr>\n      <th>394</th>\n      <td>2143.00</td>\n      <td>15.8</td>\n      <td>0.06495</td>\n      <td>0.1099</td>\n      <td>644.2</td>\n      <td>0.01615</td>\n      <td>13.98</td>\n      <td>-88888765432345.0</td>\n      <td>0.006133</td>\n      <td>0.01136</td>\n      <td>...</td>\n      <td>0.06895</td>\n      <td>165.0</td>\n      <td>-88888765432345.0</td>\n      <td>B</td>\n      <td>0.003563</td>\n      <td>93.86</td>\n      <td>0.1478</td>\n      <td>0.02207</td>\n      <td>0.01251</td>\n      <td>-88888765432345.0</td>\n    </tr>\n    <tr>\n      <th>469</th>\n      <td>3176.00</td>\n      <td>15.05</td>\n      <td>0.05303</td>\n      <td>0.1218</td>\n      <td>493.1</td>\n      <td>0.01405</td>\n      <td>999765432456788.0</td>\n      <td>999765432456788.0</td>\n      <td>0.005273</td>\n      <td>0.01244</td>\n      <td>...</td>\n      <td>999765432456788.0</td>\n      <td>0.1709</td>\n      <td>0.2582</td>\n      <td>B</td>\n      <td>999765432456788.0</td>\n      <td>84.45</td>\n      <td>0.2961</td>\n      <td>0.01816</td>\n      <td>0.02329</td>\n      <td>0.4426</td>\n    </tr>\n    <tr>\n      <th>1168</th>\n      <td>2.45</td>\n      <td>17.31</td>\n      <td>0.09029</td>\n      <td>0.1172</td>\n      <td>668.3</td>\n      <td>0.02315</td>\n      <td>23.94</td>\n      <td>999765432456788.0</td>\n      <td>0.006703</td>\n      <td>0.01184</td>\n      <td>...</td>\n      <td>0.1267</td>\n      <td>0.1953</td>\n      <td>0.3321</td>\n      <td>M</td>\n      <td>999765432456788.0</td>\n      <td>97.4</td>\n      <td>0.3416</td>\n      <td>999765432456788.0</td>\n      <td>0.0231</td>\n      <td>999765432456788.0</td>\n    </tr>\n    <tr>\n      <th>1198</th>\n      <td>2284.00</td>\n      <td>15.11</td>\n      <td>0.03783</td>\n      <td>0.09916</td>\n      <td>571.0</td>\n      <td>0.02086</td>\n      <td>18.68</td>\n      <td>-88888765432345.0</td>\n      <td>0.006739</td>\n      <td>0.01352</td>\n      <td>...</td>\n      <td>0.05385</td>\n      <td>0.1714</td>\n      <td>0.2849</td>\n      <td>B</td>\n      <td>0.003747</td>\n      <td>88.73</td>\n      <td>0.2566</td>\n      <td>0.0187</td>\n      <td>0.02251</td>\n      <td>0.3191</td>\n    </tr>\n    <tr>\n      <th>1228</th>\n      <td>1553.00</td>\n      <td>7.93</td>\n      <td>0.00000</td>\n      <td>117.0</td>\n      <td>143.5</td>\n      <td>0.0</td>\n      <td>13.43</td>\n      <td>rxctf378968 7656463sdfg</td>\n      <td>0.01019</td>\n      <td>rxctf378968 7656463sdfg</td>\n      <td>...</td>\n      <td>0.0</td>\n      <td>193.0</td>\n      <td>rxctf378968 7656463sdfg</td>\n      <td>B</td>\n      <td>rxctf378968 7656463sdfg</td>\n      <td>43.79</td>\n      <td>0.1202</td>\n      <td>0.02659</td>\n      <td>rxctf378968 7656463sdfg</td>\n      <td>0.2241</td>\n    </tr>\n    <tr>\n      <th>1324</th>\n      <td>3212.00</td>\n      <td>13.37</td>\n      <td>0.04391</td>\n      <td>0.0876</td>\n      <td>485.8</td>\n      <td>0.06271</td>\n      <td>19.07</td>\n      <td>rxctf378968 7656463sdfg</td>\n      <td>0.009853</td>\n      <td>0.01966</td>\n      <td>...</td>\n      <td>103.0</td>\n      <td>0.1533</td>\n      <td>0.2121</td>\n      <td>B</td>\n      <td>0.004205</td>\n      <td>rxctf378968 7656463sdfg</td>\n      <td>rxctf378968 7656463sdfg</td>\n      <td>rxctf378968 7656463sdfg</td>\n      <td>0.04235</td>\n      <td>0.3602</td>\n    </tr>\n    <tr>\n      <th>2449</th>\n      <td>1435.00</td>\n      <td>9262.0</td>\n      <td>0.00000</td>\n      <td>0.09138</td>\n      <td>227.2</td>\n      <td>0.0</td>\n      <td>14.45</td>\n      <td>-88888765432345.0</td>\n      <td>0.009172</td>\n      <td>0.0</td>\n      <td>...</td>\n      <td>0.0</td>\n      <td>0.1722</td>\n      <td>0.2592</td>\n      <td>B</td>\n      <td>0.003399</td>\n      <td>54.42</td>\n      <td>-88888765432345.0</td>\n      <td>-88888765432345.0</td>\n      <td>0.008007</td>\n      <td>0.2204</td>\n    </tr>\n    <tr>\n      <th>2488</th>\n      <td>1502.00</td>\n      <td>13.89</td>\n      <td>0.02343</td>\n      <td>0.08123</td>\n      <td>514.3</td>\n      <td>0.03898</td>\n      <td>28.92</td>\n      <td>999765432456788.0</td>\n      <td>0.008412</td>\n      <td>0.00762</td>\n      <td>...</td>\n      <td>0.06195</td>\n      <td>0.1566</td>\n      <td>999765432456788.0</td>\n      <td>B</td>\n      <td>0.002801</td>\n      <td>82.5</td>\n      <td>162.0</td>\n      <td>0.01695</td>\n      <td>999765432456788.0</td>\n      <td>0.2116</td>\n    </tr>\n  </tbody>\n</table>\n<p>11 rows × 31 columns</p>\n</div>"
     },
     "execution_count": 423,
     "metadata": {},
     "output_type": "execute_result"
    }
   ],
   "source": [
    "mask=df[(df['concavity_worst']=='-88888765432345.0')|(df['concavity_worst']=='999765432456788.0')|(df['concavity_worst']=='rxctf378968 7656463sdfg')]\n",
    "mask"
   ],
   "metadata": {
    "collapsed": false,
    "pycharm": {
     "name": "#%%\n"
    }
   }
  },
  {
   "cell_type": "code",
   "execution_count": 424,
   "outputs": [
    {
     "name": "stderr",
     "output_type": "stream",
     "text": [
      "C:\\Users\\NICON\\AppData\\Local\\Temp\\ipykernel_10184\\2718270239.py:3: SettingWithCopyWarning: \n",
      "A value is trying to be set on a copy of a slice from a DataFrame\n",
      "\n",
      "See the caveats in the documentation: https://pandas.pydata.org/pandas-docs/stable/user_guide/indexing.html#returning-a-view-versus-a-copy\n",
      "  df.drop(df[df['concavity_worst']==i].index,inplace=True,axis=0)\n"
     ]
    }
   ],
   "source": [
    "list=['rxctf378968 7656463sdfg','-88888765432345.0','999765432456788.0']\n",
    "for i in list:\n",
    "       df.drop(df[df['concavity_worst']==i].index,inplace=True,axis=0)"
   ],
   "metadata": {
    "collapsed": false,
    "pycharm": {
     "name": "#%%\n"
    }
   }
  },
  {
   "cell_type": "code",
   "execution_count": 425,
   "outputs": [
    {
     "data": {
      "text/plain": "      perimeter_se radius_worst  concave points_mean smoothness_mean  \\\n4        2183.0000          NaN              0.02278         0.09524   \n5        2225.0000        13.28              0.01162         0.07561   \n7        1103.0000        12.82              0.02623         0.09373   \n8        4877.0000          NaN            106.00000          0.1148   \n9        7276.0000        22.25              0.14010          0.1186   \n...            ...          ...                  ...             ...   \n3882     2355.0000          NaN              0.03250           115.0   \n3900        0.9857          NaN              0.02166          0.1096   \n3908     2903.0000        16.84              0.05364         0.08401   \n3929     4795.0000        16.46             63.00000          0.1031   \n3933           NaN       9456.0              0.00000         0.05263   \n\n     area_mean concavity_se texture_mean concavity_worst smoothness_se  \\\n4        409.0      0.01349        18.75             NaN      0.008328   \n5        421.0     0.005949        17.07         0.03046      0.006583   \n7        403.3      0.01514        10.82          0.2102           NaN   \n8       1033.0      0.02817         18.7          0.2623      0.003899   \n9        912.7      0.03732         16.4          0.3853      0.008029   \n...        ...          ...          ...             ...           ...   \n3882     420.3          NaN        15.45          0.1087      0.009536   \n3900     453.1          NaN        20.04          0.3535      0.006272   \n3908       NaN      0.05051        23.95          0.2322      0.009769   \n3929     656.1          NaN        13.98          0.3219      0.009976   \n3933     181.0          NaN        24.54             0.0      0.007189   \n\n     concave points_se  ... concavity_mean symmetry_mean     symmetry_worst  \\\n4              0.00867  ...            NaN           NaN             0.3306   \n5             0.006296  ...       0.008306        0.1671             0.2731   \n7                  NaN  ...        0.03512        0.1667             0.3016   \n8                  NaN  ...         0.1772        0.2092             0.3021   \n9              0.02397  ...         0.2229         304.0  999765432456788.0   \n...                ...  ...            ...           ...                ...   \n3882               NaN  ...        0.04006           NaN             0.2765   \n3900               NaN  ...        0.08175           NaN             0.2709   \n3908           0.01992  ...        0.09938        0.1847             0.2809   \n3929            0.0158  ...            NaN        0.2086             0.2827   \n3933               NaN  ...            NaN        0.1587             0.2871   \n\n     diagnosis fractal_dimension_se     perimeter_mean compactness_worst  \\\n4            B             0.002386              73.34               NaN   \n5            B             0.002668               73.7           0.06476   \n7            B             0.002206              73.34             239.0   \n8            M             0.005126                NaN            0.2297   \n9            M             0.007444  999765432456788.0            0.3949   \n...        ...                  ...                ...               ...   \n3882         B               0.0031              75.03               NaN   \n3900         B                  NaN                NaN            0.2315   \n3908         M             0.003002                NaN            0.1924   \n3929         B                  NaN              98.22               NaN   \n3933         B             0.002783              47.92           0.06444   \n\n     symmetry_se     compactness_se radius_se  \n4        0.03218           0.008722    0.3249  \n5        0.02216           0.006991    0.3534  \n7        0.01344                NaN       NaN  \n8        0.02674            0.02961    0.8337  \n9        0.02308  999765432456788.0    1046.0  \n...          ...                ...       ...  \n3882     0.01953            0.01097    0.3446  \n3900         NaN                NaN    0.1811  \n3908     0.02981                NaN    0.4033  \n3929         NaN            0.05244    0.5462  \n3933         NaN            0.00466    0.3857  \n\n[708 rows x 31 columns]",
      "text/html": "<div>\n<style scoped>\n    .dataframe tbody tr th:only-of-type {\n        vertical-align: middle;\n    }\n\n    .dataframe tbody tr th {\n        vertical-align: top;\n    }\n\n    .dataframe thead th {\n        text-align: right;\n    }\n</style>\n<table border=\"1\" class=\"dataframe\">\n  <thead>\n    <tr style=\"text-align: right;\">\n      <th></th>\n      <th>perimeter_se</th>\n      <th>radius_worst</th>\n      <th>concave points_mean</th>\n      <th>smoothness_mean</th>\n      <th>area_mean</th>\n      <th>concavity_se</th>\n      <th>texture_mean</th>\n      <th>concavity_worst</th>\n      <th>smoothness_se</th>\n      <th>concave points_se</th>\n      <th>...</th>\n      <th>concavity_mean</th>\n      <th>symmetry_mean</th>\n      <th>symmetry_worst</th>\n      <th>diagnosis</th>\n      <th>fractal_dimension_se</th>\n      <th>perimeter_mean</th>\n      <th>compactness_worst</th>\n      <th>symmetry_se</th>\n      <th>compactness_se</th>\n      <th>radius_se</th>\n    </tr>\n  </thead>\n  <tbody>\n    <tr>\n      <th>4</th>\n      <td>2183.0000</td>\n      <td>NaN</td>\n      <td>0.02278</td>\n      <td>0.09524</td>\n      <td>409.0</td>\n      <td>0.01349</td>\n      <td>18.75</td>\n      <td>NaN</td>\n      <td>0.008328</td>\n      <td>0.00867</td>\n      <td>...</td>\n      <td>NaN</td>\n      <td>NaN</td>\n      <td>0.3306</td>\n      <td>B</td>\n      <td>0.002386</td>\n      <td>73.34</td>\n      <td>NaN</td>\n      <td>0.03218</td>\n      <td>0.008722</td>\n      <td>0.3249</td>\n    </tr>\n    <tr>\n      <th>5</th>\n      <td>2225.0000</td>\n      <td>13.28</td>\n      <td>0.01162</td>\n      <td>0.07561</td>\n      <td>421.0</td>\n      <td>0.005949</td>\n      <td>17.07</td>\n      <td>0.03046</td>\n      <td>0.006583</td>\n      <td>0.006296</td>\n      <td>...</td>\n      <td>0.008306</td>\n      <td>0.1671</td>\n      <td>0.2731</td>\n      <td>B</td>\n      <td>0.002668</td>\n      <td>73.7</td>\n      <td>0.06476</td>\n      <td>0.02216</td>\n      <td>0.006991</td>\n      <td>0.3534</td>\n    </tr>\n    <tr>\n      <th>7</th>\n      <td>1103.0000</td>\n      <td>12.82</td>\n      <td>0.02623</td>\n      <td>0.09373</td>\n      <td>403.3</td>\n      <td>0.01514</td>\n      <td>10.82</td>\n      <td>0.2102</td>\n      <td>NaN</td>\n      <td>NaN</td>\n      <td>...</td>\n      <td>0.03512</td>\n      <td>0.1667</td>\n      <td>0.3016</td>\n      <td>B</td>\n      <td>0.002206</td>\n      <td>73.34</td>\n      <td>239.0</td>\n      <td>0.01344</td>\n      <td>NaN</td>\n      <td>NaN</td>\n    </tr>\n    <tr>\n      <th>8</th>\n      <td>4877.0000</td>\n      <td>NaN</td>\n      <td>106.00000</td>\n      <td>0.1148</td>\n      <td>1033.0</td>\n      <td>0.02817</td>\n      <td>18.7</td>\n      <td>0.2623</td>\n      <td>0.003899</td>\n      <td>NaN</td>\n      <td>...</td>\n      <td>0.1772</td>\n      <td>0.2092</td>\n      <td>0.3021</td>\n      <td>M</td>\n      <td>0.005126</td>\n      <td>NaN</td>\n      <td>0.2297</td>\n      <td>0.02674</td>\n      <td>0.02961</td>\n      <td>0.8337</td>\n    </tr>\n    <tr>\n      <th>9</th>\n      <td>7276.0000</td>\n      <td>22.25</td>\n      <td>0.14010</td>\n      <td>0.1186</td>\n      <td>912.7</td>\n      <td>0.03732</td>\n      <td>16.4</td>\n      <td>0.3853</td>\n      <td>0.008029</td>\n      <td>0.02397</td>\n      <td>...</td>\n      <td>0.2229</td>\n      <td>304.0</td>\n      <td>999765432456788.0</td>\n      <td>M</td>\n      <td>0.007444</td>\n      <td>999765432456788.0</td>\n      <td>0.3949</td>\n      <td>0.02308</td>\n      <td>999765432456788.0</td>\n      <td>1046.0</td>\n    </tr>\n    <tr>\n      <th>...</th>\n      <td>...</td>\n      <td>...</td>\n      <td>...</td>\n      <td>...</td>\n      <td>...</td>\n      <td>...</td>\n      <td>...</td>\n      <td>...</td>\n      <td>...</td>\n      <td>...</td>\n      <td>...</td>\n      <td>...</td>\n      <td>...</td>\n      <td>...</td>\n      <td>...</td>\n      <td>...</td>\n      <td>...</td>\n      <td>...</td>\n      <td>...</td>\n      <td>...</td>\n      <td>...</td>\n    </tr>\n    <tr>\n      <th>3882</th>\n      <td>2355.0000</td>\n      <td>NaN</td>\n      <td>0.03250</td>\n      <td>115.0</td>\n      <td>420.3</td>\n      <td>NaN</td>\n      <td>15.45</td>\n      <td>0.1087</td>\n      <td>0.009536</td>\n      <td>NaN</td>\n      <td>...</td>\n      <td>0.04006</td>\n      <td>NaN</td>\n      <td>0.2765</td>\n      <td>B</td>\n      <td>0.0031</td>\n      <td>75.03</td>\n      <td>NaN</td>\n      <td>0.01953</td>\n      <td>0.01097</td>\n      <td>0.3446</td>\n    </tr>\n    <tr>\n      <th>3900</th>\n      <td>0.9857</td>\n      <td>NaN</td>\n      <td>0.02166</td>\n      <td>0.1096</td>\n      <td>453.1</td>\n      <td>NaN</td>\n      <td>20.04</td>\n      <td>0.3535</td>\n      <td>0.006272</td>\n      <td>NaN</td>\n      <td>...</td>\n      <td>0.08175</td>\n      <td>NaN</td>\n      <td>0.2709</td>\n      <td>B</td>\n      <td>NaN</td>\n      <td>NaN</td>\n      <td>0.2315</td>\n      <td>NaN</td>\n      <td>NaN</td>\n      <td>0.1811</td>\n    </tr>\n    <tr>\n      <th>3908</th>\n      <td>2903.0000</td>\n      <td>16.84</td>\n      <td>0.05364</td>\n      <td>0.08401</td>\n      <td>NaN</td>\n      <td>0.05051</td>\n      <td>23.95</td>\n      <td>0.2322</td>\n      <td>0.009769</td>\n      <td>0.01992</td>\n      <td>...</td>\n      <td>0.09938</td>\n      <td>0.1847</td>\n      <td>0.2809</td>\n      <td>M</td>\n      <td>0.003002</td>\n      <td>NaN</td>\n      <td>0.1924</td>\n      <td>0.02981</td>\n      <td>NaN</td>\n      <td>0.4033</td>\n    </tr>\n    <tr>\n      <th>3929</th>\n      <td>4795.0000</td>\n      <td>16.46</td>\n      <td>63.00000</td>\n      <td>0.1031</td>\n      <td>656.1</td>\n      <td>NaN</td>\n      <td>13.98</td>\n      <td>0.3219</td>\n      <td>0.009976</td>\n      <td>0.0158</td>\n      <td>...</td>\n      <td>NaN</td>\n      <td>0.2086</td>\n      <td>0.2827</td>\n      <td>B</td>\n      <td>NaN</td>\n      <td>98.22</td>\n      <td>NaN</td>\n      <td>NaN</td>\n      <td>0.05244</td>\n      <td>0.5462</td>\n    </tr>\n    <tr>\n      <th>3933</th>\n      <td>NaN</td>\n      <td>9456.0</td>\n      <td>0.00000</td>\n      <td>0.05263</td>\n      <td>181.0</td>\n      <td>NaN</td>\n      <td>24.54</td>\n      <td>0.0</td>\n      <td>0.007189</td>\n      <td>NaN</td>\n      <td>...</td>\n      <td>NaN</td>\n      <td>0.1587</td>\n      <td>0.2871</td>\n      <td>B</td>\n      <td>0.002783</td>\n      <td>47.92</td>\n      <td>0.06444</td>\n      <td>NaN</td>\n      <td>0.00466</td>\n      <td>0.3857</td>\n    </tr>\n  </tbody>\n</table>\n<p>708 rows × 31 columns</p>\n</div>"
     },
     "execution_count": 425,
     "metadata": {},
     "output_type": "execute_result"
    }
   ],
   "source": [
    "df"
   ],
   "metadata": {
    "collapsed": false,
    "pycharm": {
     "name": "#%%\n"
    }
   }
  },
  {
   "cell_type": "code",
   "execution_count": 426,
   "outputs": [
    {
     "data": {
      "text/plain": "      perimeter_se radius_worst  concave points_mean smoothness_mean  \\\n52          1719.0        13.24             0.063670          0.1216   \n76             NaN         13.6                  NaN             NaN   \n667         1495.0        15.49             0.011410         0.08785   \n836         3218.0        21.86             0.094510          0.1068   \n1018        3384.0        18.07             0.097560          0.1073   \n1065        1806.0        11.95             0.007875         0.07793   \n1870        1218.0        10.62             0.000000          0.0925   \n\n     area_mean concavity_se             texture_mean concavity_worst  \\\n52       361.6      0.04588                    18.83          0.8402   \n76         NaN      0.01465                    28.14         0.05524   \n667      588.7     0.009127                    17.21         0.08115   \n836     1052.0      0.02913        -88888765432345.0          0.3759   \n1018     704.4      0.06446                    14.26          0.6305   \n1065     355.3      0.02018  rxctf378968 7656463sdfg         0.09755   \n1870     288.5          0.0        999765432456788.0             0.0   \n\n     smoothness_se        concave points_se  ...           concavity_mean  \\\n52        0.007405  rxctf378968 7656463sdfg  ...                   0.1689   \n76        0.007517        999765432456788.0  ...                      NaN   \n667       0.004599        999765432456788.0  ...                   0.0142   \n836       0.006176        -88888765432345.0  ...                   0.1569   \n1018      0.006789        -88888765432345.0  ...                   0.2077   \n1065      0.006547  rxctf378968 7656463sdfg  ...  rxctf378968 7656463sdfg   \n1870       0.00604        999765432456788.0  ...                      0.0   \n\n     symmetry_mean symmetry_worst diagnosis fractal_dimension_se  \\\n52          0.2196         0.4154         M             0.004435   \n76             NaN         0.2404         B             0.003883   \n667         0.1614         0.2364         B             0.001708   \n836          186.0         0.3074         M             0.002725   \n1018        0.2521         0.4667         M             0.004394   \n1065        0.1399           0.23         B              0.00236   \n1870        0.1903         0.3105         B    999765432456788.0   \n\n         perimeter_mean  compactness_worst symmetry_se  \\\n52                 73.3             0.9379     0.01738   \n76    999765432456788.0            0.09726     0.02047   \n667               88.44              135.0     0.01247   \n836   -88888765432345.0             0.2536     0.01559   \n1018              102.5             0.5954     0.03672   \n1065              68.26             0.1223     0.01671   \n1870              61.24  999765432456788.0     0.02277   \n\n               compactness_se          radius_se  \n52    rxctf378968 7656463sdfg             0.2114  \n76          999765432456788.0                NaN  \n667                  0.009169             0.2185  \n836         -88888765432345.0  -88888765432345.0  \n1018                  0.05328  -88888765432345.0  \n1065  rxctf378968 7656463sdfg             0.2525  \n1870                 0.005656             0.1988  \n\n[7 rows x 31 columns]",
      "text/html": "<div>\n<style scoped>\n    .dataframe tbody tr th:only-of-type {\n        vertical-align: middle;\n    }\n\n    .dataframe tbody tr th {\n        vertical-align: top;\n    }\n\n    .dataframe thead th {\n        text-align: right;\n    }\n</style>\n<table border=\"1\" class=\"dataframe\">\n  <thead>\n    <tr style=\"text-align: right;\">\n      <th></th>\n      <th>perimeter_se</th>\n      <th>radius_worst</th>\n      <th>concave points_mean</th>\n      <th>smoothness_mean</th>\n      <th>area_mean</th>\n      <th>concavity_se</th>\n      <th>texture_mean</th>\n      <th>concavity_worst</th>\n      <th>smoothness_se</th>\n      <th>concave points_se</th>\n      <th>...</th>\n      <th>concavity_mean</th>\n      <th>symmetry_mean</th>\n      <th>symmetry_worst</th>\n      <th>diagnosis</th>\n      <th>fractal_dimension_se</th>\n      <th>perimeter_mean</th>\n      <th>compactness_worst</th>\n      <th>symmetry_se</th>\n      <th>compactness_se</th>\n      <th>radius_se</th>\n    </tr>\n  </thead>\n  <tbody>\n    <tr>\n      <th>52</th>\n      <td>1719.0</td>\n      <td>13.24</td>\n      <td>0.063670</td>\n      <td>0.1216</td>\n      <td>361.6</td>\n      <td>0.04588</td>\n      <td>18.83</td>\n      <td>0.8402</td>\n      <td>0.007405</td>\n      <td>rxctf378968 7656463sdfg</td>\n      <td>...</td>\n      <td>0.1689</td>\n      <td>0.2196</td>\n      <td>0.4154</td>\n      <td>M</td>\n      <td>0.004435</td>\n      <td>73.3</td>\n      <td>0.9379</td>\n      <td>0.01738</td>\n      <td>rxctf378968 7656463sdfg</td>\n      <td>0.2114</td>\n    </tr>\n    <tr>\n      <th>76</th>\n      <td>NaN</td>\n      <td>13.6</td>\n      <td>NaN</td>\n      <td>NaN</td>\n      <td>NaN</td>\n      <td>0.01465</td>\n      <td>28.14</td>\n      <td>0.05524</td>\n      <td>0.007517</td>\n      <td>999765432456788.0</td>\n      <td>...</td>\n      <td>NaN</td>\n      <td>NaN</td>\n      <td>0.2404</td>\n      <td>B</td>\n      <td>0.003883</td>\n      <td>999765432456788.0</td>\n      <td>0.09726</td>\n      <td>0.02047</td>\n      <td>999765432456788.0</td>\n      <td>NaN</td>\n    </tr>\n    <tr>\n      <th>667</th>\n      <td>1495.0</td>\n      <td>15.49</td>\n      <td>0.011410</td>\n      <td>0.08785</td>\n      <td>588.7</td>\n      <td>0.009127</td>\n      <td>17.21</td>\n      <td>0.08115</td>\n      <td>0.004599</td>\n      <td>999765432456788.0</td>\n      <td>...</td>\n      <td>0.0142</td>\n      <td>0.1614</td>\n      <td>0.2364</td>\n      <td>B</td>\n      <td>0.001708</td>\n      <td>88.44</td>\n      <td>135.0</td>\n      <td>0.01247</td>\n      <td>0.009169</td>\n      <td>0.2185</td>\n    </tr>\n    <tr>\n      <th>836</th>\n      <td>3218.0</td>\n      <td>21.86</td>\n      <td>0.094510</td>\n      <td>0.1068</td>\n      <td>1052.0</td>\n      <td>0.02913</td>\n      <td>-88888765432345.0</td>\n      <td>0.3759</td>\n      <td>0.006176</td>\n      <td>-88888765432345.0</td>\n      <td>...</td>\n      <td>0.1569</td>\n      <td>186.0</td>\n      <td>0.3074</td>\n      <td>M</td>\n      <td>0.002725</td>\n      <td>-88888765432345.0</td>\n      <td>0.2536</td>\n      <td>0.01559</td>\n      <td>-88888765432345.0</td>\n      <td>-88888765432345.0</td>\n    </tr>\n    <tr>\n      <th>1018</th>\n      <td>3384.0</td>\n      <td>18.07</td>\n      <td>0.097560</td>\n      <td>0.1073</td>\n      <td>704.4</td>\n      <td>0.06446</td>\n      <td>14.26</td>\n      <td>0.6305</td>\n      <td>0.006789</td>\n      <td>-88888765432345.0</td>\n      <td>...</td>\n      <td>0.2077</td>\n      <td>0.2521</td>\n      <td>0.4667</td>\n      <td>M</td>\n      <td>0.004394</td>\n      <td>102.5</td>\n      <td>0.5954</td>\n      <td>0.03672</td>\n      <td>0.05328</td>\n      <td>-88888765432345.0</td>\n    </tr>\n    <tr>\n      <th>1065</th>\n      <td>1806.0</td>\n      <td>11.95</td>\n      <td>0.007875</td>\n      <td>0.07793</td>\n      <td>355.3</td>\n      <td>0.02018</td>\n      <td>rxctf378968 7656463sdfg</td>\n      <td>0.09755</td>\n      <td>0.006547</td>\n      <td>rxctf378968 7656463sdfg</td>\n      <td>...</td>\n      <td>rxctf378968 7656463sdfg</td>\n      <td>0.1399</td>\n      <td>0.23</td>\n      <td>B</td>\n      <td>0.00236</td>\n      <td>68.26</td>\n      <td>0.1223</td>\n      <td>0.01671</td>\n      <td>rxctf378968 7656463sdfg</td>\n      <td>0.2525</td>\n    </tr>\n    <tr>\n      <th>1870</th>\n      <td>1218.0</td>\n      <td>10.62</td>\n      <td>0.000000</td>\n      <td>0.0925</td>\n      <td>288.5</td>\n      <td>0.0</td>\n      <td>999765432456788.0</td>\n      <td>0.0</td>\n      <td>0.00604</td>\n      <td>999765432456788.0</td>\n      <td>...</td>\n      <td>0.0</td>\n      <td>0.1903</td>\n      <td>0.3105</td>\n      <td>B</td>\n      <td>999765432456788.0</td>\n      <td>61.24</td>\n      <td>999765432456788.0</td>\n      <td>0.02277</td>\n      <td>0.005656</td>\n      <td>0.1988</td>\n    </tr>\n  </tbody>\n</table>\n<p>7 rows × 31 columns</p>\n</div>"
     },
     "execution_count": 426,
     "metadata": {},
     "output_type": "execute_result"
    }
   ],
   "source": [
    "mask = df[(df['concave points_se'] == '-88888765432345.0') | (df['concave points_se'] == '999765432456788.0') | (\n",
    "               df['concave points_se'] == 'rxctf378968 7656463sdfg')]\n",
    "mask\n"
   ],
   "metadata": {
    "collapsed": false,
    "pycharm": {
     "name": "#%%\n"
    }
   }
  },
  {
   "cell_type": "code",
   "execution_count": 427,
   "outputs": [
    {
     "name": "stderr",
     "output_type": "stream",
     "text": [
      "C:\\Users\\NICON\\AppData\\Local\\Temp\\ipykernel_10184\\3777402530.py:3: SettingWithCopyWarning: \n",
      "A value is trying to be set on a copy of a slice from a DataFrame\n",
      "\n",
      "See the caveats in the documentation: https://pandas.pydata.org/pandas-docs/stable/user_guide/indexing.html#returning-a-view-versus-a-copy\n",
      "  df.drop(df[df['concave points_se'] == i].index, inplace=True, axis=0)\n"
     ]
    }
   ],
   "source": [
    "list = ['rxctf378968 7656463sdfg', '-88888765432345.0', '999765432456788.0']\n",
    "for i in list:\n",
    "       df.drop(df[df['concave points_se'] == i].index, inplace=True, axis=0)"
   ],
   "metadata": {
    "collapsed": false,
    "pycharm": {
     "name": "#%%\n"
    }
   }
  },
  {
   "cell_type": "code",
   "execution_count": 428,
   "outputs": [
    {
     "data": {
      "text/plain": "      perimeter_se radius_worst  concave points_mean smoothness_mean  \\\n4        2183.0000          NaN              0.02278         0.09524   \n5        2225.0000        13.28              0.01162         0.07561   \n7        1103.0000        12.82              0.02623         0.09373   \n8        4877.0000          NaN            106.00000          0.1148   \n9        7276.0000        22.25              0.14010          0.1186   \n...            ...          ...                  ...             ...   \n3882     2355.0000          NaN              0.03250           115.0   \n3900        0.9857          NaN              0.02166          0.1096   \n3908     2903.0000        16.84              0.05364         0.08401   \n3929     4795.0000        16.46             63.00000          0.1031   \n3933           NaN       9456.0              0.00000         0.05263   \n\n     area_mean concavity_se texture_mean concavity_worst smoothness_se  \\\n4        409.0      0.01349        18.75             NaN      0.008328   \n5        421.0     0.005949        17.07         0.03046      0.006583   \n7        403.3      0.01514        10.82          0.2102           NaN   \n8       1033.0      0.02817         18.7          0.2623      0.003899   \n9        912.7      0.03732         16.4          0.3853      0.008029   \n...        ...          ...          ...             ...           ...   \n3882     420.3          NaN        15.45          0.1087      0.009536   \n3900     453.1          NaN        20.04          0.3535      0.006272   \n3908       NaN      0.05051        23.95          0.2322      0.009769   \n3929     656.1          NaN        13.98          0.3219      0.009976   \n3933     181.0          NaN        24.54             0.0      0.007189   \n\n     concave points_se  ... concavity_mean symmetry_mean     symmetry_worst  \\\n4              0.00867  ...            NaN           NaN             0.3306   \n5             0.006296  ...       0.008306        0.1671             0.2731   \n7                  NaN  ...        0.03512        0.1667             0.3016   \n8                  NaN  ...         0.1772        0.2092             0.3021   \n9              0.02397  ...         0.2229         304.0  999765432456788.0   \n...                ...  ...            ...           ...                ...   \n3882               NaN  ...        0.04006           NaN             0.2765   \n3900               NaN  ...        0.08175           NaN             0.2709   \n3908           0.01992  ...        0.09938        0.1847             0.2809   \n3929            0.0158  ...            NaN        0.2086             0.2827   \n3933               NaN  ...            NaN        0.1587             0.2871   \n\n     diagnosis fractal_dimension_se     perimeter_mean compactness_worst  \\\n4            B             0.002386              73.34               NaN   \n5            B             0.002668               73.7           0.06476   \n7            B             0.002206              73.34             239.0   \n8            M             0.005126                NaN            0.2297   \n9            M             0.007444  999765432456788.0            0.3949   \n...        ...                  ...                ...               ...   \n3882         B               0.0031              75.03               NaN   \n3900         B                  NaN                NaN            0.2315   \n3908         M             0.003002                NaN            0.1924   \n3929         B                  NaN              98.22               NaN   \n3933         B             0.002783              47.92           0.06444   \n\n     symmetry_se     compactness_se radius_se  \n4        0.03218           0.008722    0.3249  \n5        0.02216           0.006991    0.3534  \n7        0.01344                NaN       NaN  \n8        0.02674            0.02961    0.8337  \n9        0.02308  999765432456788.0    1046.0  \n...          ...                ...       ...  \n3882     0.01953            0.01097    0.3446  \n3900         NaN                NaN    0.1811  \n3908     0.02981                NaN    0.4033  \n3929         NaN            0.05244    0.5462  \n3933         NaN            0.00466    0.3857  \n\n[701 rows x 31 columns]",
      "text/html": "<div>\n<style scoped>\n    .dataframe tbody tr th:only-of-type {\n        vertical-align: middle;\n    }\n\n    .dataframe tbody tr th {\n        vertical-align: top;\n    }\n\n    .dataframe thead th {\n        text-align: right;\n    }\n</style>\n<table border=\"1\" class=\"dataframe\">\n  <thead>\n    <tr style=\"text-align: right;\">\n      <th></th>\n      <th>perimeter_se</th>\n      <th>radius_worst</th>\n      <th>concave points_mean</th>\n      <th>smoothness_mean</th>\n      <th>area_mean</th>\n      <th>concavity_se</th>\n      <th>texture_mean</th>\n      <th>concavity_worst</th>\n      <th>smoothness_se</th>\n      <th>concave points_se</th>\n      <th>...</th>\n      <th>concavity_mean</th>\n      <th>symmetry_mean</th>\n      <th>symmetry_worst</th>\n      <th>diagnosis</th>\n      <th>fractal_dimension_se</th>\n      <th>perimeter_mean</th>\n      <th>compactness_worst</th>\n      <th>symmetry_se</th>\n      <th>compactness_se</th>\n      <th>radius_se</th>\n    </tr>\n  </thead>\n  <tbody>\n    <tr>\n      <th>4</th>\n      <td>2183.0000</td>\n      <td>NaN</td>\n      <td>0.02278</td>\n      <td>0.09524</td>\n      <td>409.0</td>\n      <td>0.01349</td>\n      <td>18.75</td>\n      <td>NaN</td>\n      <td>0.008328</td>\n      <td>0.00867</td>\n      <td>...</td>\n      <td>NaN</td>\n      <td>NaN</td>\n      <td>0.3306</td>\n      <td>B</td>\n      <td>0.002386</td>\n      <td>73.34</td>\n      <td>NaN</td>\n      <td>0.03218</td>\n      <td>0.008722</td>\n      <td>0.3249</td>\n    </tr>\n    <tr>\n      <th>5</th>\n      <td>2225.0000</td>\n      <td>13.28</td>\n      <td>0.01162</td>\n      <td>0.07561</td>\n      <td>421.0</td>\n      <td>0.005949</td>\n      <td>17.07</td>\n      <td>0.03046</td>\n      <td>0.006583</td>\n      <td>0.006296</td>\n      <td>...</td>\n      <td>0.008306</td>\n      <td>0.1671</td>\n      <td>0.2731</td>\n      <td>B</td>\n      <td>0.002668</td>\n      <td>73.7</td>\n      <td>0.06476</td>\n      <td>0.02216</td>\n      <td>0.006991</td>\n      <td>0.3534</td>\n    </tr>\n    <tr>\n      <th>7</th>\n      <td>1103.0000</td>\n      <td>12.82</td>\n      <td>0.02623</td>\n      <td>0.09373</td>\n      <td>403.3</td>\n      <td>0.01514</td>\n      <td>10.82</td>\n      <td>0.2102</td>\n      <td>NaN</td>\n      <td>NaN</td>\n      <td>...</td>\n      <td>0.03512</td>\n      <td>0.1667</td>\n      <td>0.3016</td>\n      <td>B</td>\n      <td>0.002206</td>\n      <td>73.34</td>\n      <td>239.0</td>\n      <td>0.01344</td>\n      <td>NaN</td>\n      <td>NaN</td>\n    </tr>\n    <tr>\n      <th>8</th>\n      <td>4877.0000</td>\n      <td>NaN</td>\n      <td>106.00000</td>\n      <td>0.1148</td>\n      <td>1033.0</td>\n      <td>0.02817</td>\n      <td>18.7</td>\n      <td>0.2623</td>\n      <td>0.003899</td>\n      <td>NaN</td>\n      <td>...</td>\n      <td>0.1772</td>\n      <td>0.2092</td>\n      <td>0.3021</td>\n      <td>M</td>\n      <td>0.005126</td>\n      <td>NaN</td>\n      <td>0.2297</td>\n      <td>0.02674</td>\n      <td>0.02961</td>\n      <td>0.8337</td>\n    </tr>\n    <tr>\n      <th>9</th>\n      <td>7276.0000</td>\n      <td>22.25</td>\n      <td>0.14010</td>\n      <td>0.1186</td>\n      <td>912.7</td>\n      <td>0.03732</td>\n      <td>16.4</td>\n      <td>0.3853</td>\n      <td>0.008029</td>\n      <td>0.02397</td>\n      <td>...</td>\n      <td>0.2229</td>\n      <td>304.0</td>\n      <td>999765432456788.0</td>\n      <td>M</td>\n      <td>0.007444</td>\n      <td>999765432456788.0</td>\n      <td>0.3949</td>\n      <td>0.02308</td>\n      <td>999765432456788.0</td>\n      <td>1046.0</td>\n    </tr>\n    <tr>\n      <th>...</th>\n      <td>...</td>\n      <td>...</td>\n      <td>...</td>\n      <td>...</td>\n      <td>...</td>\n      <td>...</td>\n      <td>...</td>\n      <td>...</td>\n      <td>...</td>\n      <td>...</td>\n      <td>...</td>\n      <td>...</td>\n      <td>...</td>\n      <td>...</td>\n      <td>...</td>\n      <td>...</td>\n      <td>...</td>\n      <td>...</td>\n      <td>...</td>\n      <td>...</td>\n      <td>...</td>\n    </tr>\n    <tr>\n      <th>3882</th>\n      <td>2355.0000</td>\n      <td>NaN</td>\n      <td>0.03250</td>\n      <td>115.0</td>\n      <td>420.3</td>\n      <td>NaN</td>\n      <td>15.45</td>\n      <td>0.1087</td>\n      <td>0.009536</td>\n      <td>NaN</td>\n      <td>...</td>\n      <td>0.04006</td>\n      <td>NaN</td>\n      <td>0.2765</td>\n      <td>B</td>\n      <td>0.0031</td>\n      <td>75.03</td>\n      <td>NaN</td>\n      <td>0.01953</td>\n      <td>0.01097</td>\n      <td>0.3446</td>\n    </tr>\n    <tr>\n      <th>3900</th>\n      <td>0.9857</td>\n      <td>NaN</td>\n      <td>0.02166</td>\n      <td>0.1096</td>\n      <td>453.1</td>\n      <td>NaN</td>\n      <td>20.04</td>\n      <td>0.3535</td>\n      <td>0.006272</td>\n      <td>NaN</td>\n      <td>...</td>\n      <td>0.08175</td>\n      <td>NaN</td>\n      <td>0.2709</td>\n      <td>B</td>\n      <td>NaN</td>\n      <td>NaN</td>\n      <td>0.2315</td>\n      <td>NaN</td>\n      <td>NaN</td>\n      <td>0.1811</td>\n    </tr>\n    <tr>\n      <th>3908</th>\n      <td>2903.0000</td>\n      <td>16.84</td>\n      <td>0.05364</td>\n      <td>0.08401</td>\n      <td>NaN</td>\n      <td>0.05051</td>\n      <td>23.95</td>\n      <td>0.2322</td>\n      <td>0.009769</td>\n      <td>0.01992</td>\n      <td>...</td>\n      <td>0.09938</td>\n      <td>0.1847</td>\n      <td>0.2809</td>\n      <td>M</td>\n      <td>0.003002</td>\n      <td>NaN</td>\n      <td>0.1924</td>\n      <td>0.02981</td>\n      <td>NaN</td>\n      <td>0.4033</td>\n    </tr>\n    <tr>\n      <th>3929</th>\n      <td>4795.0000</td>\n      <td>16.46</td>\n      <td>63.00000</td>\n      <td>0.1031</td>\n      <td>656.1</td>\n      <td>NaN</td>\n      <td>13.98</td>\n      <td>0.3219</td>\n      <td>0.009976</td>\n      <td>0.0158</td>\n      <td>...</td>\n      <td>NaN</td>\n      <td>0.2086</td>\n      <td>0.2827</td>\n      <td>B</td>\n      <td>NaN</td>\n      <td>98.22</td>\n      <td>NaN</td>\n      <td>NaN</td>\n      <td>0.05244</td>\n      <td>0.5462</td>\n    </tr>\n    <tr>\n      <th>3933</th>\n      <td>NaN</td>\n      <td>9456.0</td>\n      <td>0.00000</td>\n      <td>0.05263</td>\n      <td>181.0</td>\n      <td>NaN</td>\n      <td>24.54</td>\n      <td>0.0</td>\n      <td>0.007189</td>\n      <td>NaN</td>\n      <td>...</td>\n      <td>NaN</td>\n      <td>0.1587</td>\n      <td>0.2871</td>\n      <td>B</td>\n      <td>0.002783</td>\n      <td>47.92</td>\n      <td>0.06444</td>\n      <td>NaN</td>\n      <td>0.00466</td>\n      <td>0.3857</td>\n    </tr>\n  </tbody>\n</table>\n<p>701 rows × 31 columns</p>\n</div>"
     },
     "execution_count": 428,
     "metadata": {},
     "output_type": "execute_result"
    }
   ],
   "source": [
    "df"
   ],
   "metadata": {
    "collapsed": false,
    "pycharm": {
     "name": "#%%\n"
    }
   }
  },
  {
   "cell_type": "code",
   "execution_count": 429,
   "outputs": [
    {
     "data": {
      "text/plain": "      perimeter_se radius_worst  concave points_mean smoothness_mean  \\\n46          3027.0        13.36              0.05564          0.1175   \n252         2464.0        18.55              0.09052          0.1066   \n286         1597.0        13.01              0.01899         0.08759   \n359         2465.0        14.42              0.02950         0.09579   \n378         1116.0        14.34              0.02272         0.08583   \n571         1996.0        14.85              0.03731         0.09423   \n628         3312.0        11.02              0.01290          0.1134   \n1150        3999.0        20.88              0.12030          0.1197   \n1880        4655.0        20.01              0.07953         0.09847   \n\n     area_mean concavity_se texture_mean concavity_worst smoothness_se  \\\n46       408.8      0.04961        18.18          0.3186       0.01459   \n252      805.1      0.03872        18.77          0.5026      0.004563   \n286      396.5      0.02443        21.26           312.0      0.009113   \n359      514.0      0.04393        19.35          0.3439      0.005727   \n378      492.9      0.01256        17.15          0.1887      0.003888   \n571      575.3       0.0181         15.6          0.1533       0.00647   \n628      311.9     0.007665        14.88         0.02168      0.007514   \n1150     899.3      0.05042        23.98          0.5588      0.008268   \n1880     955.1      0.03407        15.05          0.2489      0.005627   \n\n     concave points_se  ...           concavity_mean      symmetry_mean  \\\n46             0.01841  ...                    102.0             0.1957   \n252            0.01209  ...        999765432456788.0             0.1876   \n286           0.006435  ...                  0.05133             0.1487   \n359           0.009811  ...                  0.07107  999765432456788.0   \n378           0.006888  ...                  0.02966             0.1799   \n571            0.01103  ...  rxctf378968 7656463sdfg             0.1717   \n628           0.008193  ...                  0.01084             0.2743   \n1150           0.01112  ...                   0.2417             0.2248   \n1880           0.01354  ...  rxctf378968 7656463sdfg             0.1739   \n\n         symmetry_worst diagnosis fractal_dimension_se perimeter_mean  \\\n46                266.0         B             0.005217          76.38   \n252   999765432456788.0         M    999765432456788.0          108.8   \n286              0.2829         B             0.002477          72.48   \n359              0.3596         B             0.004572          84.52   \n378               327.0         B             0.001638          80.62   \n571               253.0         B             0.001794          87.38   \n628              0.3557         B             0.005953          64.55   \n1150              353.0         M             0.003854          112.8   \n1880             0.2756         M             0.003742          115.0   \n\n            compactness_worst              symmetry_se  \\\n46          -88888765432345.0                  0.01807   \n252                    0.4706                  0.01388   \n286         999765432456788.0                  0.01568   \n359                    0.3253                  0.02751   \n378         -88888765432345.0        -88888765432345.0   \n571   rxctf378968 7656463sdfg                  0.01898   \n628                   0.09866        -88888765432345.0   \n1150  rxctf378968 7656463sdfg                  0.02102   \n1880                   0.2812  rxctf378968 7656463sdfg   \n\n               compactness_se                radius_se  \n46                    0.03206                   0.4101  \n252                   0.03481                   0.2873  \n286         999765432456788.0                   0.2344  \n359                   0.03255                   0.2684  \n378                  0.008539                   0.1692  \n571                   0.01248                   0.3242  \n628                   0.01099                   0.5158  \n1150                  0.03082  rxctf378968 7656463sdfg  \n1880  rxctf378968 7656463sdfg                   0.6003  \n\n[9 rows x 31 columns]",
      "text/html": "<div>\n<style scoped>\n    .dataframe tbody tr th:only-of-type {\n        vertical-align: middle;\n    }\n\n    .dataframe tbody tr th {\n        vertical-align: top;\n    }\n\n    .dataframe thead th {\n        text-align: right;\n    }\n</style>\n<table border=\"1\" class=\"dataframe\">\n  <thead>\n    <tr style=\"text-align: right;\">\n      <th></th>\n      <th>perimeter_se</th>\n      <th>radius_worst</th>\n      <th>concave points_mean</th>\n      <th>smoothness_mean</th>\n      <th>area_mean</th>\n      <th>concavity_se</th>\n      <th>texture_mean</th>\n      <th>concavity_worst</th>\n      <th>smoothness_se</th>\n      <th>concave points_se</th>\n      <th>...</th>\n      <th>concavity_mean</th>\n      <th>symmetry_mean</th>\n      <th>symmetry_worst</th>\n      <th>diagnosis</th>\n      <th>fractal_dimension_se</th>\n      <th>perimeter_mean</th>\n      <th>compactness_worst</th>\n      <th>symmetry_se</th>\n      <th>compactness_se</th>\n      <th>radius_se</th>\n    </tr>\n  </thead>\n  <tbody>\n    <tr>\n      <th>46</th>\n      <td>3027.0</td>\n      <td>13.36</td>\n      <td>0.05564</td>\n      <td>0.1175</td>\n      <td>408.8</td>\n      <td>0.04961</td>\n      <td>18.18</td>\n      <td>0.3186</td>\n      <td>0.01459</td>\n      <td>0.01841</td>\n      <td>...</td>\n      <td>102.0</td>\n      <td>0.1957</td>\n      <td>266.0</td>\n      <td>B</td>\n      <td>0.005217</td>\n      <td>76.38</td>\n      <td>-88888765432345.0</td>\n      <td>0.01807</td>\n      <td>0.03206</td>\n      <td>0.4101</td>\n    </tr>\n    <tr>\n      <th>252</th>\n      <td>2464.0</td>\n      <td>18.55</td>\n      <td>0.09052</td>\n      <td>0.1066</td>\n      <td>805.1</td>\n      <td>0.03872</td>\n      <td>18.77</td>\n      <td>0.5026</td>\n      <td>0.004563</td>\n      <td>0.01209</td>\n      <td>...</td>\n      <td>999765432456788.0</td>\n      <td>0.1876</td>\n      <td>999765432456788.0</td>\n      <td>M</td>\n      <td>999765432456788.0</td>\n      <td>108.8</td>\n      <td>0.4706</td>\n      <td>0.01388</td>\n      <td>0.03481</td>\n      <td>0.2873</td>\n    </tr>\n    <tr>\n      <th>286</th>\n      <td>1597.0</td>\n      <td>13.01</td>\n      <td>0.01899</td>\n      <td>0.08759</td>\n      <td>396.5</td>\n      <td>0.02443</td>\n      <td>21.26</td>\n      <td>312.0</td>\n      <td>0.009113</td>\n      <td>0.006435</td>\n      <td>...</td>\n      <td>0.05133</td>\n      <td>0.1487</td>\n      <td>0.2829</td>\n      <td>B</td>\n      <td>0.002477</td>\n      <td>72.48</td>\n      <td>999765432456788.0</td>\n      <td>0.01568</td>\n      <td>999765432456788.0</td>\n      <td>0.2344</td>\n    </tr>\n    <tr>\n      <th>359</th>\n      <td>2465.0</td>\n      <td>14.42</td>\n      <td>0.02950</td>\n      <td>0.09579</td>\n      <td>514.0</td>\n      <td>0.04393</td>\n      <td>19.35</td>\n      <td>0.3439</td>\n      <td>0.005727</td>\n      <td>0.009811</td>\n      <td>...</td>\n      <td>0.07107</td>\n      <td>999765432456788.0</td>\n      <td>0.3596</td>\n      <td>B</td>\n      <td>0.004572</td>\n      <td>84.52</td>\n      <td>0.3253</td>\n      <td>0.02751</td>\n      <td>0.03255</td>\n      <td>0.2684</td>\n    </tr>\n    <tr>\n      <th>378</th>\n      <td>1116.0</td>\n      <td>14.34</td>\n      <td>0.02272</td>\n      <td>0.08583</td>\n      <td>492.9</td>\n      <td>0.01256</td>\n      <td>17.15</td>\n      <td>0.1887</td>\n      <td>0.003888</td>\n      <td>0.006888</td>\n      <td>...</td>\n      <td>0.02966</td>\n      <td>0.1799</td>\n      <td>327.0</td>\n      <td>B</td>\n      <td>0.001638</td>\n      <td>80.62</td>\n      <td>-88888765432345.0</td>\n      <td>-88888765432345.0</td>\n      <td>0.008539</td>\n      <td>0.1692</td>\n    </tr>\n    <tr>\n      <th>571</th>\n      <td>1996.0</td>\n      <td>14.85</td>\n      <td>0.03731</td>\n      <td>0.09423</td>\n      <td>575.3</td>\n      <td>0.0181</td>\n      <td>15.6</td>\n      <td>0.1533</td>\n      <td>0.00647</td>\n      <td>0.01103</td>\n      <td>...</td>\n      <td>rxctf378968 7656463sdfg</td>\n      <td>0.1717</td>\n      <td>253.0</td>\n      <td>B</td>\n      <td>0.001794</td>\n      <td>87.38</td>\n      <td>rxctf378968 7656463sdfg</td>\n      <td>0.01898</td>\n      <td>0.01248</td>\n      <td>0.3242</td>\n    </tr>\n    <tr>\n      <th>628</th>\n      <td>3312.0</td>\n      <td>11.02</td>\n      <td>0.01290</td>\n      <td>0.1134</td>\n      <td>311.9</td>\n      <td>0.007665</td>\n      <td>14.88</td>\n      <td>0.02168</td>\n      <td>0.007514</td>\n      <td>0.008193</td>\n      <td>...</td>\n      <td>0.01084</td>\n      <td>0.2743</td>\n      <td>0.3557</td>\n      <td>B</td>\n      <td>0.005953</td>\n      <td>64.55</td>\n      <td>0.09866</td>\n      <td>-88888765432345.0</td>\n      <td>0.01099</td>\n      <td>0.5158</td>\n    </tr>\n    <tr>\n      <th>1150</th>\n      <td>3999.0</td>\n      <td>20.88</td>\n      <td>0.12030</td>\n      <td>0.1197</td>\n      <td>899.3</td>\n      <td>0.05042</td>\n      <td>23.98</td>\n      <td>0.5588</td>\n      <td>0.008268</td>\n      <td>0.01112</td>\n      <td>...</td>\n      <td>0.2417</td>\n      <td>0.2248</td>\n      <td>353.0</td>\n      <td>M</td>\n      <td>0.003854</td>\n      <td>112.8</td>\n      <td>rxctf378968 7656463sdfg</td>\n      <td>0.02102</td>\n      <td>0.03082</td>\n      <td>rxctf378968 7656463sdfg</td>\n    </tr>\n    <tr>\n      <th>1880</th>\n      <td>4655.0</td>\n      <td>20.01</td>\n      <td>0.07953</td>\n      <td>0.09847</td>\n      <td>955.1</td>\n      <td>0.03407</td>\n      <td>15.05</td>\n      <td>0.2489</td>\n      <td>0.005627</td>\n      <td>0.01354</td>\n      <td>...</td>\n      <td>rxctf378968 7656463sdfg</td>\n      <td>0.1739</td>\n      <td>0.2756</td>\n      <td>M</td>\n      <td>0.003742</td>\n      <td>115.0</td>\n      <td>0.2812</td>\n      <td>rxctf378968 7656463sdfg</td>\n      <td>rxctf378968 7656463sdfg</td>\n      <td>0.6003</td>\n    </tr>\n  </tbody>\n</table>\n<p>9 rows × 31 columns</p>\n</div>"
     },
     "execution_count": 429,
     "metadata": {},
     "output_type": "execute_result"
    }
   ],
   "source": [
    "mask = df[(df['compactness_mean'] == '-88888765432345.0') | (df['compactness_mean'] == '999765432456788.0') | (\n",
    "               df['compactness_mean'] == 'rxctf378968 7656463sdfg')]\n",
    "mask"
   ],
   "metadata": {
    "collapsed": false,
    "pycharm": {
     "name": "#%%\n"
    }
   }
  },
  {
   "cell_type": "code",
   "execution_count": 430,
   "outputs": [
    {
     "name": "stderr",
     "output_type": "stream",
     "text": [
      "C:\\Users\\NICON\\AppData\\Local\\Temp\\ipykernel_10184\\3307618182.py:3: SettingWithCopyWarning: \n",
      "A value is trying to be set on a copy of a slice from a DataFrame\n",
      "\n",
      "See the caveats in the documentation: https://pandas.pydata.org/pandas-docs/stable/user_guide/indexing.html#returning-a-view-versus-a-copy\n",
      "  df.drop(df[df['compactness_mean'] == i].index, inplace=True, axis=0)\n"
     ]
    }
   ],
   "source": [
    "list = ['rxctf378968 7656463sdfg', '-88888765432345.0', '999765432456788.0']\n",
    "for i in list:\n",
    "       df.drop(df[df['compactness_mean'] == i].index, inplace=True, axis=0)"
   ],
   "metadata": {
    "collapsed": false,
    "pycharm": {
     "name": "#%%\n"
    }
   }
  },
  {
   "cell_type": "code",
   "execution_count": 431,
   "outputs": [
    {
     "data": {
      "text/plain": "      perimeter_se radius_worst  concave points_mean smoothness_mean  \\\n4        2183.0000          NaN              0.02278         0.09524   \n5        2225.0000        13.28              0.01162         0.07561   \n7        1103.0000        12.82              0.02623         0.09373   \n8        4877.0000          NaN            106.00000          0.1148   \n9        7276.0000        22.25              0.14010          0.1186   \n...            ...          ...                  ...             ...   \n3882     2355.0000          NaN              0.03250           115.0   \n3900        0.9857          NaN              0.02166          0.1096   \n3908     2903.0000        16.84              0.05364         0.08401   \n3929     4795.0000        16.46             63.00000          0.1031   \n3933           NaN       9456.0              0.00000         0.05263   \n\n     area_mean concavity_se texture_mean concavity_worst smoothness_se  \\\n4        409.0      0.01349        18.75             NaN      0.008328   \n5        421.0     0.005949        17.07         0.03046      0.006583   \n7        403.3      0.01514        10.82          0.2102           NaN   \n8       1033.0      0.02817         18.7          0.2623      0.003899   \n9        912.7      0.03732         16.4          0.3853      0.008029   \n...        ...          ...          ...             ...           ...   \n3882     420.3          NaN        15.45          0.1087      0.009536   \n3900     453.1          NaN        20.04          0.3535      0.006272   \n3908       NaN      0.05051        23.95          0.2322      0.009769   \n3929     656.1          NaN        13.98          0.3219      0.009976   \n3933     181.0          NaN        24.54             0.0      0.007189   \n\n     concave points_se  ... concavity_mean symmetry_mean     symmetry_worst  \\\n4              0.00867  ...            NaN           NaN             0.3306   \n5             0.006296  ...       0.008306        0.1671             0.2731   \n7                  NaN  ...        0.03512        0.1667             0.3016   \n8                  NaN  ...         0.1772        0.2092             0.3021   \n9              0.02397  ...         0.2229         304.0  999765432456788.0   \n...                ...  ...            ...           ...                ...   \n3882               NaN  ...        0.04006           NaN             0.2765   \n3900               NaN  ...        0.08175           NaN             0.2709   \n3908           0.01992  ...        0.09938        0.1847             0.2809   \n3929            0.0158  ...            NaN        0.2086             0.2827   \n3933               NaN  ...            NaN        0.1587             0.2871   \n\n     diagnosis fractal_dimension_se     perimeter_mean compactness_worst  \\\n4            B             0.002386              73.34               NaN   \n5            B             0.002668               73.7           0.06476   \n7            B             0.002206              73.34             239.0   \n8            M             0.005126                NaN            0.2297   \n9            M             0.007444  999765432456788.0            0.3949   \n...        ...                  ...                ...               ...   \n3882         B               0.0031              75.03               NaN   \n3900         B                  NaN                NaN            0.2315   \n3908         M             0.003002                NaN            0.1924   \n3929         B                  NaN              98.22               NaN   \n3933         B             0.002783              47.92           0.06444   \n\n     symmetry_se     compactness_se radius_se  \n4        0.03218           0.008722    0.3249  \n5        0.02216           0.006991    0.3534  \n7        0.01344                NaN       NaN  \n8        0.02674            0.02961    0.8337  \n9        0.02308  999765432456788.0    1046.0  \n...          ...                ...       ...  \n3882     0.01953            0.01097    0.3446  \n3900         NaN                NaN    0.1811  \n3908     0.02981                NaN    0.4033  \n3929         NaN            0.05244    0.5462  \n3933         NaN            0.00466    0.3857  \n\n[692 rows x 31 columns]",
      "text/html": "<div>\n<style scoped>\n    .dataframe tbody tr th:only-of-type {\n        vertical-align: middle;\n    }\n\n    .dataframe tbody tr th {\n        vertical-align: top;\n    }\n\n    .dataframe thead th {\n        text-align: right;\n    }\n</style>\n<table border=\"1\" class=\"dataframe\">\n  <thead>\n    <tr style=\"text-align: right;\">\n      <th></th>\n      <th>perimeter_se</th>\n      <th>radius_worst</th>\n      <th>concave points_mean</th>\n      <th>smoothness_mean</th>\n      <th>area_mean</th>\n      <th>concavity_se</th>\n      <th>texture_mean</th>\n      <th>concavity_worst</th>\n      <th>smoothness_se</th>\n      <th>concave points_se</th>\n      <th>...</th>\n      <th>concavity_mean</th>\n      <th>symmetry_mean</th>\n      <th>symmetry_worst</th>\n      <th>diagnosis</th>\n      <th>fractal_dimension_se</th>\n      <th>perimeter_mean</th>\n      <th>compactness_worst</th>\n      <th>symmetry_se</th>\n      <th>compactness_se</th>\n      <th>radius_se</th>\n    </tr>\n  </thead>\n  <tbody>\n    <tr>\n      <th>4</th>\n      <td>2183.0000</td>\n      <td>NaN</td>\n      <td>0.02278</td>\n      <td>0.09524</td>\n      <td>409.0</td>\n      <td>0.01349</td>\n      <td>18.75</td>\n      <td>NaN</td>\n      <td>0.008328</td>\n      <td>0.00867</td>\n      <td>...</td>\n      <td>NaN</td>\n      <td>NaN</td>\n      <td>0.3306</td>\n      <td>B</td>\n      <td>0.002386</td>\n      <td>73.34</td>\n      <td>NaN</td>\n      <td>0.03218</td>\n      <td>0.008722</td>\n      <td>0.3249</td>\n    </tr>\n    <tr>\n      <th>5</th>\n      <td>2225.0000</td>\n      <td>13.28</td>\n      <td>0.01162</td>\n      <td>0.07561</td>\n      <td>421.0</td>\n      <td>0.005949</td>\n      <td>17.07</td>\n      <td>0.03046</td>\n      <td>0.006583</td>\n      <td>0.006296</td>\n      <td>...</td>\n      <td>0.008306</td>\n      <td>0.1671</td>\n      <td>0.2731</td>\n      <td>B</td>\n      <td>0.002668</td>\n      <td>73.7</td>\n      <td>0.06476</td>\n      <td>0.02216</td>\n      <td>0.006991</td>\n      <td>0.3534</td>\n    </tr>\n    <tr>\n      <th>7</th>\n      <td>1103.0000</td>\n      <td>12.82</td>\n      <td>0.02623</td>\n      <td>0.09373</td>\n      <td>403.3</td>\n      <td>0.01514</td>\n      <td>10.82</td>\n      <td>0.2102</td>\n      <td>NaN</td>\n      <td>NaN</td>\n      <td>...</td>\n      <td>0.03512</td>\n      <td>0.1667</td>\n      <td>0.3016</td>\n      <td>B</td>\n      <td>0.002206</td>\n      <td>73.34</td>\n      <td>239.0</td>\n      <td>0.01344</td>\n      <td>NaN</td>\n      <td>NaN</td>\n    </tr>\n    <tr>\n      <th>8</th>\n      <td>4877.0000</td>\n      <td>NaN</td>\n      <td>106.00000</td>\n      <td>0.1148</td>\n      <td>1033.0</td>\n      <td>0.02817</td>\n      <td>18.7</td>\n      <td>0.2623</td>\n      <td>0.003899</td>\n      <td>NaN</td>\n      <td>...</td>\n      <td>0.1772</td>\n      <td>0.2092</td>\n      <td>0.3021</td>\n      <td>M</td>\n      <td>0.005126</td>\n      <td>NaN</td>\n      <td>0.2297</td>\n      <td>0.02674</td>\n      <td>0.02961</td>\n      <td>0.8337</td>\n    </tr>\n    <tr>\n      <th>9</th>\n      <td>7276.0000</td>\n      <td>22.25</td>\n      <td>0.14010</td>\n      <td>0.1186</td>\n      <td>912.7</td>\n      <td>0.03732</td>\n      <td>16.4</td>\n      <td>0.3853</td>\n      <td>0.008029</td>\n      <td>0.02397</td>\n      <td>...</td>\n      <td>0.2229</td>\n      <td>304.0</td>\n      <td>999765432456788.0</td>\n      <td>M</td>\n      <td>0.007444</td>\n      <td>999765432456788.0</td>\n      <td>0.3949</td>\n      <td>0.02308</td>\n      <td>999765432456788.0</td>\n      <td>1046.0</td>\n    </tr>\n    <tr>\n      <th>...</th>\n      <td>...</td>\n      <td>...</td>\n      <td>...</td>\n      <td>...</td>\n      <td>...</td>\n      <td>...</td>\n      <td>...</td>\n      <td>...</td>\n      <td>...</td>\n      <td>...</td>\n      <td>...</td>\n      <td>...</td>\n      <td>...</td>\n      <td>...</td>\n      <td>...</td>\n      <td>...</td>\n      <td>...</td>\n      <td>...</td>\n      <td>...</td>\n      <td>...</td>\n      <td>...</td>\n    </tr>\n    <tr>\n      <th>3882</th>\n      <td>2355.0000</td>\n      <td>NaN</td>\n      <td>0.03250</td>\n      <td>115.0</td>\n      <td>420.3</td>\n      <td>NaN</td>\n      <td>15.45</td>\n      <td>0.1087</td>\n      <td>0.009536</td>\n      <td>NaN</td>\n      <td>...</td>\n      <td>0.04006</td>\n      <td>NaN</td>\n      <td>0.2765</td>\n      <td>B</td>\n      <td>0.0031</td>\n      <td>75.03</td>\n      <td>NaN</td>\n      <td>0.01953</td>\n      <td>0.01097</td>\n      <td>0.3446</td>\n    </tr>\n    <tr>\n      <th>3900</th>\n      <td>0.9857</td>\n      <td>NaN</td>\n      <td>0.02166</td>\n      <td>0.1096</td>\n      <td>453.1</td>\n      <td>NaN</td>\n      <td>20.04</td>\n      <td>0.3535</td>\n      <td>0.006272</td>\n      <td>NaN</td>\n      <td>...</td>\n      <td>0.08175</td>\n      <td>NaN</td>\n      <td>0.2709</td>\n      <td>B</td>\n      <td>NaN</td>\n      <td>NaN</td>\n      <td>0.2315</td>\n      <td>NaN</td>\n      <td>NaN</td>\n      <td>0.1811</td>\n    </tr>\n    <tr>\n      <th>3908</th>\n      <td>2903.0000</td>\n      <td>16.84</td>\n      <td>0.05364</td>\n      <td>0.08401</td>\n      <td>NaN</td>\n      <td>0.05051</td>\n      <td>23.95</td>\n      <td>0.2322</td>\n      <td>0.009769</td>\n      <td>0.01992</td>\n      <td>...</td>\n      <td>0.09938</td>\n      <td>0.1847</td>\n      <td>0.2809</td>\n      <td>M</td>\n      <td>0.003002</td>\n      <td>NaN</td>\n      <td>0.1924</td>\n      <td>0.02981</td>\n      <td>NaN</td>\n      <td>0.4033</td>\n    </tr>\n    <tr>\n      <th>3929</th>\n      <td>4795.0000</td>\n      <td>16.46</td>\n      <td>63.00000</td>\n      <td>0.1031</td>\n      <td>656.1</td>\n      <td>NaN</td>\n      <td>13.98</td>\n      <td>0.3219</td>\n      <td>0.009976</td>\n      <td>0.0158</td>\n      <td>...</td>\n      <td>NaN</td>\n      <td>0.2086</td>\n      <td>0.2827</td>\n      <td>B</td>\n      <td>NaN</td>\n      <td>98.22</td>\n      <td>NaN</td>\n      <td>NaN</td>\n      <td>0.05244</td>\n      <td>0.5462</td>\n    </tr>\n    <tr>\n      <th>3933</th>\n      <td>NaN</td>\n      <td>9456.0</td>\n      <td>0.00000</td>\n      <td>0.05263</td>\n      <td>181.0</td>\n      <td>NaN</td>\n      <td>24.54</td>\n      <td>0.0</td>\n      <td>0.007189</td>\n      <td>NaN</td>\n      <td>...</td>\n      <td>NaN</td>\n      <td>0.1587</td>\n      <td>0.2871</td>\n      <td>B</td>\n      <td>0.002783</td>\n      <td>47.92</td>\n      <td>0.06444</td>\n      <td>NaN</td>\n      <td>0.00466</td>\n      <td>0.3857</td>\n    </tr>\n  </tbody>\n</table>\n<p>692 rows × 31 columns</p>\n</div>"
     },
     "execution_count": 431,
     "metadata": {},
     "output_type": "execute_result"
    }
   ],
   "source": [
    "df"
   ],
   "metadata": {
    "collapsed": false,
    "pycharm": {
     "name": "#%%\n"
    }
   }
  },
  {
   "cell_type": "code",
   "execution_count": 432,
   "outputs": [
    {
     "data": {
      "text/plain": "      perimeter_se radius_worst  concave points_mean smoothness_mean  \\\n9           7276.0        22.25             0.140100          0.1186   \n139         2329.0        13.72             0.005449         0.07436   \n404         2347.0         13.9             0.033900         0.07818   \n461         4091.0        14.62             0.066150          0.1248   \n604         1597.0        11.28             0.039650          0.1061   \n2282        1677.0        15.61             0.025410         0.08472   \n\n     area_mean concavity_se texture_mean concavity_worst smoothness_se  \\\n9        912.7      0.03732         16.4          0.3853      0.008029   \n139      491.9    0.0007929        18.07        0.003581      0.005783   \n404      516.6      0.07927         15.7          0.3344      0.006418   \n461      594.2      0.04763        13.17          0.1559       0.01004   \n604      324.2      0.04004        16.18          0.1898       0.01049   \n2282     680.7      0.01482         14.7          0.1101      0.006708   \n\n     concave points_se  ...           concavity_mean      symmetry_mean  \\\n9              0.02397  ...                   0.2229              304.0   \n139           0.003617  ...  rxctf378968 7656463sdfg             0.1528   \n404            0.01774  ...        -88888765432345.0  -88888765432345.0   \n461            0.02853  ...                    101.0  999765432456788.0   \n604            0.01544  ...                  0.06726             0.1743   \n2282           0.01056  ...  rxctf378968 7656463sdfg             0.1659   \n\n               symmetry_worst diagnosis     fractal_dimension_se  \\\n9           999765432456788.0         M                 0.007444   \n139   rxctf378968 7656463sdfg         B  rxctf378968 7656463sdfg   \n404         -88888765432345.0         B                 0.003696   \n461                     216.0         B                 0.005528   \n604         -88888765432345.0         B                 0.007596   \n2282  rxctf378968 7656463sdfg         B                 0.001779   \n\n         perimeter_mean        compactness_worst symmetry_se  \\\n9     999765432456788.0                   0.3949     0.02308   \n139               79.42                  0.04327     0.02043   \n404               84.08                   0.2317     0.01878   \n461               90.31                   0.1364     0.01715   \n604               66.52                    236.0     0.02719   \n2282              94.66  rxctf378968 7656463sdfg      0.0158   \n\n         compactness_se radius_se  \n9     999765432456788.0    1046.0  \n139            0.004693    0.3511  \n404             0.03961    0.2913  \n461             0.03247    0.5461  \n604             0.04265    0.3677  \n2282            0.01197    0.2182  \n\n[6 rows x 31 columns]",
      "text/html": "<div>\n<style scoped>\n    .dataframe tbody tr th:only-of-type {\n        vertical-align: middle;\n    }\n\n    .dataframe tbody tr th {\n        vertical-align: top;\n    }\n\n    .dataframe thead th {\n        text-align: right;\n    }\n</style>\n<table border=\"1\" class=\"dataframe\">\n  <thead>\n    <tr style=\"text-align: right;\">\n      <th></th>\n      <th>perimeter_se</th>\n      <th>radius_worst</th>\n      <th>concave points_mean</th>\n      <th>smoothness_mean</th>\n      <th>area_mean</th>\n      <th>concavity_se</th>\n      <th>texture_mean</th>\n      <th>concavity_worst</th>\n      <th>smoothness_se</th>\n      <th>concave points_se</th>\n      <th>...</th>\n      <th>concavity_mean</th>\n      <th>symmetry_mean</th>\n      <th>symmetry_worst</th>\n      <th>diagnosis</th>\n      <th>fractal_dimension_se</th>\n      <th>perimeter_mean</th>\n      <th>compactness_worst</th>\n      <th>symmetry_se</th>\n      <th>compactness_se</th>\n      <th>radius_se</th>\n    </tr>\n  </thead>\n  <tbody>\n    <tr>\n      <th>9</th>\n      <td>7276.0</td>\n      <td>22.25</td>\n      <td>0.140100</td>\n      <td>0.1186</td>\n      <td>912.7</td>\n      <td>0.03732</td>\n      <td>16.4</td>\n      <td>0.3853</td>\n      <td>0.008029</td>\n      <td>0.02397</td>\n      <td>...</td>\n      <td>0.2229</td>\n      <td>304.0</td>\n      <td>999765432456788.0</td>\n      <td>M</td>\n      <td>0.007444</td>\n      <td>999765432456788.0</td>\n      <td>0.3949</td>\n      <td>0.02308</td>\n      <td>999765432456788.0</td>\n      <td>1046.0</td>\n    </tr>\n    <tr>\n      <th>139</th>\n      <td>2329.0</td>\n      <td>13.72</td>\n      <td>0.005449</td>\n      <td>0.07436</td>\n      <td>491.9</td>\n      <td>0.0007929</td>\n      <td>18.07</td>\n      <td>0.003581</td>\n      <td>0.005783</td>\n      <td>0.003617</td>\n      <td>...</td>\n      <td>rxctf378968 7656463sdfg</td>\n      <td>0.1528</td>\n      <td>rxctf378968 7656463sdfg</td>\n      <td>B</td>\n      <td>rxctf378968 7656463sdfg</td>\n      <td>79.42</td>\n      <td>0.04327</td>\n      <td>0.02043</td>\n      <td>0.004693</td>\n      <td>0.3511</td>\n    </tr>\n    <tr>\n      <th>404</th>\n      <td>2347.0</td>\n      <td>13.9</td>\n      <td>0.033900</td>\n      <td>0.07818</td>\n      <td>516.6</td>\n      <td>0.07927</td>\n      <td>15.7</td>\n      <td>0.3344</td>\n      <td>0.006418</td>\n      <td>0.01774</td>\n      <td>...</td>\n      <td>-88888765432345.0</td>\n      <td>-88888765432345.0</td>\n      <td>-88888765432345.0</td>\n      <td>B</td>\n      <td>0.003696</td>\n      <td>84.08</td>\n      <td>0.2317</td>\n      <td>0.01878</td>\n      <td>0.03961</td>\n      <td>0.2913</td>\n    </tr>\n    <tr>\n      <th>461</th>\n      <td>4091.0</td>\n      <td>14.62</td>\n      <td>0.066150</td>\n      <td>0.1248</td>\n      <td>594.2</td>\n      <td>0.04763</td>\n      <td>13.17</td>\n      <td>0.1559</td>\n      <td>0.01004</td>\n      <td>0.02853</td>\n      <td>...</td>\n      <td>101.0</td>\n      <td>999765432456788.0</td>\n      <td>216.0</td>\n      <td>B</td>\n      <td>0.005528</td>\n      <td>90.31</td>\n      <td>0.1364</td>\n      <td>0.01715</td>\n      <td>0.03247</td>\n      <td>0.5461</td>\n    </tr>\n    <tr>\n      <th>604</th>\n      <td>1597.0</td>\n      <td>11.28</td>\n      <td>0.039650</td>\n      <td>0.1061</td>\n      <td>324.2</td>\n      <td>0.04004</td>\n      <td>16.18</td>\n      <td>0.1898</td>\n      <td>0.01049</td>\n      <td>0.01544</td>\n      <td>...</td>\n      <td>0.06726</td>\n      <td>0.1743</td>\n      <td>-88888765432345.0</td>\n      <td>B</td>\n      <td>0.007596</td>\n      <td>66.52</td>\n      <td>236.0</td>\n      <td>0.02719</td>\n      <td>0.04265</td>\n      <td>0.3677</td>\n    </tr>\n    <tr>\n      <th>2282</th>\n      <td>1677.0</td>\n      <td>15.61</td>\n      <td>0.025410</td>\n      <td>0.08472</td>\n      <td>680.7</td>\n      <td>0.01482</td>\n      <td>14.7</td>\n      <td>0.1101</td>\n      <td>0.006708</td>\n      <td>0.01056</td>\n      <td>...</td>\n      <td>rxctf378968 7656463sdfg</td>\n      <td>0.1659</td>\n      <td>rxctf378968 7656463sdfg</td>\n      <td>B</td>\n      <td>0.001779</td>\n      <td>94.66</td>\n      <td>rxctf378968 7656463sdfg</td>\n      <td>0.0158</td>\n      <td>0.01197</td>\n      <td>0.2182</td>\n    </tr>\n  </tbody>\n</table>\n<p>6 rows × 31 columns</p>\n</div>"
     },
     "execution_count": 432,
     "metadata": {},
     "output_type": "execute_result"
    }
   ],
   "source": [
    "mask = df[(df['radius_mean'] == '-88888765432345.0') | (df['radius_mean'] == '999765432456788.0') | (\n",
    "               df['radius_mean'] == 'rxctf378968 7656463sdfg')]\n",
    "mask"
   ],
   "metadata": {
    "collapsed": false,
    "pycharm": {
     "name": "#%%\n"
    }
   }
  },
  {
   "cell_type": "code",
   "execution_count": 433,
   "outputs": [
    {
     "name": "stderr",
     "output_type": "stream",
     "text": [
      "C:\\Users\\NICON\\AppData\\Local\\Temp\\ipykernel_10184\\2033957376.py:3: SettingWithCopyWarning: \n",
      "A value is trying to be set on a copy of a slice from a DataFrame\n",
      "\n",
      "See the caveats in the documentation: https://pandas.pydata.org/pandas-docs/stable/user_guide/indexing.html#returning-a-view-versus-a-copy\n",
      "  df.drop(df[df['radius_mean'] == i].index, inplace=True, axis=0)\n"
     ]
    }
   ],
   "source": [
    "list = ['rxctf378968 7656463sdfg', '-88888765432345.0', '999765432456788.0']\n",
    "for i in list:\n",
    "       df.drop(df[df['radius_mean'] == i].index, inplace=True, axis=0)"
   ],
   "metadata": {
    "collapsed": false,
    "pycharm": {
     "name": "#%%\n"
    }
   }
  },
  {
   "cell_type": "code",
   "execution_count": 434,
   "outputs": [
    {
     "data": {
      "text/plain": "      perimeter_se radius_worst  concave points_mean smoothness_mean  \\\n4        2183.0000          NaN              0.02278         0.09524   \n5        2225.0000        13.28              0.01162         0.07561   \n7        1103.0000        12.82              0.02623         0.09373   \n8        4877.0000          NaN            106.00000          0.1148   \n12          1.5200         13.1              0.01349         0.08261   \n...            ...          ...                  ...             ...   \n3882     2355.0000          NaN              0.03250           115.0   \n3900        0.9857          NaN              0.02166          0.1096   \n3908     2903.0000        16.84              0.05364         0.08401   \n3929     4795.0000        16.46             63.00000          0.1031   \n3933           NaN       9456.0              0.00000         0.05263   \n\n     area_mean concavity_se texture_mean concavity_worst smoothness_se  \\\n4        409.0      0.01349        18.75             NaN      0.008328   \n5        421.0     0.005949        17.07         0.03046      0.006583   \n7        403.3      0.01514        10.82          0.2102           NaN   \n8       1033.0      0.02817         18.7          0.2623      0.003899   \n12       437.6      0.01311          NaN         0.09203           NaN   \n...        ...          ...          ...             ...           ...   \n3882     420.3          NaN        15.45          0.1087      0.009536   \n3900     453.1          NaN        20.04          0.3535      0.006272   \n3908       NaN      0.05051        23.95          0.2322      0.009769   \n3929     656.1          NaN        13.98          0.3219      0.009976   \n3933     181.0          NaN        24.54             0.0      0.007189   \n\n     concave points_se  ... concavity_mean symmetry_mean symmetry_worst  \\\n4              0.00867  ...            NaN           NaN         0.3306   \n5             0.006296  ...       0.008306        0.1671         0.2731   \n7                  NaN  ...        0.03512        0.1667         0.3016   \n8                  NaN  ...         0.1772        0.2092         0.3021   \n12                 8.0  ...            NaN        0.1868         0.2785   \n...                ...  ...            ...           ...            ...   \n3882               NaN  ...        0.04006           NaN         0.2765   \n3900               NaN  ...        0.08175           NaN         0.2709   \n3908           0.01992  ...        0.09938        0.1847         0.2809   \n3929            0.0158  ...            NaN        0.2086         0.2827   \n3933               NaN  ...            NaN        0.1587         0.2871   \n\n     diagnosis fractal_dimension_se perimeter_mean compactness_worst  \\\n4            B             0.002386          73.34               NaN   \n5            B             0.002668           73.7           0.06476   \n7            B             0.002206          73.34             239.0   \n8            M             0.005126            NaN            0.2297   \n12           B             0.002635          75.71           0.08906   \n...        ...                  ...            ...               ...   \n3882         B               0.0031          75.03               NaN   \n3900         B                  NaN            NaN            0.2315   \n3908         M             0.003002            NaN            0.1924   \n3929         B                  NaN          98.22               NaN   \n3933         B             0.002783          47.92           0.06444   \n\n     symmetry_se compactness_se radius_se  \n4        0.03218       0.008722    0.3249  \n5        0.02216       0.006991    0.3534  \n7        0.01344            NaN       NaN  \n8        0.02674        0.02961    0.8337  \n12       0.01996        0.00838    0.2273  \n...          ...            ...       ...  \n3882     0.01953        0.01097    0.3446  \n3900         NaN            NaN    0.1811  \n3908     0.02981            NaN    0.4033  \n3929         NaN        0.05244    0.5462  \n3933         NaN        0.00466    0.3857  \n\n[686 rows x 31 columns]",
      "text/html": "<div>\n<style scoped>\n    .dataframe tbody tr th:only-of-type {\n        vertical-align: middle;\n    }\n\n    .dataframe tbody tr th {\n        vertical-align: top;\n    }\n\n    .dataframe thead th {\n        text-align: right;\n    }\n</style>\n<table border=\"1\" class=\"dataframe\">\n  <thead>\n    <tr style=\"text-align: right;\">\n      <th></th>\n      <th>perimeter_se</th>\n      <th>radius_worst</th>\n      <th>concave points_mean</th>\n      <th>smoothness_mean</th>\n      <th>area_mean</th>\n      <th>concavity_se</th>\n      <th>texture_mean</th>\n      <th>concavity_worst</th>\n      <th>smoothness_se</th>\n      <th>concave points_se</th>\n      <th>...</th>\n      <th>concavity_mean</th>\n      <th>symmetry_mean</th>\n      <th>symmetry_worst</th>\n      <th>diagnosis</th>\n      <th>fractal_dimension_se</th>\n      <th>perimeter_mean</th>\n      <th>compactness_worst</th>\n      <th>symmetry_se</th>\n      <th>compactness_se</th>\n      <th>radius_se</th>\n    </tr>\n  </thead>\n  <tbody>\n    <tr>\n      <th>4</th>\n      <td>2183.0000</td>\n      <td>NaN</td>\n      <td>0.02278</td>\n      <td>0.09524</td>\n      <td>409.0</td>\n      <td>0.01349</td>\n      <td>18.75</td>\n      <td>NaN</td>\n      <td>0.008328</td>\n      <td>0.00867</td>\n      <td>...</td>\n      <td>NaN</td>\n      <td>NaN</td>\n      <td>0.3306</td>\n      <td>B</td>\n      <td>0.002386</td>\n      <td>73.34</td>\n      <td>NaN</td>\n      <td>0.03218</td>\n      <td>0.008722</td>\n      <td>0.3249</td>\n    </tr>\n    <tr>\n      <th>5</th>\n      <td>2225.0000</td>\n      <td>13.28</td>\n      <td>0.01162</td>\n      <td>0.07561</td>\n      <td>421.0</td>\n      <td>0.005949</td>\n      <td>17.07</td>\n      <td>0.03046</td>\n      <td>0.006583</td>\n      <td>0.006296</td>\n      <td>...</td>\n      <td>0.008306</td>\n      <td>0.1671</td>\n      <td>0.2731</td>\n      <td>B</td>\n      <td>0.002668</td>\n      <td>73.7</td>\n      <td>0.06476</td>\n      <td>0.02216</td>\n      <td>0.006991</td>\n      <td>0.3534</td>\n    </tr>\n    <tr>\n      <th>7</th>\n      <td>1103.0000</td>\n      <td>12.82</td>\n      <td>0.02623</td>\n      <td>0.09373</td>\n      <td>403.3</td>\n      <td>0.01514</td>\n      <td>10.82</td>\n      <td>0.2102</td>\n      <td>NaN</td>\n      <td>NaN</td>\n      <td>...</td>\n      <td>0.03512</td>\n      <td>0.1667</td>\n      <td>0.3016</td>\n      <td>B</td>\n      <td>0.002206</td>\n      <td>73.34</td>\n      <td>239.0</td>\n      <td>0.01344</td>\n      <td>NaN</td>\n      <td>NaN</td>\n    </tr>\n    <tr>\n      <th>8</th>\n      <td>4877.0000</td>\n      <td>NaN</td>\n      <td>106.00000</td>\n      <td>0.1148</td>\n      <td>1033.0</td>\n      <td>0.02817</td>\n      <td>18.7</td>\n      <td>0.2623</td>\n      <td>0.003899</td>\n      <td>NaN</td>\n      <td>...</td>\n      <td>0.1772</td>\n      <td>0.2092</td>\n      <td>0.3021</td>\n      <td>M</td>\n      <td>0.005126</td>\n      <td>NaN</td>\n      <td>0.2297</td>\n      <td>0.02674</td>\n      <td>0.02961</td>\n      <td>0.8337</td>\n    </tr>\n    <tr>\n      <th>12</th>\n      <td>1.5200</td>\n      <td>13.1</td>\n      <td>0.01349</td>\n      <td>0.08261</td>\n      <td>437.6</td>\n      <td>0.01311</td>\n      <td>NaN</td>\n      <td>0.09203</td>\n      <td>NaN</td>\n      <td>8.0</td>\n      <td>...</td>\n      <td>NaN</td>\n      <td>0.1868</td>\n      <td>0.2785</td>\n      <td>B</td>\n      <td>0.002635</td>\n      <td>75.71</td>\n      <td>0.08906</td>\n      <td>0.01996</td>\n      <td>0.00838</td>\n      <td>0.2273</td>\n    </tr>\n    <tr>\n      <th>...</th>\n      <td>...</td>\n      <td>...</td>\n      <td>...</td>\n      <td>...</td>\n      <td>...</td>\n      <td>...</td>\n      <td>...</td>\n      <td>...</td>\n      <td>...</td>\n      <td>...</td>\n      <td>...</td>\n      <td>...</td>\n      <td>...</td>\n      <td>...</td>\n      <td>...</td>\n      <td>...</td>\n      <td>...</td>\n      <td>...</td>\n      <td>...</td>\n      <td>...</td>\n      <td>...</td>\n    </tr>\n    <tr>\n      <th>3882</th>\n      <td>2355.0000</td>\n      <td>NaN</td>\n      <td>0.03250</td>\n      <td>115.0</td>\n      <td>420.3</td>\n      <td>NaN</td>\n      <td>15.45</td>\n      <td>0.1087</td>\n      <td>0.009536</td>\n      <td>NaN</td>\n      <td>...</td>\n      <td>0.04006</td>\n      <td>NaN</td>\n      <td>0.2765</td>\n      <td>B</td>\n      <td>0.0031</td>\n      <td>75.03</td>\n      <td>NaN</td>\n      <td>0.01953</td>\n      <td>0.01097</td>\n      <td>0.3446</td>\n    </tr>\n    <tr>\n      <th>3900</th>\n      <td>0.9857</td>\n      <td>NaN</td>\n      <td>0.02166</td>\n      <td>0.1096</td>\n      <td>453.1</td>\n      <td>NaN</td>\n      <td>20.04</td>\n      <td>0.3535</td>\n      <td>0.006272</td>\n      <td>NaN</td>\n      <td>...</td>\n      <td>0.08175</td>\n      <td>NaN</td>\n      <td>0.2709</td>\n      <td>B</td>\n      <td>NaN</td>\n      <td>NaN</td>\n      <td>0.2315</td>\n      <td>NaN</td>\n      <td>NaN</td>\n      <td>0.1811</td>\n    </tr>\n    <tr>\n      <th>3908</th>\n      <td>2903.0000</td>\n      <td>16.84</td>\n      <td>0.05364</td>\n      <td>0.08401</td>\n      <td>NaN</td>\n      <td>0.05051</td>\n      <td>23.95</td>\n      <td>0.2322</td>\n      <td>0.009769</td>\n      <td>0.01992</td>\n      <td>...</td>\n      <td>0.09938</td>\n      <td>0.1847</td>\n      <td>0.2809</td>\n      <td>M</td>\n      <td>0.003002</td>\n      <td>NaN</td>\n      <td>0.1924</td>\n      <td>0.02981</td>\n      <td>NaN</td>\n      <td>0.4033</td>\n    </tr>\n    <tr>\n      <th>3929</th>\n      <td>4795.0000</td>\n      <td>16.46</td>\n      <td>63.00000</td>\n      <td>0.1031</td>\n      <td>656.1</td>\n      <td>NaN</td>\n      <td>13.98</td>\n      <td>0.3219</td>\n      <td>0.009976</td>\n      <td>0.0158</td>\n      <td>...</td>\n      <td>NaN</td>\n      <td>0.2086</td>\n      <td>0.2827</td>\n      <td>B</td>\n      <td>NaN</td>\n      <td>98.22</td>\n      <td>NaN</td>\n      <td>NaN</td>\n      <td>0.05244</td>\n      <td>0.5462</td>\n    </tr>\n    <tr>\n      <th>3933</th>\n      <td>NaN</td>\n      <td>9456.0</td>\n      <td>0.00000</td>\n      <td>0.05263</td>\n      <td>181.0</td>\n      <td>NaN</td>\n      <td>24.54</td>\n      <td>0.0</td>\n      <td>0.007189</td>\n      <td>NaN</td>\n      <td>...</td>\n      <td>NaN</td>\n      <td>0.1587</td>\n      <td>0.2871</td>\n      <td>B</td>\n      <td>0.002783</td>\n      <td>47.92</td>\n      <td>0.06444</td>\n      <td>NaN</td>\n      <td>0.00466</td>\n      <td>0.3857</td>\n    </tr>\n  </tbody>\n</table>\n<p>686 rows × 31 columns</p>\n</div>"
     },
     "execution_count": 434,
     "metadata": {},
     "output_type": "execute_result"
    }
   ],
   "source": [
    "df"
   ],
   "metadata": {
    "collapsed": false,
    "pycharm": {
     "name": "#%%\n"
    }
   }
  },
  {
   "cell_type": "code",
   "execution_count": 435,
   "outputs": [
    {
     "data": {
      "text/plain": "      perimeter_se radius_worst  concave points_mean smoothness_mean  \\\n74         3357.00        20.58              0.05596         0.08402   \n1343          1.93        13.05              0.02179         0.09773   \n\n     area_mean concavity_se       texture_mean concavity_worst smoothness_se  \\\n74       982.0      0.02291  999765432456788.0          0.2249      0.004024   \n1343     433.8       0.0163  -88888765432345.0          0.1164      0.009895   \n\n     concave points_se  ... concavity_mean symmetry_mean symmetry_worst  \\\n74            0.009863  ...        0.07293        0.2129         0.4882   \n1343          0.009276  ...        0.02555        0.2019         0.3075   \n\n     diagnosis fractal_dimension_se perimeter_mean compactness_worst  \\\n74           M             0.001902          114.2            0.1202   \n1343         B             0.002272          76.39            0.2187   \n\n            symmetry_se compactness_se radius_se  \n74              0.05014       0.008422    0.5506  \n1343  -88888765432345.0        0.03053    0.2747  \n\n[2 rows x 31 columns]",
      "text/html": "<div>\n<style scoped>\n    .dataframe tbody tr th:only-of-type {\n        vertical-align: middle;\n    }\n\n    .dataframe tbody tr th {\n        vertical-align: top;\n    }\n\n    .dataframe thead th {\n        text-align: right;\n    }\n</style>\n<table border=\"1\" class=\"dataframe\">\n  <thead>\n    <tr style=\"text-align: right;\">\n      <th></th>\n      <th>perimeter_se</th>\n      <th>radius_worst</th>\n      <th>concave points_mean</th>\n      <th>smoothness_mean</th>\n      <th>area_mean</th>\n      <th>concavity_se</th>\n      <th>texture_mean</th>\n      <th>concavity_worst</th>\n      <th>smoothness_se</th>\n      <th>concave points_se</th>\n      <th>...</th>\n      <th>concavity_mean</th>\n      <th>symmetry_mean</th>\n      <th>symmetry_worst</th>\n      <th>diagnosis</th>\n      <th>fractal_dimension_se</th>\n      <th>perimeter_mean</th>\n      <th>compactness_worst</th>\n      <th>symmetry_se</th>\n      <th>compactness_se</th>\n      <th>radius_se</th>\n    </tr>\n  </thead>\n  <tbody>\n    <tr>\n      <th>74</th>\n      <td>3357.00</td>\n      <td>20.58</td>\n      <td>0.05596</td>\n      <td>0.08402</td>\n      <td>982.0</td>\n      <td>0.02291</td>\n      <td>999765432456788.0</td>\n      <td>0.2249</td>\n      <td>0.004024</td>\n      <td>0.009863</td>\n      <td>...</td>\n      <td>0.07293</td>\n      <td>0.2129</td>\n      <td>0.4882</td>\n      <td>M</td>\n      <td>0.001902</td>\n      <td>114.2</td>\n      <td>0.1202</td>\n      <td>0.05014</td>\n      <td>0.008422</td>\n      <td>0.5506</td>\n    </tr>\n    <tr>\n      <th>1343</th>\n      <td>1.93</td>\n      <td>13.05</td>\n      <td>0.02179</td>\n      <td>0.09773</td>\n      <td>433.8</td>\n      <td>0.0163</td>\n      <td>-88888765432345.0</td>\n      <td>0.1164</td>\n      <td>0.009895</td>\n      <td>0.009276</td>\n      <td>...</td>\n      <td>0.02555</td>\n      <td>0.2019</td>\n      <td>0.3075</td>\n      <td>B</td>\n      <td>0.002272</td>\n      <td>76.39</td>\n      <td>0.2187</td>\n      <td>-88888765432345.0</td>\n      <td>0.03053</td>\n      <td>0.2747</td>\n    </tr>\n  </tbody>\n</table>\n<p>2 rows × 31 columns</p>\n</div>"
     },
     "execution_count": 435,
     "metadata": {},
     "output_type": "execute_result"
    }
   ],
   "source": [
    "mask = df[(df['concave points_worst'] == '-88888765432345.0') | (df['concave points_worst'] == '999765432456788.0') | (\n",
    "               df['concave points_worst'] == 'rxctf378968 7656463sdfg')]\n",
    "mask"
   ],
   "metadata": {
    "collapsed": false,
    "pycharm": {
     "name": "#%%\n"
    }
   }
  },
  {
   "cell_type": "code",
   "execution_count": 436,
   "outputs": [
    {
     "name": "stderr",
     "output_type": "stream",
     "text": [
      "C:\\Users\\NICON\\AppData\\Local\\Temp\\ipykernel_10184\\2450819508.py:3: SettingWithCopyWarning: \n",
      "A value is trying to be set on a copy of a slice from a DataFrame\n",
      "\n",
      "See the caveats in the documentation: https://pandas.pydata.org/pandas-docs/stable/user_guide/indexing.html#returning-a-view-versus-a-copy\n",
      "  df.drop(df[df['concave points_worst'] == i].index, inplace=True, axis=0)\n"
     ]
    }
   ],
   "source": [
    "list = ['rxctf378968 7656463sdfg', '-88888765432345.0', '999765432456788.0']\n",
    "for i in list:\n",
    "       df.drop(df[df['concave points_worst'] == i].index, inplace=True, axis=0)"
   ],
   "metadata": {
    "collapsed": false,
    "pycharm": {
     "name": "#%%\n"
    }
   }
  },
  {
   "cell_type": "code",
   "execution_count": 437,
   "outputs": [
    {
     "data": {
      "text/plain": "      perimeter_se radius_worst  concave points_mean smoothness_mean  \\\n4        2183.0000          NaN              0.02278         0.09524   \n5        2225.0000        13.28              0.01162         0.07561   \n7        1103.0000        12.82              0.02623         0.09373   \n8        4877.0000          NaN            106.00000          0.1148   \n12          1.5200         13.1              0.01349         0.08261   \n...            ...          ...                  ...             ...   \n3882     2355.0000          NaN              0.03250           115.0   \n3900        0.9857          NaN              0.02166          0.1096   \n3908     2903.0000        16.84              0.05364         0.08401   \n3929     4795.0000        16.46             63.00000          0.1031   \n3933           NaN       9456.0              0.00000         0.05263   \n\n     area_mean concavity_se texture_mean concavity_worst smoothness_se  \\\n4        409.0      0.01349        18.75             NaN      0.008328   \n5        421.0     0.005949        17.07         0.03046      0.006583   \n7        403.3      0.01514        10.82          0.2102           NaN   \n8       1033.0      0.02817         18.7          0.2623      0.003899   \n12       437.6      0.01311          NaN         0.09203           NaN   \n...        ...          ...          ...             ...           ...   \n3882     420.3          NaN        15.45          0.1087      0.009536   \n3900     453.1          NaN        20.04          0.3535      0.006272   \n3908       NaN      0.05051        23.95          0.2322      0.009769   \n3929     656.1          NaN        13.98          0.3219      0.009976   \n3933     181.0          NaN        24.54             0.0      0.007189   \n\n     concave points_se  ... concavity_mean symmetry_mean symmetry_worst  \\\n4              0.00867  ...            NaN           NaN         0.3306   \n5             0.006296  ...       0.008306        0.1671         0.2731   \n7                  NaN  ...        0.03512        0.1667         0.3016   \n8                  NaN  ...         0.1772        0.2092         0.3021   \n12                 8.0  ...            NaN        0.1868         0.2785   \n...                ...  ...            ...           ...            ...   \n3882               NaN  ...        0.04006           NaN         0.2765   \n3900               NaN  ...        0.08175           NaN         0.2709   \n3908           0.01992  ...        0.09938        0.1847         0.2809   \n3929            0.0158  ...            NaN        0.2086         0.2827   \n3933               NaN  ...            NaN        0.1587         0.2871   \n\n     diagnosis fractal_dimension_se perimeter_mean compactness_worst  \\\n4            B             0.002386          73.34               NaN   \n5            B             0.002668           73.7           0.06476   \n7            B             0.002206          73.34             239.0   \n8            M             0.005126            NaN            0.2297   \n12           B             0.002635          75.71           0.08906   \n...        ...                  ...            ...               ...   \n3882         B               0.0031          75.03               NaN   \n3900         B                  NaN            NaN            0.2315   \n3908         M             0.003002            NaN            0.1924   \n3929         B                  NaN          98.22               NaN   \n3933         B             0.002783          47.92           0.06444   \n\n     symmetry_se compactness_se radius_se  \n4        0.03218       0.008722    0.3249  \n5        0.02216       0.006991    0.3534  \n7        0.01344            NaN       NaN  \n8        0.02674        0.02961    0.8337  \n12       0.01996        0.00838    0.2273  \n...          ...            ...       ...  \n3882     0.01953        0.01097    0.3446  \n3900         NaN            NaN    0.1811  \n3908     0.02981            NaN    0.4033  \n3929         NaN        0.05244    0.5462  \n3933         NaN        0.00466    0.3857  \n\n[684 rows x 31 columns]",
      "text/html": "<div>\n<style scoped>\n    .dataframe tbody tr th:only-of-type {\n        vertical-align: middle;\n    }\n\n    .dataframe tbody tr th {\n        vertical-align: top;\n    }\n\n    .dataframe thead th {\n        text-align: right;\n    }\n</style>\n<table border=\"1\" class=\"dataframe\">\n  <thead>\n    <tr style=\"text-align: right;\">\n      <th></th>\n      <th>perimeter_se</th>\n      <th>radius_worst</th>\n      <th>concave points_mean</th>\n      <th>smoothness_mean</th>\n      <th>area_mean</th>\n      <th>concavity_se</th>\n      <th>texture_mean</th>\n      <th>concavity_worst</th>\n      <th>smoothness_se</th>\n      <th>concave points_se</th>\n      <th>...</th>\n      <th>concavity_mean</th>\n      <th>symmetry_mean</th>\n      <th>symmetry_worst</th>\n      <th>diagnosis</th>\n      <th>fractal_dimension_se</th>\n      <th>perimeter_mean</th>\n      <th>compactness_worst</th>\n      <th>symmetry_se</th>\n      <th>compactness_se</th>\n      <th>radius_se</th>\n    </tr>\n  </thead>\n  <tbody>\n    <tr>\n      <th>4</th>\n      <td>2183.0000</td>\n      <td>NaN</td>\n      <td>0.02278</td>\n      <td>0.09524</td>\n      <td>409.0</td>\n      <td>0.01349</td>\n      <td>18.75</td>\n      <td>NaN</td>\n      <td>0.008328</td>\n      <td>0.00867</td>\n      <td>...</td>\n      <td>NaN</td>\n      <td>NaN</td>\n      <td>0.3306</td>\n      <td>B</td>\n      <td>0.002386</td>\n      <td>73.34</td>\n      <td>NaN</td>\n      <td>0.03218</td>\n      <td>0.008722</td>\n      <td>0.3249</td>\n    </tr>\n    <tr>\n      <th>5</th>\n      <td>2225.0000</td>\n      <td>13.28</td>\n      <td>0.01162</td>\n      <td>0.07561</td>\n      <td>421.0</td>\n      <td>0.005949</td>\n      <td>17.07</td>\n      <td>0.03046</td>\n      <td>0.006583</td>\n      <td>0.006296</td>\n      <td>...</td>\n      <td>0.008306</td>\n      <td>0.1671</td>\n      <td>0.2731</td>\n      <td>B</td>\n      <td>0.002668</td>\n      <td>73.7</td>\n      <td>0.06476</td>\n      <td>0.02216</td>\n      <td>0.006991</td>\n      <td>0.3534</td>\n    </tr>\n    <tr>\n      <th>7</th>\n      <td>1103.0000</td>\n      <td>12.82</td>\n      <td>0.02623</td>\n      <td>0.09373</td>\n      <td>403.3</td>\n      <td>0.01514</td>\n      <td>10.82</td>\n      <td>0.2102</td>\n      <td>NaN</td>\n      <td>NaN</td>\n      <td>...</td>\n      <td>0.03512</td>\n      <td>0.1667</td>\n      <td>0.3016</td>\n      <td>B</td>\n      <td>0.002206</td>\n      <td>73.34</td>\n      <td>239.0</td>\n      <td>0.01344</td>\n      <td>NaN</td>\n      <td>NaN</td>\n    </tr>\n    <tr>\n      <th>8</th>\n      <td>4877.0000</td>\n      <td>NaN</td>\n      <td>106.00000</td>\n      <td>0.1148</td>\n      <td>1033.0</td>\n      <td>0.02817</td>\n      <td>18.7</td>\n      <td>0.2623</td>\n      <td>0.003899</td>\n      <td>NaN</td>\n      <td>...</td>\n      <td>0.1772</td>\n      <td>0.2092</td>\n      <td>0.3021</td>\n      <td>M</td>\n      <td>0.005126</td>\n      <td>NaN</td>\n      <td>0.2297</td>\n      <td>0.02674</td>\n      <td>0.02961</td>\n      <td>0.8337</td>\n    </tr>\n    <tr>\n      <th>12</th>\n      <td>1.5200</td>\n      <td>13.1</td>\n      <td>0.01349</td>\n      <td>0.08261</td>\n      <td>437.6</td>\n      <td>0.01311</td>\n      <td>NaN</td>\n      <td>0.09203</td>\n      <td>NaN</td>\n      <td>8.0</td>\n      <td>...</td>\n      <td>NaN</td>\n      <td>0.1868</td>\n      <td>0.2785</td>\n      <td>B</td>\n      <td>0.002635</td>\n      <td>75.71</td>\n      <td>0.08906</td>\n      <td>0.01996</td>\n      <td>0.00838</td>\n      <td>0.2273</td>\n    </tr>\n    <tr>\n      <th>...</th>\n      <td>...</td>\n      <td>...</td>\n      <td>...</td>\n      <td>...</td>\n      <td>...</td>\n      <td>...</td>\n      <td>...</td>\n      <td>...</td>\n      <td>...</td>\n      <td>...</td>\n      <td>...</td>\n      <td>...</td>\n      <td>...</td>\n      <td>...</td>\n      <td>...</td>\n      <td>...</td>\n      <td>...</td>\n      <td>...</td>\n      <td>...</td>\n      <td>...</td>\n      <td>...</td>\n    </tr>\n    <tr>\n      <th>3882</th>\n      <td>2355.0000</td>\n      <td>NaN</td>\n      <td>0.03250</td>\n      <td>115.0</td>\n      <td>420.3</td>\n      <td>NaN</td>\n      <td>15.45</td>\n      <td>0.1087</td>\n      <td>0.009536</td>\n      <td>NaN</td>\n      <td>...</td>\n      <td>0.04006</td>\n      <td>NaN</td>\n      <td>0.2765</td>\n      <td>B</td>\n      <td>0.0031</td>\n      <td>75.03</td>\n      <td>NaN</td>\n      <td>0.01953</td>\n      <td>0.01097</td>\n      <td>0.3446</td>\n    </tr>\n    <tr>\n      <th>3900</th>\n      <td>0.9857</td>\n      <td>NaN</td>\n      <td>0.02166</td>\n      <td>0.1096</td>\n      <td>453.1</td>\n      <td>NaN</td>\n      <td>20.04</td>\n      <td>0.3535</td>\n      <td>0.006272</td>\n      <td>NaN</td>\n      <td>...</td>\n      <td>0.08175</td>\n      <td>NaN</td>\n      <td>0.2709</td>\n      <td>B</td>\n      <td>NaN</td>\n      <td>NaN</td>\n      <td>0.2315</td>\n      <td>NaN</td>\n      <td>NaN</td>\n      <td>0.1811</td>\n    </tr>\n    <tr>\n      <th>3908</th>\n      <td>2903.0000</td>\n      <td>16.84</td>\n      <td>0.05364</td>\n      <td>0.08401</td>\n      <td>NaN</td>\n      <td>0.05051</td>\n      <td>23.95</td>\n      <td>0.2322</td>\n      <td>0.009769</td>\n      <td>0.01992</td>\n      <td>...</td>\n      <td>0.09938</td>\n      <td>0.1847</td>\n      <td>0.2809</td>\n      <td>M</td>\n      <td>0.003002</td>\n      <td>NaN</td>\n      <td>0.1924</td>\n      <td>0.02981</td>\n      <td>NaN</td>\n      <td>0.4033</td>\n    </tr>\n    <tr>\n      <th>3929</th>\n      <td>4795.0000</td>\n      <td>16.46</td>\n      <td>63.00000</td>\n      <td>0.1031</td>\n      <td>656.1</td>\n      <td>NaN</td>\n      <td>13.98</td>\n      <td>0.3219</td>\n      <td>0.009976</td>\n      <td>0.0158</td>\n      <td>...</td>\n      <td>NaN</td>\n      <td>0.2086</td>\n      <td>0.2827</td>\n      <td>B</td>\n      <td>NaN</td>\n      <td>98.22</td>\n      <td>NaN</td>\n      <td>NaN</td>\n      <td>0.05244</td>\n      <td>0.5462</td>\n    </tr>\n    <tr>\n      <th>3933</th>\n      <td>NaN</td>\n      <td>9456.0</td>\n      <td>0.00000</td>\n      <td>0.05263</td>\n      <td>181.0</td>\n      <td>NaN</td>\n      <td>24.54</td>\n      <td>0.0</td>\n      <td>0.007189</td>\n      <td>NaN</td>\n      <td>...</td>\n      <td>NaN</td>\n      <td>0.1587</td>\n      <td>0.2871</td>\n      <td>B</td>\n      <td>0.002783</td>\n      <td>47.92</td>\n      <td>0.06444</td>\n      <td>NaN</td>\n      <td>0.00466</td>\n      <td>0.3857</td>\n    </tr>\n  </tbody>\n</table>\n<p>684 rows × 31 columns</p>\n</div>"
     },
     "execution_count": 437,
     "metadata": {},
     "output_type": "execute_result"
    }
   ],
   "source": [
    "df"
   ],
   "metadata": {
    "collapsed": false,
    "pycharm": {
     "name": "#%%\n"
    }
   }
  },
  {
   "cell_type": "code",
   "execution_count": 438,
   "outputs": [
    {
     "data": {
      "text/plain": "      perimeter_se radius_worst  concave points_mean smoothness_mean  \\\n91          4877.0         20.6            106.00000          0.1148   \n208         5216.0        22.32              0.05627         0.08217   \n2867        2597.0        14.45              0.02090         0.09136   \n\n     area_mean concavity_se       texture_mean concavity_worst smoothness_se  \\\n91      1033.0      0.02817               18.7          0.2623      0.003899   \n208     1138.0       0.0404  999765432456788.0          0.3207      0.004428   \n2867     509.2     0.007066              19.54         0.07127       0.00591   \n\n     concave points_se  ... concavity_mean      symmetry_mean  \\\n91            0.009222  ...         0.1772             0.2092   \n208            0.01361  ...        0.09271             0.1946   \n2867          0.006502  ...        0.01797  -88888765432345.0   \n\n         symmetry_worst diagnosis fractal_dimension_se perimeter_mean  \\\n91               0.3021         M             0.005126          120.3   \n208              0.2841         M             0.002686          123.4   \n2867  -88888765432345.0         B             0.002378          82.67   \n\n            compactness_worst        symmetry_se compactness_se radius_se  \n91    rxctf378968 7656463sdfg            0.02674        0.02961    0.8337  \n208                    0.2264  999765432456788.0        0.02731    0.6896  \n2867                   0.1652            0.02223        0.01362    0.3665  \n\n[3 rows x 31 columns]",
      "text/html": "<div>\n<style scoped>\n    .dataframe tbody tr th:only-of-type {\n        vertical-align: middle;\n    }\n\n    .dataframe tbody tr th {\n        vertical-align: top;\n    }\n\n    .dataframe thead th {\n        text-align: right;\n    }\n</style>\n<table border=\"1\" class=\"dataframe\">\n  <thead>\n    <tr style=\"text-align: right;\">\n      <th></th>\n      <th>perimeter_se</th>\n      <th>radius_worst</th>\n      <th>concave points_mean</th>\n      <th>smoothness_mean</th>\n      <th>area_mean</th>\n      <th>concavity_se</th>\n      <th>texture_mean</th>\n      <th>concavity_worst</th>\n      <th>smoothness_se</th>\n      <th>concave points_se</th>\n      <th>...</th>\n      <th>concavity_mean</th>\n      <th>symmetry_mean</th>\n      <th>symmetry_worst</th>\n      <th>diagnosis</th>\n      <th>fractal_dimension_se</th>\n      <th>perimeter_mean</th>\n      <th>compactness_worst</th>\n      <th>symmetry_se</th>\n      <th>compactness_se</th>\n      <th>radius_se</th>\n    </tr>\n  </thead>\n  <tbody>\n    <tr>\n      <th>91</th>\n      <td>4877.0</td>\n      <td>20.6</td>\n      <td>106.00000</td>\n      <td>0.1148</td>\n      <td>1033.0</td>\n      <td>0.02817</td>\n      <td>18.7</td>\n      <td>0.2623</td>\n      <td>0.003899</td>\n      <td>0.009222</td>\n      <td>...</td>\n      <td>0.1772</td>\n      <td>0.2092</td>\n      <td>0.3021</td>\n      <td>M</td>\n      <td>0.005126</td>\n      <td>120.3</td>\n      <td>rxctf378968 7656463sdfg</td>\n      <td>0.02674</td>\n      <td>0.02961</td>\n      <td>0.8337</td>\n    </tr>\n    <tr>\n      <th>208</th>\n      <td>5216.0</td>\n      <td>22.32</td>\n      <td>0.05627</td>\n      <td>0.08217</td>\n      <td>1138.0</td>\n      <td>0.0404</td>\n      <td>999765432456788.0</td>\n      <td>0.3207</td>\n      <td>0.004428</td>\n      <td>0.01361</td>\n      <td>...</td>\n      <td>0.09271</td>\n      <td>0.1946</td>\n      <td>0.2841</td>\n      <td>M</td>\n      <td>0.002686</td>\n      <td>123.4</td>\n      <td>0.2264</td>\n      <td>999765432456788.0</td>\n      <td>0.02731</td>\n      <td>0.6896</td>\n    </tr>\n    <tr>\n      <th>2867</th>\n      <td>2597.0</td>\n      <td>14.45</td>\n      <td>0.02090</td>\n      <td>0.09136</td>\n      <td>509.2</td>\n      <td>0.007066</td>\n      <td>19.54</td>\n      <td>0.07127</td>\n      <td>0.00591</td>\n      <td>0.006502</td>\n      <td>...</td>\n      <td>0.01797</td>\n      <td>-88888765432345.0</td>\n      <td>-88888765432345.0</td>\n      <td>B</td>\n      <td>0.002378</td>\n      <td>82.67</td>\n      <td>0.1652</td>\n      <td>0.02223</td>\n      <td>0.01362</td>\n      <td>0.3665</td>\n    </tr>\n  </tbody>\n</table>\n<p>3 rows × 31 columns</p>\n</div>"
     },
     "execution_count": 438,
     "metadata": {},
     "output_type": "execute_result"
    }
   ],
   "source": [
    "mask = df[(df['fractal_dimension_worst'] == '-88888765432345.0') | (df['fractal_dimension_worst'] == '999765432456788.0') | (\n",
    "               df['fractal_dimension_worst'] == 'rxctf378968 7656463sdfg')]\n",
    "mask"
   ],
   "metadata": {
    "collapsed": false,
    "pycharm": {
     "name": "#%%\n"
    }
   }
  },
  {
   "cell_type": "code",
   "execution_count": 439,
   "outputs": [
    {
     "name": "stderr",
     "output_type": "stream",
     "text": [
      "C:\\Users\\NICON\\AppData\\Local\\Temp\\ipykernel_10184\\238407091.py:3: SettingWithCopyWarning: \n",
      "A value is trying to be set on a copy of a slice from a DataFrame\n",
      "\n",
      "See the caveats in the documentation: https://pandas.pydata.org/pandas-docs/stable/user_guide/indexing.html#returning-a-view-versus-a-copy\n",
      "  df.drop(df[df['fractal_dimension_worst'] == i].index, inplace=True, axis=0)\n"
     ]
    }
   ],
   "source": [
    "list = ['rxctf378968 7656463sdfg', '-88888765432345.0', '999765432456788.0']\n",
    "for i in list:\n",
    "       df.drop(df[df['fractal_dimension_worst'] == i].index, inplace=True, axis=0)"
   ],
   "metadata": {
    "collapsed": false,
    "pycharm": {
     "name": "#%%\n"
    }
   }
  },
  {
   "cell_type": "code",
   "execution_count": 440,
   "outputs": [
    {
     "data": {
      "text/plain": "      perimeter_se radius_worst  concave points_mean smoothness_mean  \\\n4        2183.0000          NaN              0.02278         0.09524   \n5        2225.0000        13.28              0.01162         0.07561   \n7        1103.0000        12.82              0.02623         0.09373   \n8        4877.0000          NaN            106.00000          0.1148   \n12          1.5200         13.1              0.01349         0.08261   \n...            ...          ...                  ...             ...   \n3882     2355.0000          NaN              0.03250           115.0   \n3900        0.9857          NaN              0.02166          0.1096   \n3908     2903.0000        16.84              0.05364         0.08401   \n3929     4795.0000        16.46             63.00000          0.1031   \n3933           NaN       9456.0              0.00000         0.05263   \n\n     area_mean concavity_se texture_mean concavity_worst smoothness_se  \\\n4        409.0      0.01349        18.75             NaN      0.008328   \n5        421.0     0.005949        17.07         0.03046      0.006583   \n7        403.3      0.01514        10.82          0.2102           NaN   \n8       1033.0      0.02817         18.7          0.2623      0.003899   \n12       437.6      0.01311          NaN         0.09203           NaN   \n...        ...          ...          ...             ...           ...   \n3882     420.3          NaN        15.45          0.1087      0.009536   \n3900     453.1          NaN        20.04          0.3535      0.006272   \n3908       NaN      0.05051        23.95          0.2322      0.009769   \n3929     656.1          NaN        13.98          0.3219      0.009976   \n3933     181.0          NaN        24.54             0.0      0.007189   \n\n     concave points_se  ... concavity_mean symmetry_mean symmetry_worst  \\\n4              0.00867  ...            NaN           NaN         0.3306   \n5             0.006296  ...       0.008306        0.1671         0.2731   \n7                  NaN  ...        0.03512        0.1667         0.3016   \n8                  NaN  ...         0.1772        0.2092         0.3021   \n12                 8.0  ...            NaN        0.1868         0.2785   \n...                ...  ...            ...           ...            ...   \n3882               NaN  ...        0.04006           NaN         0.2765   \n3900               NaN  ...        0.08175           NaN         0.2709   \n3908           0.01992  ...        0.09938        0.1847         0.2809   \n3929            0.0158  ...            NaN        0.2086         0.2827   \n3933               NaN  ...            NaN        0.1587         0.2871   \n\n     diagnosis fractal_dimension_se perimeter_mean compactness_worst  \\\n4            B             0.002386          73.34               NaN   \n5            B             0.002668           73.7           0.06476   \n7            B             0.002206          73.34             239.0   \n8            M             0.005126            NaN            0.2297   \n12           B             0.002635          75.71           0.08906   \n...        ...                  ...            ...               ...   \n3882         B               0.0031          75.03               NaN   \n3900         B                  NaN            NaN            0.2315   \n3908         M             0.003002            NaN            0.1924   \n3929         B                  NaN          98.22               NaN   \n3933         B             0.002783          47.92           0.06444   \n\n     symmetry_se compactness_se radius_se  \n4        0.03218       0.008722    0.3249  \n5        0.02216       0.006991    0.3534  \n7        0.01344            NaN       NaN  \n8        0.02674        0.02961    0.8337  \n12       0.01996        0.00838    0.2273  \n...          ...            ...       ...  \n3882     0.01953        0.01097    0.3446  \n3900         NaN            NaN    0.1811  \n3908     0.02981            NaN    0.4033  \n3929         NaN        0.05244    0.5462  \n3933         NaN        0.00466    0.3857  \n\n[681 rows x 31 columns]",
      "text/html": "<div>\n<style scoped>\n    .dataframe tbody tr th:only-of-type {\n        vertical-align: middle;\n    }\n\n    .dataframe tbody tr th {\n        vertical-align: top;\n    }\n\n    .dataframe thead th {\n        text-align: right;\n    }\n</style>\n<table border=\"1\" class=\"dataframe\">\n  <thead>\n    <tr style=\"text-align: right;\">\n      <th></th>\n      <th>perimeter_se</th>\n      <th>radius_worst</th>\n      <th>concave points_mean</th>\n      <th>smoothness_mean</th>\n      <th>area_mean</th>\n      <th>concavity_se</th>\n      <th>texture_mean</th>\n      <th>concavity_worst</th>\n      <th>smoothness_se</th>\n      <th>concave points_se</th>\n      <th>...</th>\n      <th>concavity_mean</th>\n      <th>symmetry_mean</th>\n      <th>symmetry_worst</th>\n      <th>diagnosis</th>\n      <th>fractal_dimension_se</th>\n      <th>perimeter_mean</th>\n      <th>compactness_worst</th>\n      <th>symmetry_se</th>\n      <th>compactness_se</th>\n      <th>radius_se</th>\n    </tr>\n  </thead>\n  <tbody>\n    <tr>\n      <th>4</th>\n      <td>2183.0000</td>\n      <td>NaN</td>\n      <td>0.02278</td>\n      <td>0.09524</td>\n      <td>409.0</td>\n      <td>0.01349</td>\n      <td>18.75</td>\n      <td>NaN</td>\n      <td>0.008328</td>\n      <td>0.00867</td>\n      <td>...</td>\n      <td>NaN</td>\n      <td>NaN</td>\n      <td>0.3306</td>\n      <td>B</td>\n      <td>0.002386</td>\n      <td>73.34</td>\n      <td>NaN</td>\n      <td>0.03218</td>\n      <td>0.008722</td>\n      <td>0.3249</td>\n    </tr>\n    <tr>\n      <th>5</th>\n      <td>2225.0000</td>\n      <td>13.28</td>\n      <td>0.01162</td>\n      <td>0.07561</td>\n      <td>421.0</td>\n      <td>0.005949</td>\n      <td>17.07</td>\n      <td>0.03046</td>\n      <td>0.006583</td>\n      <td>0.006296</td>\n      <td>...</td>\n      <td>0.008306</td>\n      <td>0.1671</td>\n      <td>0.2731</td>\n      <td>B</td>\n      <td>0.002668</td>\n      <td>73.7</td>\n      <td>0.06476</td>\n      <td>0.02216</td>\n      <td>0.006991</td>\n      <td>0.3534</td>\n    </tr>\n    <tr>\n      <th>7</th>\n      <td>1103.0000</td>\n      <td>12.82</td>\n      <td>0.02623</td>\n      <td>0.09373</td>\n      <td>403.3</td>\n      <td>0.01514</td>\n      <td>10.82</td>\n      <td>0.2102</td>\n      <td>NaN</td>\n      <td>NaN</td>\n      <td>...</td>\n      <td>0.03512</td>\n      <td>0.1667</td>\n      <td>0.3016</td>\n      <td>B</td>\n      <td>0.002206</td>\n      <td>73.34</td>\n      <td>239.0</td>\n      <td>0.01344</td>\n      <td>NaN</td>\n      <td>NaN</td>\n    </tr>\n    <tr>\n      <th>8</th>\n      <td>4877.0000</td>\n      <td>NaN</td>\n      <td>106.00000</td>\n      <td>0.1148</td>\n      <td>1033.0</td>\n      <td>0.02817</td>\n      <td>18.7</td>\n      <td>0.2623</td>\n      <td>0.003899</td>\n      <td>NaN</td>\n      <td>...</td>\n      <td>0.1772</td>\n      <td>0.2092</td>\n      <td>0.3021</td>\n      <td>M</td>\n      <td>0.005126</td>\n      <td>NaN</td>\n      <td>0.2297</td>\n      <td>0.02674</td>\n      <td>0.02961</td>\n      <td>0.8337</td>\n    </tr>\n    <tr>\n      <th>12</th>\n      <td>1.5200</td>\n      <td>13.1</td>\n      <td>0.01349</td>\n      <td>0.08261</td>\n      <td>437.6</td>\n      <td>0.01311</td>\n      <td>NaN</td>\n      <td>0.09203</td>\n      <td>NaN</td>\n      <td>8.0</td>\n      <td>...</td>\n      <td>NaN</td>\n      <td>0.1868</td>\n      <td>0.2785</td>\n      <td>B</td>\n      <td>0.002635</td>\n      <td>75.71</td>\n      <td>0.08906</td>\n      <td>0.01996</td>\n      <td>0.00838</td>\n      <td>0.2273</td>\n    </tr>\n    <tr>\n      <th>...</th>\n      <td>...</td>\n      <td>...</td>\n      <td>...</td>\n      <td>...</td>\n      <td>...</td>\n      <td>...</td>\n      <td>...</td>\n      <td>...</td>\n      <td>...</td>\n      <td>...</td>\n      <td>...</td>\n      <td>...</td>\n      <td>...</td>\n      <td>...</td>\n      <td>...</td>\n      <td>...</td>\n      <td>...</td>\n      <td>...</td>\n      <td>...</td>\n      <td>...</td>\n      <td>...</td>\n    </tr>\n    <tr>\n      <th>3882</th>\n      <td>2355.0000</td>\n      <td>NaN</td>\n      <td>0.03250</td>\n      <td>115.0</td>\n      <td>420.3</td>\n      <td>NaN</td>\n      <td>15.45</td>\n      <td>0.1087</td>\n      <td>0.009536</td>\n      <td>NaN</td>\n      <td>...</td>\n      <td>0.04006</td>\n      <td>NaN</td>\n      <td>0.2765</td>\n      <td>B</td>\n      <td>0.0031</td>\n      <td>75.03</td>\n      <td>NaN</td>\n      <td>0.01953</td>\n      <td>0.01097</td>\n      <td>0.3446</td>\n    </tr>\n    <tr>\n      <th>3900</th>\n      <td>0.9857</td>\n      <td>NaN</td>\n      <td>0.02166</td>\n      <td>0.1096</td>\n      <td>453.1</td>\n      <td>NaN</td>\n      <td>20.04</td>\n      <td>0.3535</td>\n      <td>0.006272</td>\n      <td>NaN</td>\n      <td>...</td>\n      <td>0.08175</td>\n      <td>NaN</td>\n      <td>0.2709</td>\n      <td>B</td>\n      <td>NaN</td>\n      <td>NaN</td>\n      <td>0.2315</td>\n      <td>NaN</td>\n      <td>NaN</td>\n      <td>0.1811</td>\n    </tr>\n    <tr>\n      <th>3908</th>\n      <td>2903.0000</td>\n      <td>16.84</td>\n      <td>0.05364</td>\n      <td>0.08401</td>\n      <td>NaN</td>\n      <td>0.05051</td>\n      <td>23.95</td>\n      <td>0.2322</td>\n      <td>0.009769</td>\n      <td>0.01992</td>\n      <td>...</td>\n      <td>0.09938</td>\n      <td>0.1847</td>\n      <td>0.2809</td>\n      <td>M</td>\n      <td>0.003002</td>\n      <td>NaN</td>\n      <td>0.1924</td>\n      <td>0.02981</td>\n      <td>NaN</td>\n      <td>0.4033</td>\n    </tr>\n    <tr>\n      <th>3929</th>\n      <td>4795.0000</td>\n      <td>16.46</td>\n      <td>63.00000</td>\n      <td>0.1031</td>\n      <td>656.1</td>\n      <td>NaN</td>\n      <td>13.98</td>\n      <td>0.3219</td>\n      <td>0.009976</td>\n      <td>0.0158</td>\n      <td>...</td>\n      <td>NaN</td>\n      <td>0.2086</td>\n      <td>0.2827</td>\n      <td>B</td>\n      <td>NaN</td>\n      <td>98.22</td>\n      <td>NaN</td>\n      <td>NaN</td>\n      <td>0.05244</td>\n      <td>0.5462</td>\n    </tr>\n    <tr>\n      <th>3933</th>\n      <td>NaN</td>\n      <td>9456.0</td>\n      <td>0.00000</td>\n      <td>0.05263</td>\n      <td>181.0</td>\n      <td>NaN</td>\n      <td>24.54</td>\n      <td>0.0</td>\n      <td>0.007189</td>\n      <td>NaN</td>\n      <td>...</td>\n      <td>NaN</td>\n      <td>0.1587</td>\n      <td>0.2871</td>\n      <td>B</td>\n      <td>0.002783</td>\n      <td>47.92</td>\n      <td>0.06444</td>\n      <td>NaN</td>\n      <td>0.00466</td>\n      <td>0.3857</td>\n    </tr>\n  </tbody>\n</table>\n<p>681 rows × 31 columns</p>\n</div>"
     },
     "execution_count": 440,
     "metadata": {},
     "output_type": "execute_result"
    }
   ],
   "source": [
    "df"
   ],
   "metadata": {
    "collapsed": false,
    "pycharm": {
     "name": "#%%\n"
    }
   }
  },
  {
   "cell_type": "code",
   "execution_count": 441,
   "outputs": [
    {
     "data": {
      "text/plain": "Index(['perimeter_se', 'radius_worst', 'concave points_mean',\n       'smoothness_mean', 'area_mean', 'concavity_se', 'texture_mean',\n       'concavity_worst', 'smoothness_se', 'concave points_se', 'area_worst',\n       'compactness_mean', 'radius_mean', 'area_se', 'concave points_worst',\n       'fractal_dimension_worst', 'perimeter_worst', 'texture_se',\n       'fractal_dimension_mean', 'texture_worst', 'smoothness_worst',\n       'concavity_mean', 'symmetry_mean', 'symmetry_worst', 'diagnosis',\n       'fractal_dimension_se', 'perimeter_mean', 'compactness_worst',\n       'symmetry_se', 'compactness_se', 'radius_se'],\n      dtype='object')"
     },
     "execution_count": 441,
     "metadata": {},
     "output_type": "execute_result"
    }
   ],
   "source": [
    "df.columns"
   ],
   "metadata": {
    "collapsed": false,
    "pycharm": {
     "name": "#%%\n"
    }
   }
  },
  {
   "cell_type": "code",
   "execution_count": 442,
   "outputs": [
    {
     "name": "stderr",
     "output_type": "stream",
     "text": [
      "C:\\Users\\NICON\\AppData\\Local\\Temp\\ipykernel_10184\\2663852183.py:13: SettingWithCopyWarning: \n",
      "A value is trying to be set on a copy of a slice from a DataFrame\n",
      "\n",
      "See the caveats in the documentation: https://pandas.pydata.org/pandas-docs/stable/user_guide/indexing.html#returning-a-view-versus-a-copy\n",
      "  df.drop(df[(df[i] =='rxctf378968 7656463sdfg')|(df[i] =='-88888765432345.0')|(df[i] =='999765432456788.0')].index, inplace=True, axis=0)\n"
     ]
    }
   ],
   "source": [
    "list1 = ['rxctf378968 7656463sdfg', '-88888765432345.0', '999765432456788.0']\n",
    "list2 = ['perimeter_se', 'radius_worst', 'concave points_mean',\n",
    "       'smoothness_mean', 'area_mean', 'concavity_se', 'texture_mean',\n",
    "       'concavity_worst', 'smoothness_se', 'concave points_se', 'area_worst',\n",
    "       'compactness_mean', 'radius_mean', 'area_se', 'concave points_worst',\n",
    "       'fractal_dimension_worst', 'perimeter_worst', 'texture_se',\n",
    "       'fractal_dimension_mean', 'texture_worst', 'smoothness_worst',\n",
    "       'concavity_mean', 'symmetry_mean', 'symmetry_worst', 'diagnosis',\n",
    "       'fractal_dimension_se', 'perimeter_mean', 'compactness_worst',\n",
    "       'symmetry_se', 'compactness_se', 'radius_se']\n",
    "\n",
    "for i in list2:\n",
    "       df.drop(df[(df[i] =='rxctf378968 7656463sdfg')|(df[i] =='-88888765432345.0')|(df[i] =='999765432456788.0')].index, inplace=True, axis=0)\n"
   ],
   "metadata": {
    "collapsed": false,
    "pycharm": {
     "name": "#%%\n"
    }
   }
  },
  {
   "cell_type": "code",
   "execution_count": 443,
   "outputs": [
    {
     "data": {
      "text/plain": "      perimeter_se radius_worst  concave points_mean smoothness_mean  \\\n4        2183.0000          NaN              0.02278         0.09524   \n5        2225.0000        13.28              0.01162         0.07561   \n7        1103.0000        12.82              0.02623         0.09373   \n8        4877.0000          NaN            106.00000          0.1148   \n12          1.5200         13.1              0.01349         0.08261   \n...            ...          ...                  ...             ...   \n3882     2355.0000          NaN              0.03250           115.0   \n3900        0.9857          NaN              0.02166          0.1096   \n3908     2903.0000        16.84              0.05364         0.08401   \n3929     4795.0000        16.46             63.00000          0.1031   \n3933           NaN       9456.0              0.00000         0.05263   \n\n     area_mean concavity_se texture_mean concavity_worst smoothness_se  \\\n4        409.0      0.01349        18.75             NaN      0.008328   \n5        421.0     0.005949        17.07         0.03046      0.006583   \n7        403.3      0.01514        10.82          0.2102           NaN   \n8       1033.0      0.02817         18.7          0.2623      0.003899   \n12       437.6      0.01311          NaN         0.09203           NaN   \n...        ...          ...          ...             ...           ...   \n3882     420.3          NaN        15.45          0.1087      0.009536   \n3900     453.1          NaN        20.04          0.3535      0.006272   \n3908       NaN      0.05051        23.95          0.2322      0.009769   \n3929     656.1          NaN        13.98          0.3219      0.009976   \n3933     181.0          NaN        24.54             0.0      0.007189   \n\n     concave points_se  ... concavity_mean symmetry_mean symmetry_worst  \\\n4              0.00867  ...            NaN           NaN         0.3306   \n5             0.006296  ...       0.008306        0.1671         0.2731   \n7                  NaN  ...        0.03512        0.1667         0.3016   \n8                  NaN  ...         0.1772        0.2092         0.3021   \n12                 8.0  ...            NaN        0.1868         0.2785   \n...                ...  ...            ...           ...            ...   \n3882               NaN  ...        0.04006           NaN         0.2765   \n3900               NaN  ...        0.08175           NaN         0.2709   \n3908           0.01992  ...        0.09938        0.1847         0.2809   \n3929            0.0158  ...            NaN        0.2086         0.2827   \n3933               NaN  ...            NaN        0.1587         0.2871   \n\n     diagnosis fractal_dimension_se perimeter_mean compactness_worst  \\\n4            B             0.002386          73.34               NaN   \n5            B             0.002668           73.7           0.06476   \n7            B             0.002206          73.34             239.0   \n8            M             0.005126            NaN            0.2297   \n12           B             0.002635          75.71           0.08906   \n...        ...                  ...            ...               ...   \n3882         B               0.0031          75.03               NaN   \n3900         B                  NaN            NaN            0.2315   \n3908         M             0.003002            NaN            0.1924   \n3929         B                  NaN          98.22               NaN   \n3933         B             0.002783          47.92           0.06444   \n\n     symmetry_se compactness_se radius_se  \n4        0.03218       0.008722    0.3249  \n5        0.02216       0.006991    0.3534  \n7        0.01344            NaN       NaN  \n8        0.02674        0.02961    0.8337  \n12       0.01996        0.00838    0.2273  \n...          ...            ...       ...  \n3882     0.01953        0.01097    0.3446  \n3900         NaN            NaN    0.1811  \n3908     0.02981            NaN    0.4033  \n3929         NaN        0.05244    0.5462  \n3933         NaN        0.00466    0.3857  \n\n[664 rows x 31 columns]",
      "text/html": "<div>\n<style scoped>\n    .dataframe tbody tr th:only-of-type {\n        vertical-align: middle;\n    }\n\n    .dataframe tbody tr th {\n        vertical-align: top;\n    }\n\n    .dataframe thead th {\n        text-align: right;\n    }\n</style>\n<table border=\"1\" class=\"dataframe\">\n  <thead>\n    <tr style=\"text-align: right;\">\n      <th></th>\n      <th>perimeter_se</th>\n      <th>radius_worst</th>\n      <th>concave points_mean</th>\n      <th>smoothness_mean</th>\n      <th>area_mean</th>\n      <th>concavity_se</th>\n      <th>texture_mean</th>\n      <th>concavity_worst</th>\n      <th>smoothness_se</th>\n      <th>concave points_se</th>\n      <th>...</th>\n      <th>concavity_mean</th>\n      <th>symmetry_mean</th>\n      <th>symmetry_worst</th>\n      <th>diagnosis</th>\n      <th>fractal_dimension_se</th>\n      <th>perimeter_mean</th>\n      <th>compactness_worst</th>\n      <th>symmetry_se</th>\n      <th>compactness_se</th>\n      <th>radius_se</th>\n    </tr>\n  </thead>\n  <tbody>\n    <tr>\n      <th>4</th>\n      <td>2183.0000</td>\n      <td>NaN</td>\n      <td>0.02278</td>\n      <td>0.09524</td>\n      <td>409.0</td>\n      <td>0.01349</td>\n      <td>18.75</td>\n      <td>NaN</td>\n      <td>0.008328</td>\n      <td>0.00867</td>\n      <td>...</td>\n      <td>NaN</td>\n      <td>NaN</td>\n      <td>0.3306</td>\n      <td>B</td>\n      <td>0.002386</td>\n      <td>73.34</td>\n      <td>NaN</td>\n      <td>0.03218</td>\n      <td>0.008722</td>\n      <td>0.3249</td>\n    </tr>\n    <tr>\n      <th>5</th>\n      <td>2225.0000</td>\n      <td>13.28</td>\n      <td>0.01162</td>\n      <td>0.07561</td>\n      <td>421.0</td>\n      <td>0.005949</td>\n      <td>17.07</td>\n      <td>0.03046</td>\n      <td>0.006583</td>\n      <td>0.006296</td>\n      <td>...</td>\n      <td>0.008306</td>\n      <td>0.1671</td>\n      <td>0.2731</td>\n      <td>B</td>\n      <td>0.002668</td>\n      <td>73.7</td>\n      <td>0.06476</td>\n      <td>0.02216</td>\n      <td>0.006991</td>\n      <td>0.3534</td>\n    </tr>\n    <tr>\n      <th>7</th>\n      <td>1103.0000</td>\n      <td>12.82</td>\n      <td>0.02623</td>\n      <td>0.09373</td>\n      <td>403.3</td>\n      <td>0.01514</td>\n      <td>10.82</td>\n      <td>0.2102</td>\n      <td>NaN</td>\n      <td>NaN</td>\n      <td>...</td>\n      <td>0.03512</td>\n      <td>0.1667</td>\n      <td>0.3016</td>\n      <td>B</td>\n      <td>0.002206</td>\n      <td>73.34</td>\n      <td>239.0</td>\n      <td>0.01344</td>\n      <td>NaN</td>\n      <td>NaN</td>\n    </tr>\n    <tr>\n      <th>8</th>\n      <td>4877.0000</td>\n      <td>NaN</td>\n      <td>106.00000</td>\n      <td>0.1148</td>\n      <td>1033.0</td>\n      <td>0.02817</td>\n      <td>18.7</td>\n      <td>0.2623</td>\n      <td>0.003899</td>\n      <td>NaN</td>\n      <td>...</td>\n      <td>0.1772</td>\n      <td>0.2092</td>\n      <td>0.3021</td>\n      <td>M</td>\n      <td>0.005126</td>\n      <td>NaN</td>\n      <td>0.2297</td>\n      <td>0.02674</td>\n      <td>0.02961</td>\n      <td>0.8337</td>\n    </tr>\n    <tr>\n      <th>12</th>\n      <td>1.5200</td>\n      <td>13.1</td>\n      <td>0.01349</td>\n      <td>0.08261</td>\n      <td>437.6</td>\n      <td>0.01311</td>\n      <td>NaN</td>\n      <td>0.09203</td>\n      <td>NaN</td>\n      <td>8.0</td>\n      <td>...</td>\n      <td>NaN</td>\n      <td>0.1868</td>\n      <td>0.2785</td>\n      <td>B</td>\n      <td>0.002635</td>\n      <td>75.71</td>\n      <td>0.08906</td>\n      <td>0.01996</td>\n      <td>0.00838</td>\n      <td>0.2273</td>\n    </tr>\n    <tr>\n      <th>...</th>\n      <td>...</td>\n      <td>...</td>\n      <td>...</td>\n      <td>...</td>\n      <td>...</td>\n      <td>...</td>\n      <td>...</td>\n      <td>...</td>\n      <td>...</td>\n      <td>...</td>\n      <td>...</td>\n      <td>...</td>\n      <td>...</td>\n      <td>...</td>\n      <td>...</td>\n      <td>...</td>\n      <td>...</td>\n      <td>...</td>\n      <td>...</td>\n      <td>...</td>\n      <td>...</td>\n    </tr>\n    <tr>\n      <th>3882</th>\n      <td>2355.0000</td>\n      <td>NaN</td>\n      <td>0.03250</td>\n      <td>115.0</td>\n      <td>420.3</td>\n      <td>NaN</td>\n      <td>15.45</td>\n      <td>0.1087</td>\n      <td>0.009536</td>\n      <td>NaN</td>\n      <td>...</td>\n      <td>0.04006</td>\n      <td>NaN</td>\n      <td>0.2765</td>\n      <td>B</td>\n      <td>0.0031</td>\n      <td>75.03</td>\n      <td>NaN</td>\n      <td>0.01953</td>\n      <td>0.01097</td>\n      <td>0.3446</td>\n    </tr>\n    <tr>\n      <th>3900</th>\n      <td>0.9857</td>\n      <td>NaN</td>\n      <td>0.02166</td>\n      <td>0.1096</td>\n      <td>453.1</td>\n      <td>NaN</td>\n      <td>20.04</td>\n      <td>0.3535</td>\n      <td>0.006272</td>\n      <td>NaN</td>\n      <td>...</td>\n      <td>0.08175</td>\n      <td>NaN</td>\n      <td>0.2709</td>\n      <td>B</td>\n      <td>NaN</td>\n      <td>NaN</td>\n      <td>0.2315</td>\n      <td>NaN</td>\n      <td>NaN</td>\n      <td>0.1811</td>\n    </tr>\n    <tr>\n      <th>3908</th>\n      <td>2903.0000</td>\n      <td>16.84</td>\n      <td>0.05364</td>\n      <td>0.08401</td>\n      <td>NaN</td>\n      <td>0.05051</td>\n      <td>23.95</td>\n      <td>0.2322</td>\n      <td>0.009769</td>\n      <td>0.01992</td>\n      <td>...</td>\n      <td>0.09938</td>\n      <td>0.1847</td>\n      <td>0.2809</td>\n      <td>M</td>\n      <td>0.003002</td>\n      <td>NaN</td>\n      <td>0.1924</td>\n      <td>0.02981</td>\n      <td>NaN</td>\n      <td>0.4033</td>\n    </tr>\n    <tr>\n      <th>3929</th>\n      <td>4795.0000</td>\n      <td>16.46</td>\n      <td>63.00000</td>\n      <td>0.1031</td>\n      <td>656.1</td>\n      <td>NaN</td>\n      <td>13.98</td>\n      <td>0.3219</td>\n      <td>0.009976</td>\n      <td>0.0158</td>\n      <td>...</td>\n      <td>NaN</td>\n      <td>0.2086</td>\n      <td>0.2827</td>\n      <td>B</td>\n      <td>NaN</td>\n      <td>98.22</td>\n      <td>NaN</td>\n      <td>NaN</td>\n      <td>0.05244</td>\n      <td>0.5462</td>\n    </tr>\n    <tr>\n      <th>3933</th>\n      <td>NaN</td>\n      <td>9456.0</td>\n      <td>0.00000</td>\n      <td>0.05263</td>\n      <td>181.0</td>\n      <td>NaN</td>\n      <td>24.54</td>\n      <td>0.0</td>\n      <td>0.007189</td>\n      <td>NaN</td>\n      <td>...</td>\n      <td>NaN</td>\n      <td>0.1587</td>\n      <td>0.2871</td>\n      <td>B</td>\n      <td>0.002783</td>\n      <td>47.92</td>\n      <td>0.06444</td>\n      <td>NaN</td>\n      <td>0.00466</td>\n      <td>0.3857</td>\n    </tr>\n  </tbody>\n</table>\n<p>664 rows × 31 columns</p>\n</div>"
     },
     "execution_count": 443,
     "metadata": {},
     "output_type": "execute_result"
    }
   ],
   "source": [
    "df"
   ],
   "metadata": {
    "collapsed": false,
    "pycharm": {
     "name": "#%%\n"
    }
   }
  },
  {
   "cell_type": "code",
   "execution_count": 453,
   "outputs": [
    {
     "ename": "KeyError",
     "evalue": "\"['id', 'index'] not in index\"",
     "output_type": "error",
     "traceback": [
      "\u001B[1;31m---------------------------------------------------------------------------\u001B[0m",
      "\u001B[1;31mKeyError\u001B[0m                                  Traceback (most recent call last)",
      "Cell \u001B[1;32mIn [453], line 1\u001B[0m\n\u001B[1;32m----> 1\u001B[0m features\u001B[38;5;241m=\u001B[39m\u001B[43mdf\u001B[49m\u001B[43m[\u001B[49m\u001B[43m[\u001B[49m\u001B[38;5;124;43m'\u001B[39;49m\u001B[38;5;124;43mid\u001B[39;49m\u001B[38;5;124;43m'\u001B[39;49m\u001B[43m,\u001B[49m\u001B[38;5;124;43m'\u001B[39;49m\u001B[38;5;124;43mindex\u001B[39;49m\u001B[38;5;124;43m'\u001B[39;49m\u001B[43m,\u001B[49m\u001B[38;5;124;43m'\u001B[39;49m\u001B[38;5;124;43mperimeter_se\u001B[39;49m\u001B[38;5;124;43m'\u001B[39;49m\u001B[43m,\u001B[49m\u001B[43m \u001B[49m\u001B[38;5;124;43m'\u001B[39;49m\u001B[38;5;124;43mradius_worst\u001B[39;49m\u001B[38;5;124;43m'\u001B[39;49m\u001B[43m,\u001B[49m\u001B[43m \u001B[49m\u001B[38;5;124;43m'\u001B[39;49m\u001B[38;5;124;43mconcave points_mean\u001B[39;49m\u001B[38;5;124;43m'\u001B[39;49m\u001B[43m,\u001B[49m\n\u001B[0;32m      2\u001B[0m \u001B[43m       \u001B[49m\u001B[38;5;124;43m'\u001B[39;49m\u001B[38;5;124;43msmoothness_mean\u001B[39;49m\u001B[38;5;124;43m'\u001B[39;49m\u001B[43m,\u001B[49m\u001B[43m \u001B[49m\u001B[38;5;124;43m'\u001B[39;49m\u001B[38;5;124;43marea_mean\u001B[39;49m\u001B[38;5;124;43m'\u001B[39;49m\u001B[43m,\u001B[49m\u001B[43m \u001B[49m\u001B[38;5;124;43m'\u001B[39;49m\u001B[38;5;124;43mconcavity_se\u001B[39;49m\u001B[38;5;124;43m'\u001B[39;49m\u001B[43m,\u001B[49m\u001B[43m \u001B[49m\u001B[38;5;124;43m'\u001B[39;49m\u001B[38;5;124;43mtexture_mean\u001B[39;49m\u001B[38;5;124;43m'\u001B[39;49m\u001B[43m,\u001B[49m\n\u001B[0;32m      3\u001B[0m \u001B[43m       \u001B[49m\u001B[38;5;124;43m'\u001B[39;49m\u001B[38;5;124;43mconcavity_worst\u001B[39;49m\u001B[38;5;124;43m'\u001B[39;49m\u001B[43m,\u001B[49m\u001B[43m \u001B[49m\u001B[38;5;124;43m'\u001B[39;49m\u001B[38;5;124;43msmoothness_se\u001B[39;49m\u001B[38;5;124;43m'\u001B[39;49m\u001B[43m,\u001B[49m\u001B[43m \u001B[49m\u001B[38;5;124;43m'\u001B[39;49m\u001B[38;5;124;43mconcave points_se\u001B[39;49m\u001B[38;5;124;43m'\u001B[39;49m\u001B[43m,\u001B[49m\u001B[43m \u001B[49m\u001B[38;5;124;43m'\u001B[39;49m\u001B[38;5;124;43marea_worst\u001B[39;49m\u001B[38;5;124;43m'\u001B[39;49m\u001B[43m,\u001B[49m\n\u001B[0;32m      4\u001B[0m \u001B[43m       \u001B[49m\u001B[38;5;124;43m'\u001B[39;49m\u001B[38;5;124;43mcompactness_mean\u001B[39;49m\u001B[38;5;124;43m'\u001B[39;49m\u001B[43m,\u001B[49m\u001B[43m \u001B[49m\u001B[38;5;124;43m'\u001B[39;49m\u001B[38;5;124;43mradius_mean\u001B[39;49m\u001B[38;5;124;43m'\u001B[39;49m\u001B[43m,\u001B[49m\u001B[43m \u001B[49m\u001B[38;5;124;43m'\u001B[39;49m\u001B[38;5;124;43marea_se\u001B[39;49m\u001B[38;5;124;43m'\u001B[39;49m\u001B[43m,\u001B[49m\u001B[43m \u001B[49m\u001B[38;5;124;43m'\u001B[39;49m\u001B[38;5;124;43mconcave points_worst\u001B[39;49m\u001B[38;5;124;43m'\u001B[39;49m\u001B[43m,\u001B[49m\n\u001B[0;32m      5\u001B[0m \u001B[43m       \u001B[49m\u001B[38;5;124;43m'\u001B[39;49m\u001B[38;5;124;43mfractal_dimension_worst\u001B[39;49m\u001B[38;5;124;43m'\u001B[39;49m\u001B[43m,\u001B[49m\u001B[43m \u001B[49m\u001B[38;5;124;43m'\u001B[39;49m\u001B[38;5;124;43mperimeter_worst\u001B[39;49m\u001B[38;5;124;43m'\u001B[39;49m\u001B[43m,\u001B[49m\u001B[43m \u001B[49m\u001B[38;5;124;43m'\u001B[39;49m\u001B[38;5;124;43mtexture_se\u001B[39;49m\u001B[38;5;124;43m'\u001B[39;49m\u001B[43m,\u001B[49m\n\u001B[0;32m      6\u001B[0m \u001B[43m       \u001B[49m\u001B[38;5;124;43m'\u001B[39;49m\u001B[38;5;124;43mfractal_dimension_mean\u001B[39;49m\u001B[38;5;124;43m'\u001B[39;49m\u001B[43m,\u001B[49m\u001B[43m \u001B[49m\u001B[38;5;124;43m'\u001B[39;49m\u001B[38;5;124;43mtexture_worst\u001B[39;49m\u001B[38;5;124;43m'\u001B[39;49m\u001B[43m,\u001B[49m\u001B[43m \u001B[49m\u001B[38;5;124;43m'\u001B[39;49m\u001B[38;5;124;43msmoothness_worst\u001B[39;49m\u001B[38;5;124;43m'\u001B[39;49m\u001B[43m,\u001B[49m\n\u001B[0;32m      7\u001B[0m \u001B[43m       \u001B[49m\u001B[38;5;124;43m'\u001B[39;49m\u001B[38;5;124;43mconcavity_mean\u001B[39;49m\u001B[38;5;124;43m'\u001B[39;49m\u001B[43m,\u001B[49m\u001B[43m \u001B[49m\u001B[38;5;124;43m'\u001B[39;49m\u001B[38;5;124;43msymmetry_mean\u001B[39;49m\u001B[38;5;124;43m'\u001B[39;49m\u001B[43m,\u001B[49m\u001B[43m \u001B[49m\u001B[38;5;124;43m'\u001B[39;49m\u001B[38;5;124;43msymmetry_worst\u001B[39;49m\u001B[38;5;124;43m'\u001B[39;49m\u001B[43m,\u001B[49m\n\u001B[0;32m      8\u001B[0m \u001B[43m       \u001B[49m\u001B[38;5;124;43m'\u001B[39;49m\u001B[38;5;124;43mfractal_dimension_se\u001B[39;49m\u001B[38;5;124;43m'\u001B[39;49m\u001B[43m,\u001B[49m\u001B[43m \u001B[49m\u001B[38;5;124;43m'\u001B[39;49m\u001B[38;5;124;43mperimeter_mean\u001B[39;49m\u001B[38;5;124;43m'\u001B[39;49m\u001B[43m,\u001B[49m\u001B[43m \u001B[49m\u001B[38;5;124;43m'\u001B[39;49m\u001B[38;5;124;43mcompactness_worst\u001B[39;49m\u001B[38;5;124;43m'\u001B[39;49m\u001B[43m,\u001B[49m\n\u001B[0;32m      9\u001B[0m \u001B[43m       \u001B[49m\u001B[38;5;124;43m'\u001B[39;49m\u001B[38;5;124;43msymmetry_se\u001B[39;49m\u001B[38;5;124;43m'\u001B[39;49m\u001B[43m,\u001B[49m\u001B[43m \u001B[49m\u001B[38;5;124;43m'\u001B[39;49m\u001B[38;5;124;43mcompactness_se\u001B[39;49m\u001B[38;5;124;43m'\u001B[39;49m\u001B[43m,\u001B[49m\u001B[43m \u001B[49m\u001B[38;5;124;43m'\u001B[39;49m\u001B[38;5;124;43mradius_se\u001B[39;49m\u001B[38;5;124;43m'\u001B[39;49m\u001B[43m]\u001B[49m\u001B[43m]\u001B[49m\n\u001B[0;32m     10\u001B[0m target\u001B[38;5;241m=\u001B[39mdf[\u001B[38;5;124m'\u001B[39m\u001B[38;5;124mdiagnosis\u001B[39m\u001B[38;5;124m'\u001B[39m]\n",
      "File \u001B[1;32m~\\Desktop\\nico\\Maestria\\CursoCD\\proyecto1\\venv\\lib\\site-packages\\pandas\\core\\frame.py:3511\u001B[0m, in \u001B[0;36mDataFrame.__getitem__\u001B[1;34m(self, key)\u001B[0m\n\u001B[0;32m   3509\u001B[0m     \u001B[38;5;28;01mif\u001B[39;00m is_iterator(key):\n\u001B[0;32m   3510\u001B[0m         key \u001B[38;5;241m=\u001B[39m \u001B[38;5;28mlist\u001B[39m(key)\n\u001B[1;32m-> 3511\u001B[0m     indexer \u001B[38;5;241m=\u001B[39m \u001B[38;5;28;43mself\u001B[39;49m\u001B[38;5;241;43m.\u001B[39;49m\u001B[43mcolumns\u001B[49m\u001B[38;5;241;43m.\u001B[39;49m\u001B[43m_get_indexer_strict\u001B[49m\u001B[43m(\u001B[49m\u001B[43mkey\u001B[49m\u001B[43m,\u001B[49m\u001B[43m \u001B[49m\u001B[38;5;124;43m\"\u001B[39;49m\u001B[38;5;124;43mcolumns\u001B[39;49m\u001B[38;5;124;43m\"\u001B[39;49m\u001B[43m)\u001B[49m[\u001B[38;5;241m1\u001B[39m]\n\u001B[0;32m   3513\u001B[0m \u001B[38;5;66;03m# take() does not accept boolean indexers\u001B[39;00m\n\u001B[0;32m   3514\u001B[0m \u001B[38;5;28;01mif\u001B[39;00m \u001B[38;5;28mgetattr\u001B[39m(indexer, \u001B[38;5;124m\"\u001B[39m\u001B[38;5;124mdtype\u001B[39m\u001B[38;5;124m\"\u001B[39m, \u001B[38;5;28;01mNone\u001B[39;00m) \u001B[38;5;241m==\u001B[39m \u001B[38;5;28mbool\u001B[39m:\n",
      "File \u001B[1;32m~\\Desktop\\nico\\Maestria\\CursoCD\\proyecto1\\venv\\lib\\site-packages\\pandas\\core\\indexes\\base.py:5796\u001B[0m, in \u001B[0;36mIndex._get_indexer_strict\u001B[1;34m(self, key, axis_name)\u001B[0m\n\u001B[0;32m   5793\u001B[0m \u001B[38;5;28;01melse\u001B[39;00m:\n\u001B[0;32m   5794\u001B[0m     keyarr, indexer, new_indexer \u001B[38;5;241m=\u001B[39m \u001B[38;5;28mself\u001B[39m\u001B[38;5;241m.\u001B[39m_reindex_non_unique(keyarr)\n\u001B[1;32m-> 5796\u001B[0m \u001B[38;5;28;43mself\u001B[39;49m\u001B[38;5;241;43m.\u001B[39;49m\u001B[43m_raise_if_missing\u001B[49m\u001B[43m(\u001B[49m\u001B[43mkeyarr\u001B[49m\u001B[43m,\u001B[49m\u001B[43m \u001B[49m\u001B[43mindexer\u001B[49m\u001B[43m,\u001B[49m\u001B[43m \u001B[49m\u001B[43maxis_name\u001B[49m\u001B[43m)\u001B[49m\n\u001B[0;32m   5798\u001B[0m keyarr \u001B[38;5;241m=\u001B[39m \u001B[38;5;28mself\u001B[39m\u001B[38;5;241m.\u001B[39mtake(indexer)\n\u001B[0;32m   5799\u001B[0m \u001B[38;5;28;01mif\u001B[39;00m \u001B[38;5;28misinstance\u001B[39m(key, Index):\n\u001B[0;32m   5800\u001B[0m     \u001B[38;5;66;03m# GH 42790 - Preserve name from an Index\u001B[39;00m\n",
      "File \u001B[1;32m~\\Desktop\\nico\\Maestria\\CursoCD\\proyecto1\\venv\\lib\\site-packages\\pandas\\core\\indexes\\base.py:5859\u001B[0m, in \u001B[0;36mIndex._raise_if_missing\u001B[1;34m(self, key, indexer, axis_name)\u001B[0m\n\u001B[0;32m   5856\u001B[0m     \u001B[38;5;28;01mraise\u001B[39;00m \u001B[38;5;167;01mKeyError\u001B[39;00m(\u001B[38;5;124mf\u001B[39m\u001B[38;5;124m\"\u001B[39m\u001B[38;5;124mNone of [\u001B[39m\u001B[38;5;132;01m{\u001B[39;00mkey\u001B[38;5;132;01m}\u001B[39;00m\u001B[38;5;124m] are in the [\u001B[39m\u001B[38;5;132;01m{\u001B[39;00maxis_name\u001B[38;5;132;01m}\u001B[39;00m\u001B[38;5;124m]\u001B[39m\u001B[38;5;124m\"\u001B[39m)\n\u001B[0;32m   5858\u001B[0m not_found \u001B[38;5;241m=\u001B[39m \u001B[38;5;28mlist\u001B[39m(ensure_index(key)[missing_mask\u001B[38;5;241m.\u001B[39mnonzero()[\u001B[38;5;241m0\u001B[39m]]\u001B[38;5;241m.\u001B[39munique())\n\u001B[1;32m-> 5859\u001B[0m \u001B[38;5;28;01mraise\u001B[39;00m \u001B[38;5;167;01mKeyError\u001B[39;00m(\u001B[38;5;124mf\u001B[39m\u001B[38;5;124m\"\u001B[39m\u001B[38;5;132;01m{\u001B[39;00mnot_found\u001B[38;5;132;01m}\u001B[39;00m\u001B[38;5;124m not in index\u001B[39m\u001B[38;5;124m\"\u001B[39m)\n",
      "\u001B[1;31mKeyError\u001B[0m: \"['id', 'index'] not in index\""
     ]
    }
   ],
   "source": [
    "features=df[['id','index','perimeter_se', 'radius_worst', 'concave points_mean',\n",
    "       'smoothness_mean', 'area_mean', 'concavity_se', 'texture_mean',\n",
    "       'concavity_worst', 'smoothness_se', 'concave points_se', 'area_worst',\n",
    "       'compactness_mean', 'radius_mean', 'area_se', 'concave points_worst',\n",
    "       'fractal_dimension_worst', 'perimeter_worst', 'texture_se',\n",
    "       'fractal_dimension_mean', 'texture_worst', 'smoothness_worst',\n",
    "       'concavity_mean', 'symmetry_mean', 'symmetry_worst',\n",
    "       'fractal_dimension_se', 'perimeter_mean', 'compactness_worst',\n",
    "       'symmetry_se', 'compactness_se', 'radius_se']]\n",
    "target=df['diagnosis']\n",
    "\n"
   ],
   "metadata": {
    "collapsed": false,
    "pycharm": {
     "name": "#%%\n"
    }
   }
  },
  {
   "cell_type": "code",
   "execution_count": null,
   "outputs": [],
   "source": [],
   "metadata": {
    "collapsed": false,
    "pycharm": {
     "name": "#%%\n"
    }
   }
  },
  {
   "cell_type": "code",
   "execution_count": 445,
   "outputs": [],
   "source": [
    "features=features.astype(str).astype(float)"
   ],
   "metadata": {
    "collapsed": false,
    "pycharm": {
     "name": "#%%\n"
    }
   }
  },
  {
   "cell_type": "code",
   "execution_count": 446,
   "outputs": [
    {
     "name": "stdout",
     "output_type": "stream",
     "text": [
      "<class 'pandas.core.frame.DataFrame'>\n",
      "Int64Index: 664 entries, 4 to 3933\n",
      "Data columns (total 30 columns):\n",
      " #   Column                   Non-Null Count  Dtype  \n",
      "---  ------                   --------------  -----  \n",
      " 0   perimeter_se             571 non-null    float64\n",
      " 1   radius_worst             562 non-null    float64\n",
      " 2   concave points_mean      579 non-null    float64\n",
      " 3   smoothness_mean          544 non-null    float64\n",
      " 4   area_mean                572 non-null    float64\n",
      " 5   concavity_se             550 non-null    float64\n",
      " 6   texture_mean             560 non-null    float64\n",
      " 7   concavity_worst          567 non-null    float64\n",
      " 8   smoothness_se            578 non-null    float64\n",
      " 9   concave points_se        548 non-null    float64\n",
      " 10  area_worst               559 non-null    float64\n",
      " 11  compactness_mean         572 non-null    float64\n",
      " 12  radius_mean              563 non-null    float64\n",
      " 13  area_se                  549 non-null    float64\n",
      " 14  concave points_worst     574 non-null    float64\n",
      " 15  fractal_dimension_worst  575 non-null    float64\n",
      " 16  perimeter_worst          567 non-null    float64\n",
      " 17  texture_se               565 non-null    float64\n",
      " 18  fractal_dimension_mean   559 non-null    float64\n",
      " 19  texture_worst            576 non-null    float64\n",
      " 20  smoothness_worst         553 non-null    float64\n",
      " 21  concavity_mean           550 non-null    float64\n",
      " 22  symmetry_mean            558 non-null    float64\n",
      " 23  symmetry_worst           568 non-null    float64\n",
      " 24  fractal_dimension_se     567 non-null    float64\n",
      " 25  perimeter_mean           560 non-null    float64\n",
      " 26  compactness_worst        573 non-null    float64\n",
      " 27  symmetry_se              572 non-null    float64\n",
      " 28  compactness_se           560 non-null    float64\n",
      " 29  radius_se                561 non-null    float64\n",
      "dtypes: float64(30)\n",
      "memory usage: 160.8 KB\n"
     ]
    }
   ],
   "source": [
    "features.info()"
   ],
   "metadata": {
    "collapsed": false,
    "pycharm": {
     "name": "#%%\n"
    }
   }
  },
  {
   "cell_type": "code",
   "execution_count": 447,
   "outputs": [
    {
     "data": {
      "text/plain": "perimeter_se                93\nradius_worst               102\nconcave points_mean         85\nsmoothness_mean            120\narea_mean                   92\nconcavity_se               114\ntexture_mean               104\nconcavity_worst             97\nsmoothness_se               86\nconcave points_se          116\narea_worst                 105\ncompactness_mean            92\nradius_mean                101\narea_se                    115\nconcave points_worst        90\nfractal_dimension_worst     89\nperimeter_worst             97\ntexture_se                  99\nfractal_dimension_mean     105\ntexture_worst               88\nsmoothness_worst           111\nconcavity_mean             114\nsymmetry_mean              106\nsymmetry_worst              96\nfractal_dimension_se        97\nperimeter_mean             104\ncompactness_worst           91\nsymmetry_se                 92\ncompactness_se             104\nradius_se                  103\ndtype: int64"
     },
     "execution_count": 447,
     "metadata": {},
     "output_type": "execute_result"
    }
   ],
   "source": [
    "features.isnull().sum()"
   ],
   "metadata": {
    "collapsed": false,
    "pycharm": {
     "name": "#%%\n"
    }
   }
  },
  {
   "cell_type": "code",
   "execution_count": 448,
   "outputs": [
    {
     "data": {
      "text/plain": "perimeter_se               14.006024\nradius_worst               15.361446\nconcave points_mean        12.801205\nsmoothness_mean            18.072289\narea_mean                  13.855422\nconcavity_se               17.168675\ntexture_mean               15.662651\nconcavity_worst            14.608434\nsmoothness_se              12.951807\nconcave points_se          17.469880\narea_worst                 15.813253\ncompactness_mean           13.855422\nradius_mean                15.210843\narea_se                    17.319277\nconcave points_worst       13.554217\nfractal_dimension_worst    13.403614\nperimeter_worst            14.608434\ntexture_se                 14.909639\nfractal_dimension_mean     15.813253\ntexture_worst              13.253012\nsmoothness_worst           16.716867\nconcavity_mean             17.168675\nsymmetry_mean              15.963855\nsymmetry_worst             14.457831\nfractal_dimension_se       14.608434\nperimeter_mean             15.662651\ncompactness_worst          13.704819\nsymmetry_se                13.855422\ncompactness_se             15.662651\nradius_se                  15.512048\ndtype: float64"
     },
     "execution_count": 448,
     "metadata": {},
     "output_type": "execute_result"
    }
   ],
   "source": [
    "missing = features.isnull().sum()\n",
    "missing[missing>0]/len(features)*100"
   ],
   "metadata": {
    "collapsed": false,
    "pycharm": {
     "name": "#%%\n"
    }
   }
  },
  {
   "cell_type": "code",
   "execution_count": 449,
   "outputs": [
    {
     "data": {
      "text/plain": "      perimeter_se  radius_worst  concave points_mean  smoothness_mean  \\\n4        2183.0000           NaN              0.02278          0.09524   \n5        2225.0000         13.28              0.01162          0.07561   \n7        1103.0000         12.82              0.02623          0.09373   \n8        4877.0000           NaN            106.00000          0.11480   \n12          1.5200         13.10              0.01349          0.08261   \n...            ...           ...                  ...              ...   \n3882     2355.0000           NaN              0.03250        115.00000   \n3900        0.9857           NaN              0.02166          0.10960   \n3908     2903.0000         16.84              0.05364          0.08401   \n3929     4795.0000         16.46             63.00000          0.10310   \n3933           NaN       9456.00              0.00000          0.05263   \n\n      area_mean  concavity_se  texture_mean  concavity_worst  smoothness_se  \\\n4         409.0      0.013490         18.75              NaN       0.008328   \n5         421.0      0.005949         17.07          0.03046       0.006583   \n7         403.3      0.015140         10.82          0.21020            NaN   \n8        1033.0      0.028170         18.70          0.26230       0.003899   \n12        437.6      0.013110           NaN          0.09203            NaN   \n...         ...           ...           ...              ...            ...   \n3882      420.3           NaN         15.45          0.10870       0.009536   \n3900      453.1           NaN         20.04          0.35350       0.006272   \n3908        NaN      0.050510         23.95          0.23220       0.009769   \n3929      656.1           NaN         13.98          0.32190       0.009976   \n3933      181.0           NaN         24.54          0.00000       0.007189   \n\n      concave points_se  ...  smoothness_worst  concavity_mean  symmetry_mean  \\\n4              0.008670  ...           0.12490             NaN            NaN   \n5              0.006296  ...           0.09958        0.008306         0.1671   \n7                   NaN  ...           0.15480        0.035120         0.1667   \n8                   NaN  ...               NaN        0.177200         0.2092   \n12             8.000000  ...           0.11440             NaN         0.1868   \n...                 ...  ...               ...             ...            ...   \n3882                NaN  ...         146.00000        0.040060            NaN   \n3900                NaN  ...           0.14020        0.081750            NaN   \n3908           0.019920  ...           0.11310        0.099380         0.1847   \n3929           0.015800  ...           0.13120             NaN         0.2086   \n3933                NaN  ...           0.08996             NaN         0.1587   \n\n      symmetry_worst  fractal_dimension_se  perimeter_mean  compactness_worst  \\\n4             0.3306              0.002386           73.34                NaN   \n5             0.2731              0.002668           73.70            0.06476   \n7             0.3016              0.002206           73.34          239.00000   \n8             0.3021              0.005126             NaN            0.22970   \n12            0.2785              0.002635           75.71            0.08906   \n...              ...                   ...             ...                ...   \n3882          0.2765              0.003100           75.03                NaN   \n3900          0.2709                   NaN             NaN            0.23150   \n3908          0.2809              0.003002             NaN            0.19240   \n3929          0.2827                   NaN           98.22                NaN   \n3933          0.2871              0.002783           47.92            0.06444   \n\n      symmetry_se  compactness_se  radius_se  \n4         0.03218        0.008722     0.3249  \n5         0.02216        0.006991     0.3534  \n7         0.01344             NaN        NaN  \n8         0.02674        0.029610     0.8337  \n12        0.01996        0.008380     0.2273  \n...           ...             ...        ...  \n3882      0.01953        0.010970     0.3446  \n3900          NaN             NaN     0.1811  \n3908      0.02981             NaN     0.4033  \n3929          NaN        0.052440     0.5462  \n3933          NaN        0.004660     0.3857  \n\n[664 rows x 30 columns]",
      "text/html": "<div>\n<style scoped>\n    .dataframe tbody tr th:only-of-type {\n        vertical-align: middle;\n    }\n\n    .dataframe tbody tr th {\n        vertical-align: top;\n    }\n\n    .dataframe thead th {\n        text-align: right;\n    }\n</style>\n<table border=\"1\" class=\"dataframe\">\n  <thead>\n    <tr style=\"text-align: right;\">\n      <th></th>\n      <th>perimeter_se</th>\n      <th>radius_worst</th>\n      <th>concave points_mean</th>\n      <th>smoothness_mean</th>\n      <th>area_mean</th>\n      <th>concavity_se</th>\n      <th>texture_mean</th>\n      <th>concavity_worst</th>\n      <th>smoothness_se</th>\n      <th>concave points_se</th>\n      <th>...</th>\n      <th>smoothness_worst</th>\n      <th>concavity_mean</th>\n      <th>symmetry_mean</th>\n      <th>symmetry_worst</th>\n      <th>fractal_dimension_se</th>\n      <th>perimeter_mean</th>\n      <th>compactness_worst</th>\n      <th>symmetry_se</th>\n      <th>compactness_se</th>\n      <th>radius_se</th>\n    </tr>\n  </thead>\n  <tbody>\n    <tr>\n      <th>4</th>\n      <td>2183.0000</td>\n      <td>NaN</td>\n      <td>0.02278</td>\n      <td>0.09524</td>\n      <td>409.0</td>\n      <td>0.013490</td>\n      <td>18.75</td>\n      <td>NaN</td>\n      <td>0.008328</td>\n      <td>0.008670</td>\n      <td>...</td>\n      <td>0.12490</td>\n      <td>NaN</td>\n      <td>NaN</td>\n      <td>0.3306</td>\n      <td>0.002386</td>\n      <td>73.34</td>\n      <td>NaN</td>\n      <td>0.03218</td>\n      <td>0.008722</td>\n      <td>0.3249</td>\n    </tr>\n    <tr>\n      <th>5</th>\n      <td>2225.0000</td>\n      <td>13.28</td>\n      <td>0.01162</td>\n      <td>0.07561</td>\n      <td>421.0</td>\n      <td>0.005949</td>\n      <td>17.07</td>\n      <td>0.03046</td>\n      <td>0.006583</td>\n      <td>0.006296</td>\n      <td>...</td>\n      <td>0.09958</td>\n      <td>0.008306</td>\n      <td>0.1671</td>\n      <td>0.2731</td>\n      <td>0.002668</td>\n      <td>73.70</td>\n      <td>0.06476</td>\n      <td>0.02216</td>\n      <td>0.006991</td>\n      <td>0.3534</td>\n    </tr>\n    <tr>\n      <th>7</th>\n      <td>1103.0000</td>\n      <td>12.82</td>\n      <td>0.02623</td>\n      <td>0.09373</td>\n      <td>403.3</td>\n      <td>0.015140</td>\n      <td>10.82</td>\n      <td>0.21020</td>\n      <td>NaN</td>\n      <td>NaN</td>\n      <td>...</td>\n      <td>0.15480</td>\n      <td>0.035120</td>\n      <td>0.1667</td>\n      <td>0.3016</td>\n      <td>0.002206</td>\n      <td>73.34</td>\n      <td>239.00000</td>\n      <td>0.01344</td>\n      <td>NaN</td>\n      <td>NaN</td>\n    </tr>\n    <tr>\n      <th>8</th>\n      <td>4877.0000</td>\n      <td>NaN</td>\n      <td>106.00000</td>\n      <td>0.11480</td>\n      <td>1033.0</td>\n      <td>0.028170</td>\n      <td>18.70</td>\n      <td>0.26230</td>\n      <td>0.003899</td>\n      <td>NaN</td>\n      <td>...</td>\n      <td>NaN</td>\n      <td>0.177200</td>\n      <td>0.2092</td>\n      <td>0.3021</td>\n      <td>0.005126</td>\n      <td>NaN</td>\n      <td>0.22970</td>\n      <td>0.02674</td>\n      <td>0.029610</td>\n      <td>0.8337</td>\n    </tr>\n    <tr>\n      <th>12</th>\n      <td>1.5200</td>\n      <td>13.10</td>\n      <td>0.01349</td>\n      <td>0.08261</td>\n      <td>437.6</td>\n      <td>0.013110</td>\n      <td>NaN</td>\n      <td>0.09203</td>\n      <td>NaN</td>\n      <td>8.000000</td>\n      <td>...</td>\n      <td>0.11440</td>\n      <td>NaN</td>\n      <td>0.1868</td>\n      <td>0.2785</td>\n      <td>0.002635</td>\n      <td>75.71</td>\n      <td>0.08906</td>\n      <td>0.01996</td>\n      <td>0.008380</td>\n      <td>0.2273</td>\n    </tr>\n    <tr>\n      <th>...</th>\n      <td>...</td>\n      <td>...</td>\n      <td>...</td>\n      <td>...</td>\n      <td>...</td>\n      <td>...</td>\n      <td>...</td>\n      <td>...</td>\n      <td>...</td>\n      <td>...</td>\n      <td>...</td>\n      <td>...</td>\n      <td>...</td>\n      <td>...</td>\n      <td>...</td>\n      <td>...</td>\n      <td>...</td>\n      <td>...</td>\n      <td>...</td>\n      <td>...</td>\n      <td>...</td>\n    </tr>\n    <tr>\n      <th>3882</th>\n      <td>2355.0000</td>\n      <td>NaN</td>\n      <td>0.03250</td>\n      <td>115.00000</td>\n      <td>420.3</td>\n      <td>NaN</td>\n      <td>15.45</td>\n      <td>0.10870</td>\n      <td>0.009536</td>\n      <td>NaN</td>\n      <td>...</td>\n      <td>146.00000</td>\n      <td>0.040060</td>\n      <td>NaN</td>\n      <td>0.2765</td>\n      <td>0.003100</td>\n      <td>75.03</td>\n      <td>NaN</td>\n      <td>0.01953</td>\n      <td>0.010970</td>\n      <td>0.3446</td>\n    </tr>\n    <tr>\n      <th>3900</th>\n      <td>0.9857</td>\n      <td>NaN</td>\n      <td>0.02166</td>\n      <td>0.10960</td>\n      <td>453.1</td>\n      <td>NaN</td>\n      <td>20.04</td>\n      <td>0.35350</td>\n      <td>0.006272</td>\n      <td>NaN</td>\n      <td>...</td>\n      <td>0.14020</td>\n      <td>0.081750</td>\n      <td>NaN</td>\n      <td>0.2709</td>\n      <td>NaN</td>\n      <td>NaN</td>\n      <td>0.23150</td>\n      <td>NaN</td>\n      <td>NaN</td>\n      <td>0.1811</td>\n    </tr>\n    <tr>\n      <th>3908</th>\n      <td>2903.0000</td>\n      <td>16.84</td>\n      <td>0.05364</td>\n      <td>0.08401</td>\n      <td>NaN</td>\n      <td>0.050510</td>\n      <td>23.95</td>\n      <td>0.23220</td>\n      <td>0.009769</td>\n      <td>0.019920</td>\n      <td>...</td>\n      <td>0.11310</td>\n      <td>0.099380</td>\n      <td>0.1847</td>\n      <td>0.2809</td>\n      <td>0.003002</td>\n      <td>NaN</td>\n      <td>0.19240</td>\n      <td>0.02981</td>\n      <td>NaN</td>\n      <td>0.4033</td>\n    </tr>\n    <tr>\n      <th>3929</th>\n      <td>4795.0000</td>\n      <td>16.46</td>\n      <td>63.00000</td>\n      <td>0.10310</td>\n      <td>656.1</td>\n      <td>NaN</td>\n      <td>13.98</td>\n      <td>0.32190</td>\n      <td>0.009976</td>\n      <td>0.015800</td>\n      <td>...</td>\n      <td>0.13120</td>\n      <td>NaN</td>\n      <td>0.2086</td>\n      <td>0.2827</td>\n      <td>NaN</td>\n      <td>98.22</td>\n      <td>NaN</td>\n      <td>NaN</td>\n      <td>0.052440</td>\n      <td>0.5462</td>\n    </tr>\n    <tr>\n      <th>3933</th>\n      <td>NaN</td>\n      <td>9456.00</td>\n      <td>0.00000</td>\n      <td>0.05263</td>\n      <td>181.0</td>\n      <td>NaN</td>\n      <td>24.54</td>\n      <td>0.00000</td>\n      <td>0.007189</td>\n      <td>NaN</td>\n      <td>...</td>\n      <td>0.08996</td>\n      <td>NaN</td>\n      <td>0.1587</td>\n      <td>0.2871</td>\n      <td>0.002783</td>\n      <td>47.92</td>\n      <td>0.06444</td>\n      <td>NaN</td>\n      <td>0.004660</td>\n      <td>0.3857</td>\n    </tr>\n  </tbody>\n</table>\n<p>664 rows × 30 columns</p>\n</div>"
     },
     "execution_count": 449,
     "metadata": {},
     "output_type": "execute_result"
    }
   ],
   "source": [
    "features"
   ],
   "metadata": {
    "collapsed": false,
    "pycharm": {
     "name": "#%%\n"
    }
   }
  },
  {
   "cell_type": "code",
   "execution_count": 450,
   "outputs": [
    {
     "data": {
      "text/plain": "     perimeter_se  radius_worst  concave points_mean  smoothness_mean  \\\n820        3061.0         21.08              0.08824           0.1036   \n\n     area_mean  concavity_se  texture_mean  concavity_worst  smoothness_se  \\\n820      991.7       0.02509           NaN           0.3301       0.007231   \n\n     concave points_se  ...  smoothness_worst  concavity_mean  symmetry_mean  \\\n820             0.0148  ...               NaN          0.1201         0.1992   \n\n     symmetry_worst  fractal_dimension_se  perimeter_mean  compactness_worst  \\\n820             NaN              0.003336             NaN             0.3735   \n\n     symmetry_se  compactness_se  radius_se  \n820      0.01414         0.02772        NaN  \n\n[1 rows x 30 columns]",
      "text/html": "<div>\n<style scoped>\n    .dataframe tbody tr th:only-of-type {\n        vertical-align: middle;\n    }\n\n    .dataframe tbody tr th {\n        vertical-align: top;\n    }\n\n    .dataframe thead th {\n        text-align: right;\n    }\n</style>\n<table border=\"1\" class=\"dataframe\">\n  <thead>\n    <tr style=\"text-align: right;\">\n      <th></th>\n      <th>perimeter_se</th>\n      <th>radius_worst</th>\n      <th>concave points_mean</th>\n      <th>smoothness_mean</th>\n      <th>area_mean</th>\n      <th>concavity_se</th>\n      <th>texture_mean</th>\n      <th>concavity_worst</th>\n      <th>smoothness_se</th>\n      <th>concave points_se</th>\n      <th>...</th>\n      <th>smoothness_worst</th>\n      <th>concavity_mean</th>\n      <th>symmetry_mean</th>\n      <th>symmetry_worst</th>\n      <th>fractal_dimension_se</th>\n      <th>perimeter_mean</th>\n      <th>compactness_worst</th>\n      <th>symmetry_se</th>\n      <th>compactness_se</th>\n      <th>radius_se</th>\n    </tr>\n  </thead>\n  <tbody>\n    <tr>\n      <th>820</th>\n      <td>3061.0</td>\n      <td>21.08</td>\n      <td>0.08824</td>\n      <td>0.1036</td>\n      <td>991.7</td>\n      <td>0.02509</td>\n      <td>NaN</td>\n      <td>0.3301</td>\n      <td>0.007231</td>\n      <td>0.0148</td>\n      <td>...</td>\n      <td>NaN</td>\n      <td>0.1201</td>\n      <td>0.1992</td>\n      <td>NaN</td>\n      <td>0.003336</td>\n      <td>NaN</td>\n      <td>0.3735</td>\n      <td>0.01414</td>\n      <td>0.02772</td>\n      <td>NaN</td>\n    </tr>\n  </tbody>\n</table>\n<p>1 rows × 30 columns</p>\n</div>"
     },
     "execution_count": 450,
     "metadata": {},
     "output_type": "execute_result"
    }
   ],
   "source": [
    "features[features['radius_mean']==17.99]\n"
   ],
   "metadata": {
    "collapsed": false,
    "pycharm": {
     "name": "#%%\n"
    }
   }
  },
  {
   "cell_type": "code",
   "execution_count": 451,
   "outputs": [
    {
     "data": {
      "text/plain": "       perimeter_se  radius_worst  concave points_mean  smoothness_mean  \\\ncount    571.000000    562.000000           579.000000       544.000000   \nmean    2585.836529    338.580694             2.391488         4.301653   \nstd     1876.256686   1724.192734            16.097487        21.070372   \nmin        0.771400     10.010000             0.000000         0.052630   \n25%     1461.500000     13.122500             0.020125         0.086290   \n50%     2105.000000     15.110000             0.033260         0.095870   \n75%     3215.000000     19.902500             0.074150         0.106125   \nmax     9807.000000   9981.000000           152.000000       123.000000   \n\n         area_mean  concavity_se  texture_mean  concavity_worst  \\\ncount   572.000000    550.000000    560.000000       567.000000   \nmean    658.575000      1.848787     19.376214        26.236737   \nstd     363.031476     24.436860      4.245729       111.736010   \nmin     170.400000      0.000000      9.710000         0.000000   \n25%     414.500000      0.015315     16.467500         0.120650   \n50%     545.650000      0.026065     18.900000         0.249200   \n75%     793.200000      0.042660     21.820000         0.434100   \nmax    2501.000000    396.000000     39.280000      1105.000000   \n\n       smoothness_se  concave points_se  ...  smoothness_worst  \\\ncount     578.000000         548.000000  ...        553.000000   \nmean        0.006978           0.048315  ...         10.003337   \nstd         0.002984           0.614894  ...         35.792131   \nmin         0.001713           0.000000  ...          0.071170   \n25%         0.005158           0.007600  ...          0.119300   \n50%         0.006302           0.010850  ...          0.134500   \n75%         0.008064           0.015012  ...          0.150400   \nmax         0.031130          12.000000  ...        171.000000   \n\n       concavity_mean  symmetry_mean  symmetry_worst  fractal_dimension_se  \\\ncount      550.000000     558.000000      568.000000            567.000000   \nmean         7.496641      16.668379       35.086550              0.025021   \nstd         34.724490      52.145120       98.092356              0.355816   \nmin          0.000000       0.116700        0.156600              0.000895   \n25%          0.029950       0.163425        0.253450              0.002214   \n50%          0.062580       0.182900        0.289750              0.003131   \n75%          0.149100       0.206900        0.339950              0.004499   \nmax        281.000000     235.000000      544.000000              6.000000   \n\n       perimeter_mean  compactness_worst  symmetry_se  compactness_se  \\\ncount      560.000000         573.000000   572.000000      560.000000   \nmean        91.423143          21.315181     0.127077        0.231532   \nstd         24.564416          86.109764     1.566976        2.058868   \nmin         47.920000           0.027290     0.007882        0.003012   \n25%         74.330000           0.150600     0.015195        0.013437   \n50%         85.980000           0.227500     0.018785        0.021405   \n75%        103.600000           0.373500     0.023267        0.034380   \nmax        186.900000        1058.000000    31.000000       27.000000   \n\n         radius_se  \ncount   561.000000  \nmean     87.080365  \nstd     285.629863  \nmin       0.111500  \n25%       0.238800  \n50%       0.342800  \n75%       0.664200  \nmax    2547.000000  \n\n[8 rows x 30 columns]",
      "text/html": "<div>\n<style scoped>\n    .dataframe tbody tr th:only-of-type {\n        vertical-align: middle;\n    }\n\n    .dataframe tbody tr th {\n        vertical-align: top;\n    }\n\n    .dataframe thead th {\n        text-align: right;\n    }\n</style>\n<table border=\"1\" class=\"dataframe\">\n  <thead>\n    <tr style=\"text-align: right;\">\n      <th></th>\n      <th>perimeter_se</th>\n      <th>radius_worst</th>\n      <th>concave points_mean</th>\n      <th>smoothness_mean</th>\n      <th>area_mean</th>\n      <th>concavity_se</th>\n      <th>texture_mean</th>\n      <th>concavity_worst</th>\n      <th>smoothness_se</th>\n      <th>concave points_se</th>\n      <th>...</th>\n      <th>smoothness_worst</th>\n      <th>concavity_mean</th>\n      <th>symmetry_mean</th>\n      <th>symmetry_worst</th>\n      <th>fractal_dimension_se</th>\n      <th>perimeter_mean</th>\n      <th>compactness_worst</th>\n      <th>symmetry_se</th>\n      <th>compactness_se</th>\n      <th>radius_se</th>\n    </tr>\n  </thead>\n  <tbody>\n    <tr>\n      <th>count</th>\n      <td>571.000000</td>\n      <td>562.000000</td>\n      <td>579.000000</td>\n      <td>544.000000</td>\n      <td>572.000000</td>\n      <td>550.000000</td>\n      <td>560.000000</td>\n      <td>567.000000</td>\n      <td>578.000000</td>\n      <td>548.000000</td>\n      <td>...</td>\n      <td>553.000000</td>\n      <td>550.000000</td>\n      <td>558.000000</td>\n      <td>568.000000</td>\n      <td>567.000000</td>\n      <td>560.000000</td>\n      <td>573.000000</td>\n      <td>572.000000</td>\n      <td>560.000000</td>\n      <td>561.000000</td>\n    </tr>\n    <tr>\n      <th>mean</th>\n      <td>2585.836529</td>\n      <td>338.580694</td>\n      <td>2.391488</td>\n      <td>4.301653</td>\n      <td>658.575000</td>\n      <td>1.848787</td>\n      <td>19.376214</td>\n      <td>26.236737</td>\n      <td>0.006978</td>\n      <td>0.048315</td>\n      <td>...</td>\n      <td>10.003337</td>\n      <td>7.496641</td>\n      <td>16.668379</td>\n      <td>35.086550</td>\n      <td>0.025021</td>\n      <td>91.423143</td>\n      <td>21.315181</td>\n      <td>0.127077</td>\n      <td>0.231532</td>\n      <td>87.080365</td>\n    </tr>\n    <tr>\n      <th>std</th>\n      <td>1876.256686</td>\n      <td>1724.192734</td>\n      <td>16.097487</td>\n      <td>21.070372</td>\n      <td>363.031476</td>\n      <td>24.436860</td>\n      <td>4.245729</td>\n      <td>111.736010</td>\n      <td>0.002984</td>\n      <td>0.614894</td>\n      <td>...</td>\n      <td>35.792131</td>\n      <td>34.724490</td>\n      <td>52.145120</td>\n      <td>98.092356</td>\n      <td>0.355816</td>\n      <td>24.564416</td>\n      <td>86.109764</td>\n      <td>1.566976</td>\n      <td>2.058868</td>\n      <td>285.629863</td>\n    </tr>\n    <tr>\n      <th>min</th>\n      <td>0.771400</td>\n      <td>10.010000</td>\n      <td>0.000000</td>\n      <td>0.052630</td>\n      <td>170.400000</td>\n      <td>0.000000</td>\n      <td>9.710000</td>\n      <td>0.000000</td>\n      <td>0.001713</td>\n      <td>0.000000</td>\n      <td>...</td>\n      <td>0.071170</td>\n      <td>0.000000</td>\n      <td>0.116700</td>\n      <td>0.156600</td>\n      <td>0.000895</td>\n      <td>47.920000</td>\n      <td>0.027290</td>\n      <td>0.007882</td>\n      <td>0.003012</td>\n      <td>0.111500</td>\n    </tr>\n    <tr>\n      <th>25%</th>\n      <td>1461.500000</td>\n      <td>13.122500</td>\n      <td>0.020125</td>\n      <td>0.086290</td>\n      <td>414.500000</td>\n      <td>0.015315</td>\n      <td>16.467500</td>\n      <td>0.120650</td>\n      <td>0.005158</td>\n      <td>0.007600</td>\n      <td>...</td>\n      <td>0.119300</td>\n      <td>0.029950</td>\n      <td>0.163425</td>\n      <td>0.253450</td>\n      <td>0.002214</td>\n      <td>74.330000</td>\n      <td>0.150600</td>\n      <td>0.015195</td>\n      <td>0.013437</td>\n      <td>0.238800</td>\n    </tr>\n    <tr>\n      <th>50%</th>\n      <td>2105.000000</td>\n      <td>15.110000</td>\n      <td>0.033260</td>\n      <td>0.095870</td>\n      <td>545.650000</td>\n      <td>0.026065</td>\n      <td>18.900000</td>\n      <td>0.249200</td>\n      <td>0.006302</td>\n      <td>0.010850</td>\n      <td>...</td>\n      <td>0.134500</td>\n      <td>0.062580</td>\n      <td>0.182900</td>\n      <td>0.289750</td>\n      <td>0.003131</td>\n      <td>85.980000</td>\n      <td>0.227500</td>\n      <td>0.018785</td>\n      <td>0.021405</td>\n      <td>0.342800</td>\n    </tr>\n    <tr>\n      <th>75%</th>\n      <td>3215.000000</td>\n      <td>19.902500</td>\n      <td>0.074150</td>\n      <td>0.106125</td>\n      <td>793.200000</td>\n      <td>0.042660</td>\n      <td>21.820000</td>\n      <td>0.434100</td>\n      <td>0.008064</td>\n      <td>0.015012</td>\n      <td>...</td>\n      <td>0.150400</td>\n      <td>0.149100</td>\n      <td>0.206900</td>\n      <td>0.339950</td>\n      <td>0.004499</td>\n      <td>103.600000</td>\n      <td>0.373500</td>\n      <td>0.023267</td>\n      <td>0.034380</td>\n      <td>0.664200</td>\n    </tr>\n    <tr>\n      <th>max</th>\n      <td>9807.000000</td>\n      <td>9981.000000</td>\n      <td>152.000000</td>\n      <td>123.000000</td>\n      <td>2501.000000</td>\n      <td>396.000000</td>\n      <td>39.280000</td>\n      <td>1105.000000</td>\n      <td>0.031130</td>\n      <td>12.000000</td>\n      <td>...</td>\n      <td>171.000000</td>\n      <td>281.000000</td>\n      <td>235.000000</td>\n      <td>544.000000</td>\n      <td>6.000000</td>\n      <td>186.900000</td>\n      <td>1058.000000</td>\n      <td>31.000000</td>\n      <td>27.000000</td>\n      <td>2547.000000</td>\n    </tr>\n  </tbody>\n</table>\n<p>8 rows × 30 columns</p>\n</div>"
     },
     "execution_count": 451,
     "metadata": {},
     "output_type": "execute_result"
    }
   ],
   "source": [
    "features.describe()\n"
   ],
   "metadata": {
    "collapsed": false,
    "pycharm": {
     "name": "#%%\n"
    }
   }
  },
  {
   "cell_type": "code",
   "execution_count": 452,
   "outputs": [
    {
     "data": {
      "text/plain": "      perimeter_se  radius_worst  concave points_mean  smoothness_mean  \\\n4        2183.0000           NaN              0.02278          0.09524   \n5        2225.0000         13.28              0.01162          0.07561   \n7        1103.0000         12.82              0.02623          0.09373   \n8        4877.0000           NaN            106.00000          0.11480   \n12          1.5200         13.10              0.01349          0.08261   \n...            ...           ...                  ...              ...   \n3882     2355.0000           NaN              0.03250        115.00000   \n3900        0.9857           NaN              0.02166          0.10960   \n3908     2903.0000         16.84              0.05364          0.08401   \n3929     4795.0000         16.46             63.00000          0.10310   \n3933           NaN       9456.00              0.00000          0.05263   \n\n      area_mean  concavity_se  texture_mean  concavity_worst  smoothness_se  \\\n4         409.0      0.013490         18.75              NaN       0.008328   \n5         421.0      0.005949         17.07          0.03046       0.006583   \n7         403.3      0.015140         10.82          0.21020            NaN   \n8        1033.0      0.028170         18.70          0.26230       0.003899   \n12        437.6      0.013110           NaN          0.09203            NaN   \n...         ...           ...           ...              ...            ...   \n3882      420.3           NaN         15.45          0.10870       0.009536   \n3900      453.1           NaN         20.04          0.35350       0.006272   \n3908        NaN      0.050510         23.95          0.23220       0.009769   \n3929      656.1           NaN         13.98          0.32190       0.009976   \n3933      181.0           NaN         24.54          0.00000       0.007189   \n\n      concave points_se  ...  smoothness_worst  concavity_mean  symmetry_mean  \\\n4              0.008670  ...           0.12490             NaN            NaN   \n5              0.006296  ...           0.09958        0.008306         0.1671   \n7                   NaN  ...           0.15480        0.035120         0.1667   \n8                   NaN  ...               NaN        0.177200         0.2092   \n12             8.000000  ...           0.11440             NaN         0.1868   \n...                 ...  ...               ...             ...            ...   \n3882                NaN  ...         146.00000        0.040060            NaN   \n3900                NaN  ...           0.14020        0.081750            NaN   \n3908           0.019920  ...           0.11310        0.099380         0.1847   \n3929           0.015800  ...           0.13120             NaN         0.2086   \n3933                NaN  ...           0.08996             NaN         0.1587   \n\n      symmetry_worst  fractal_dimension_se  perimeter_mean  compactness_worst  \\\n4             0.3306              0.002386           73.34                NaN   \n5             0.2731              0.002668           73.70            0.06476   \n7             0.3016              0.002206           73.34          239.00000   \n8             0.3021              0.005126             NaN            0.22970   \n12            0.2785              0.002635           75.71            0.08906   \n...              ...                   ...             ...                ...   \n3882          0.2765              0.003100           75.03                NaN   \n3900          0.2709                   NaN             NaN            0.23150   \n3908          0.2809              0.003002             NaN            0.19240   \n3929          0.2827                   NaN           98.22                NaN   \n3933          0.2871              0.002783           47.92            0.06444   \n\n      symmetry_se  compactness_se  radius_se  \n4         0.03218        0.008722     0.3249  \n5         0.02216        0.006991     0.3534  \n7         0.01344             NaN        NaN  \n8         0.02674        0.029610     0.8337  \n12        0.01996        0.008380     0.2273  \n...           ...             ...        ...  \n3882      0.01953        0.010970     0.3446  \n3900          NaN             NaN     0.1811  \n3908      0.02981             NaN     0.4033  \n3929          NaN        0.052440     0.5462  \n3933          NaN        0.004660     0.3857  \n\n[664 rows x 30 columns]",
      "text/html": "<div>\n<style scoped>\n    .dataframe tbody tr th:only-of-type {\n        vertical-align: middle;\n    }\n\n    .dataframe tbody tr th {\n        vertical-align: top;\n    }\n\n    .dataframe thead th {\n        text-align: right;\n    }\n</style>\n<table border=\"1\" class=\"dataframe\">\n  <thead>\n    <tr style=\"text-align: right;\">\n      <th></th>\n      <th>perimeter_se</th>\n      <th>radius_worst</th>\n      <th>concave points_mean</th>\n      <th>smoothness_mean</th>\n      <th>area_mean</th>\n      <th>concavity_se</th>\n      <th>texture_mean</th>\n      <th>concavity_worst</th>\n      <th>smoothness_se</th>\n      <th>concave points_se</th>\n      <th>...</th>\n      <th>smoothness_worst</th>\n      <th>concavity_mean</th>\n      <th>symmetry_mean</th>\n      <th>symmetry_worst</th>\n      <th>fractal_dimension_se</th>\n      <th>perimeter_mean</th>\n      <th>compactness_worst</th>\n      <th>symmetry_se</th>\n      <th>compactness_se</th>\n      <th>radius_se</th>\n    </tr>\n  </thead>\n  <tbody>\n    <tr>\n      <th>4</th>\n      <td>2183.0000</td>\n      <td>NaN</td>\n      <td>0.02278</td>\n      <td>0.09524</td>\n      <td>409.0</td>\n      <td>0.013490</td>\n      <td>18.75</td>\n      <td>NaN</td>\n      <td>0.008328</td>\n      <td>0.008670</td>\n      <td>...</td>\n      <td>0.12490</td>\n      <td>NaN</td>\n      <td>NaN</td>\n      <td>0.3306</td>\n      <td>0.002386</td>\n      <td>73.34</td>\n      <td>NaN</td>\n      <td>0.03218</td>\n      <td>0.008722</td>\n      <td>0.3249</td>\n    </tr>\n    <tr>\n      <th>5</th>\n      <td>2225.0000</td>\n      <td>13.28</td>\n      <td>0.01162</td>\n      <td>0.07561</td>\n      <td>421.0</td>\n      <td>0.005949</td>\n      <td>17.07</td>\n      <td>0.03046</td>\n      <td>0.006583</td>\n      <td>0.006296</td>\n      <td>...</td>\n      <td>0.09958</td>\n      <td>0.008306</td>\n      <td>0.1671</td>\n      <td>0.2731</td>\n      <td>0.002668</td>\n      <td>73.70</td>\n      <td>0.06476</td>\n      <td>0.02216</td>\n      <td>0.006991</td>\n      <td>0.3534</td>\n    </tr>\n    <tr>\n      <th>7</th>\n      <td>1103.0000</td>\n      <td>12.82</td>\n      <td>0.02623</td>\n      <td>0.09373</td>\n      <td>403.3</td>\n      <td>0.015140</td>\n      <td>10.82</td>\n      <td>0.21020</td>\n      <td>NaN</td>\n      <td>NaN</td>\n      <td>...</td>\n      <td>0.15480</td>\n      <td>0.035120</td>\n      <td>0.1667</td>\n      <td>0.3016</td>\n      <td>0.002206</td>\n      <td>73.34</td>\n      <td>239.00000</td>\n      <td>0.01344</td>\n      <td>NaN</td>\n      <td>NaN</td>\n    </tr>\n    <tr>\n      <th>8</th>\n      <td>4877.0000</td>\n      <td>NaN</td>\n      <td>106.00000</td>\n      <td>0.11480</td>\n      <td>1033.0</td>\n      <td>0.028170</td>\n      <td>18.70</td>\n      <td>0.26230</td>\n      <td>0.003899</td>\n      <td>NaN</td>\n      <td>...</td>\n      <td>NaN</td>\n      <td>0.177200</td>\n      <td>0.2092</td>\n      <td>0.3021</td>\n      <td>0.005126</td>\n      <td>NaN</td>\n      <td>0.22970</td>\n      <td>0.02674</td>\n      <td>0.029610</td>\n      <td>0.8337</td>\n    </tr>\n    <tr>\n      <th>12</th>\n      <td>1.5200</td>\n      <td>13.10</td>\n      <td>0.01349</td>\n      <td>0.08261</td>\n      <td>437.6</td>\n      <td>0.013110</td>\n      <td>NaN</td>\n      <td>0.09203</td>\n      <td>NaN</td>\n      <td>8.000000</td>\n      <td>...</td>\n      <td>0.11440</td>\n      <td>NaN</td>\n      <td>0.1868</td>\n      <td>0.2785</td>\n      <td>0.002635</td>\n      <td>75.71</td>\n      <td>0.08906</td>\n      <td>0.01996</td>\n      <td>0.008380</td>\n      <td>0.2273</td>\n    </tr>\n    <tr>\n      <th>...</th>\n      <td>...</td>\n      <td>...</td>\n      <td>...</td>\n      <td>...</td>\n      <td>...</td>\n      <td>...</td>\n      <td>...</td>\n      <td>...</td>\n      <td>...</td>\n      <td>...</td>\n      <td>...</td>\n      <td>...</td>\n      <td>...</td>\n      <td>...</td>\n      <td>...</td>\n      <td>...</td>\n      <td>...</td>\n      <td>...</td>\n      <td>...</td>\n      <td>...</td>\n      <td>...</td>\n    </tr>\n    <tr>\n      <th>3882</th>\n      <td>2355.0000</td>\n      <td>NaN</td>\n      <td>0.03250</td>\n      <td>115.00000</td>\n      <td>420.3</td>\n      <td>NaN</td>\n      <td>15.45</td>\n      <td>0.10870</td>\n      <td>0.009536</td>\n      <td>NaN</td>\n      <td>...</td>\n      <td>146.00000</td>\n      <td>0.040060</td>\n      <td>NaN</td>\n      <td>0.2765</td>\n      <td>0.003100</td>\n      <td>75.03</td>\n      <td>NaN</td>\n      <td>0.01953</td>\n      <td>0.010970</td>\n      <td>0.3446</td>\n    </tr>\n    <tr>\n      <th>3900</th>\n      <td>0.9857</td>\n      <td>NaN</td>\n      <td>0.02166</td>\n      <td>0.10960</td>\n      <td>453.1</td>\n      <td>NaN</td>\n      <td>20.04</td>\n      <td>0.35350</td>\n      <td>0.006272</td>\n      <td>NaN</td>\n      <td>...</td>\n      <td>0.14020</td>\n      <td>0.081750</td>\n      <td>NaN</td>\n      <td>0.2709</td>\n      <td>NaN</td>\n      <td>NaN</td>\n      <td>0.23150</td>\n      <td>NaN</td>\n      <td>NaN</td>\n      <td>0.1811</td>\n    </tr>\n    <tr>\n      <th>3908</th>\n      <td>2903.0000</td>\n      <td>16.84</td>\n      <td>0.05364</td>\n      <td>0.08401</td>\n      <td>NaN</td>\n      <td>0.050510</td>\n      <td>23.95</td>\n      <td>0.23220</td>\n      <td>0.009769</td>\n      <td>0.019920</td>\n      <td>...</td>\n      <td>0.11310</td>\n      <td>0.099380</td>\n      <td>0.1847</td>\n      <td>0.2809</td>\n      <td>0.003002</td>\n      <td>NaN</td>\n      <td>0.19240</td>\n      <td>0.02981</td>\n      <td>NaN</td>\n      <td>0.4033</td>\n    </tr>\n    <tr>\n      <th>3929</th>\n      <td>4795.0000</td>\n      <td>16.46</td>\n      <td>63.00000</td>\n      <td>0.10310</td>\n      <td>656.1</td>\n      <td>NaN</td>\n      <td>13.98</td>\n      <td>0.32190</td>\n      <td>0.009976</td>\n      <td>0.015800</td>\n      <td>...</td>\n      <td>0.13120</td>\n      <td>NaN</td>\n      <td>0.2086</td>\n      <td>0.2827</td>\n      <td>NaN</td>\n      <td>98.22</td>\n      <td>NaN</td>\n      <td>NaN</td>\n      <td>0.052440</td>\n      <td>0.5462</td>\n    </tr>\n    <tr>\n      <th>3933</th>\n      <td>NaN</td>\n      <td>9456.00</td>\n      <td>0.00000</td>\n      <td>0.05263</td>\n      <td>181.0</td>\n      <td>NaN</td>\n      <td>24.54</td>\n      <td>0.00000</td>\n      <td>0.007189</td>\n      <td>NaN</td>\n      <td>...</td>\n      <td>0.08996</td>\n      <td>NaN</td>\n      <td>0.1587</td>\n      <td>0.2871</td>\n      <td>0.002783</td>\n      <td>47.92</td>\n      <td>0.06444</td>\n      <td>NaN</td>\n      <td>0.004660</td>\n      <td>0.3857</td>\n    </tr>\n  </tbody>\n</table>\n<p>664 rows × 30 columns</p>\n</div>"
     },
     "execution_count": 452,
     "metadata": {},
     "output_type": "execute_result"
    }
   ],
   "source": [
    "features"
   ],
   "metadata": {
    "collapsed": false,
    "pycharm": {
     "name": "#%%\n"
    }
   }
  },
  {
   "cell_type": "code",
   "execution_count": null,
   "outputs": [],
   "source": [],
   "metadata": {
    "collapsed": false,
    "pycharm": {
     "name": "#%%\n"
    }
   }
  }
 ],
 "metadata": {
  "kernelspec": {
   "display_name": "Python 3",
   "language": "python",
   "name": "python3"
  },
  "language_info": {
   "codemirror_mode": {
    "name": "ipython",
    "version": 2
   },
   "file_extension": ".py",
   "mimetype": "text/x-python",
   "name": "python",
   "nbconvert_exporter": "python",
   "pygments_lexer": "ipython2",
   "version": "2.7.6"
  }
 },
 "nbformat": 4,
 "nbformat_minor": 0
}