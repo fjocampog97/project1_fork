{
 "cells": [
  {
   "cell_type": "code",
   "execution_count": null,
   "outputs": [],
   "source": [
    "import pandas as pd\n",
    "import numpy as np"
   ],
   "metadata": {
    "collapsed": false,
    "pycharm": {
     "name": "#%%\n"
    }
   }
  },
  {
   "cell_type": "code",
   "execution_count": 17,
   "outputs": [],
   "source": [
    "df=pd.read_parquet('../data/interim/BreastCancer.parquet')"
   ],
   "metadata": {
    "collapsed": false,
    "pycharm": {
     "name": "#%%\n"
    }
   }
  },
  {
   "cell_type": "code",
   "execution_count": 18,
   "outputs": [
    {
     "data": {
      "text/plain": "   index  perimeter_se  radius_worst  concave points_mean  smoothness_mean  \\\n0  279.0          1.83           NaN             0.037110          0.09516   \n1  307.0       1144.00       9699.00             0.003472              NaN   \n2  576.0       2183.00           NaN             0.022780          0.09524   \n3  350.0       2225.00         13.28             0.011620          0.07561   \n4  120.0       1103.00         12.82             0.026230          0.09373   \n\n   area_mean  concavity_se  texture_mean  concavity_worst  smoothness_se  ...  \\\n0      587.4      0.014570         15.18          0.14560       0.004235  ...   \n1      246.3      0.003681         14.40          0.01472       0.007389  ...   \n2      409.0      0.013490         18.75              NaN       0.008328  ...   \n3      421.0      0.005949         17.07          0.03046       0.006583  ...   \n4      403.3      0.015140         10.82          0.21020            NaN  ...   \n\n           id  symmetry_mean  symmetry_worst  diagnosis  fractal_dimension_se  \\\n0   8911834.0       211.0000          0.2955          0              0.001593   \n1     89346.0            NaN          0.2991          0              0.002153   \n2  85759902.0            NaN          0.3306          0              0.002386   \n3    899187.0         0.1671          0.2731          0              0.002668   \n4    865137.0         0.1667          0.3016          0              0.002206   \n\n   perimeter_mean  compactness_worst  symmetry_se  compactness_se  radius_se  \n0             NaN            0.17240      0.01528        0.015410        NaN  \n1           56.36            0.05232      0.02701        0.004883     0.1746  \n2           73.34                NaN      0.03218        0.008722     0.3249  \n3           73.70            0.06476      0.02216        0.006991     0.3534  \n4           73.34          239.00000      0.01344             NaN        NaN  \n\n[5 rows x 33 columns]",
      "text/html": "<div>\n<style scoped>\n    .dataframe tbody tr th:only-of-type {\n        vertical-align: middle;\n    }\n\n    .dataframe tbody tr th {\n        vertical-align: top;\n    }\n\n    .dataframe thead th {\n        text-align: right;\n    }\n</style>\n<table border=\"1\" class=\"dataframe\">\n  <thead>\n    <tr style=\"text-align: right;\">\n      <th></th>\n      <th>index</th>\n      <th>perimeter_se</th>\n      <th>radius_worst</th>\n      <th>concave points_mean</th>\n      <th>smoothness_mean</th>\n      <th>area_mean</th>\n      <th>concavity_se</th>\n      <th>texture_mean</th>\n      <th>concavity_worst</th>\n      <th>smoothness_se</th>\n      <th>...</th>\n      <th>id</th>\n      <th>symmetry_mean</th>\n      <th>symmetry_worst</th>\n      <th>diagnosis</th>\n      <th>fractal_dimension_se</th>\n      <th>perimeter_mean</th>\n      <th>compactness_worst</th>\n      <th>symmetry_se</th>\n      <th>compactness_se</th>\n      <th>radius_se</th>\n    </tr>\n  </thead>\n  <tbody>\n    <tr>\n      <th>0</th>\n      <td>279.0</td>\n      <td>1.83</td>\n      <td>NaN</td>\n      <td>0.037110</td>\n      <td>0.09516</td>\n      <td>587.4</td>\n      <td>0.014570</td>\n      <td>15.18</td>\n      <td>0.14560</td>\n      <td>0.004235</td>\n      <td>...</td>\n      <td>8911834.0</td>\n      <td>211.0000</td>\n      <td>0.2955</td>\n      <td>0</td>\n      <td>0.001593</td>\n      <td>NaN</td>\n      <td>0.17240</td>\n      <td>0.01528</td>\n      <td>0.015410</td>\n      <td>NaN</td>\n    </tr>\n    <tr>\n      <th>1</th>\n      <td>307.0</td>\n      <td>1144.00</td>\n      <td>9699.00</td>\n      <td>0.003472</td>\n      <td>NaN</td>\n      <td>246.3</td>\n      <td>0.003681</td>\n      <td>14.40</td>\n      <td>0.01472</td>\n      <td>0.007389</td>\n      <td>...</td>\n      <td>89346.0</td>\n      <td>NaN</td>\n      <td>0.2991</td>\n      <td>0</td>\n      <td>0.002153</td>\n      <td>56.36</td>\n      <td>0.05232</td>\n      <td>0.02701</td>\n      <td>0.004883</td>\n      <td>0.1746</td>\n    </tr>\n    <tr>\n      <th>2</th>\n      <td>576.0</td>\n      <td>2183.00</td>\n      <td>NaN</td>\n      <td>0.022780</td>\n      <td>0.09524</td>\n      <td>409.0</td>\n      <td>0.013490</td>\n      <td>18.75</td>\n      <td>NaN</td>\n      <td>0.008328</td>\n      <td>...</td>\n      <td>85759902.0</td>\n      <td>NaN</td>\n      <td>0.3306</td>\n      <td>0</td>\n      <td>0.002386</td>\n      <td>73.34</td>\n      <td>NaN</td>\n      <td>0.03218</td>\n      <td>0.008722</td>\n      <td>0.3249</td>\n    </tr>\n    <tr>\n      <th>3</th>\n      <td>350.0</td>\n      <td>2225.00</td>\n      <td>13.28</td>\n      <td>0.011620</td>\n      <td>0.07561</td>\n      <td>421.0</td>\n      <td>0.005949</td>\n      <td>17.07</td>\n      <td>0.03046</td>\n      <td>0.006583</td>\n      <td>...</td>\n      <td>899187.0</td>\n      <td>0.1671</td>\n      <td>0.2731</td>\n      <td>0</td>\n      <td>0.002668</td>\n      <td>73.70</td>\n      <td>0.06476</td>\n      <td>0.02216</td>\n      <td>0.006991</td>\n      <td>0.3534</td>\n    </tr>\n    <tr>\n      <th>4</th>\n      <td>120.0</td>\n      <td>1103.00</td>\n      <td>12.82</td>\n      <td>0.026230</td>\n      <td>0.09373</td>\n      <td>403.3</td>\n      <td>0.015140</td>\n      <td>10.82</td>\n      <td>0.21020</td>\n      <td>NaN</td>\n      <td>...</td>\n      <td>865137.0</td>\n      <td>0.1667</td>\n      <td>0.3016</td>\n      <td>0</td>\n      <td>0.002206</td>\n      <td>73.34</td>\n      <td>239.00000</td>\n      <td>0.01344</td>\n      <td>NaN</td>\n      <td>NaN</td>\n    </tr>\n  </tbody>\n</table>\n<p>5 rows × 33 columns</p>\n</div>"
     },
     "execution_count": 18,
     "metadata": {},
     "output_type": "execute_result"
    }
   ],
   "source": [
    "df.head()"
   ],
   "metadata": {
    "collapsed": false,
    "pycharm": {
     "name": "#%%\n"
    }
   }
  },
  {
   "cell_type": "code",
   "execution_count": 19,
   "outputs": [
    {
     "name": "stdout",
     "output_type": "stream",
     "text": [
      "<class 'pandas.core.frame.DataFrame'>\n",
      "RangeIndex: 16180 entries, 0 to 16179\n",
      "Data columns (total 33 columns):\n",
      " #   Column                   Non-Null Count  Dtype  \n",
      "---  ------                   --------------  -----  \n",
      " 0   index                    16180 non-null  float64\n",
      " 1   perimeter_se             13640 non-null  float64\n",
      " 2   radius_worst             13630 non-null  float64\n",
      " 3   concave points_mean      13600 non-null  float64\n",
      " 4   smoothness_mean          13450 non-null  float64\n",
      " 5   area_mean                13425 non-null  float64\n",
      " 6   concavity_se             13475 non-null  float64\n",
      " 7   texture_mean             13565 non-null  float64\n",
      " 8   concavity_worst          13540 non-null  float64\n",
      " 9   smoothness_se            13610 non-null  float64\n",
      " 10  concave points_se        13600 non-null  float64\n",
      " 11  area_worst               13530 non-null  float64\n",
      " 12  compactness_mean         13480 non-null  float64\n",
      " 13  radius_mean              13495 non-null  float64\n",
      " 14  area_se                  13475 non-null  float64\n",
      " 15  concave points_worst     13620 non-null  float64\n",
      " 16  fractal_dimension_worst  13615 non-null  float64\n",
      " 17  perimeter_worst          13595 non-null  float64\n",
      " 18  texture_se               13635 non-null  float64\n",
      " 19  fractal_dimension_mean   13550 non-null  float64\n",
      " 20  texture_worst            13615 non-null  float64\n",
      " 21  smoothness_worst         13535 non-null  float64\n",
      " 22  concavity_mean           13415 non-null  float64\n",
      " 23  id                       14720 non-null  float64\n",
      " 24  symmetry_mean            13485 non-null  float64\n",
      " 25  symmetry_worst           13600 non-null  float64\n",
      " 26  diagnosis                16180 non-null  int64  \n",
      " 27  fractal_dimension_se     13555 non-null  float64\n",
      " 28  perimeter_mean           13450 non-null  float64\n",
      " 29  compactness_worst        13725 non-null  float64\n",
      " 30  symmetry_se              13580 non-null  float64\n",
      " 31  compactness_se           13570 non-null  float64\n",
      " 32  radius_se                13595 non-null  float64\n",
      "dtypes: float64(32), int64(1)\n",
      "memory usage: 4.1 MB\n"
     ]
    }
   ],
   "source": [
    "df.info()"
   ],
   "metadata": {
    "collapsed": false,
    "pycharm": {
     "name": "#%%\n"
    }
   }
  },
  {
   "cell_type": "code",
   "execution_count": 20,
   "outputs": [],
   "source": [
    "df['diagnosis']=df['diagnosis'].astype('category')"
   ],
   "metadata": {
    "collapsed": false,
    "pycharm": {
     "name": "#%%\n"
    }
   }
  },
  {
   "cell_type": "code",
   "execution_count": null,
   "outputs": [],
   "source": [
    "df.info()"
   ],
   "metadata": {
    "collapsed": false,
    "pycharm": {
     "name": "#%%\n",
     "is_executing": true
    }
   }
  },
  {
   "cell_type": "code",
   "execution_count": 20,
   "outputs": [],
   "source": [],
   "metadata": {
    "collapsed": false,
    "pycharm": {
     "name": "#%%\n"
    }
   }
  }
 ],
 "metadata": {
  "kernelspec": {
   "display_name": "Python 3",
   "language": "python",
   "name": "python3"
  },
  "language_info": {
   "codemirror_mode": {
    "name": "ipython",
    "version": 2
   },
   "file_extension": ".py",
   "mimetype": "text/x-python",
   "name": "python",
   "nbconvert_exporter": "python",
   "pygments_lexer": "ipython2",
   "version": "2.7.6"
  }
 },
 "nbformat": 4,
 "nbformat_minor": 0
}