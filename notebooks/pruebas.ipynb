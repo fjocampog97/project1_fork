{
 "cells": [
  {
   "cell_type": "code",
   "execution_count": 16,
   "metadata": {
    "pycharm": {
     "name": "#%%\n"
    }
   },
   "outputs": [],
   "source": [
    "import pandas as pd\n",
    "import src.data.preprocessing\n",
    "from sklearn import preprocessing\n",
    "\n",
    "df=pd.read_csv('../data/interim/data.csv')\n",
    "pd.set_option('display.max_rows',50)\n",
    "pd.set_option('display.max_columns', 50)"
   ]
  },
  {
   "cell_type": "code",
   "execution_count": 2,
   "metadata": {
    "pycharm": {
     "name": "#%%\n"
    }
   },
   "outputs": [],
   "source": [
    "import numpy as np"
   ]
  },
  {
   "cell_type": "markdown",
   "source": [],
   "metadata": {
    "collapsed": false,
    "pycharm": {
     "name": "#%% md\n"
    }
   }
  },
  {
   "cell_type": "markdown",
   "source": [],
   "metadata": {
    "collapsed": false,
    "pycharm": {
     "name": "#%% md\n"
    }
   }
  },
  {
   "cell_type": "code",
   "execution_count": 29,
   "metadata": {
    "pycharm": {
     "name": "#%%\n"
    }
   },
   "outputs": [],
   "source": [
    "df=pd.read_csv('../data/raw/BreastCancerDS.csv',index_col=0)\n",
    "pd.options.display.float_format = '{:.2f}'.format\n"
   ]
  },
  {
   "cell_type": "code",
   "execution_count": 30,
   "outputs": [
    {
     "data": {
      "text/plain": "(19710, 35)"
     },
     "execution_count": 30,
     "metadata": {},
     "output_type": "execute_result"
    }
   ],
   "source": [
    "df.shape"
   ],
   "metadata": {
    "collapsed": false,
    "pycharm": {
     "name": "#%%\n"
    }
   }
  },
  {
   "cell_type": "code",
   "execution_count": 31,
   "outputs": [
    {
     "data": {
      "text/plain": "(3937, 35)"
     },
     "execution_count": 31,
     "metadata": {},
     "output_type": "execute_result"
    }
   ],
   "source": [
    "df=df.drop_duplicates()#\n",
    "df.shape#\n"
   ],
   "metadata": {
    "collapsed": false,
    "pycharm": {
     "name": "#%%\n"
    }
   }
  },
  {
   "cell_type": "code",
   "execution_count": 32,
   "outputs": [
    {
     "data": {
      "text/plain": "(657, 35)"
     },
     "execution_count": 32,
     "metadata": {},
     "output_type": "execute_result"
    }
   ],
   "source": [
    "df = df.drop_duplicates(subset=['index'], keep='first')#\n",
    "df.shape#"
   ],
   "metadata": {
    "collapsed": false,
    "pycharm": {
     "name": "#%%\n"
    }
   }
  },
  {
   "cell_type": "code",
   "execution_count": 33,
   "outputs": [
    {
     "data": {
      "text/plain": "(543, 35)"
     },
     "execution_count": 33,
     "metadata": {},
     "output_type": "execute_result"
    }
   ],
   "source": [
    "df= df[(df['diagnosis'] == 'B') | (df['diagnosis'] == 'M')]\n",
    "df.shape\n",
    "\n",
    "\n"
   ],
   "metadata": {
    "collapsed": false,
    "pycharm": {
     "name": "#%%\n"
    }
   }
  },
  {
   "cell_type": "code",
   "execution_count": 34,
   "outputs": [],
   "source": [
    "label_encoding = preprocessing.LabelEncoder()\n",
    "df['diagnosis'] = label_encoding.fit_transform(df['diagnosis'])\n",
    "df=df.drop_duplicates()"
   ],
   "metadata": {
    "collapsed": false,
    "pycharm": {
     "name": "#%%\n"
    }
   }
  },
  {
   "cell_type": "code",
   "execution_count": 35,
   "outputs": [
    {
     "data": {
      "text/plain": "(543, 35)"
     },
     "execution_count": 35,
     "metadata": {},
     "output_type": "execute_result"
    }
   ],
   "source": [
    "df.shape"
   ],
   "metadata": {
    "collapsed": false,
    "pycharm": {
     "name": "#%%\n"
    }
   }
  },
  {
   "cell_type": "code",
   "execution_count": 37,
   "outputs": [
    {
     "data": {
      "text/plain": "      index perimeter_se       radius_worst concave points_mean  \\\n1       279         1.83  999765432456788.0             0.03711   \n2       307       1144.0             9699.0            0.003472   \n4       576       2183.0                 ?              0.02278   \n5       350       2225.0              13.28             0.01162   \n7       120       1103.0              12.82             0.02623   \n...     ...          ...                ...                 ...   \n2275    480       1678.0              13.34             0.01527   \n2368    483       1564.0              14.96              0.0316   \n2462    381       1281.0              12.09             0.02074   \n2544    527       0.7714              13.61             0.02647   \n3206    122       9807.0              26.02              0.2012   \n\n        smoothness_mean area_mean concavity_se       texture_mean  \\\n1               0.09516     587.4      0.01457              15.18   \n2     -88888765432345.0     246.3     0.003681               14.4   \n4               0.09524     409.0      0.01349              18.75   \n5               0.07561     421.0     0.005949              17.07   \n7               0.09373     403.3      0.01514              10.82   \n...                 ...       ...          ...                ...   \n2275            0.09087     455.3      0.01397              18.03   \n2368             0.0995     571.1      0.01698  -88888765432345.0   \n2462            0.07987     372.7      0.01723              14.93   \n2544            0.09003     468.5     0.008732              12.27   \n3206             0.1447    1761.0       0.1278               20.2   \n\n     concavity_worst smoothness_se  concave points_se         area_worst  \\\n1             0.1456      0.004235  999765432456788.0  999765432456788.0   \n2            0.01472      0.007389           0.003472              285.5   \n4                 ?       0.008328            0.00867              506.2   \n5            0.03046      0.006583           0.006296              542.5   \n7             0.2102            ?                  ?               510.5   \n...              ...           ...                ...                ...   \n2275           162.0      0.004911           0.005161              547.4   \n2368          0.1742      0.003245           0.009233              686.5   \n2462          0.1553      0.005296            0.00696              447.1   \n2544          0.1791      0.003681            0.00574              564.9   \n3206          0.5803       0.02333            0.01822             2073.0   \n\n       compactness_mean radius_mean area_se concave points_worst  \\\n1               0.07688       13.85   19.41              0.09993   \n2               0.03116         9.0  9789.0              0.01389   \n4               0.05473       11.52   23.47                   ?    \n5                0.0363       11.66   26.03              0.04262   \n7               0.06685       11.41    10.5              0.08958   \n...                 ...         ...     ...                  ...   \n2275            0.07838       12.16   16.26               0.0569   \n2368  -88888765432345.0        13.7   20.64              0.09077   \n2462            0.07079       11.04   11.68              0.06754   \n2544            0.06307       12.34  8955.0                107.0   \n3206             0.2867       24.25   233.0               0.2248   \n\n                  iuytr fractal_dimension_worst    perimeter_worst  \\\n1                 211.0                 0.06912              98.37   \n2     -88888765432345.0                 0.07804  -88888765432345.0   \n4                    ?                  0.07036                 ?    \n5                0.1671                 0.06825              83.61   \n7                0.1667                 0.08523                 ?    \n...                 ...                     ...                ...   \n2275             0.1464       999765432456788.0              88.83   \n2368             0.1732                  0.0696              95.78   \n2462             0.2003                 0.07287              79.73   \n2544             0.1689                 0.07592              87.22   \n3206             0.2655                 0.08009              180.9   \n\n             texture_se fractal_dimension_mean      texture_worst  \\\n1                0.9195      999765432456788.0  999765432456788.0   \n2     -88888765432345.0                0.06833              20.07   \n4                0.9591                0.05907              22.47   \n5                0.6724                0.05731              19.74   \n7                    ?                 0.06113                 ?    \n...                 ...                    ...                ...   \n2275               1.19      999765432456788.0              27.87   \n2368  -88888765432345.0                0.06088              23.53   \n2462             1031.0                0.06246              20.83   \n2544             0.4957                0.05808              19.27   \n3206               3.12                0.06877              23.99   \n\n       smoothness_worst     concavity_mean        id      symmetry_mean  \\\n1     999765432456788.0  999765432456788.0   8911834              211.0   \n2               0.09861           0.003681     89346  -88888765432345.0   \n4                0.1249                 ?   85759902                 ?    \n5               0.09958           0.008306    899187             0.1671   \n7                0.1548            0.03512    865137             0.1667   \n...                 ...                ...       ...                ...   \n2275             0.1208            0.02916    912193             0.1464   \n2368             0.1199            0.04548    912558             0.1732   \n2462             0.1095            0.03546    901836             0.2003   \n2544             0.1292            0.02958  91813702             0.1689   \n3206             0.1696             0.4268    865423             0.2655   \n\n     symmetry_worst  diagnosis          erty fractal_dimension_se  \\\n1            0.2955          0  908765434567             0.001593   \n2            0.2991          0  908765434567             0.002153   \n4            0.3306          0  908765434567             0.002386   \n5            0.2731          0  908765434567             0.002668   \n7            0.3016          0  908765434567             0.002206   \n...             ...        ...           ...                  ...   \n2275         0.2406          0  908765434567             0.001858   \n2368         0.2518          0  908765434567    -88888765432345.0   \n2462         0.3202          0  908765434567             0.001941   \n2544          311.0          0  908765434567             0.001366   \n3206         0.3222          1  908765434567             0.009875   \n\n         perimeter_mean compactness_worst symmetry_se     compactness_se  \\\n1     999765432456788.0            0.1724     0.01528            0.01541   \n2                 56.36           0.05232     0.02701           0.004883   \n4                 73.34                ?      0.03218           0.008722   \n5                  73.7           0.06476     0.02216           0.006991   \n7                 73.34             239.0     0.01344                 ?    \n...                 ...               ...         ...                ...   \n2275              78.29            0.2279     0.01454  999765432456788.0   \n2368              87.76            0.1346     0.01285  -88888765432345.0   \n2462              70.67            0.1982      0.0188            0.01903   \n2544              78.94            0.2074     0.01129           0.009169   \n3206              166.2            0.4244     0.04547            0.09806   \n\n              radius_se  \n1     999765432456788.0  \n2                0.1746  \n4                0.3249  \n5                0.3534  \n7                    ?   \n...                 ...  \n2275             0.2194  \n2368             0.2431  \n2462             0.1642  \n2544             0.1166  \n3206             1509.0  \n\n[543 rows x 35 columns]",
      "text/html": "<div>\n<style scoped>\n    .dataframe tbody tr th:only-of-type {\n        vertical-align: middle;\n    }\n\n    .dataframe tbody tr th {\n        vertical-align: top;\n    }\n\n    .dataframe thead th {\n        text-align: right;\n    }\n</style>\n<table border=\"1\" class=\"dataframe\">\n  <thead>\n    <tr style=\"text-align: right;\">\n      <th></th>\n      <th>index</th>\n      <th>perimeter_se</th>\n      <th>radius_worst</th>\n      <th>concave points_mean</th>\n      <th>smoothness_mean</th>\n      <th>area_mean</th>\n      <th>concavity_se</th>\n      <th>texture_mean</th>\n      <th>concavity_worst</th>\n      <th>smoothness_se</th>\n      <th>concave points_se</th>\n      <th>area_worst</th>\n      <th>compactness_mean</th>\n      <th>radius_mean</th>\n      <th>area_se</th>\n      <th>concave points_worst</th>\n      <th>iuytr</th>\n      <th>fractal_dimension_worst</th>\n      <th>perimeter_worst</th>\n      <th>texture_se</th>\n      <th>fractal_dimension_mean</th>\n      <th>texture_worst</th>\n      <th>smoothness_worst</th>\n      <th>concavity_mean</th>\n      <th>id</th>\n      <th>symmetry_mean</th>\n      <th>symmetry_worst</th>\n      <th>diagnosis</th>\n      <th>erty</th>\n      <th>fractal_dimension_se</th>\n      <th>perimeter_mean</th>\n      <th>compactness_worst</th>\n      <th>symmetry_se</th>\n      <th>compactness_se</th>\n      <th>radius_se</th>\n    </tr>\n  </thead>\n  <tbody>\n    <tr>\n      <th>1</th>\n      <td>279</td>\n      <td>1.83</td>\n      <td>999765432456788.0</td>\n      <td>0.03711</td>\n      <td>0.09516</td>\n      <td>587.4</td>\n      <td>0.01457</td>\n      <td>15.18</td>\n      <td>0.1456</td>\n      <td>0.004235</td>\n      <td>999765432456788.0</td>\n      <td>999765432456788.0</td>\n      <td>0.07688</td>\n      <td>13.85</td>\n      <td>19.41</td>\n      <td>0.09993</td>\n      <td>211.0</td>\n      <td>0.06912</td>\n      <td>98.37</td>\n      <td>0.9195</td>\n      <td>999765432456788.0</td>\n      <td>999765432456788.0</td>\n      <td>999765432456788.0</td>\n      <td>999765432456788.0</td>\n      <td>8911834</td>\n      <td>211.0</td>\n      <td>0.2955</td>\n      <td>0</td>\n      <td>908765434567</td>\n      <td>0.001593</td>\n      <td>999765432456788.0</td>\n      <td>0.1724</td>\n      <td>0.01528</td>\n      <td>0.01541</td>\n      <td>999765432456788.0</td>\n    </tr>\n    <tr>\n      <th>2</th>\n      <td>307</td>\n      <td>1144.0</td>\n      <td>9699.0</td>\n      <td>0.003472</td>\n      <td>-88888765432345.0</td>\n      <td>246.3</td>\n      <td>0.003681</td>\n      <td>14.4</td>\n      <td>0.01472</td>\n      <td>0.007389</td>\n      <td>0.003472</td>\n      <td>285.5</td>\n      <td>0.03116</td>\n      <td>9.0</td>\n      <td>9789.0</td>\n      <td>0.01389</td>\n      <td>-88888765432345.0</td>\n      <td>0.07804</td>\n      <td>-88888765432345.0</td>\n      <td>-88888765432345.0</td>\n      <td>0.06833</td>\n      <td>20.07</td>\n      <td>0.09861</td>\n      <td>0.003681</td>\n      <td>89346</td>\n      <td>-88888765432345.0</td>\n      <td>0.2991</td>\n      <td>0</td>\n      <td>908765434567</td>\n      <td>0.002153</td>\n      <td>56.36</td>\n      <td>0.05232</td>\n      <td>0.02701</td>\n      <td>0.004883</td>\n      <td>0.1746</td>\n    </tr>\n    <tr>\n      <th>4</th>\n      <td>576</td>\n      <td>2183.0</td>\n      <td>?</td>\n      <td>0.02278</td>\n      <td>0.09524</td>\n      <td>409.0</td>\n      <td>0.01349</td>\n      <td>18.75</td>\n      <td>?</td>\n      <td>0.008328</td>\n      <td>0.00867</td>\n      <td>506.2</td>\n      <td>0.05473</td>\n      <td>11.52</td>\n      <td>23.47</td>\n      <td>?</td>\n      <td>?</td>\n      <td>0.07036</td>\n      <td>?</td>\n      <td>0.9591</td>\n      <td>0.05907</td>\n      <td>22.47</td>\n      <td>0.1249</td>\n      <td>?</td>\n      <td>85759902</td>\n      <td>?</td>\n      <td>0.3306</td>\n      <td>0</td>\n      <td>908765434567</td>\n      <td>0.002386</td>\n      <td>73.34</td>\n      <td>?</td>\n      <td>0.03218</td>\n      <td>0.008722</td>\n      <td>0.3249</td>\n    </tr>\n    <tr>\n      <th>5</th>\n      <td>350</td>\n      <td>2225.0</td>\n      <td>13.28</td>\n      <td>0.01162</td>\n      <td>0.07561</td>\n      <td>421.0</td>\n      <td>0.005949</td>\n      <td>17.07</td>\n      <td>0.03046</td>\n      <td>0.006583</td>\n      <td>0.006296</td>\n      <td>542.5</td>\n      <td>0.0363</td>\n      <td>11.66</td>\n      <td>26.03</td>\n      <td>0.04262</td>\n      <td>0.1671</td>\n      <td>0.06825</td>\n      <td>83.61</td>\n      <td>0.6724</td>\n      <td>0.05731</td>\n      <td>19.74</td>\n      <td>0.09958</td>\n      <td>0.008306</td>\n      <td>899187</td>\n      <td>0.1671</td>\n      <td>0.2731</td>\n      <td>0</td>\n      <td>908765434567</td>\n      <td>0.002668</td>\n      <td>73.7</td>\n      <td>0.06476</td>\n      <td>0.02216</td>\n      <td>0.006991</td>\n      <td>0.3534</td>\n    </tr>\n    <tr>\n      <th>7</th>\n      <td>120</td>\n      <td>1103.0</td>\n      <td>12.82</td>\n      <td>0.02623</td>\n      <td>0.09373</td>\n      <td>403.3</td>\n      <td>0.01514</td>\n      <td>10.82</td>\n      <td>0.2102</td>\n      <td>?</td>\n      <td>?</td>\n      <td>510.5</td>\n      <td>0.06685</td>\n      <td>11.41</td>\n      <td>10.5</td>\n      <td>0.08958</td>\n      <td>0.1667</td>\n      <td>0.08523</td>\n      <td>?</td>\n      <td>?</td>\n      <td>0.06113</td>\n      <td>?</td>\n      <td>0.1548</td>\n      <td>0.03512</td>\n      <td>865137</td>\n      <td>0.1667</td>\n      <td>0.3016</td>\n      <td>0</td>\n      <td>908765434567</td>\n      <td>0.002206</td>\n      <td>73.34</td>\n      <td>239.0</td>\n      <td>0.01344</td>\n      <td>?</td>\n      <td>?</td>\n    </tr>\n    <tr>\n      <th>...</th>\n      <td>...</td>\n      <td>...</td>\n      <td>...</td>\n      <td>...</td>\n      <td>...</td>\n      <td>...</td>\n      <td>...</td>\n      <td>...</td>\n      <td>...</td>\n      <td>...</td>\n      <td>...</td>\n      <td>...</td>\n      <td>...</td>\n      <td>...</td>\n      <td>...</td>\n      <td>...</td>\n      <td>...</td>\n      <td>...</td>\n      <td>...</td>\n      <td>...</td>\n      <td>...</td>\n      <td>...</td>\n      <td>...</td>\n      <td>...</td>\n      <td>...</td>\n      <td>...</td>\n      <td>...</td>\n      <td>...</td>\n      <td>...</td>\n      <td>...</td>\n      <td>...</td>\n      <td>...</td>\n      <td>...</td>\n      <td>...</td>\n      <td>...</td>\n    </tr>\n    <tr>\n      <th>2275</th>\n      <td>480</td>\n      <td>1678.0</td>\n      <td>13.34</td>\n      <td>0.01527</td>\n      <td>0.09087</td>\n      <td>455.3</td>\n      <td>0.01397</td>\n      <td>18.03</td>\n      <td>162.0</td>\n      <td>0.004911</td>\n      <td>0.005161</td>\n      <td>547.4</td>\n      <td>0.07838</td>\n      <td>12.16</td>\n      <td>16.26</td>\n      <td>0.0569</td>\n      <td>0.1464</td>\n      <td>999765432456788.0</td>\n      <td>88.83</td>\n      <td>1.19</td>\n      <td>999765432456788.0</td>\n      <td>27.87</td>\n      <td>0.1208</td>\n      <td>0.02916</td>\n      <td>912193</td>\n      <td>0.1464</td>\n      <td>0.2406</td>\n      <td>0</td>\n      <td>908765434567</td>\n      <td>0.001858</td>\n      <td>78.29</td>\n      <td>0.2279</td>\n      <td>0.01454</td>\n      <td>999765432456788.0</td>\n      <td>0.2194</td>\n    </tr>\n    <tr>\n      <th>2368</th>\n      <td>483</td>\n      <td>1564.0</td>\n      <td>14.96</td>\n      <td>0.0316</td>\n      <td>0.0995</td>\n      <td>571.1</td>\n      <td>0.01698</td>\n      <td>-88888765432345.0</td>\n      <td>0.1742</td>\n      <td>0.003245</td>\n      <td>0.009233</td>\n      <td>686.5</td>\n      <td>-88888765432345.0</td>\n      <td>13.7</td>\n      <td>20.64</td>\n      <td>0.09077</td>\n      <td>0.1732</td>\n      <td>0.0696</td>\n      <td>95.78</td>\n      <td>-88888765432345.0</td>\n      <td>0.06088</td>\n      <td>23.53</td>\n      <td>0.1199</td>\n      <td>0.04548</td>\n      <td>912558</td>\n      <td>0.1732</td>\n      <td>0.2518</td>\n      <td>0</td>\n      <td>908765434567</td>\n      <td>-88888765432345.0</td>\n      <td>87.76</td>\n      <td>0.1346</td>\n      <td>0.01285</td>\n      <td>-88888765432345.0</td>\n      <td>0.2431</td>\n    </tr>\n    <tr>\n      <th>2462</th>\n      <td>381</td>\n      <td>1281.0</td>\n      <td>12.09</td>\n      <td>0.02074</td>\n      <td>0.07987</td>\n      <td>372.7</td>\n      <td>0.01723</td>\n      <td>14.93</td>\n      <td>0.1553</td>\n      <td>0.005296</td>\n      <td>0.00696</td>\n      <td>447.1</td>\n      <td>0.07079</td>\n      <td>11.04</td>\n      <td>11.68</td>\n      <td>0.06754</td>\n      <td>0.2003</td>\n      <td>0.07287</td>\n      <td>79.73</td>\n      <td>1031.0</td>\n      <td>0.06246</td>\n      <td>20.83</td>\n      <td>0.1095</td>\n      <td>0.03546</td>\n      <td>901836</td>\n      <td>0.2003</td>\n      <td>0.3202</td>\n      <td>0</td>\n      <td>908765434567</td>\n      <td>0.001941</td>\n      <td>70.67</td>\n      <td>0.1982</td>\n      <td>0.0188</td>\n      <td>0.01903</td>\n      <td>0.1642</td>\n    </tr>\n    <tr>\n      <th>2544</th>\n      <td>527</td>\n      <td>0.7714</td>\n      <td>13.61</td>\n      <td>0.02647</td>\n      <td>0.09003</td>\n      <td>468.5</td>\n      <td>0.008732</td>\n      <td>12.27</td>\n      <td>0.1791</td>\n      <td>0.003681</td>\n      <td>0.00574</td>\n      <td>564.9</td>\n      <td>0.06307</td>\n      <td>12.34</td>\n      <td>8955.0</td>\n      <td>107.0</td>\n      <td>0.1689</td>\n      <td>0.07592</td>\n      <td>87.22</td>\n      <td>0.4957</td>\n      <td>0.05808</td>\n      <td>19.27</td>\n      <td>0.1292</td>\n      <td>0.02958</td>\n      <td>91813702</td>\n      <td>0.1689</td>\n      <td>311.0</td>\n      <td>0</td>\n      <td>908765434567</td>\n      <td>0.001366</td>\n      <td>78.94</td>\n      <td>0.2074</td>\n      <td>0.01129</td>\n      <td>0.009169</td>\n      <td>0.1166</td>\n    </tr>\n    <tr>\n      <th>3206</th>\n      <td>122</td>\n      <td>9807.0</td>\n      <td>26.02</td>\n      <td>0.2012</td>\n      <td>0.1447</td>\n      <td>1761.0</td>\n      <td>0.1278</td>\n      <td>20.2</td>\n      <td>0.5803</td>\n      <td>0.02333</td>\n      <td>0.01822</td>\n      <td>2073.0</td>\n      <td>0.2867</td>\n      <td>24.25</td>\n      <td>233.0</td>\n      <td>0.2248</td>\n      <td>0.2655</td>\n      <td>0.08009</td>\n      <td>180.9</td>\n      <td>3.12</td>\n      <td>0.06877</td>\n      <td>23.99</td>\n      <td>0.1696</td>\n      <td>0.4268</td>\n      <td>865423</td>\n      <td>0.2655</td>\n      <td>0.3222</td>\n      <td>1</td>\n      <td>908765434567</td>\n      <td>0.009875</td>\n      <td>166.2</td>\n      <td>0.4244</td>\n      <td>0.04547</td>\n      <td>0.09806</td>\n      <td>1509.0</td>\n    </tr>\n  </tbody>\n</table>\n<p>543 rows × 35 columns</p>\n</div>"
     },
     "execution_count": 37,
     "metadata": {},
     "output_type": "execute_result"
    }
   ],
   "source": [
    "df"
   ],
   "metadata": {
    "collapsed": false,
    "pycharm": {
     "name": "#%%\n"
    }
   }
  },
  {
   "cell_type": "markdown",
   "source": [],
   "metadata": {
    "collapsed": false,
    "pycharm": {
     "name": "#%% md\n"
    }
   }
  },
  {
   "cell_type": "code",
   "execution_count": 40,
   "outputs": [
    {
     "data": {
      "text/plain": "0"
     },
     "execution_count": 40,
     "metadata": {},
     "output_type": "execute_result"
    }
   ],
   "source": [
    "df.duplicated().sum()"
   ],
   "metadata": {
    "collapsed": false,
    "pycharm": {
     "name": "#%%\n"
    }
   }
  },
  {
   "cell_type": "code",
   "execution_count": null,
   "outputs": [],
   "source": [],
   "metadata": {
    "collapsed": false,
    "pycharm": {
     "name": "#%%\n"
    }
   }
  }
 ],
 "metadata": {
  "kernelspec": {
   "display_name": "Python 3.9.7 ('venv': venv)",
   "language": "python",
   "name": "python3"
  },
  "language_info": {
   "codemirror_mode": {
    "name": "ipython",
    "version": 3
   },
   "file_extension": ".py",
   "mimetype": "text/x-python",
   "name": "python",
   "nbconvert_exporter": "python",
   "pygments_lexer": "ipython3",
   "version": "3.9.7"
  },
  "orig_nbformat": 4,
  "vscode": {
   "interpreter": {
    "hash": "bdd507b79a41a96d8cd42222f7b232718c325c809eb9bc7d185aae1f2d631536"
   }
  }
 },
 "nbformat": 4,
 "nbformat_minor": 2
}