{
 "cells": [
  {
   "cell_type": "code",
   "execution_count": 6,
   "outputs": [],
   "source": [
    "import pandas as pd\n",
    "data=pd.read_csv('../data/raw/BreastCancerDS.csv',index_col=0)\n"
   ],
   "metadata": {
    "collapsed": false,
    "pycharm": {
     "name": "#%%\n"
    }
   }
  },
  {
   "cell_type": "code",
   "execution_count": 9,
   "outputs": [
    {
     "name": "stdout",
     "output_type": "stream",
     "text": [
      "<class 'pandas.core.frame.DataFrame'>\n",
      "Int64Index: 19710 entries, 0 to 19709\n",
      "Data columns (total 35 columns):\n",
      " #   Column                   Non-Null Count  Dtype \n",
      "---  ------                   --------------  ----- \n",
      " 0   index                    19710 non-null  int64 \n",
      " 1   perimeter_se             19015 non-null  object\n",
      " 2   radius_worst             19085 non-null  object\n",
      " 3   concave points_mean      18980 non-null  object\n",
      " 4   smoothness_mean          18825 non-null  object\n",
      " 5   area_mean                18830 non-null  object\n",
      " 6   concavity_se             18905 non-null  object\n",
      " 7   texture_mean             18955 non-null  object\n",
      " 8   concavity_worst          19055 non-null  object\n",
      " 9   smoothness_se            19110 non-null  object\n",
      " 10  concave points_se        19000 non-null  object\n",
      " 11  area_worst               19060 non-null  object\n",
      " 12  compactness_mean         18935 non-null  object\n",
      " 13  radius_mean              19000 non-null  object\n",
      " 14  area_se                  18895 non-null  object\n",
      " 15  concave points_worst     19125 non-null  object\n",
      " 16  iuytr                    18885 non-null  object\n",
      " 17  fractal_dimension_worst  19095 non-null  object\n",
      " 18  perimeter_worst          19055 non-null  object\n",
      " 19  texture_se               19045 non-null  object\n",
      " 20  fractal_dimension_mean   19045 non-null  object\n",
      " 21  texture_worst            19060 non-null  object\n",
      " 22  smoothness_worst         19005 non-null  object\n",
      " 23  concavity_mean           18850 non-null  object\n",
      " 24  id                       19100 non-null  object\n",
      " 25  symmetry_mean            18885 non-null  object\n",
      " 26  symmetry_worst           19085 non-null  object\n",
      " 27  diagnosis                18800 non-null  object\n",
      " 28  erty                     19710 non-null  int64 \n",
      " 29  fractal_dimension_se     19035 non-null  object\n",
      " 30  perimeter_mean           18950 non-null  object\n",
      " 31  compactness_worst        19100 non-null  object\n",
      " 32  symmetry_se              19075 non-null  object\n",
      " 33  compactness_se           19005 non-null  object\n",
      " 34  radius_se                19060 non-null  object\n",
      "dtypes: int64(2), object(33)\n",
      "memory usage: 5.4+ MB\n"
     ]
    }
   ],
   "source": [
    "data.info()"
   ],
   "metadata": {
    "collapsed": false,
    "pycharm": {
     "name": "#%%\n"
    }
   }
  },
  {
   "cell_type": "code",
   "execution_count": 7,
   "outputs": [
    {
     "data": {
      "text/plain": "index                        0\nperimeter_se               695\nradius_worst               625\nconcave points_mean        730\nsmoothness_mean            885\narea_mean                  880\nconcavity_se               805\ntexture_mean               755\nconcavity_worst            655\nsmoothness_se              600\nconcave points_se          710\narea_worst                 650\ncompactness_mean           775\nradius_mean                710\narea_se                    815\nconcave points_worst       585\niuytr                      825\nfractal_dimension_worst    615\nperimeter_worst            655\ntexture_se                 665\nfractal_dimension_mean     665\ntexture_worst              650\nsmoothness_worst           705\nconcavity_mean             860\nid                         610\nsymmetry_mean              825\nsymmetry_worst             625\ndiagnosis                  910\nerty                         0\nfractal_dimension_se       675\nperimeter_mean             760\ncompactness_worst          610\nsymmetry_se                635\ncompactness_se             705\nradius_se                  650\ndtype: int64"
     },
     "execution_count": 7,
     "metadata": {},
     "output_type": "execute_result"
    }
   ],
   "source": [
    "data.isnull().sum()"
   ],
   "metadata": {
    "collapsed": false,
    "pycharm": {
     "name": "#%%\n"
    }
   }
  },
  {
   "cell_type": "code",
   "execution_count": 13,
   "outputs": [
    {
     "data": {
      "text/plain": "index                      0.000000\nperimeter_se               3.526129\nradius_worst               3.170979\nconcave points_mean        3.703704\nsmoothness_mean            4.490107\narea_mean                  4.464739\nconcavity_se               4.084221\ntexture_mean               3.830543\nconcavity_worst            3.323186\nsmoothness_se              3.044140\nconcave points_se          3.602232\narea_worst                 3.297818\ncompactness_mean           3.932014\nradius_mean                3.602232\narea_se                    4.134957\nconcave points_worst       2.968037\niuytr                      4.185693\nfractal_dimension_worst    3.120244\nperimeter_worst            3.323186\ntexture_se                 3.373922\nfractal_dimension_mean     3.373922\ntexture_worst              3.297818\nsmoothness_worst           3.576865\nconcavity_mean             4.363267\nid                         3.094876\nsymmetry_mean              4.185693\nsymmetry_worst             3.170979\ndiagnosis                  4.616946\nerty                       0.000000\nfractal_dimension_se       3.424658\nperimeter_mean             3.855911\ncompactness_worst          3.094876\nsymmetry_se                3.221715\ncompactness_se             3.576865\nradius_se                  3.297818\ndtype: float64"
     },
     "execution_count": 13,
     "metadata": {},
     "output_type": "execute_result"
    }
   ],
   "source": [
    "missing = data.isnull().sum()\n",
    "missing*100/len(data)\n"
   ],
   "metadata": {
    "collapsed": false,
    "pycharm": {
     "name": "#%%\n"
    }
   }
  },
  {
   "cell_type": "code",
   "execution_count": 13,
   "outputs": [
    {
     "data": {
      "text/plain": "15206"
     },
     "execution_count": 13,
     "metadata": {},
     "output_type": "execute_result"
    }
   ],
   "source": [
    "data_raw[\"id\"].duplicated().sum()\n"
   ],
   "metadata": {
    "collapsed": false,
    "pycharm": {
     "name": "#%%\n"
    }
   }
  },
  {
   "cell_type": "code",
   "execution_count": 14,
   "outputs": [
    {
     "data": {
      "text/plain": "15533"
     },
     "execution_count": 14,
     "metadata": {},
     "output_type": "execute_result"
    }
   ],
   "source": [
    "data_raw[\"index\"].duplicated().sum()\n"
   ],
   "metadata": {
    "collapsed": false,
    "pycharm": {
     "name": "#%%\n"
    }
   }
  },
  {
   "cell_type": "code",
   "execution_count": 1,
   "outputs": [],
   "source": [
    "# FILAS SIN NA"
   ],
   "metadata": {
    "collapsed": false,
    "pycharm": {
     "name": "#%%\n"
    }
   }
  },
  {
   "cell_type": "code",
   "execution_count": null,
   "outputs": [],
   "source": [],
   "metadata": {
    "collapsed": false,
    "pycharm": {
     "name": "#%%\n"
    }
   }
  },
  {
   "cell_type": "markdown",
   "source": [
    "## machine learning"
   ],
   "metadata": {
    "collapsed": false,
    "pycharm": {
     "name": "#%% md\n"
    }
   }
  },
  {
   "cell_type": "code",
   "execution_count": 1,
   "outputs": [],
   "source": [
    "import pandas as pd\n",
    "data=pd.read_parquet('../data/interim/BreastCancer.parquet',engine='pyarrow')"
   ],
   "metadata": {
    "collapsed": false,
    "pycharm": {
     "name": "#%%\n"
    }
   }
  },
  {
   "cell_type": "code",
   "execution_count": 4,
   "outputs": [
    {
     "name": "stdout",
     "output_type": "stream",
     "text": [
      "<class 'pandas.core.frame.DataFrame'>\n",
      "RangeIndex: 16180 entries, 0 to 16179\n",
      "Data columns (total 33 columns):\n",
      " #   Column                   Non-Null Count  Dtype  \n",
      "---  ------                   --------------  -----  \n",
      " 0   index                    16180 non-null  float64\n",
      " 1   perimeter_se             13640 non-null  float64\n",
      " 2   radius_worst             13630 non-null  float64\n",
      " 3   concave points_mean      13600 non-null  float64\n",
      " 4   smoothness_mean          13450 non-null  float64\n",
      " 5   area_mean                13425 non-null  float64\n",
      " 6   concavity_se             13475 non-null  float64\n",
      " 7   texture_mean             13565 non-null  float64\n",
      " 8   concavity_worst          13540 non-null  float64\n",
      " 9   smoothness_se            13610 non-null  float64\n",
      " 10  concave points_se        13600 non-null  float64\n",
      " 11  area_worst               13530 non-null  float64\n",
      " 12  compactness_mean         13480 non-null  float64\n",
      " 13  radius_mean              13495 non-null  float64\n",
      " 14  area_se                  13475 non-null  float64\n",
      " 15  concave points_worst     13620 non-null  float64\n",
      " 16  fractal_dimension_worst  13615 non-null  float64\n",
      " 17  perimeter_worst          13595 non-null  float64\n",
      " 18  texture_se               13635 non-null  float64\n",
      " 19  fractal_dimension_mean   13550 non-null  float64\n",
      " 20  texture_worst            13615 non-null  float64\n",
      " 21  smoothness_worst         13535 non-null  float64\n",
      " 22  concavity_mean           13415 non-null  float64\n",
      " 23  id                       14720 non-null  float64\n",
      " 24  symmetry_mean            13485 non-null  float64\n",
      " 25  symmetry_worst           13600 non-null  float64\n",
      " 26  diagnosis                16180 non-null  int64  \n",
      " 27  fractal_dimension_se     13555 non-null  float64\n",
      " 28  perimeter_mean           13450 non-null  float64\n",
      " 29  compactness_worst        13725 non-null  float64\n",
      " 30  symmetry_se              13580 non-null  float64\n",
      " 31  compactness_se           13570 non-null  float64\n",
      " 32  radius_se                13595 non-null  float64\n",
      "dtypes: float64(32), int64(1)\n",
      "memory usage: 4.1 MB\n"
     ]
    }
   ],
   "source": [
    "data.info(\n",
    ")"
   ],
   "metadata": {
    "collapsed": false,
    "pycharm": {
     "name": "#%%\n"
    }
   }
  },
  {
   "cell_type": "code",
   "execution_count": 5,
   "outputs": [
    {
     "data": {
      "text/plain": "       index  perimeter_se  radius_worst  concave points_mean  \\\n0      279.0          1.83           NaN             0.037110   \n1      307.0       1144.00       9699.00             0.003472   \n2      576.0       2183.00           NaN             0.022780   \n3      350.0       2225.00         13.28             0.011620   \n4      120.0       1103.00         12.82             0.026230   \n...      ...           ...           ...                  ...   \n16175  602.0       2844.00           NaN             0.056130   \n16176  350.0       2225.00           NaN             0.011620   \n16177  442.0       2235.00         15.27             0.009937   \n16178  501.0       2974.00         16.01             0.067590   \n16179  233.0       3767.00         24.47             0.083400   \n\n       smoothness_mean  area_mean  concavity_se  texture_mean  \\\n0              0.09516      587.4      0.014570         15.18   \n1                  NaN      246.3      0.003681         14.40   \n2              0.09524      409.0      0.013490         18.75   \n3              0.07561      421.0      0.005949         17.07   \n4              0.09373      403.3      0.015140         10.82   \n...                ...        ...           ...           ...   \n16175          0.10080      809.8      0.022190         21.54   \n16176          0.07561      421.0      0.005949         17.07   \n16177              NaN      585.9      0.007741         15.79   \n16178          0.11620      595.9      0.034760         24.49   \n16179          0.09159     1319.0      0.034570         27.81   \n\n       concavity_worst  smoothness_se  ...          id  symmetry_mean  \\\n0              0.14560       0.004235  ...   8911834.0       211.0000   \n1              0.01472       0.007389  ...     89346.0            NaN   \n2                  NaN       0.008328  ...  85759902.0            NaN   \n3              0.03046       0.006583  ...    899187.0         0.1671   \n4              0.21020            NaN  ...    865137.0         0.1667   \n...                ...            ...  ...         ...            ...   \n16175          0.29920       0.004877  ...  86730502.0       216.0000   \n16176          0.03046            NaN  ...    899187.0         0.1671   \n16177          0.03517            NaN  ...  90944601.0         0.1405   \n16178          0.33810       0.009680  ...     91504.0         0.2275   \n16179          0.41460       0.005020  ...  88206102.0            NaN   \n\n       symmetry_worst  diagnosis  fractal_dimension_se  perimeter_mean  \\\n0              0.2955          0              0.001593             NaN   \n1              0.2991          0              0.002153           56.36   \n2              0.3306          0              0.002386           73.34   \n3              0.2731          0              0.002668           73.70   \n4              0.3016          0              0.002206           73.34   \n...               ...        ...                   ...             ...   \n16175             NaN          1                   NaN          106.20   \n16176          0.2731          0                   NaN           73.70   \n16177          0.1859          0              0.002564             NaN   \n16178          0.3651          1              0.006995           92.33   \n16179          0.2437          1              0.002887          134.40   \n\n       compactness_worst  symmetry_se  compactness_se  radius_se  \n0                0.17240      0.01528        0.015410        NaN  \n1                0.05232      0.02701        0.004883     0.1746  \n2                    NaN      0.03218        0.008722     0.3249  \n3                0.06476      0.02216        0.006991     0.3534  \n4              239.00000      0.01344             NaN        NaN  \n...                  ...          ...             ...        ...  \n16175            0.30550      0.01535        0.019520     0.4332  \n16176            0.06476      0.02216        0.006991     0.3534  \n16177            0.10710          NaN        0.011560     0.3563  \n16178            0.39660      0.02434        0.038560     0.4751  \n16179                NaN      0.01298        0.020620   524.0000  \n\n[16180 rows x 33 columns]",
      "text/html": "<div>\n<style scoped>\n    .dataframe tbody tr th:only-of-type {\n        vertical-align: middle;\n    }\n\n    .dataframe tbody tr th {\n        vertical-align: top;\n    }\n\n    .dataframe thead th {\n        text-align: right;\n    }\n</style>\n<table border=\"1\" class=\"dataframe\">\n  <thead>\n    <tr style=\"text-align: right;\">\n      <th></th>\n      <th>index</th>\n      <th>perimeter_se</th>\n      <th>radius_worst</th>\n      <th>concave points_mean</th>\n      <th>smoothness_mean</th>\n      <th>area_mean</th>\n      <th>concavity_se</th>\n      <th>texture_mean</th>\n      <th>concavity_worst</th>\n      <th>smoothness_se</th>\n      <th>...</th>\n      <th>id</th>\n      <th>symmetry_mean</th>\n      <th>symmetry_worst</th>\n      <th>diagnosis</th>\n      <th>fractal_dimension_se</th>\n      <th>perimeter_mean</th>\n      <th>compactness_worst</th>\n      <th>symmetry_se</th>\n      <th>compactness_se</th>\n      <th>radius_se</th>\n    </tr>\n  </thead>\n  <tbody>\n    <tr>\n      <th>0</th>\n      <td>279.0</td>\n      <td>1.83</td>\n      <td>NaN</td>\n      <td>0.037110</td>\n      <td>0.09516</td>\n      <td>587.4</td>\n      <td>0.014570</td>\n      <td>15.18</td>\n      <td>0.14560</td>\n      <td>0.004235</td>\n      <td>...</td>\n      <td>8911834.0</td>\n      <td>211.0000</td>\n      <td>0.2955</td>\n      <td>0</td>\n      <td>0.001593</td>\n      <td>NaN</td>\n      <td>0.17240</td>\n      <td>0.01528</td>\n      <td>0.015410</td>\n      <td>NaN</td>\n    </tr>\n    <tr>\n      <th>1</th>\n      <td>307.0</td>\n      <td>1144.00</td>\n      <td>9699.00</td>\n      <td>0.003472</td>\n      <td>NaN</td>\n      <td>246.3</td>\n      <td>0.003681</td>\n      <td>14.40</td>\n      <td>0.01472</td>\n      <td>0.007389</td>\n      <td>...</td>\n      <td>89346.0</td>\n      <td>NaN</td>\n      <td>0.2991</td>\n      <td>0</td>\n      <td>0.002153</td>\n      <td>56.36</td>\n      <td>0.05232</td>\n      <td>0.02701</td>\n      <td>0.004883</td>\n      <td>0.1746</td>\n    </tr>\n    <tr>\n      <th>2</th>\n      <td>576.0</td>\n      <td>2183.00</td>\n      <td>NaN</td>\n      <td>0.022780</td>\n      <td>0.09524</td>\n      <td>409.0</td>\n      <td>0.013490</td>\n      <td>18.75</td>\n      <td>NaN</td>\n      <td>0.008328</td>\n      <td>...</td>\n      <td>85759902.0</td>\n      <td>NaN</td>\n      <td>0.3306</td>\n      <td>0</td>\n      <td>0.002386</td>\n      <td>73.34</td>\n      <td>NaN</td>\n      <td>0.03218</td>\n      <td>0.008722</td>\n      <td>0.3249</td>\n    </tr>\n    <tr>\n      <th>3</th>\n      <td>350.0</td>\n      <td>2225.00</td>\n      <td>13.28</td>\n      <td>0.011620</td>\n      <td>0.07561</td>\n      <td>421.0</td>\n      <td>0.005949</td>\n      <td>17.07</td>\n      <td>0.03046</td>\n      <td>0.006583</td>\n      <td>...</td>\n      <td>899187.0</td>\n      <td>0.1671</td>\n      <td>0.2731</td>\n      <td>0</td>\n      <td>0.002668</td>\n      <td>73.70</td>\n      <td>0.06476</td>\n      <td>0.02216</td>\n      <td>0.006991</td>\n      <td>0.3534</td>\n    </tr>\n    <tr>\n      <th>4</th>\n      <td>120.0</td>\n      <td>1103.00</td>\n      <td>12.82</td>\n      <td>0.026230</td>\n      <td>0.09373</td>\n      <td>403.3</td>\n      <td>0.015140</td>\n      <td>10.82</td>\n      <td>0.21020</td>\n      <td>NaN</td>\n      <td>...</td>\n      <td>865137.0</td>\n      <td>0.1667</td>\n      <td>0.3016</td>\n      <td>0</td>\n      <td>0.002206</td>\n      <td>73.34</td>\n      <td>239.00000</td>\n      <td>0.01344</td>\n      <td>NaN</td>\n      <td>NaN</td>\n    </tr>\n    <tr>\n      <th>...</th>\n      <td>...</td>\n      <td>...</td>\n      <td>...</td>\n      <td>...</td>\n      <td>...</td>\n      <td>...</td>\n      <td>...</td>\n      <td>...</td>\n      <td>...</td>\n      <td>...</td>\n      <td>...</td>\n      <td>...</td>\n      <td>...</td>\n      <td>...</td>\n      <td>...</td>\n      <td>...</td>\n      <td>...</td>\n      <td>...</td>\n      <td>...</td>\n      <td>...</td>\n      <td>...</td>\n    </tr>\n    <tr>\n      <th>16175</th>\n      <td>602.0</td>\n      <td>2844.00</td>\n      <td>NaN</td>\n      <td>0.056130</td>\n      <td>0.10080</td>\n      <td>809.8</td>\n      <td>0.022190</td>\n      <td>21.54</td>\n      <td>0.29920</td>\n      <td>0.004877</td>\n      <td>...</td>\n      <td>86730502.0</td>\n      <td>216.0000</td>\n      <td>NaN</td>\n      <td>1</td>\n      <td>NaN</td>\n      <td>106.20</td>\n      <td>0.30550</td>\n      <td>0.01535</td>\n      <td>0.019520</td>\n      <td>0.4332</td>\n    </tr>\n    <tr>\n      <th>16176</th>\n      <td>350.0</td>\n      <td>2225.00</td>\n      <td>NaN</td>\n      <td>0.011620</td>\n      <td>0.07561</td>\n      <td>421.0</td>\n      <td>0.005949</td>\n      <td>17.07</td>\n      <td>0.03046</td>\n      <td>NaN</td>\n      <td>...</td>\n      <td>899187.0</td>\n      <td>0.1671</td>\n      <td>0.2731</td>\n      <td>0</td>\n      <td>NaN</td>\n      <td>73.70</td>\n      <td>0.06476</td>\n      <td>0.02216</td>\n      <td>0.006991</td>\n      <td>0.3534</td>\n    </tr>\n    <tr>\n      <th>16177</th>\n      <td>442.0</td>\n      <td>2235.00</td>\n      <td>15.27</td>\n      <td>0.009937</td>\n      <td>NaN</td>\n      <td>585.9</td>\n      <td>0.007741</td>\n      <td>15.79</td>\n      <td>0.03517</td>\n      <td>NaN</td>\n      <td>...</td>\n      <td>90944601.0</td>\n      <td>0.1405</td>\n      <td>0.1859</td>\n      <td>0</td>\n      <td>0.002564</td>\n      <td>NaN</td>\n      <td>0.10710</td>\n      <td>NaN</td>\n      <td>0.011560</td>\n      <td>0.3563</td>\n    </tr>\n    <tr>\n      <th>16178</th>\n      <td>501.0</td>\n      <td>2974.00</td>\n      <td>16.01</td>\n      <td>0.067590</td>\n      <td>0.11620</td>\n      <td>595.9</td>\n      <td>0.034760</td>\n      <td>24.49</td>\n      <td>0.33810</td>\n      <td>0.009680</td>\n      <td>...</td>\n      <td>91504.0</td>\n      <td>0.2275</td>\n      <td>0.3651</td>\n      <td>1</td>\n      <td>0.006995</td>\n      <td>92.33</td>\n      <td>0.39660</td>\n      <td>0.02434</td>\n      <td>0.038560</td>\n      <td>0.4751</td>\n    </tr>\n    <tr>\n      <th>16179</th>\n      <td>233.0</td>\n      <td>3767.00</td>\n      <td>24.47</td>\n      <td>0.083400</td>\n      <td>0.09159</td>\n      <td>1319.0</td>\n      <td>0.034570</td>\n      <td>27.81</td>\n      <td>0.41460</td>\n      <td>0.005020</td>\n      <td>...</td>\n      <td>88206102.0</td>\n      <td>NaN</td>\n      <td>0.2437</td>\n      <td>1</td>\n      <td>0.002887</td>\n      <td>134.40</td>\n      <td>NaN</td>\n      <td>0.01298</td>\n      <td>0.020620</td>\n      <td>524.0000</td>\n    </tr>\n  </tbody>\n</table>\n<p>16180 rows × 33 columns</p>\n</div>"
     },
     "execution_count": 5,
     "metadata": {},
     "output_type": "execute_result"
    }
   ],
   "source": [
    "data"
   ],
   "metadata": {
    "collapsed": false,
    "pycharm": {
     "name": "#%%\n"
    }
   }
  },
  {
   "cell_type": "code",
   "execution_count": 9,
   "outputs": [
    {
     "data": {
      "text/plain": "16180"
     },
     "execution_count": 9,
     "metadata": {},
     "output_type": "execute_result"
    }
   ],
   "source": [
    "data['index'].isnull().count()"
   ],
   "metadata": {
    "collapsed": false,
    "pycharm": {
     "name": "#%%\n"
    }
   }
  },
  {
   "cell_type": "code",
   "execution_count": 3,
   "outputs": [
    {
     "ename": "NameError",
     "evalue": "name 'data' is not defined",
     "output_type": "error",
     "traceback": [
      "\u001B[1;31m---------------------------------------------------------------------------\u001B[0m",
      "\u001B[1;31mNameError\u001B[0m                                 Traceback (most recent call last)",
      "\u001B[1;32m~\\AppData\\Local\\Temp\\ipykernel_524\\2588297225.py\u001B[0m in \u001B[0;36m<module>\u001B[1;34m\u001B[0m\n\u001B[1;32m----> 1\u001B[1;33m \u001B[0mmissing\u001B[0m \u001B[1;33m=\u001B[0m \u001B[0mdata\u001B[0m\u001B[1;33m.\u001B[0m\u001B[0misnull\u001B[0m\u001B[1;33m(\u001B[0m\u001B[1;33m)\u001B[0m\u001B[1;33m.\u001B[0m\u001B[0msum\u001B[0m\u001B[1;33m(\u001B[0m\u001B[1;33m)\u001B[0m\u001B[1;33m\u001B[0m\u001B[1;33m\u001B[0m\u001B[0m\n\u001B[0m\u001B[0;32m      2\u001B[0m \u001B[0mmissing\u001B[0m\u001B[1;33m[\u001B[0m\u001B[0mmissing\u001B[0m\u001B[1;33m>\u001B[0m\u001B[1;36m0\u001B[0m\u001B[1;33m]\u001B[0m\u001B[1;33m*\u001B[0m\u001B[1;36m100\u001B[0m\u001B[1;33m/\u001B[0m\u001B[0mlen\u001B[0m\u001B[1;33m(\u001B[0m\u001B[0mdata\u001B[0m\u001B[1;33m)\u001B[0m\u001B[1;33m\u001B[0m\u001B[1;33m\u001B[0m\u001B[0m\n",
      "\u001B[1;31mNameError\u001B[0m: name 'data' is not defined"
     ]
    }
   ],
   "source": [],
   "metadata": {
    "collapsed": false,
    "pycharm": {
     "name": "#%%\n"
    }
   }
  },
  {
   "cell_type": "code",
   "execution_count": null,
   "outputs": [],
   "source": [],
   "metadata": {
    "collapsed": false,
    "pycharm": {
     "name": "#%%\n"
    }
   }
  }
 ],
 "metadata": {
  "kernelspec": {
   "display_name": "Python 3",
   "language": "python",
   "name": "python3"
  },
  "language_info": {
   "codemirror_mode": {
    "name": "ipython",
    "version": 2
   },
   "file_extension": ".py",
   "mimetype": "text/x-python",
   "name": "python",
   "nbconvert_exporter": "python",
   "pygments_lexer": "ipython2",
   "version": "2.7.6"
  }
 },
 "nbformat": 4,
 "nbformat_minor": 0
}