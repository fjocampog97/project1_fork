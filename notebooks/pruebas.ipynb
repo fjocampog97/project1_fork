{
 "cells": [
  {
   "cell_type": "code",
   "execution_count": 1,
   "outputs": [],
   "source": [
    "import pandas as pd\n",
    "data=pd.read_csv('../data/raw/BreastCancerDS.csv',index_col=0)\n"
   ],
   "metadata": {
    "collapsed": false,
    "pycharm": {
     "name": "#%%\n"
    }
   }
  },
  {
   "cell_type": "code",
   "execution_count": 9,
   "outputs": [
    {
     "name": "stdout",
     "output_type": "stream",
     "text": [
      "<class 'pandas.core.frame.DataFrame'>\n",
      "Int64Index: 19710 entries, 0 to 19709\n",
      "Data columns (total 35 columns):\n",
      " #   Column                   Non-Null Count  Dtype \n",
      "---  ------                   --------------  ----- \n",
      " 0   index                    19710 non-null  int64 \n",
      " 1   perimeter_se             19015 non-null  object\n",
      " 2   radius_worst             19085 non-null  object\n",
      " 3   concave points_mean      18980 non-null  object\n",
      " 4   smoothness_mean          18825 non-null  object\n",
      " 5   area_mean                18830 non-null  object\n",
      " 6   concavity_se             18905 non-null  object\n",
      " 7   texture_mean             18955 non-null  object\n",
      " 8   concavity_worst          19055 non-null  object\n",
      " 9   smoothness_se            19110 non-null  object\n",
      " 10  concave points_se        19000 non-null  object\n",
      " 11  area_worst               19060 non-null  object\n",
      " 12  compactness_mean         18935 non-null  object\n",
      " 13  radius_mean              19000 non-null  object\n",
      " 14  area_se                  18895 non-null  object\n",
      " 15  concave points_worst     19125 non-null  object\n",
      " 16  iuytr                    18885 non-null  object\n",
      " 17  fractal_dimension_worst  19095 non-null  object\n",
      " 18  perimeter_worst          19055 non-null  object\n",
      " 19  texture_se               19045 non-null  object\n",
      " 20  fractal_dimension_mean   19045 non-null  object\n",
      " 21  texture_worst            19060 non-null  object\n",
      " 22  smoothness_worst         19005 non-null  object\n",
      " 23  concavity_mean           18850 non-null  object\n",
      " 24  id                       19100 non-null  object\n",
      " 25  symmetry_mean            18885 non-null  object\n",
      " 26  symmetry_worst           19085 non-null  object\n",
      " 27  diagnosis                18800 non-null  object\n",
      " 28  erty                     19710 non-null  int64 \n",
      " 29  fractal_dimension_se     19035 non-null  object\n",
      " 30  perimeter_mean           18950 non-null  object\n",
      " 31  compactness_worst        19100 non-null  object\n",
      " 32  symmetry_se              19075 non-null  object\n",
      " 33  compactness_se           19005 non-null  object\n",
      " 34  radius_se                19060 non-null  object\n",
      "dtypes: int64(2), object(33)\n",
      "memory usage: 5.4+ MB\n"
     ]
    }
   ],
   "source": [
    "data.info()"
   ],
   "metadata": {
    "collapsed": false,
    "pycharm": {
     "name": "#%%\n"
    }
   }
  },
  {
   "cell_type": "code",
   "execution_count": 7,
   "outputs": [
    {
     "data": {
      "text/plain": "index                        0\nperimeter_se               695\nradius_worst               625\nconcave points_mean        730\nsmoothness_mean            885\narea_mean                  880\nconcavity_se               805\ntexture_mean               755\nconcavity_worst            655\nsmoothness_se              600\nconcave points_se          710\narea_worst                 650\ncompactness_mean           775\nradius_mean                710\narea_se                    815\nconcave points_worst       585\niuytr                      825\nfractal_dimension_worst    615\nperimeter_worst            655\ntexture_se                 665\nfractal_dimension_mean     665\ntexture_worst              650\nsmoothness_worst           705\nconcavity_mean             860\nid                         610\nsymmetry_mean              825\nsymmetry_worst             625\ndiagnosis                  910\nerty                         0\nfractal_dimension_se       675\nperimeter_mean             760\ncompactness_worst          610\nsymmetry_se                635\ncompactness_se             705\nradius_se                  650\ndtype: int64"
     },
     "execution_count": 7,
     "metadata": {},
     "output_type": "execute_result"
    }
   ],
   "source": [
    "data.isnull().sum()"
   ],
   "metadata": {
    "collapsed": false,
    "pycharm": {
     "name": "#%%\n"
    }
   }
  },
  {
   "cell_type": "code",
   "execution_count": 13,
   "outputs": [
    {
     "data": {
      "text/plain": "index                      0.000000\nperimeter_se               3.526129\nradius_worst               3.170979\nconcave points_mean        3.703704\nsmoothness_mean            4.490107\narea_mean                  4.464739\nconcavity_se               4.084221\ntexture_mean               3.830543\nconcavity_worst            3.323186\nsmoothness_se              3.044140\nconcave points_se          3.602232\narea_worst                 3.297818\ncompactness_mean           3.932014\nradius_mean                3.602232\narea_se                    4.134957\nconcave points_worst       2.968037\niuytr                      4.185693\nfractal_dimension_worst    3.120244\nperimeter_worst            3.323186\ntexture_se                 3.373922\nfractal_dimension_mean     3.373922\ntexture_worst              3.297818\nsmoothness_worst           3.576865\nconcavity_mean             4.363267\nid                         3.094876\nsymmetry_mean              4.185693\nsymmetry_worst             3.170979\ndiagnosis                  4.616946\nerty                       0.000000\nfractal_dimension_se       3.424658\nperimeter_mean             3.855911\ncompactness_worst          3.094876\nsymmetry_se                3.221715\ncompactness_se             3.576865\nradius_se                  3.297818\ndtype: float64"
     },
     "execution_count": 13,
     "metadata": {},
     "output_type": "execute_result"
    }
   ],
   "source": [
    "missing = data.isnull().sum()\n",
    "missing*100/len(data)\n"
   ],
   "metadata": {
    "collapsed": false,
    "pycharm": {
     "name": "#%%\n"
    }
   }
  },
  {
   "cell_type": "code",
   "execution_count": 13,
   "outputs": [
    {
     "data": {
      "text/plain": "15206"
     },
     "execution_count": 13,
     "metadata": {},
     "output_type": "execute_result"
    }
   ],
   "source": [
    "data_raw[\"id\"].duplicated().sum()\n"
   ],
   "metadata": {
    "collapsed": false,
    "pycharm": {
     "name": "#%%\n"
    }
   }
  },
  {
   "cell_type": "code",
   "execution_count": 14,
   "outputs": [
    {
     "data": {
      "text/plain": "15533"
     },
     "execution_count": 14,
     "metadata": {},
     "output_type": "execute_result"
    }
   ],
   "source": [
    "data_raw[\"index\"].duplicated().sum()\n"
   ],
   "metadata": {
    "collapsed": false,
    "pycharm": {
     "name": "#%%\n"
    }
   }
  },
  {
   "cell_type": "code",
   "execution_count": 1,
   "outputs": [],
   "source": [
    "# FILAS SIN NA"
   ],
   "metadata": {
    "collapsed": false,
    "pycharm": {
     "name": "#%%\n"
    }
   }
  },
  {
   "cell_type": "code",
   "execution_count": null,
   "outputs": [],
   "source": [],
   "metadata": {
    "collapsed": false,
    "pycharm": {
     "name": "#%%\n"
    }
   }
  },
  {
   "cell_type": "markdown",
   "source": [
    "## machine learning"
   ],
   "metadata": {
    "collapsed": false,
    "pycharm": {
     "name": "#%% md\n"
    }
   }
  },
  {
   "cell_type": "code",
   "execution_count": 10,
   "outputs": [],
   "source": [
    "import pandas as pd\n",
    "data=pd.read_parquet('../data/interim/BreastCancerdeduplicated.parquet',engine='pyarrow')"
   ],
   "metadata": {
    "collapsed": false,
    "pycharm": {
     "name": "#%%\n"
    }
   }
  },
  {
   "cell_type": "code",
   "execution_count": 14,
   "outputs": [],
   "source": [
    "data.dropna(inplace=True)"
   ],
   "metadata": {
    "collapsed": false,
    "pycharm": {
     "name": "#%%\n"
    }
   }
  },
  {
   "cell_type": "code",
   "execution_count": 15,
   "outputs": [
    {
     "data": {
      "text/plain": "      perimeter_se  radius_worst  concave points_mean  smoothness_mean  \\\n3           2225.0         13.28              0.01162          0.07561   \n13          2362.0         17.52              0.09429          0.10480   \n18          2346.0         14.19              0.02548          0.08794   \n22          1429.0         10.75              0.02292          0.08481   \n45          2406.0         15.49              0.09353          0.12730   \n...            ...           ...                  ...              ...   \n3129        7222.0         33.13              0.19130          0.11490   \n3137        3061.0         21.08              0.08824          0.10360   \n3143        1344.0         17.80              0.03263          0.09057   \n3144        2041.0         11.92              0.00000          0.07449   \n3157        2974.0         16.01              0.06759          0.11620   \n\n      area_mean  concavity_se  texture_mean  concavity_worst  smoothness_se  \\\n3         421.0      0.005949         17.07          0.03046       0.006583   \n13        716.9      0.073590         30.62          1.17000       0.004625   \n18        504.1      0.031370         13.37          0.17690       0.006494   \n22        280.5      0.050280         16.84          0.43410       0.005954   \n45        519.8      0.035530         21.82        539.00000       0.005731   \n...         ...           ...           ...              ...            ...   \n3129     2010.0      0.042660         17.46          0.64510       0.006369   \n3137      991.7      0.025090         20.66          0.33010       0.007231   \n3143      710.6      0.017740         22.41        363.00000       0.003290   \n3144      386.0      0.000000         29.37          0.00000       0.007594   \n3157      595.9      0.034760         24.49          0.33810       0.009680   \n\n      concave points_se  ...  concavity_mean  symmetry_mean  symmetry_worst  \\\n3              0.006296  ...        0.008306         0.1671          0.2731   \n13             0.016080  ...      255.000000         0.2128          0.4089   \n18             0.010690  ...        0.040520         0.1601          0.2564   \n22             0.008510  ...        0.084220         0.2036          0.2982   \n45             0.012260  ...        0.185900       235.0000          0.4378   \n...                 ...  ...             ...            ...             ...   \n3129           0.015080  ...        0.336800         0.1956        369.0000   \n3137           0.014800  ...        0.120100         0.1992        306.0000   \n3143           0.006009  ...        0.053750         0.1727          0.3175   \n3144           0.000000  ...        0.000000       106.0000          0.1566   \n3157           0.016160  ...        0.135700         0.2275          0.3651   \n\n      diagnosis  fractal_dimension_se  perimeter_mean  compactness_worst  \\\n3             0              0.002668           73.70            0.06476   \n13            1              0.006142          103.40            0.79170   \n18            0              0.004392           82.29            0.22080   \n22            0              0.004031           61.64            0.34160   \n45            1              0.003749           87.50            0.54010   \n...         ...                   ...             ...                ...   \n3129          1              0.003385          174.20            0.59370   \n3137          1              0.003336          117.80            0.37350   \n3143          1              0.002575           98.92            0.32990   \n3144          0              0.001773           70.67            0.05494   \n3157          1              0.006995           92.33            0.39660   \n\n      symmetry_se  compactness_se  radius_se  \n3         0.02216        0.006991     0.3534  \n13        0.02137        0.048440     0.2602  \n18        0.01731        0.027680     0.3265  \n22        0.01750        0.034710     0.1844  \n45        0.02143        0.035020     0.3063  \n...           ...             ...        ...  \n3129      0.02335        0.042430     0.9948  \n3137      0.01414        0.027720     0.4537  \n3143      0.01172        0.013950     0.2054  \n3144      0.01989        0.008878     0.3141  \n3157      0.02434        0.038560     0.4751  \n\n[569 rows x 31 columns]",
      "text/html": "<div>\n<style scoped>\n    .dataframe tbody tr th:only-of-type {\n        vertical-align: middle;\n    }\n\n    .dataframe tbody tr th {\n        vertical-align: top;\n    }\n\n    .dataframe thead th {\n        text-align: right;\n    }\n</style>\n<table border=\"1\" class=\"dataframe\">\n  <thead>\n    <tr style=\"text-align: right;\">\n      <th></th>\n      <th>perimeter_se</th>\n      <th>radius_worst</th>\n      <th>concave points_mean</th>\n      <th>smoothness_mean</th>\n      <th>area_mean</th>\n      <th>concavity_se</th>\n      <th>texture_mean</th>\n      <th>concavity_worst</th>\n      <th>smoothness_se</th>\n      <th>concave points_se</th>\n      <th>...</th>\n      <th>concavity_mean</th>\n      <th>symmetry_mean</th>\n      <th>symmetry_worst</th>\n      <th>diagnosis</th>\n      <th>fractal_dimension_se</th>\n      <th>perimeter_mean</th>\n      <th>compactness_worst</th>\n      <th>symmetry_se</th>\n      <th>compactness_se</th>\n      <th>radius_se</th>\n    </tr>\n  </thead>\n  <tbody>\n    <tr>\n      <th>3</th>\n      <td>2225.0</td>\n      <td>13.28</td>\n      <td>0.01162</td>\n      <td>0.07561</td>\n      <td>421.0</td>\n      <td>0.005949</td>\n      <td>17.07</td>\n      <td>0.03046</td>\n      <td>0.006583</td>\n      <td>0.006296</td>\n      <td>...</td>\n      <td>0.008306</td>\n      <td>0.1671</td>\n      <td>0.2731</td>\n      <td>0</td>\n      <td>0.002668</td>\n      <td>73.70</td>\n      <td>0.06476</td>\n      <td>0.02216</td>\n      <td>0.006991</td>\n      <td>0.3534</td>\n    </tr>\n    <tr>\n      <th>13</th>\n      <td>2362.0</td>\n      <td>17.52</td>\n      <td>0.09429</td>\n      <td>0.10480</td>\n      <td>716.9</td>\n      <td>0.073590</td>\n      <td>30.62</td>\n      <td>1.17000</td>\n      <td>0.004625</td>\n      <td>0.016080</td>\n      <td>...</td>\n      <td>255.000000</td>\n      <td>0.2128</td>\n      <td>0.4089</td>\n      <td>1</td>\n      <td>0.006142</td>\n      <td>103.40</td>\n      <td>0.79170</td>\n      <td>0.02137</td>\n      <td>0.048440</td>\n      <td>0.2602</td>\n    </tr>\n    <tr>\n      <th>18</th>\n      <td>2346.0</td>\n      <td>14.19</td>\n      <td>0.02548</td>\n      <td>0.08794</td>\n      <td>504.1</td>\n      <td>0.031370</td>\n      <td>13.37</td>\n      <td>0.17690</td>\n      <td>0.006494</td>\n      <td>0.010690</td>\n      <td>...</td>\n      <td>0.040520</td>\n      <td>0.1601</td>\n      <td>0.2564</td>\n      <td>0</td>\n      <td>0.004392</td>\n      <td>82.29</td>\n      <td>0.22080</td>\n      <td>0.01731</td>\n      <td>0.027680</td>\n      <td>0.3265</td>\n    </tr>\n    <tr>\n      <th>22</th>\n      <td>1429.0</td>\n      <td>10.75</td>\n      <td>0.02292</td>\n      <td>0.08481</td>\n      <td>280.5</td>\n      <td>0.050280</td>\n      <td>16.84</td>\n      <td>0.43410</td>\n      <td>0.005954</td>\n      <td>0.008510</td>\n      <td>...</td>\n      <td>0.084220</td>\n      <td>0.2036</td>\n      <td>0.2982</td>\n      <td>0</td>\n      <td>0.004031</td>\n      <td>61.64</td>\n      <td>0.34160</td>\n      <td>0.01750</td>\n      <td>0.034710</td>\n      <td>0.1844</td>\n    </tr>\n    <tr>\n      <th>45</th>\n      <td>2406.0</td>\n      <td>15.49</td>\n      <td>0.09353</td>\n      <td>0.12730</td>\n      <td>519.8</td>\n      <td>0.035530</td>\n      <td>21.82</td>\n      <td>539.00000</td>\n      <td>0.005731</td>\n      <td>0.012260</td>\n      <td>...</td>\n      <td>0.185900</td>\n      <td>235.0000</td>\n      <td>0.4378</td>\n      <td>1</td>\n      <td>0.003749</td>\n      <td>87.50</td>\n      <td>0.54010</td>\n      <td>0.02143</td>\n      <td>0.035020</td>\n      <td>0.3063</td>\n    </tr>\n    <tr>\n      <th>...</th>\n      <td>...</td>\n      <td>...</td>\n      <td>...</td>\n      <td>...</td>\n      <td>...</td>\n      <td>...</td>\n      <td>...</td>\n      <td>...</td>\n      <td>...</td>\n      <td>...</td>\n      <td>...</td>\n      <td>...</td>\n      <td>...</td>\n      <td>...</td>\n      <td>...</td>\n      <td>...</td>\n      <td>...</td>\n      <td>...</td>\n      <td>...</td>\n      <td>...</td>\n      <td>...</td>\n    </tr>\n    <tr>\n      <th>3129</th>\n      <td>7222.0</td>\n      <td>33.13</td>\n      <td>0.19130</td>\n      <td>0.11490</td>\n      <td>2010.0</td>\n      <td>0.042660</td>\n      <td>17.46</td>\n      <td>0.64510</td>\n      <td>0.006369</td>\n      <td>0.015080</td>\n      <td>...</td>\n      <td>0.336800</td>\n      <td>0.1956</td>\n      <td>369.0000</td>\n      <td>1</td>\n      <td>0.003385</td>\n      <td>174.20</td>\n      <td>0.59370</td>\n      <td>0.02335</td>\n      <td>0.042430</td>\n      <td>0.9948</td>\n    </tr>\n    <tr>\n      <th>3137</th>\n      <td>3061.0</td>\n      <td>21.08</td>\n      <td>0.08824</td>\n      <td>0.10360</td>\n      <td>991.7</td>\n      <td>0.025090</td>\n      <td>20.66</td>\n      <td>0.33010</td>\n      <td>0.007231</td>\n      <td>0.014800</td>\n      <td>...</td>\n      <td>0.120100</td>\n      <td>0.1992</td>\n      <td>306.0000</td>\n      <td>1</td>\n      <td>0.003336</td>\n      <td>117.80</td>\n      <td>0.37350</td>\n      <td>0.01414</td>\n      <td>0.027720</td>\n      <td>0.4537</td>\n    </tr>\n    <tr>\n      <th>3143</th>\n      <td>1344.0</td>\n      <td>17.80</td>\n      <td>0.03263</td>\n      <td>0.09057</td>\n      <td>710.6</td>\n      <td>0.017740</td>\n      <td>22.41</td>\n      <td>363.00000</td>\n      <td>0.003290</td>\n      <td>0.006009</td>\n      <td>...</td>\n      <td>0.053750</td>\n      <td>0.1727</td>\n      <td>0.3175</td>\n      <td>1</td>\n      <td>0.002575</td>\n      <td>98.92</td>\n      <td>0.32990</td>\n      <td>0.01172</td>\n      <td>0.013950</td>\n      <td>0.2054</td>\n    </tr>\n    <tr>\n      <th>3144</th>\n      <td>2041.0</td>\n      <td>11.92</td>\n      <td>0.00000</td>\n      <td>0.07449</td>\n      <td>386.0</td>\n      <td>0.000000</td>\n      <td>29.37</td>\n      <td>0.00000</td>\n      <td>0.007594</td>\n      <td>0.000000</td>\n      <td>...</td>\n      <td>0.000000</td>\n      <td>106.0000</td>\n      <td>0.1566</td>\n      <td>0</td>\n      <td>0.001773</td>\n      <td>70.67</td>\n      <td>0.05494</td>\n      <td>0.01989</td>\n      <td>0.008878</td>\n      <td>0.3141</td>\n    </tr>\n    <tr>\n      <th>3157</th>\n      <td>2974.0</td>\n      <td>16.01</td>\n      <td>0.06759</td>\n      <td>0.11620</td>\n      <td>595.9</td>\n      <td>0.034760</td>\n      <td>24.49</td>\n      <td>0.33810</td>\n      <td>0.009680</td>\n      <td>0.016160</td>\n      <td>...</td>\n      <td>0.135700</td>\n      <td>0.2275</td>\n      <td>0.3651</td>\n      <td>1</td>\n      <td>0.006995</td>\n      <td>92.33</td>\n      <td>0.39660</td>\n      <td>0.02434</td>\n      <td>0.038560</td>\n      <td>0.4751</td>\n    </tr>\n  </tbody>\n</table>\n<p>569 rows × 31 columns</p>\n</div>"
     },
     "execution_count": 15,
     "metadata": {},
     "output_type": "execute_result"
    }
   ],
   "source": [
    "data"
   ],
   "metadata": {
    "collapsed": false,
    "pycharm": {
     "name": "#%%\n"
    }
   }
  },
  {
   "cell_type": "code",
   "execution_count": 12,
   "outputs": [],
   "source": [
    "data=data.drop_duplicates(keep='first', ignore_index=False)"
   ],
   "metadata": {
    "collapsed": false,
    "pycharm": {
     "name": "#%%\n"
    }
   }
  },
  {
   "cell_type": "code",
   "execution_count": 13,
   "outputs": [
    {
     "name": "stdout",
     "output_type": "stream",
     "text": [
      "<class 'pandas.core.frame.DataFrame'>\n",
      "Int64Index: 3159 entries, 0 to 3158\n",
      "Data columns (total 31 columns):\n",
      " #   Column                   Non-Null Count  Dtype  \n",
      "---  ------                   --------------  -----  \n",
      " 0   perimeter_se             2651 non-null   float64\n",
      " 1   radius_worst             2649 non-null   float64\n",
      " 2   concave points_mean      2643 non-null   float64\n",
      " 3   smoothness_mean          2613 non-null   float64\n",
      " 4   area_mean                2608 non-null   float64\n",
      " 5   concavity_se             2618 non-null   float64\n",
      " 6   texture_mean             2636 non-null   float64\n",
      " 7   concavity_worst          2631 non-null   float64\n",
      " 8   smoothness_se            2645 non-null   float64\n",
      " 9   concave points_se        2643 non-null   float64\n",
      " 10  area_worst               2629 non-null   float64\n",
      " 11  compactness_mean         2619 non-null   float64\n",
      " 12  radius_mean              2622 non-null   float64\n",
      " 13  area_se                  2618 non-null   float64\n",
      " 14  concave points_worst     2647 non-null   float64\n",
      " 15  fractal_dimension_worst  2646 non-null   float64\n",
      " 16  perimeter_worst          2642 non-null   float64\n",
      " 17  texture_se               2650 non-null   float64\n",
      " 18  fractal_dimension_mean   2633 non-null   float64\n",
      " 19  texture_worst            2646 non-null   float64\n",
      " 20  smoothness_worst         2630 non-null   float64\n",
      " 21  concavity_mean           2606 non-null   float64\n",
      " 22  symmetry_mean            2620 non-null   float64\n",
      " 23  symmetry_worst           2643 non-null   float64\n",
      " 24  diagnosis                3159 non-null   int64  \n",
      " 25  fractal_dimension_se     2634 non-null   float64\n",
      " 26  perimeter_mean           2613 non-null   float64\n",
      " 27  compactness_worst        2668 non-null   float64\n",
      " 28  symmetry_se              2639 non-null   float64\n",
      " 29  compactness_se           2637 non-null   float64\n",
      " 30  radius_se                2642 non-null   float64\n",
      "dtypes: float64(30), int64(1)\n",
      "memory usage: 789.8 KB\n"
     ]
    }
   ],
   "source": [
    "data.info()"
   ],
   "metadata": {
    "collapsed": false,
    "pycharm": {
     "name": "#%%\n"
    }
   }
  },
  {
   "cell_type": "code",
   "execution_count": 9,
   "outputs": [
    {
     "data": {
      "text/plain": "perimeter_se               508\nradius_worst               510\nconcave points_mean        516\nsmoothness_mean            546\narea_mean                  551\nconcavity_se               541\ntexture_mean               523\nconcavity_worst            528\nsmoothness_se              514\nconcave points_se          516\narea_worst                 530\ncompactness_mean           540\nradius_mean                537\narea_se                    541\nconcave points_worst       512\nfractal_dimension_worst    513\nperimeter_worst            517\ntexture_se                 509\nfractal_dimension_mean     526\ntexture_worst              513\nsmoothness_worst           529\nconcavity_mean             553\nsymmetry_mean              539\nsymmetry_worst             516\ndiagnosis                    0\nfractal_dimension_se       525\nperimeter_mean             546\ncompactness_worst          491\nsymmetry_se                520\ncompactness_se             522\nradius_se                  517\ndtype: int64"
     },
     "execution_count": 9,
     "metadata": {},
     "output_type": "execute_result"
    }
   ],
   "source": [
    "data.isnull().sum()"
   ],
   "metadata": {
    "collapsed": false,
    "pycharm": {
     "name": "#%%\n"
    }
   }
  },
  {
   "cell_type": "code",
   "execution_count": 9,
   "outputs": [
    {
     "data": {
      "text/plain": "16180"
     },
     "execution_count": 9,
     "metadata": {},
     "output_type": "execute_result"
    }
   ],
   "source": [
    "data['index'].isnull().count()"
   ],
   "metadata": {
    "collapsed": false,
    "pycharm": {
     "name": "#%%\n"
    }
   }
  },
  {
   "cell_type": "code",
   "execution_count": 3,
   "outputs": [
    {
     "ename": "NameError",
     "evalue": "name 'data' is not defined",
     "output_type": "error",
     "traceback": [
      "\u001B[1;31m---------------------------------------------------------------------------\u001B[0m",
      "\u001B[1;31mNameError\u001B[0m                                 Traceback (most recent call last)",
      "\u001B[1;32m~\\AppData\\Local\\Temp\\ipykernel_524\\2588297225.py\u001B[0m in \u001B[0;36m<module>\u001B[1;34m\u001B[0m\n\u001B[1;32m----> 1\u001B[1;33m \u001B[0mmissing\u001B[0m \u001B[1;33m=\u001B[0m \u001B[0mdata\u001B[0m\u001B[1;33m.\u001B[0m\u001B[0misnull\u001B[0m\u001B[1;33m(\u001B[0m\u001B[1;33m)\u001B[0m\u001B[1;33m.\u001B[0m\u001B[0msum\u001B[0m\u001B[1;33m(\u001B[0m\u001B[1;33m)\u001B[0m\u001B[1;33m\u001B[0m\u001B[1;33m\u001B[0m\u001B[0m\n\u001B[0m\u001B[0;32m      2\u001B[0m \u001B[0mmissing\u001B[0m\u001B[1;33m[\u001B[0m\u001B[0mmissing\u001B[0m\u001B[1;33m>\u001B[0m\u001B[1;36m0\u001B[0m\u001B[1;33m]\u001B[0m\u001B[1;33m*\u001B[0m\u001B[1;36m100\u001B[0m\u001B[1;33m/\u001B[0m\u001B[0mlen\u001B[0m\u001B[1;33m(\u001B[0m\u001B[0mdata\u001B[0m\u001B[1;33m)\u001B[0m\u001B[1;33m\u001B[0m\u001B[1;33m\u001B[0m\u001B[0m\n",
      "\u001B[1;31mNameError\u001B[0m: name 'data' is not defined"
     ]
    }
   ],
   "source": [],
   "metadata": {
    "collapsed": false,
    "pycharm": {
     "name": "#%%\n"
    }
   }
  },
  {
   "cell_type": "code",
   "execution_count": null,
   "outputs": [],
   "source": [],
   "metadata": {
    "collapsed": false,
    "pycharm": {
     "name": "#%%\n"
    }
   }
  }
 ],
 "metadata": {
  "kernelspec": {
   "display_name": "Python 3",
   "language": "python",
   "name": "python3"
  },
  "language_info": {
   "codemirror_mode": {
    "name": "ipython",
    "version": 2
   },
   "file_extension": ".py",
   "mimetype": "text/x-python",
   "name": "python",
   "nbconvert_exporter": "python",
   "pygments_lexer": "ipython2",
   "version": "2.7.6"
  }
 },
 "nbformat": 4,
 "nbformat_minor": 0
}