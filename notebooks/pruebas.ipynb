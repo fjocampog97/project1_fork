{
 "cells": [
  {
   "cell_type": "markdown",
   "source": [
    "import pandas as pd\n",
    "data_raw=pd.read_csv('../data/raw/BreastCancerDS.csv',index_col=0)\n"
   ],
   "metadata": {
    "collapsed": false,
    "pycharm": {
     "name": "#%% md\n"
    }
   }
  },
  {
   "cell_type": "code",
   "execution_count": 12,
   "outputs": [
    {
     "data": {
      "text/plain": "       index perimeter_se             radius_worst concave points_mean  \\\n1        279         1.83        999765432456788.0             0.03711   \n2        307       1144.0                   9699.0            0.003472   \n4        576       2183.0                       ?              0.02278   \n5        350       2225.0                    13.28             0.01162   \n7        120       1103.0                    12.82             0.02623   \n...      ...          ...                      ...                 ...   \n19703    602       2844.0                       ?              0.05613   \n19705    350       2225.0  rxctf378968 7656463sdfg             0.01162   \n19706    442       2235.0                    15.27            0.009937   \n19708    501       2974.0                    16.01             0.06759   \n19709    233       3767.0                    24.47              0.0834   \n\n         smoothness_mean area_mean concavity_se texture_mean concavity_worst  \\\n1                0.09516     587.4      0.01457        15.18          0.1456   \n2      -88888765432345.0     246.3     0.003681         14.4         0.01472   \n4                0.09524     409.0      0.01349        18.75              ?    \n5                0.07561     421.0     0.005949        17.07         0.03046   \n7                0.09373     403.3      0.01514        10.82          0.2102   \n...                  ...       ...          ...          ...             ...   \n19703             0.1008     809.8      0.02219        21.54          0.2992   \n19705            0.07561     421.0     0.005949        17.07         0.03046   \n19706  -88888765432345.0     585.9     0.007741        15.79         0.03517   \n19708             0.1162     595.9      0.03476        24.49          0.3381   \n19709            0.09159    1319.0      0.03457        27.81          0.4146   \n\n                 smoothness_se  ...            symmetry_mean symmetry_worst  \\\n1                     0.004235  ...                    211.0         0.2955   \n2                     0.007389  ...        -88888765432345.0         0.2991   \n4                     0.008328  ...                       ?          0.3306   \n5                     0.006583  ...                   0.1671         0.2731   \n7                           ?   ...                   0.1667         0.3016   \n...                        ...  ...                      ...            ...   \n19703                 0.004877  ...                    216.0             ?    \n19705  rxctf378968 7656463sdfg  ...                   0.1671         0.2731   \n19706        -88888765432345.0  ...                   0.1405         0.1859   \n19708                  0.00968  ...                   0.2275         0.3651   \n19709                  0.00502  ...  rxctf378968 7656463sdfg         0.2437   \n\n      diagnosis          erty     fractal_dimension_se     perimeter_mean  \\\n1             B  908765434567                 0.001593  999765432456788.0   \n2             B  908765434567                 0.002153              56.36   \n4             B  908765434567                 0.002386              73.34   \n5             B  908765434567                 0.002668               73.7   \n7             B  908765434567                 0.002206              73.34   \n...         ...           ...                      ...                ...   \n19703         M  908765434567                       ?               106.2   \n19705         B  908765434567  rxctf378968 7656463sdfg               73.7   \n19706         B  908765434567                 0.002564  -88888765432345.0   \n19708         M  908765434567                 0.006995              92.33   \n19709         M  908765434567                 0.002887              134.4   \n\n             compactness_worst        symmetry_se compactness_se  \\\n1                       0.1724            0.01528        0.01541   \n2                      0.05232            0.02701       0.004883   \n4                           ?             0.03218       0.008722   \n5                      0.06476            0.02216       0.006991   \n7                        239.0            0.01344             ?    \n...                        ...                ...            ...   \n19703                   0.3055            0.01535        0.01952   \n19705                  0.06476            0.02216       0.006991   \n19706                   0.1071  -88888765432345.0        0.01156   \n19708                   0.3966            0.02434        0.03856   \n19709  rxctf378968 7656463sdfg            0.01298        0.02062   \n\n               radius_se  \n1      999765432456788.0  \n2                 0.1746  \n4                 0.3249  \n5                 0.3534  \n7                     ?   \n...                  ...  \n19703             0.4332  \n19705             0.3534  \n19706             0.3563  \n19708             0.4751  \n19709              524.0  \n\n[16180 rows x 35 columns]",
      "text/html": "<div>\n<style scoped>\n    .dataframe tbody tr th:only-of-type {\n        vertical-align: middle;\n    }\n\n    .dataframe tbody tr th {\n        vertical-align: top;\n    }\n\n    .dataframe thead th {\n        text-align: right;\n    }\n</style>\n<table border=\"1\" class=\"dataframe\">\n  <thead>\n    <tr style=\"text-align: right;\">\n      <th></th>\n      <th>index</th>\n      <th>perimeter_se</th>\n      <th>radius_worst</th>\n      <th>concave points_mean</th>\n      <th>smoothness_mean</th>\n      <th>area_mean</th>\n      <th>concavity_se</th>\n      <th>texture_mean</th>\n      <th>concavity_worst</th>\n      <th>smoothness_se</th>\n      <th>...</th>\n      <th>symmetry_mean</th>\n      <th>symmetry_worst</th>\n      <th>diagnosis</th>\n      <th>erty</th>\n      <th>fractal_dimension_se</th>\n      <th>perimeter_mean</th>\n      <th>compactness_worst</th>\n      <th>symmetry_se</th>\n      <th>compactness_se</th>\n      <th>radius_se</th>\n    </tr>\n  </thead>\n  <tbody>\n    <tr>\n      <th>1</th>\n      <td>279</td>\n      <td>1.83</td>\n      <td>999765432456788.0</td>\n      <td>0.03711</td>\n      <td>0.09516</td>\n      <td>587.4</td>\n      <td>0.01457</td>\n      <td>15.18</td>\n      <td>0.1456</td>\n      <td>0.004235</td>\n      <td>...</td>\n      <td>211.0</td>\n      <td>0.2955</td>\n      <td>B</td>\n      <td>908765434567</td>\n      <td>0.001593</td>\n      <td>999765432456788.0</td>\n      <td>0.1724</td>\n      <td>0.01528</td>\n      <td>0.01541</td>\n      <td>999765432456788.0</td>\n    </tr>\n    <tr>\n      <th>2</th>\n      <td>307</td>\n      <td>1144.0</td>\n      <td>9699.0</td>\n      <td>0.003472</td>\n      <td>-88888765432345.0</td>\n      <td>246.3</td>\n      <td>0.003681</td>\n      <td>14.4</td>\n      <td>0.01472</td>\n      <td>0.007389</td>\n      <td>...</td>\n      <td>-88888765432345.0</td>\n      <td>0.2991</td>\n      <td>B</td>\n      <td>908765434567</td>\n      <td>0.002153</td>\n      <td>56.36</td>\n      <td>0.05232</td>\n      <td>0.02701</td>\n      <td>0.004883</td>\n      <td>0.1746</td>\n    </tr>\n    <tr>\n      <th>4</th>\n      <td>576</td>\n      <td>2183.0</td>\n      <td>?</td>\n      <td>0.02278</td>\n      <td>0.09524</td>\n      <td>409.0</td>\n      <td>0.01349</td>\n      <td>18.75</td>\n      <td>?</td>\n      <td>0.008328</td>\n      <td>...</td>\n      <td>?</td>\n      <td>0.3306</td>\n      <td>B</td>\n      <td>908765434567</td>\n      <td>0.002386</td>\n      <td>73.34</td>\n      <td>?</td>\n      <td>0.03218</td>\n      <td>0.008722</td>\n      <td>0.3249</td>\n    </tr>\n    <tr>\n      <th>5</th>\n      <td>350</td>\n      <td>2225.0</td>\n      <td>13.28</td>\n      <td>0.01162</td>\n      <td>0.07561</td>\n      <td>421.0</td>\n      <td>0.005949</td>\n      <td>17.07</td>\n      <td>0.03046</td>\n      <td>0.006583</td>\n      <td>...</td>\n      <td>0.1671</td>\n      <td>0.2731</td>\n      <td>B</td>\n      <td>908765434567</td>\n      <td>0.002668</td>\n      <td>73.7</td>\n      <td>0.06476</td>\n      <td>0.02216</td>\n      <td>0.006991</td>\n      <td>0.3534</td>\n    </tr>\n    <tr>\n      <th>7</th>\n      <td>120</td>\n      <td>1103.0</td>\n      <td>12.82</td>\n      <td>0.02623</td>\n      <td>0.09373</td>\n      <td>403.3</td>\n      <td>0.01514</td>\n      <td>10.82</td>\n      <td>0.2102</td>\n      <td>?</td>\n      <td>...</td>\n      <td>0.1667</td>\n      <td>0.3016</td>\n      <td>B</td>\n      <td>908765434567</td>\n      <td>0.002206</td>\n      <td>73.34</td>\n      <td>239.0</td>\n      <td>0.01344</td>\n      <td>?</td>\n      <td>?</td>\n    </tr>\n    <tr>\n      <th>...</th>\n      <td>...</td>\n      <td>...</td>\n      <td>...</td>\n      <td>...</td>\n      <td>...</td>\n      <td>...</td>\n      <td>...</td>\n      <td>...</td>\n      <td>...</td>\n      <td>...</td>\n      <td>...</td>\n      <td>...</td>\n      <td>...</td>\n      <td>...</td>\n      <td>...</td>\n      <td>...</td>\n      <td>...</td>\n      <td>...</td>\n      <td>...</td>\n      <td>...</td>\n      <td>...</td>\n    </tr>\n    <tr>\n      <th>19703</th>\n      <td>602</td>\n      <td>2844.0</td>\n      <td>?</td>\n      <td>0.05613</td>\n      <td>0.1008</td>\n      <td>809.8</td>\n      <td>0.02219</td>\n      <td>21.54</td>\n      <td>0.2992</td>\n      <td>0.004877</td>\n      <td>...</td>\n      <td>216.0</td>\n      <td>?</td>\n      <td>M</td>\n      <td>908765434567</td>\n      <td>?</td>\n      <td>106.2</td>\n      <td>0.3055</td>\n      <td>0.01535</td>\n      <td>0.01952</td>\n      <td>0.4332</td>\n    </tr>\n    <tr>\n      <th>19705</th>\n      <td>350</td>\n      <td>2225.0</td>\n      <td>rxctf378968 7656463sdfg</td>\n      <td>0.01162</td>\n      <td>0.07561</td>\n      <td>421.0</td>\n      <td>0.005949</td>\n      <td>17.07</td>\n      <td>0.03046</td>\n      <td>rxctf378968 7656463sdfg</td>\n      <td>...</td>\n      <td>0.1671</td>\n      <td>0.2731</td>\n      <td>B</td>\n      <td>908765434567</td>\n      <td>rxctf378968 7656463sdfg</td>\n      <td>73.7</td>\n      <td>0.06476</td>\n      <td>0.02216</td>\n      <td>0.006991</td>\n      <td>0.3534</td>\n    </tr>\n    <tr>\n      <th>19706</th>\n      <td>442</td>\n      <td>2235.0</td>\n      <td>15.27</td>\n      <td>0.009937</td>\n      <td>-88888765432345.0</td>\n      <td>585.9</td>\n      <td>0.007741</td>\n      <td>15.79</td>\n      <td>0.03517</td>\n      <td>-88888765432345.0</td>\n      <td>...</td>\n      <td>0.1405</td>\n      <td>0.1859</td>\n      <td>B</td>\n      <td>908765434567</td>\n      <td>0.002564</td>\n      <td>-88888765432345.0</td>\n      <td>0.1071</td>\n      <td>-88888765432345.0</td>\n      <td>0.01156</td>\n      <td>0.3563</td>\n    </tr>\n    <tr>\n      <th>19708</th>\n      <td>501</td>\n      <td>2974.0</td>\n      <td>16.01</td>\n      <td>0.06759</td>\n      <td>0.1162</td>\n      <td>595.9</td>\n      <td>0.03476</td>\n      <td>24.49</td>\n      <td>0.3381</td>\n      <td>0.00968</td>\n      <td>...</td>\n      <td>0.2275</td>\n      <td>0.3651</td>\n      <td>M</td>\n      <td>908765434567</td>\n      <td>0.006995</td>\n      <td>92.33</td>\n      <td>0.3966</td>\n      <td>0.02434</td>\n      <td>0.03856</td>\n      <td>0.4751</td>\n    </tr>\n    <tr>\n      <th>19709</th>\n      <td>233</td>\n      <td>3767.0</td>\n      <td>24.47</td>\n      <td>0.0834</td>\n      <td>0.09159</td>\n      <td>1319.0</td>\n      <td>0.03457</td>\n      <td>27.81</td>\n      <td>0.4146</td>\n      <td>0.00502</td>\n      <td>...</td>\n      <td>rxctf378968 7656463sdfg</td>\n      <td>0.2437</td>\n      <td>M</td>\n      <td>908765434567</td>\n      <td>0.002887</td>\n      <td>134.4</td>\n      <td>rxctf378968 7656463sdfg</td>\n      <td>0.01298</td>\n      <td>0.02062</td>\n      <td>524.0</td>\n    </tr>\n  </tbody>\n</table>\n<p>16180 rows × 35 columns</p>\n</div>"
     },
     "execution_count": 12,
     "metadata": {},
     "output_type": "execute_result"
    }
   ],
   "source": [
    "data_raw"
   ],
   "metadata": {
    "collapsed": false,
    "pycharm": {
     "name": "#%%\n"
    }
   }
  },
  {
   "cell_type": "code",
   "execution_count": 13,
   "outputs": [
    {
     "data": {
      "text/plain": "15206"
     },
     "execution_count": 13,
     "metadata": {},
     "output_type": "execute_result"
    }
   ],
   "source": [
    "data_raw[\"id\"].duplicated().sum()\n"
   ],
   "metadata": {
    "collapsed": false,
    "pycharm": {
     "name": "#%%\n"
    }
   }
  },
  {
   "cell_type": "code",
   "execution_count": 14,
   "outputs": [
    {
     "data": {
      "text/plain": "15533"
     },
     "execution_count": 14,
     "metadata": {},
     "output_type": "execute_result"
    }
   ],
   "source": [
    "data_raw[\"index\"].duplicated().sum()\n"
   ],
   "metadata": {
    "collapsed": false,
    "pycharm": {
     "name": "#%%\n"
    }
   }
  },
  {
   "cell_type": "markdown",
   "source": [
    "## machine learning"
   ],
   "metadata": {
    "collapsed": false,
    "pycharm": {
     "name": "#%% md\n"
    }
   }
  },
  {
   "cell_type": "code",
   "execution_count": 5,
   "outputs": [],
   "source": [
    "import pandas as pd\n",
    "data=pd.read_parquet('../data/interim/BreastCancer.parquet',engine='pyarrow')"
   ],
   "metadata": {
    "collapsed": false,
    "pycharm": {
     "name": "#%%\n"
    }
   }
  },
  {
   "cell_type": "code",
   "execution_count": 6,
   "outputs": [
    {
     "data": {
      "text/plain": "  index perimeter_se radius_worst concave points_mean smoothness_mean  \\\n0   279         1.83         None             0.03711         0.09516   \n1   307       1144.0       9699.0            0.003472            None   \n2   576       2183.0         None             0.02278         0.09524   \n3   350       2225.0        13.28             0.01162         0.07561   \n4   120       1103.0        12.82             0.02623         0.09373   \n\n  area_mean concavity_se texture_mean concavity_worst smoothness_se  ...  \\\n0     587.4      0.01457        15.18          0.1456      0.004235  ...   \n1     246.3     0.003681         14.4         0.01472      0.007389  ...   \n2     409.0      0.01349        18.75            None      0.008328  ...   \n3     421.0     0.005949        17.07         0.03046      0.006583  ...   \n4     403.3      0.01514        10.82          0.2102          None  ...   \n\n         id symmetry_mean symmetry_worst diagnosis fractal_dimension_se  \\\n0   8911834         211.0         0.2955         B             0.001593   \n1     89346          None         0.2991         B             0.002153   \n2  85759902          None         0.3306         B             0.002386   \n3    899187        0.1671         0.2731         B             0.002668   \n4    865137        0.1667         0.3016         B             0.002206   \n\n  perimeter_mean compactness_worst symmetry_se compactness_se radius_se  \n0           None            0.1724     0.01528        0.01541      None  \n1          56.36           0.05232     0.02701       0.004883    0.1746  \n2          73.34              None     0.03218       0.008722    0.3249  \n3           73.7           0.06476     0.02216       0.006991    0.3534  \n4          73.34             239.0     0.01344           None      None  \n\n[5 rows x 33 columns]",
      "text/html": "<div>\n<style scoped>\n    .dataframe tbody tr th:only-of-type {\n        vertical-align: middle;\n    }\n\n    .dataframe tbody tr th {\n        vertical-align: top;\n    }\n\n    .dataframe thead th {\n        text-align: right;\n    }\n</style>\n<table border=\"1\" class=\"dataframe\">\n  <thead>\n    <tr style=\"text-align: right;\">\n      <th></th>\n      <th>index</th>\n      <th>perimeter_se</th>\n      <th>radius_worst</th>\n      <th>concave points_mean</th>\n      <th>smoothness_mean</th>\n      <th>area_mean</th>\n      <th>concavity_se</th>\n      <th>texture_mean</th>\n      <th>concavity_worst</th>\n      <th>smoothness_se</th>\n      <th>...</th>\n      <th>id</th>\n      <th>symmetry_mean</th>\n      <th>symmetry_worst</th>\n      <th>diagnosis</th>\n      <th>fractal_dimension_se</th>\n      <th>perimeter_mean</th>\n      <th>compactness_worst</th>\n      <th>symmetry_se</th>\n      <th>compactness_se</th>\n      <th>radius_se</th>\n    </tr>\n  </thead>\n  <tbody>\n    <tr>\n      <th>0</th>\n      <td>279</td>\n      <td>1.83</td>\n      <td>None</td>\n      <td>0.03711</td>\n      <td>0.09516</td>\n      <td>587.4</td>\n      <td>0.01457</td>\n      <td>15.18</td>\n      <td>0.1456</td>\n      <td>0.004235</td>\n      <td>...</td>\n      <td>8911834</td>\n      <td>211.0</td>\n      <td>0.2955</td>\n      <td>B</td>\n      <td>0.001593</td>\n      <td>None</td>\n      <td>0.1724</td>\n      <td>0.01528</td>\n      <td>0.01541</td>\n      <td>None</td>\n    </tr>\n    <tr>\n      <th>1</th>\n      <td>307</td>\n      <td>1144.0</td>\n      <td>9699.0</td>\n      <td>0.003472</td>\n      <td>None</td>\n      <td>246.3</td>\n      <td>0.003681</td>\n      <td>14.4</td>\n      <td>0.01472</td>\n      <td>0.007389</td>\n      <td>...</td>\n      <td>89346</td>\n      <td>None</td>\n      <td>0.2991</td>\n      <td>B</td>\n      <td>0.002153</td>\n      <td>56.36</td>\n      <td>0.05232</td>\n      <td>0.02701</td>\n      <td>0.004883</td>\n      <td>0.1746</td>\n    </tr>\n    <tr>\n      <th>2</th>\n      <td>576</td>\n      <td>2183.0</td>\n      <td>None</td>\n      <td>0.02278</td>\n      <td>0.09524</td>\n      <td>409.0</td>\n      <td>0.01349</td>\n      <td>18.75</td>\n      <td>None</td>\n      <td>0.008328</td>\n      <td>...</td>\n      <td>85759902</td>\n      <td>None</td>\n      <td>0.3306</td>\n      <td>B</td>\n      <td>0.002386</td>\n      <td>73.34</td>\n      <td>None</td>\n      <td>0.03218</td>\n      <td>0.008722</td>\n      <td>0.3249</td>\n    </tr>\n    <tr>\n      <th>3</th>\n      <td>350</td>\n      <td>2225.0</td>\n      <td>13.28</td>\n      <td>0.01162</td>\n      <td>0.07561</td>\n      <td>421.0</td>\n      <td>0.005949</td>\n      <td>17.07</td>\n      <td>0.03046</td>\n      <td>0.006583</td>\n      <td>...</td>\n      <td>899187</td>\n      <td>0.1671</td>\n      <td>0.2731</td>\n      <td>B</td>\n      <td>0.002668</td>\n      <td>73.7</td>\n      <td>0.06476</td>\n      <td>0.02216</td>\n      <td>0.006991</td>\n      <td>0.3534</td>\n    </tr>\n    <tr>\n      <th>4</th>\n      <td>120</td>\n      <td>1103.0</td>\n      <td>12.82</td>\n      <td>0.02623</td>\n      <td>0.09373</td>\n      <td>403.3</td>\n      <td>0.01514</td>\n      <td>10.82</td>\n      <td>0.2102</td>\n      <td>None</td>\n      <td>...</td>\n      <td>865137</td>\n      <td>0.1667</td>\n      <td>0.3016</td>\n      <td>B</td>\n      <td>0.002206</td>\n      <td>73.34</td>\n      <td>239.0</td>\n      <td>0.01344</td>\n      <td>None</td>\n      <td>None</td>\n    </tr>\n  </tbody>\n</table>\n<p>5 rows × 33 columns</p>\n</div>"
     },
     "execution_count": 6,
     "metadata": {},
     "output_type": "execute_result"
    }
   ],
   "source": [
    "data.head()"
   ],
   "metadata": {
    "collapsed": false,
    "pycharm": {
     "name": "#%%\n"
    }
   }
  },
  {
   "cell_type": "code",
   "execution_count": null,
   "outputs": [],
   "source": [],
   "metadata": {
    "collapsed": false,
    "pycharm": {
     "name": "#%%\n"
    }
   }
  }
 ],
 "metadata": {
  "kernelspec": {
   "display_name": "Python 3",
   "language": "python",
   "name": "python3"
  },
  "language_info": {
   "codemirror_mode": {
    "name": "ipython",
    "version": 2
   },
   "file_extension": ".py",
   "mimetype": "text/x-python",
   "name": "python",
   "nbconvert_exporter": "python",
   "pygments_lexer": "ipython2",
   "version": "2.7.6"
  }
 },
 "nbformat": 4,
 "nbformat_minor": 0
}