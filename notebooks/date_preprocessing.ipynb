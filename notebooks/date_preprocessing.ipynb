{
 "cells": [
  {
   "cell_type": "code",
   "execution_count": 15,
   "metadata": {
    "collapsed": true
   },
   "outputs": [],
   "source": [
    "import pandas as pd\n",
    "import numpy as np"
   ]
  },
  {
   "cell_type": "code",
   "execution_count": 16,
   "outputs": [],
   "source": [
    "df=pd.read_csv('../data/raw/BreastCancerDS.csv',index_col=0)\n"
   ],
   "metadata": {
    "collapsed": false
   }
  },
  {
   "cell_type": "code",
   "execution_count": 17,
   "outputs": [
    {
     "name": "stdout",
     "output_type": "stream",
     "text": [
      "<class 'pandas.core.frame.DataFrame'>\n",
      "Int64Index: 19710 entries, 0 to 19709\n",
      "Data columns (total 35 columns):\n",
      " #   Column                   Non-Null Count  Dtype \n",
      "---  ------                   --------------  ----- \n",
      " 0   index                    19710 non-null  int64 \n",
      " 1   perimeter_se             19015 non-null  object\n",
      " 2   radius_worst             19085 non-null  object\n",
      " 3   concave points_mean      18980 non-null  object\n",
      " 4   smoothness_mean          18825 non-null  object\n",
      " 5   area_mean                18830 non-null  object\n",
      " 6   concavity_se             18905 non-null  object\n",
      " 7   texture_mean             18955 non-null  object\n",
      " 8   concavity_worst          19055 non-null  object\n",
      " 9   smoothness_se            19110 non-null  object\n",
      " 10  concave points_se        19000 non-null  object\n",
      " 11  area_worst               19060 non-null  object\n",
      " 12  compactness_mean         18935 non-null  object\n",
      " 13  radius_mean              19000 non-null  object\n",
      " 14  area_se                  18895 non-null  object\n",
      " 15  concave points_worst     19125 non-null  object\n",
      " 16  iuytr                    18885 non-null  object\n",
      " 17  fractal_dimension_worst  19095 non-null  object\n",
      " 18  perimeter_worst          19055 non-null  object\n",
      " 19  texture_se               19045 non-null  object\n",
      " 20  fractal_dimension_mean   19045 non-null  object\n",
      " 21  texture_worst            19060 non-null  object\n",
      " 22  smoothness_worst         19005 non-null  object\n",
      " 23  concavity_mean           18850 non-null  object\n",
      " 24  id                       19100 non-null  object\n",
      " 25  symmetry_mean            18885 non-null  object\n",
      " 26  symmetry_worst           19085 non-null  object\n",
      " 27  diagnosis                18800 non-null  object\n",
      " 28  erty                     19710 non-null  int64 \n",
      " 29  fractal_dimension_se     19035 non-null  object\n",
      " 30  perimeter_mean           18950 non-null  object\n",
      " 31  compactness_worst        19100 non-null  object\n",
      " 32  symmetry_se              19075 non-null  object\n",
      " 33  compactness_se           19005 non-null  object\n",
      " 34  radius_se                19060 non-null  object\n",
      "dtypes: int64(2), object(33)\n",
      "memory usage: 5.4+ MB\n"
     ]
    }
   ],
   "source": [
    "df.info()"
   ],
   "metadata": {
    "collapsed": false
   }
  },
  {
   "cell_type": "markdown",
   "source": [
    "## Limpiando  el target"
   ],
   "metadata": {
    "collapsed": false
   }
  },
  {
   "cell_type": "code",
   "execution_count": 17,
   "outputs": [],
   "source": [],
   "metadata": {
    "collapsed": false
   }
  },
  {
   "cell_type": "code",
   "execution_count": 18,
   "outputs": [
    {
     "data": {
      "text/plain": "B                          10245\nM                           5935\n999765432456788              655\n-88888765432345              655\n?                            655\nrxctf378968 7656463sdfg      655\nName: diagnosis, dtype: int64"
     },
     "execution_count": 18,
     "metadata": {},
     "output_type": "execute_result"
    }
   ],
   "source": [
    "df['diagnosis'].value_counts()"
   ],
   "metadata": {
    "collapsed": false
   }
  },
  {
   "cell_type": "code",
   "execution_count": 19,
   "outputs": [],
   "source": [
    "df=df[(df['diagnosis']=='B')|(df['diagnosis']=='M')]\n"
   ],
   "metadata": {
    "collapsed": false
   }
  },
  {
   "cell_type": "markdown",
   "source": [
    "## Borrando las columnas iuytr y erty"
   ],
   "metadata": {
    "collapsed": false
   }
  },
  {
   "cell_type": "code",
   "execution_count": 20,
   "outputs": [],
   "source": [
    "df['erty'].value_counts() ## todos los valores son iguales, se borra erty\n",
    "df.drop('erty',axis=1,inplace=True)"
   ],
   "metadata": {
    "collapsed": false
   }
  },
  {
   "cell_type": "code",
   "execution_count": 21,
   "outputs": [],
   "source": [
    "df[['iuytr','symmetry_mean']] ## estas dos columnas tienen la misma informacion, borrar una\n",
    "df.drop('iuytr',axis=1,inplace=True)"
   ],
   "metadata": {
    "collapsed": false
   }
  },
  {
   "cell_type": "code",
   "execution_count": 22,
   "outputs": [
    {
     "data": {
      "text/plain": "       index perimeter_se             radius_worst concave points_mean  \\\n1        279         1.83        999765432456788.0             0.03711   \n2        307       1144.0                   9699.0            0.003472   \n4        576       2183.0                       ?              0.02278   \n5        350       2225.0                    13.28             0.01162   \n7        120       1103.0                    12.82             0.02623   \n...      ...          ...                      ...                 ...   \n19703    602       2844.0                       ?              0.05613   \n19705    350       2225.0  rxctf378968 7656463sdfg             0.01162   \n19706    442       2235.0                    15.27            0.009937   \n19708    501       2974.0                    16.01             0.06759   \n19709    233       3767.0                    24.47              0.0834   \n\n         smoothness_mean area_mean concavity_se texture_mean concavity_worst  \\\n1                0.09516     587.4      0.01457        15.18          0.1456   \n2      -88888765432345.0     246.3     0.003681         14.4         0.01472   \n4                0.09524     409.0      0.01349        18.75              ?    \n5                0.07561     421.0     0.005949        17.07         0.03046   \n7                0.09373     403.3      0.01514        10.82          0.2102   \n...                  ...       ...          ...          ...             ...   \n19703             0.1008     809.8      0.02219        21.54          0.2992   \n19705            0.07561     421.0     0.005949        17.07         0.03046   \n19706  -88888765432345.0     585.9     0.007741        15.79         0.03517   \n19708             0.1162     595.9      0.03476        24.49          0.3381   \n19709            0.09159    1319.0      0.03457        27.81          0.4146   \n\n                 smoothness_se  ...        id            symmetry_mean  \\\n1                     0.004235  ...   8911834                    211.0   \n2                     0.007389  ...     89346        -88888765432345.0   \n4                     0.008328  ...  85759902                       ?    \n5                     0.006583  ...    899187                   0.1671   \n7                           ?   ...    865137                   0.1667   \n...                        ...  ...       ...                      ...   \n19703                 0.004877  ...  86730502                    216.0   \n19705  rxctf378968 7656463sdfg  ...    899187                   0.1671   \n19706        -88888765432345.0  ...  90944601                   0.1405   \n19708                  0.00968  ...     91504                   0.2275   \n19709                  0.00502  ...  88206102  rxctf378968 7656463sdfg   \n\n      symmetry_worst diagnosis     fractal_dimension_se     perimeter_mean  \\\n1             0.2955         B                 0.001593  999765432456788.0   \n2             0.2991         B                 0.002153              56.36   \n4             0.3306         B                 0.002386              73.34   \n5             0.2731         B                 0.002668               73.7   \n7             0.3016         B                 0.002206              73.34   \n...              ...       ...                      ...                ...   \n19703             ?          M                       ?               106.2   \n19705         0.2731         B  rxctf378968 7656463sdfg               73.7   \n19706         0.1859         B                 0.002564  -88888765432345.0   \n19708         0.3651         M                 0.006995              92.33   \n19709         0.2437         M                 0.002887              134.4   \n\n             compactness_worst        symmetry_se compactness_se  \\\n1                       0.1724            0.01528        0.01541   \n2                      0.05232            0.02701       0.004883   \n4                           ?             0.03218       0.008722   \n5                      0.06476            0.02216       0.006991   \n7                        239.0            0.01344             ?    \n...                        ...                ...            ...   \n19703                   0.3055            0.01535        0.01952   \n19705                  0.06476            0.02216       0.006991   \n19706                   0.1071  -88888765432345.0        0.01156   \n19708                   0.3966            0.02434        0.03856   \n19709  rxctf378968 7656463sdfg            0.01298        0.02062   \n\n               radius_se  \n1      999765432456788.0  \n2                 0.1746  \n4                 0.3249  \n5                 0.3534  \n7                     ?   \n...                  ...  \n19703             0.4332  \n19705             0.3534  \n19706             0.3563  \n19708             0.4751  \n19709              524.0  \n\n[16180 rows x 33 columns]",
      "text/html": "<div>\n<style scoped>\n    .dataframe tbody tr th:only-of-type {\n        vertical-align: middle;\n    }\n\n    .dataframe tbody tr th {\n        vertical-align: top;\n    }\n\n    .dataframe thead th {\n        text-align: right;\n    }\n</style>\n<table border=\"1\" class=\"dataframe\">\n  <thead>\n    <tr style=\"text-align: right;\">\n      <th></th>\n      <th>index</th>\n      <th>perimeter_se</th>\n      <th>radius_worst</th>\n      <th>concave points_mean</th>\n      <th>smoothness_mean</th>\n      <th>area_mean</th>\n      <th>concavity_se</th>\n      <th>texture_mean</th>\n      <th>concavity_worst</th>\n      <th>smoothness_se</th>\n      <th>...</th>\n      <th>id</th>\n      <th>symmetry_mean</th>\n      <th>symmetry_worst</th>\n      <th>diagnosis</th>\n      <th>fractal_dimension_se</th>\n      <th>perimeter_mean</th>\n      <th>compactness_worst</th>\n      <th>symmetry_se</th>\n      <th>compactness_se</th>\n      <th>radius_se</th>\n    </tr>\n  </thead>\n  <tbody>\n    <tr>\n      <th>1</th>\n      <td>279</td>\n      <td>1.83</td>\n      <td>999765432456788.0</td>\n      <td>0.03711</td>\n      <td>0.09516</td>\n      <td>587.4</td>\n      <td>0.01457</td>\n      <td>15.18</td>\n      <td>0.1456</td>\n      <td>0.004235</td>\n      <td>...</td>\n      <td>8911834</td>\n      <td>211.0</td>\n      <td>0.2955</td>\n      <td>B</td>\n      <td>0.001593</td>\n      <td>999765432456788.0</td>\n      <td>0.1724</td>\n      <td>0.01528</td>\n      <td>0.01541</td>\n      <td>999765432456788.0</td>\n    </tr>\n    <tr>\n      <th>2</th>\n      <td>307</td>\n      <td>1144.0</td>\n      <td>9699.0</td>\n      <td>0.003472</td>\n      <td>-88888765432345.0</td>\n      <td>246.3</td>\n      <td>0.003681</td>\n      <td>14.4</td>\n      <td>0.01472</td>\n      <td>0.007389</td>\n      <td>...</td>\n      <td>89346</td>\n      <td>-88888765432345.0</td>\n      <td>0.2991</td>\n      <td>B</td>\n      <td>0.002153</td>\n      <td>56.36</td>\n      <td>0.05232</td>\n      <td>0.02701</td>\n      <td>0.004883</td>\n      <td>0.1746</td>\n    </tr>\n    <tr>\n      <th>4</th>\n      <td>576</td>\n      <td>2183.0</td>\n      <td>?</td>\n      <td>0.02278</td>\n      <td>0.09524</td>\n      <td>409.0</td>\n      <td>0.01349</td>\n      <td>18.75</td>\n      <td>?</td>\n      <td>0.008328</td>\n      <td>...</td>\n      <td>85759902</td>\n      <td>?</td>\n      <td>0.3306</td>\n      <td>B</td>\n      <td>0.002386</td>\n      <td>73.34</td>\n      <td>?</td>\n      <td>0.03218</td>\n      <td>0.008722</td>\n      <td>0.3249</td>\n    </tr>\n    <tr>\n      <th>5</th>\n      <td>350</td>\n      <td>2225.0</td>\n      <td>13.28</td>\n      <td>0.01162</td>\n      <td>0.07561</td>\n      <td>421.0</td>\n      <td>0.005949</td>\n      <td>17.07</td>\n      <td>0.03046</td>\n      <td>0.006583</td>\n      <td>...</td>\n      <td>899187</td>\n      <td>0.1671</td>\n      <td>0.2731</td>\n      <td>B</td>\n      <td>0.002668</td>\n      <td>73.7</td>\n      <td>0.06476</td>\n      <td>0.02216</td>\n      <td>0.006991</td>\n      <td>0.3534</td>\n    </tr>\n    <tr>\n      <th>7</th>\n      <td>120</td>\n      <td>1103.0</td>\n      <td>12.82</td>\n      <td>0.02623</td>\n      <td>0.09373</td>\n      <td>403.3</td>\n      <td>0.01514</td>\n      <td>10.82</td>\n      <td>0.2102</td>\n      <td>?</td>\n      <td>...</td>\n      <td>865137</td>\n      <td>0.1667</td>\n      <td>0.3016</td>\n      <td>B</td>\n      <td>0.002206</td>\n      <td>73.34</td>\n      <td>239.0</td>\n      <td>0.01344</td>\n      <td>?</td>\n      <td>?</td>\n    </tr>\n    <tr>\n      <th>...</th>\n      <td>...</td>\n      <td>...</td>\n      <td>...</td>\n      <td>...</td>\n      <td>...</td>\n      <td>...</td>\n      <td>...</td>\n      <td>...</td>\n      <td>...</td>\n      <td>...</td>\n      <td>...</td>\n      <td>...</td>\n      <td>...</td>\n      <td>...</td>\n      <td>...</td>\n      <td>...</td>\n      <td>...</td>\n      <td>...</td>\n      <td>...</td>\n      <td>...</td>\n      <td>...</td>\n    </tr>\n    <tr>\n      <th>19703</th>\n      <td>602</td>\n      <td>2844.0</td>\n      <td>?</td>\n      <td>0.05613</td>\n      <td>0.1008</td>\n      <td>809.8</td>\n      <td>0.02219</td>\n      <td>21.54</td>\n      <td>0.2992</td>\n      <td>0.004877</td>\n      <td>...</td>\n      <td>86730502</td>\n      <td>216.0</td>\n      <td>?</td>\n      <td>M</td>\n      <td>?</td>\n      <td>106.2</td>\n      <td>0.3055</td>\n      <td>0.01535</td>\n      <td>0.01952</td>\n      <td>0.4332</td>\n    </tr>\n    <tr>\n      <th>19705</th>\n      <td>350</td>\n      <td>2225.0</td>\n      <td>rxctf378968 7656463sdfg</td>\n      <td>0.01162</td>\n      <td>0.07561</td>\n      <td>421.0</td>\n      <td>0.005949</td>\n      <td>17.07</td>\n      <td>0.03046</td>\n      <td>rxctf378968 7656463sdfg</td>\n      <td>...</td>\n      <td>899187</td>\n      <td>0.1671</td>\n      <td>0.2731</td>\n      <td>B</td>\n      <td>rxctf378968 7656463sdfg</td>\n      <td>73.7</td>\n      <td>0.06476</td>\n      <td>0.02216</td>\n      <td>0.006991</td>\n      <td>0.3534</td>\n    </tr>\n    <tr>\n      <th>19706</th>\n      <td>442</td>\n      <td>2235.0</td>\n      <td>15.27</td>\n      <td>0.009937</td>\n      <td>-88888765432345.0</td>\n      <td>585.9</td>\n      <td>0.007741</td>\n      <td>15.79</td>\n      <td>0.03517</td>\n      <td>-88888765432345.0</td>\n      <td>...</td>\n      <td>90944601</td>\n      <td>0.1405</td>\n      <td>0.1859</td>\n      <td>B</td>\n      <td>0.002564</td>\n      <td>-88888765432345.0</td>\n      <td>0.1071</td>\n      <td>-88888765432345.0</td>\n      <td>0.01156</td>\n      <td>0.3563</td>\n    </tr>\n    <tr>\n      <th>19708</th>\n      <td>501</td>\n      <td>2974.0</td>\n      <td>16.01</td>\n      <td>0.06759</td>\n      <td>0.1162</td>\n      <td>595.9</td>\n      <td>0.03476</td>\n      <td>24.49</td>\n      <td>0.3381</td>\n      <td>0.00968</td>\n      <td>...</td>\n      <td>91504</td>\n      <td>0.2275</td>\n      <td>0.3651</td>\n      <td>M</td>\n      <td>0.006995</td>\n      <td>92.33</td>\n      <td>0.3966</td>\n      <td>0.02434</td>\n      <td>0.03856</td>\n      <td>0.4751</td>\n    </tr>\n    <tr>\n      <th>19709</th>\n      <td>233</td>\n      <td>3767.0</td>\n      <td>24.47</td>\n      <td>0.0834</td>\n      <td>0.09159</td>\n      <td>1319.0</td>\n      <td>0.03457</td>\n      <td>27.81</td>\n      <td>0.4146</td>\n      <td>0.00502</td>\n      <td>...</td>\n      <td>88206102</td>\n      <td>rxctf378968 7656463sdfg</td>\n      <td>0.2437</td>\n      <td>M</td>\n      <td>0.002887</td>\n      <td>134.4</td>\n      <td>rxctf378968 7656463sdfg</td>\n      <td>0.01298</td>\n      <td>0.02062</td>\n      <td>524.0</td>\n    </tr>\n  </tbody>\n</table>\n<p>16180 rows × 33 columns</p>\n</div>"
     },
     "execution_count": 22,
     "metadata": {},
     "output_type": "execute_result"
    }
   ],
   "source": [
    "df"
   ],
   "metadata": {
    "collapsed": false
   }
  },
  {
   "cell_type": "code",
   "execution_count": 23,
   "outputs": [
    {
     "data": {
      "text/plain": "perimeter_se               3.275649\nradius_worst               3.182942\nconcave points_mean        3.244747\nsmoothness_mean            4.295426\narea_mean                  4.140915\nconcavity_se               3.831891\ntexture_mean               3.522868\nconcavity_worst            3.213844\nsmoothness_se              2.626700\nconcave points_se          3.430161\narea_worst                 3.337454\ncompactness_mean           3.770087\nradius_mean                3.491965\narea_se                    3.831891\nconcave points_worst       2.997528\nfractal_dimension_worst    2.904821\nperimeter_worst            3.152040\ntexture_se                 3.182942\nfractal_dimension_mean     3.090235\ntexture_worst              3.244747\nsmoothness_worst           3.337454\nconcavity_mean             4.295426\nid                         2.657602\nsymmetry_mean              3.831891\nsymmetry_worst             2.843016\nfractal_dimension_se       3.059333\nperimeter_mean             3.770087\ncompactness_worst          2.966625\nsymmetry_se                2.966625\ncompactness_se             3.244747\nradius_se                  3.152040\ndtype: float64"
     },
     "execution_count": 23,
     "metadata": {},
     "output_type": "execute_result"
    }
   ],
   "source": [
    "missing = df.isnull().sum()\n",
    "missing[missing>0]*100/len(df)"
   ],
   "metadata": {
    "collapsed": false
   }
  },
  {
   "cell_type": "code",
   "execution_count": 24,
   "outputs": [
    {
     "data": {
      "text/plain": "       index perimeter_se             radius_worst concave points_mean  \\\n1        279         1.83        999765432456788.0             0.03711   \n2        307       1144.0                   9699.0            0.003472   \n4        576       2183.0                       ?              0.02278   \n5        350       2225.0                    13.28             0.01162   \n7        120       1103.0                    12.82             0.02623   \n...      ...          ...                      ...                 ...   \n19703    602       2844.0                       ?              0.05613   \n19705    350       2225.0  rxctf378968 7656463sdfg             0.01162   \n19706    442       2235.0                    15.27            0.009937   \n19708    501       2974.0                    16.01             0.06759   \n19709    233       3767.0                    24.47              0.0834   \n\n         smoothness_mean area_mean concavity_se texture_mean concavity_worst  \\\n1                0.09516     587.4      0.01457        15.18          0.1456   \n2      -88888765432345.0     246.3     0.003681         14.4         0.01472   \n4                0.09524     409.0      0.01349        18.75              ?    \n5                0.07561     421.0     0.005949        17.07         0.03046   \n7                0.09373     403.3      0.01514        10.82          0.2102   \n...                  ...       ...          ...          ...             ...   \n19703             0.1008     809.8      0.02219        21.54          0.2992   \n19705            0.07561     421.0     0.005949        17.07         0.03046   \n19706  -88888765432345.0     585.9     0.007741        15.79         0.03517   \n19708             0.1162     595.9      0.03476        24.49          0.3381   \n19709            0.09159    1319.0      0.03457        27.81          0.4146   \n\n                 smoothness_se  ...        id            symmetry_mean  \\\n1                     0.004235  ...   8911834                    211.0   \n2                     0.007389  ...     89346        -88888765432345.0   \n4                     0.008328  ...  85759902                       ?    \n5                     0.006583  ...    899187                   0.1671   \n7                           ?   ...    865137                   0.1667   \n...                        ...  ...       ...                      ...   \n19703                 0.004877  ...  86730502                    216.0   \n19705  rxctf378968 7656463sdfg  ...    899187                   0.1671   \n19706        -88888765432345.0  ...  90944601                   0.1405   \n19708                  0.00968  ...     91504                   0.2275   \n19709                  0.00502  ...  88206102  rxctf378968 7656463sdfg   \n\n      symmetry_worst diagnosis     fractal_dimension_se     perimeter_mean  \\\n1             0.2955         B                 0.001593  999765432456788.0   \n2             0.2991         B                 0.002153              56.36   \n4             0.3306         B                 0.002386              73.34   \n5             0.2731         B                 0.002668               73.7   \n7             0.3016         B                 0.002206              73.34   \n...              ...       ...                      ...                ...   \n19703             ?          M                       ?               106.2   \n19705         0.2731         B  rxctf378968 7656463sdfg               73.7   \n19706         0.1859         B                 0.002564  -88888765432345.0   \n19708         0.3651         M                 0.006995              92.33   \n19709         0.2437         M                 0.002887              134.4   \n\n             compactness_worst        symmetry_se compactness_se  \\\n1                       0.1724            0.01528        0.01541   \n2                      0.05232            0.02701       0.004883   \n4                           ?             0.03218       0.008722   \n5                      0.06476            0.02216       0.006991   \n7                        239.0            0.01344             ?    \n...                        ...                ...            ...   \n19703                   0.3055            0.01535        0.01952   \n19705                  0.06476            0.02216       0.006991   \n19706                   0.1071  -88888765432345.0        0.01156   \n19708                   0.3966            0.02434        0.03856   \n19709  rxctf378968 7656463sdfg            0.01298        0.02062   \n\n               radius_se  \n1      999765432456788.0  \n2                 0.1746  \n4                 0.3249  \n5                 0.3534  \n7                     ?   \n...                  ...  \n19703             0.4332  \n19705             0.3534  \n19706             0.3563  \n19708             0.4751  \n19709              524.0  \n\n[13460 rows x 33 columns]",
      "text/html": "<div>\n<style scoped>\n    .dataframe tbody tr th:only-of-type {\n        vertical-align: middle;\n    }\n\n    .dataframe tbody tr th {\n        vertical-align: top;\n    }\n\n    .dataframe thead th {\n        text-align: right;\n    }\n</style>\n<table border=\"1\" class=\"dataframe\">\n  <thead>\n    <tr style=\"text-align: right;\">\n      <th></th>\n      <th>index</th>\n      <th>perimeter_se</th>\n      <th>radius_worst</th>\n      <th>concave points_mean</th>\n      <th>smoothness_mean</th>\n      <th>area_mean</th>\n      <th>concavity_se</th>\n      <th>texture_mean</th>\n      <th>concavity_worst</th>\n      <th>smoothness_se</th>\n      <th>...</th>\n      <th>id</th>\n      <th>symmetry_mean</th>\n      <th>symmetry_worst</th>\n      <th>diagnosis</th>\n      <th>fractal_dimension_se</th>\n      <th>perimeter_mean</th>\n      <th>compactness_worst</th>\n      <th>symmetry_se</th>\n      <th>compactness_se</th>\n      <th>radius_se</th>\n    </tr>\n  </thead>\n  <tbody>\n    <tr>\n      <th>1</th>\n      <td>279</td>\n      <td>1.83</td>\n      <td>999765432456788.0</td>\n      <td>0.03711</td>\n      <td>0.09516</td>\n      <td>587.4</td>\n      <td>0.01457</td>\n      <td>15.18</td>\n      <td>0.1456</td>\n      <td>0.004235</td>\n      <td>...</td>\n      <td>8911834</td>\n      <td>211.0</td>\n      <td>0.2955</td>\n      <td>B</td>\n      <td>0.001593</td>\n      <td>999765432456788.0</td>\n      <td>0.1724</td>\n      <td>0.01528</td>\n      <td>0.01541</td>\n      <td>999765432456788.0</td>\n    </tr>\n    <tr>\n      <th>2</th>\n      <td>307</td>\n      <td>1144.0</td>\n      <td>9699.0</td>\n      <td>0.003472</td>\n      <td>-88888765432345.0</td>\n      <td>246.3</td>\n      <td>0.003681</td>\n      <td>14.4</td>\n      <td>0.01472</td>\n      <td>0.007389</td>\n      <td>...</td>\n      <td>89346</td>\n      <td>-88888765432345.0</td>\n      <td>0.2991</td>\n      <td>B</td>\n      <td>0.002153</td>\n      <td>56.36</td>\n      <td>0.05232</td>\n      <td>0.02701</td>\n      <td>0.004883</td>\n      <td>0.1746</td>\n    </tr>\n    <tr>\n      <th>4</th>\n      <td>576</td>\n      <td>2183.0</td>\n      <td>?</td>\n      <td>0.02278</td>\n      <td>0.09524</td>\n      <td>409.0</td>\n      <td>0.01349</td>\n      <td>18.75</td>\n      <td>?</td>\n      <td>0.008328</td>\n      <td>...</td>\n      <td>85759902</td>\n      <td>?</td>\n      <td>0.3306</td>\n      <td>B</td>\n      <td>0.002386</td>\n      <td>73.34</td>\n      <td>?</td>\n      <td>0.03218</td>\n      <td>0.008722</td>\n      <td>0.3249</td>\n    </tr>\n    <tr>\n      <th>5</th>\n      <td>350</td>\n      <td>2225.0</td>\n      <td>13.28</td>\n      <td>0.01162</td>\n      <td>0.07561</td>\n      <td>421.0</td>\n      <td>0.005949</td>\n      <td>17.07</td>\n      <td>0.03046</td>\n      <td>0.006583</td>\n      <td>...</td>\n      <td>899187</td>\n      <td>0.1671</td>\n      <td>0.2731</td>\n      <td>B</td>\n      <td>0.002668</td>\n      <td>73.7</td>\n      <td>0.06476</td>\n      <td>0.02216</td>\n      <td>0.006991</td>\n      <td>0.3534</td>\n    </tr>\n    <tr>\n      <th>7</th>\n      <td>120</td>\n      <td>1103.0</td>\n      <td>12.82</td>\n      <td>0.02623</td>\n      <td>0.09373</td>\n      <td>403.3</td>\n      <td>0.01514</td>\n      <td>10.82</td>\n      <td>0.2102</td>\n      <td>?</td>\n      <td>...</td>\n      <td>865137</td>\n      <td>0.1667</td>\n      <td>0.3016</td>\n      <td>B</td>\n      <td>0.002206</td>\n      <td>73.34</td>\n      <td>239.0</td>\n      <td>0.01344</td>\n      <td>?</td>\n      <td>?</td>\n    </tr>\n    <tr>\n      <th>...</th>\n      <td>...</td>\n      <td>...</td>\n      <td>...</td>\n      <td>...</td>\n      <td>...</td>\n      <td>...</td>\n      <td>...</td>\n      <td>...</td>\n      <td>...</td>\n      <td>...</td>\n      <td>...</td>\n      <td>...</td>\n      <td>...</td>\n      <td>...</td>\n      <td>...</td>\n      <td>...</td>\n      <td>...</td>\n      <td>...</td>\n      <td>...</td>\n      <td>...</td>\n      <td>...</td>\n    </tr>\n    <tr>\n      <th>19703</th>\n      <td>602</td>\n      <td>2844.0</td>\n      <td>?</td>\n      <td>0.05613</td>\n      <td>0.1008</td>\n      <td>809.8</td>\n      <td>0.02219</td>\n      <td>21.54</td>\n      <td>0.2992</td>\n      <td>0.004877</td>\n      <td>...</td>\n      <td>86730502</td>\n      <td>216.0</td>\n      <td>?</td>\n      <td>M</td>\n      <td>?</td>\n      <td>106.2</td>\n      <td>0.3055</td>\n      <td>0.01535</td>\n      <td>0.01952</td>\n      <td>0.4332</td>\n    </tr>\n    <tr>\n      <th>19705</th>\n      <td>350</td>\n      <td>2225.0</td>\n      <td>rxctf378968 7656463sdfg</td>\n      <td>0.01162</td>\n      <td>0.07561</td>\n      <td>421.0</td>\n      <td>0.005949</td>\n      <td>17.07</td>\n      <td>0.03046</td>\n      <td>rxctf378968 7656463sdfg</td>\n      <td>...</td>\n      <td>899187</td>\n      <td>0.1671</td>\n      <td>0.2731</td>\n      <td>B</td>\n      <td>rxctf378968 7656463sdfg</td>\n      <td>73.7</td>\n      <td>0.06476</td>\n      <td>0.02216</td>\n      <td>0.006991</td>\n      <td>0.3534</td>\n    </tr>\n    <tr>\n      <th>19706</th>\n      <td>442</td>\n      <td>2235.0</td>\n      <td>15.27</td>\n      <td>0.009937</td>\n      <td>-88888765432345.0</td>\n      <td>585.9</td>\n      <td>0.007741</td>\n      <td>15.79</td>\n      <td>0.03517</td>\n      <td>-88888765432345.0</td>\n      <td>...</td>\n      <td>90944601</td>\n      <td>0.1405</td>\n      <td>0.1859</td>\n      <td>B</td>\n      <td>0.002564</td>\n      <td>-88888765432345.0</td>\n      <td>0.1071</td>\n      <td>-88888765432345.0</td>\n      <td>0.01156</td>\n      <td>0.3563</td>\n    </tr>\n    <tr>\n      <th>19708</th>\n      <td>501</td>\n      <td>2974.0</td>\n      <td>16.01</td>\n      <td>0.06759</td>\n      <td>0.1162</td>\n      <td>595.9</td>\n      <td>0.03476</td>\n      <td>24.49</td>\n      <td>0.3381</td>\n      <td>0.00968</td>\n      <td>...</td>\n      <td>91504</td>\n      <td>0.2275</td>\n      <td>0.3651</td>\n      <td>M</td>\n      <td>0.006995</td>\n      <td>92.33</td>\n      <td>0.3966</td>\n      <td>0.02434</td>\n      <td>0.03856</td>\n      <td>0.4751</td>\n    </tr>\n    <tr>\n      <th>19709</th>\n      <td>233</td>\n      <td>3767.0</td>\n      <td>24.47</td>\n      <td>0.0834</td>\n      <td>0.09159</td>\n      <td>1319.0</td>\n      <td>0.03457</td>\n      <td>27.81</td>\n      <td>0.4146</td>\n      <td>0.00502</td>\n      <td>...</td>\n      <td>88206102</td>\n      <td>rxctf378968 7656463sdfg</td>\n      <td>0.2437</td>\n      <td>M</td>\n      <td>0.002887</td>\n      <td>134.4</td>\n      <td>rxctf378968 7656463sdfg</td>\n      <td>0.01298</td>\n      <td>0.02062</td>\n      <td>524.0</td>\n    </tr>\n  </tbody>\n</table>\n<p>13460 rows × 33 columns</p>\n</div>"
     },
     "execution_count": 24,
     "metadata": {},
     "output_type": "execute_result"
    }
   ],
   "source": [
    "df.dropna()\n"
   ],
   "metadata": {
    "collapsed": false
   }
  },
  {
   "cell_type": "code",
   "execution_count": 25,
   "outputs": [
    {
     "name": "stderr",
     "output_type": "stream",
     "text": [
      "C:\\Users\\CAMARA22\\AppData\\Local\\Temp\\ipykernel_20676\\155383082.py:1: FutureWarning: Dropping invalid columns in DataFrameGroupBy.mean is deprecated. In a future version, a TypeError will be raised. Before calling .mean, select only columns which should be valid for the function.\n",
      "  table = pd.pivot_table(df, index =[\"index\",\"id\"])\n"
     ]
    }
   ],
   "source": [
    "table = pd.pivot_table(df, index =[\"index\",\"id\"])"
   ],
   "metadata": {
    "collapsed": false
   }
  },
  {
   "cell_type": "code",
   "execution_count": 26,
   "outputs": [
    {
     "data": {
      "text/plain": "Empty DataFrame\nColumns: []\nIndex: [(0, 842302), (0, rxctf378968 7656463sdfg), (1, 842517), (1, 842517.0), (2, 84300903), (3, 84348301), (3, ? ), (3, rxctf378968 7656463sdfg), (4, 84358402), (5, 843786), (6, 844359), (6, 844359.0), (6, 999765432456788), (7, -88888765432345), (7, 84458202), (7, 84458202.0), (7, 999765432456788), (8, 844981), (8, 844981.0), (8, ? ), (9, 84501001), (9, 84501001.0), (9, rxctf378968 7656463sdfg), (10, 845636), (11, 84610002), (11, 84610002.0), (12, 846226), (12, 846226.0), (12, 999765432456788), (12, ? ), (13, 846381), (13, 846381.0), (13, ? ), (14, 84667401), (14, 84667401.0), (15, 84799002), (15, rxctf378968 7656463sdfg), (16, 848406), (17, -88888765432345), (17, 84862001), (17, 84862001.0), (17, ? ), (18, 849014), (18, 849014.0), (19, 8510426), (19, 8510426.0), (20, 8510653), (20, 8510653.0), (20, rxctf378968 7656463sdfg), (21, 8510824), (22, 8511133), (22, 8511133.0), (23, 851509), (23, 851509.0), (23, 999765432456788), (23, ? ), (24, 852552), (24, 852552.0), (25, 852631), (25, 852631.0), (26, 852763), (26, 852763.0), (26, ? ), (27, 852781), (27, 852781.0), (28, 852973), (28, 852973.0), (28, 999765432456788), (29, 853201), (29, 999765432456788), (29, ? ), (30, 853401), (30, 853401.0), (30, 999765432456788), (31, 853612), (31, ? ), (32, 85382601), (32, 85382601.0), (32, ? ), (33, 854002), (33, 854002.0), (34, 854039), (34, 854039.0), (35, 854253), (35, 854253.0), (35, 999765432456788), (36, 854268), (36, 854268.0), (36, ? ), (37, 854941), (37, 854941.0), (38, 855133), (38, 855133.0), (38, ? ), (39, 855138), (39, 855138.0), (39, 999765432456788), (40, 855167), (40, 855167.0), (41, -88888765432345), ...]\n\n[1490 rows x 0 columns]",
      "text/html": "<div>\n<style scoped>\n    .dataframe tbody tr th:only-of-type {\n        vertical-align: middle;\n    }\n\n    .dataframe tbody tr th {\n        vertical-align: top;\n    }\n\n    .dataframe thead th {\n        text-align: right;\n    }\n</style>\n<table border=\"1\" class=\"dataframe\">\n  <thead>\n    <tr style=\"text-align: right;\">\n      <th></th>\n      <th></th>\n    </tr>\n    <tr>\n      <th>index</th>\n      <th>id</th>\n    </tr>\n  </thead>\n  <tbody>\n    <tr>\n      <th rowspan=\"2\" valign=\"top\">0</th>\n      <th>842302</th>\n    </tr>\n    <tr>\n      <th>rxctf378968 7656463sdfg</th>\n    </tr>\n    <tr>\n      <th rowspan=\"2\" valign=\"top\">1</th>\n      <th>842517</th>\n    </tr>\n    <tr>\n      <th>842517.0</th>\n    </tr>\n    <tr>\n      <th>2</th>\n      <th>84300903</th>\n    </tr>\n    <tr>\n      <th>...</th>\n      <th>...</th>\n    </tr>\n    <tr>\n      <th rowspan=\"2\" valign=\"top\">655</th>\n      <th>913505.0</th>\n    </tr>\n    <tr>\n      <th>999765432456788</th>\n    </tr>\n    <tr>\n      <th rowspan=\"3\" valign=\"top\">656</th>\n      <th>913512</th>\n    </tr>\n    <tr>\n      <th>913512.0</th>\n    </tr>\n    <tr>\n      <th>?</th>\n    </tr>\n  </tbody>\n</table>\n<p>1490 rows × 0 columns</p>\n</div>"
     },
     "execution_count": 26,
     "metadata": {},
     "output_type": "execute_result"
    }
   ],
   "source": [
    "table\n"
   ],
   "metadata": {
    "collapsed": false
   }
  },
  {
   "cell_type": "code",
   "execution_count": 27,
   "outputs": [],
   "source": [
    "df['index']=df['index'].astype('string')\n",
    "list= ['index', 'perimeter_se', 'radius_worst', 'concave points_mean',\n",
    "       'smoothness_mean', 'area_mean', 'concavity_se', 'texture_mean',\n",
    "       'concavity_worst', 'smoothness_se', 'concave points_se', 'area_worst',\n",
    "       'compactness_mean', 'radius_mean', 'area_se', 'concave points_worst'\n",
    "       , 'fractal_dimension_worst', 'perimeter_worst', 'texture_se',\n",
    "       'fractal_dimension_mean', 'texture_worst', 'smoothness_worst',\n",
    "       'concavity_mean', 'id', 'symmetry_mean', 'symmetry_worst', 'diagnosis',\n",
    "       'fractal_dimension_se', 'perimeter_mean', 'compactness_worst',\n",
    "       'symmetry_se', 'compactness_se', 'radius_se']\n",
    "for i in list:\n",
    "    df[i]= df[i].str.strip()"
   ],
   "metadata": {
    "collapsed": false
   }
  },
  {
   "cell_type": "code",
   "execution_count": 28,
   "outputs": [],
   "source": [
    "list=['rxctf378968 7656463sdfg','-88888765432345.0','999765432456788.0','?']\n",
    "for i in list:\n",
    "       df.replace(i,np.nan,inplace=True)\n"
   ],
   "metadata": {
    "collapsed": false
   }
  },
  {
   "cell_type": "code",
   "execution_count": 29,
   "outputs": [
    {
     "data": {
      "text/plain": "      index perimeter_se radius_worst concave points_mean smoothness_mean  \\\n1       279         1.83          NaN             0.03711         0.09516   \n2       307       1144.0       9699.0            0.003472             NaN   \n4       576       2183.0          NaN             0.02278         0.09524   \n5       350       2225.0        13.28             0.01162         0.07561   \n7       120       1103.0        12.82             0.02623         0.09373   \n...     ...          ...          ...                 ...             ...   \n19703   602       2844.0          NaN             0.05613          0.1008   \n19705   350       2225.0          NaN             0.01162         0.07561   \n19706   442       2235.0        15.27            0.009937             NaN   \n19708   501       2974.0        16.01             0.06759          0.1162   \n19709   233       3767.0        24.47              0.0834         0.09159   \n\n      area_mean concavity_se texture_mean concavity_worst smoothness_se  ...  \\\n1         587.4      0.01457        15.18          0.1456      0.004235  ...   \n2         246.3     0.003681         14.4         0.01472      0.007389  ...   \n4         409.0      0.01349        18.75             NaN      0.008328  ...   \n5         421.0     0.005949        17.07         0.03046      0.006583  ...   \n7         403.3      0.01514        10.82          0.2102           NaN  ...   \n...         ...          ...          ...             ...           ...  ...   \n19703     809.8      0.02219        21.54          0.2992      0.004877  ...   \n19705     421.0     0.005949        17.07         0.03046           NaN  ...   \n19706     585.9     0.007741        15.79         0.03517           NaN  ...   \n19708     595.9      0.03476        24.49          0.3381       0.00968  ...   \n19709    1319.0      0.03457        27.81          0.4146       0.00502  ...   \n\n             id symmetry_mean symmetry_worst diagnosis fractal_dimension_se  \\\n1       8911834         211.0         0.2955         B             0.001593   \n2         89346           NaN         0.2991         B             0.002153   \n4      85759902           NaN         0.3306         B             0.002386   \n5        899187        0.1671         0.2731         B             0.002668   \n7        865137        0.1667         0.3016         B             0.002206   \n...         ...           ...            ...       ...                  ...   \n19703  86730502         216.0            NaN         M                  NaN   \n19705    899187        0.1671         0.2731         B                  NaN   \n19706  90944601        0.1405         0.1859         B             0.002564   \n19708     91504        0.2275         0.3651         M             0.006995   \n19709  88206102           NaN         0.2437         M             0.002887   \n\n      perimeter_mean compactness_worst symmetry_se compactness_se radius_se  \n1                NaN            0.1724     0.01528        0.01541       NaN  \n2              56.36           0.05232     0.02701       0.004883    0.1746  \n4              73.34               NaN     0.03218       0.008722    0.3249  \n5               73.7           0.06476     0.02216       0.006991    0.3534  \n7              73.34             239.0     0.01344            NaN       NaN  \n...              ...               ...         ...            ...       ...  \n19703          106.2            0.3055     0.01535        0.01952    0.4332  \n19705           73.7           0.06476     0.02216       0.006991    0.3534  \n19706            NaN            0.1071         NaN        0.01156    0.3563  \n19708          92.33            0.3966     0.02434        0.03856    0.4751  \n19709          134.4               NaN     0.01298        0.02062     524.0  \n\n[16180 rows x 33 columns]",
      "text/html": "<div>\n<style scoped>\n    .dataframe tbody tr th:only-of-type {\n        vertical-align: middle;\n    }\n\n    .dataframe tbody tr th {\n        vertical-align: top;\n    }\n\n    .dataframe thead th {\n        text-align: right;\n    }\n</style>\n<table border=\"1\" class=\"dataframe\">\n  <thead>\n    <tr style=\"text-align: right;\">\n      <th></th>\n      <th>index</th>\n      <th>perimeter_se</th>\n      <th>radius_worst</th>\n      <th>concave points_mean</th>\n      <th>smoothness_mean</th>\n      <th>area_mean</th>\n      <th>concavity_se</th>\n      <th>texture_mean</th>\n      <th>concavity_worst</th>\n      <th>smoothness_se</th>\n      <th>...</th>\n      <th>id</th>\n      <th>symmetry_mean</th>\n      <th>symmetry_worst</th>\n      <th>diagnosis</th>\n      <th>fractal_dimension_se</th>\n      <th>perimeter_mean</th>\n      <th>compactness_worst</th>\n      <th>symmetry_se</th>\n      <th>compactness_se</th>\n      <th>radius_se</th>\n    </tr>\n  </thead>\n  <tbody>\n    <tr>\n      <th>1</th>\n      <td>279</td>\n      <td>1.83</td>\n      <td>NaN</td>\n      <td>0.03711</td>\n      <td>0.09516</td>\n      <td>587.4</td>\n      <td>0.01457</td>\n      <td>15.18</td>\n      <td>0.1456</td>\n      <td>0.004235</td>\n      <td>...</td>\n      <td>8911834</td>\n      <td>211.0</td>\n      <td>0.2955</td>\n      <td>B</td>\n      <td>0.001593</td>\n      <td>NaN</td>\n      <td>0.1724</td>\n      <td>0.01528</td>\n      <td>0.01541</td>\n      <td>NaN</td>\n    </tr>\n    <tr>\n      <th>2</th>\n      <td>307</td>\n      <td>1144.0</td>\n      <td>9699.0</td>\n      <td>0.003472</td>\n      <td>NaN</td>\n      <td>246.3</td>\n      <td>0.003681</td>\n      <td>14.4</td>\n      <td>0.01472</td>\n      <td>0.007389</td>\n      <td>...</td>\n      <td>89346</td>\n      <td>NaN</td>\n      <td>0.2991</td>\n      <td>B</td>\n      <td>0.002153</td>\n      <td>56.36</td>\n      <td>0.05232</td>\n      <td>0.02701</td>\n      <td>0.004883</td>\n      <td>0.1746</td>\n    </tr>\n    <tr>\n      <th>4</th>\n      <td>576</td>\n      <td>2183.0</td>\n      <td>NaN</td>\n      <td>0.02278</td>\n      <td>0.09524</td>\n      <td>409.0</td>\n      <td>0.01349</td>\n      <td>18.75</td>\n      <td>NaN</td>\n      <td>0.008328</td>\n      <td>...</td>\n      <td>85759902</td>\n      <td>NaN</td>\n      <td>0.3306</td>\n      <td>B</td>\n      <td>0.002386</td>\n      <td>73.34</td>\n      <td>NaN</td>\n      <td>0.03218</td>\n      <td>0.008722</td>\n      <td>0.3249</td>\n    </tr>\n    <tr>\n      <th>5</th>\n      <td>350</td>\n      <td>2225.0</td>\n      <td>13.28</td>\n      <td>0.01162</td>\n      <td>0.07561</td>\n      <td>421.0</td>\n      <td>0.005949</td>\n      <td>17.07</td>\n      <td>0.03046</td>\n      <td>0.006583</td>\n      <td>...</td>\n      <td>899187</td>\n      <td>0.1671</td>\n      <td>0.2731</td>\n      <td>B</td>\n      <td>0.002668</td>\n      <td>73.7</td>\n      <td>0.06476</td>\n      <td>0.02216</td>\n      <td>0.006991</td>\n      <td>0.3534</td>\n    </tr>\n    <tr>\n      <th>7</th>\n      <td>120</td>\n      <td>1103.0</td>\n      <td>12.82</td>\n      <td>0.02623</td>\n      <td>0.09373</td>\n      <td>403.3</td>\n      <td>0.01514</td>\n      <td>10.82</td>\n      <td>0.2102</td>\n      <td>NaN</td>\n      <td>...</td>\n      <td>865137</td>\n      <td>0.1667</td>\n      <td>0.3016</td>\n      <td>B</td>\n      <td>0.002206</td>\n      <td>73.34</td>\n      <td>239.0</td>\n      <td>0.01344</td>\n      <td>NaN</td>\n      <td>NaN</td>\n    </tr>\n    <tr>\n      <th>...</th>\n      <td>...</td>\n      <td>...</td>\n      <td>...</td>\n      <td>...</td>\n      <td>...</td>\n      <td>...</td>\n      <td>...</td>\n      <td>...</td>\n      <td>...</td>\n      <td>...</td>\n      <td>...</td>\n      <td>...</td>\n      <td>...</td>\n      <td>...</td>\n      <td>...</td>\n      <td>...</td>\n      <td>...</td>\n      <td>...</td>\n      <td>...</td>\n      <td>...</td>\n      <td>...</td>\n    </tr>\n    <tr>\n      <th>19703</th>\n      <td>602</td>\n      <td>2844.0</td>\n      <td>NaN</td>\n      <td>0.05613</td>\n      <td>0.1008</td>\n      <td>809.8</td>\n      <td>0.02219</td>\n      <td>21.54</td>\n      <td>0.2992</td>\n      <td>0.004877</td>\n      <td>...</td>\n      <td>86730502</td>\n      <td>216.0</td>\n      <td>NaN</td>\n      <td>M</td>\n      <td>NaN</td>\n      <td>106.2</td>\n      <td>0.3055</td>\n      <td>0.01535</td>\n      <td>0.01952</td>\n      <td>0.4332</td>\n    </tr>\n    <tr>\n      <th>19705</th>\n      <td>350</td>\n      <td>2225.0</td>\n      <td>NaN</td>\n      <td>0.01162</td>\n      <td>0.07561</td>\n      <td>421.0</td>\n      <td>0.005949</td>\n      <td>17.07</td>\n      <td>0.03046</td>\n      <td>NaN</td>\n      <td>...</td>\n      <td>899187</td>\n      <td>0.1671</td>\n      <td>0.2731</td>\n      <td>B</td>\n      <td>NaN</td>\n      <td>73.7</td>\n      <td>0.06476</td>\n      <td>0.02216</td>\n      <td>0.006991</td>\n      <td>0.3534</td>\n    </tr>\n    <tr>\n      <th>19706</th>\n      <td>442</td>\n      <td>2235.0</td>\n      <td>15.27</td>\n      <td>0.009937</td>\n      <td>NaN</td>\n      <td>585.9</td>\n      <td>0.007741</td>\n      <td>15.79</td>\n      <td>0.03517</td>\n      <td>NaN</td>\n      <td>...</td>\n      <td>90944601</td>\n      <td>0.1405</td>\n      <td>0.1859</td>\n      <td>B</td>\n      <td>0.002564</td>\n      <td>NaN</td>\n      <td>0.1071</td>\n      <td>NaN</td>\n      <td>0.01156</td>\n      <td>0.3563</td>\n    </tr>\n    <tr>\n      <th>19708</th>\n      <td>501</td>\n      <td>2974.0</td>\n      <td>16.01</td>\n      <td>0.06759</td>\n      <td>0.1162</td>\n      <td>595.9</td>\n      <td>0.03476</td>\n      <td>24.49</td>\n      <td>0.3381</td>\n      <td>0.00968</td>\n      <td>...</td>\n      <td>91504</td>\n      <td>0.2275</td>\n      <td>0.3651</td>\n      <td>M</td>\n      <td>0.006995</td>\n      <td>92.33</td>\n      <td>0.3966</td>\n      <td>0.02434</td>\n      <td>0.03856</td>\n      <td>0.4751</td>\n    </tr>\n    <tr>\n      <th>19709</th>\n      <td>233</td>\n      <td>3767.0</td>\n      <td>24.47</td>\n      <td>0.0834</td>\n      <td>0.09159</td>\n      <td>1319.0</td>\n      <td>0.03457</td>\n      <td>27.81</td>\n      <td>0.4146</td>\n      <td>0.00502</td>\n      <td>...</td>\n      <td>88206102</td>\n      <td>NaN</td>\n      <td>0.2437</td>\n      <td>M</td>\n      <td>0.002887</td>\n      <td>134.4</td>\n      <td>NaN</td>\n      <td>0.01298</td>\n      <td>0.02062</td>\n      <td>524.0</td>\n    </tr>\n  </tbody>\n</table>\n<p>16180 rows × 33 columns</p>\n</div>"
     },
     "execution_count": 29,
     "metadata": {},
     "output_type": "execute_result"
    }
   ],
   "source": [
    "df"
   ],
   "metadata": {
    "collapsed": false
   }
  },
  {
   "cell_type": "code",
   "execution_count": 31,
   "outputs": [],
   "source": [
    "\n",
    "import parquet\n",
    "import fastparquet\n",
    "df.to_parquet(\"../data/interim/BreastCancer.parquet\", index = False)"
   ],
   "metadata": {
    "collapsed": false
   }
  },
  {
   "cell_type": "code",
   "execution_count": null,
   "outputs": [],
   "source": [
    "pd.read_parquet(\"../data/interim/BreastCancer.parquet\", engine='pyarrow')"
   ],
   "metadata": {
    "collapsed": false
   }
  }
 ],
 "metadata": {
  "kernelspec": {
   "display_name": "Python 3",
   "language": "python",
   "name": "python3"
  },
  "language_info": {
   "codemirror_mode": {
    "name": "ipython",
    "version": 2
   },
   "file_extension": ".py",
   "mimetype": "text/x-python",
   "name": "python",
   "nbconvert_exporter": "python",
   "pygments_lexer": "ipython2",
   "version": "2.7.6"
  }
 },
 "nbformat": 4,
 "nbformat_minor": 0
}
