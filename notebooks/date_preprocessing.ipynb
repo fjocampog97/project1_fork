{
 "cells": [
  {
   "cell_type": "markdown",
   "source": [
    "## Importing libraries and reading dataset"
   ],
   "metadata": {
    "collapsed": false,
    "pycharm": {
     "name": "#%% md\n"
    }
   }
  },
  {
   "cell_type": "code",
   "execution_count": 340,
   "metadata": {
    "collapsed": true,
    "pycharm": {
     "name": "#%%\n"
    }
   },
   "outputs": [],
   "source": [
    "import pandas as pd\n",
    "import numpy as np\n",
    "import fastparquet\n",
    "import pyarrow"
   ]
  },
  {
   "cell_type": "code",
   "execution_count": 341,
   "outputs": [],
   "source": [
    "df=pd.read_csv('../data/raw/BreastCancerDS.csv',index_col=0)\n"
   ],
   "metadata": {
    "collapsed": false,
    "pycharm": {
     "name": "#%%\n"
    }
   }
  },
  {
   "cell_type": "code",
   "execution_count": 342,
   "outputs": [
    {
     "name": "stdout",
     "output_type": "stream",
     "text": [
      "<class 'pandas.core.frame.DataFrame'>\n",
      "Int64Index: 19710 entries, 0 to 19709\n",
      "Data columns (total 35 columns):\n",
      " #   Column                   Non-Null Count  Dtype \n",
      "---  ------                   --------------  ----- \n",
      " 0   index                    19710 non-null  int64 \n",
      " 1   perimeter_se             19015 non-null  object\n",
      " 2   radius_worst             19085 non-null  object\n",
      " 3   concave points_mean      18980 non-null  object\n",
      " 4   smoothness_mean          18825 non-null  object\n",
      " 5   area_mean                18830 non-null  object\n",
      " 6   concavity_se             18905 non-null  object\n",
      " 7   texture_mean             18955 non-null  object\n",
      " 8   concavity_worst          19055 non-null  object\n",
      " 9   smoothness_se            19110 non-null  object\n",
      " 10  concave points_se        19000 non-null  object\n",
      " 11  area_worst               19060 non-null  object\n",
      " 12  compactness_mean         18935 non-null  object\n",
      " 13  radius_mean              19000 non-null  object\n",
      " 14  area_se                  18895 non-null  object\n",
      " 15  concave points_worst     19125 non-null  object\n",
      " 16  iuytr                    18885 non-null  object\n",
      " 17  fractal_dimension_worst  19095 non-null  object\n",
      " 18  perimeter_worst          19055 non-null  object\n",
      " 19  texture_se               19045 non-null  object\n",
      " 20  fractal_dimension_mean   19045 non-null  object\n",
      " 21  texture_worst            19060 non-null  object\n",
      " 22  smoothness_worst         19005 non-null  object\n",
      " 23  concavity_mean           18850 non-null  object\n",
      " 24  id                       19100 non-null  object\n",
      " 25  symmetry_mean            18885 non-null  object\n",
      " 26  symmetry_worst           19085 non-null  object\n",
      " 27  diagnosis                18800 non-null  object\n",
      " 28  erty                     19710 non-null  int64 \n",
      " 29  fractal_dimension_se     19035 non-null  object\n",
      " 30  perimeter_mean           18950 non-null  object\n",
      " 31  compactness_worst        19100 non-null  object\n",
      " 32  symmetry_se              19075 non-null  object\n",
      " 33  compactness_se           19005 non-null  object\n",
      " 34  radius_se                19060 non-null  object\n",
      "dtypes: int64(2), object(33)\n",
      "memory usage: 5.4+ MB\n"
     ]
    }
   ],
   "source": [
    "df.info()"
   ],
   "metadata": {
    "collapsed": false,
    "pycharm": {
     "name": "#%%\n"
    }
   }
  },
  {
   "cell_type": "markdown",
   "source": [
    "## Data description\n",
    "\n",
    "completar"
   ],
   "metadata": {
    "collapsed": false,
    "pycharm": {
     "name": "#%% md\n"
    }
   }
  },
  {
   "cell_type": "markdown",
   "source": [
    "## Cleaning target feature, we'll only use examples wich target is correctly labeled, in this case B ( benign) or M (Malignant)\n",
    "* Before target cleaning we had 19710 entries, once the target is cleaned, we have 16180 entries."
   ],
   "metadata": {
    "collapsed": false,
    "pycharm": {
     "name": "#%% md\n"
    }
   }
  },
  {
   "cell_type": "code",
   "execution_count": 343,
   "outputs": [],
   "source": [
    "df=df[(df['diagnosis']=='B')|(df['diagnosis']=='M')]\n"
   ],
   "metadata": {
    "collapsed": false,
    "pycharm": {
     "name": "#%%\n"
    }
   }
  },
  {
   "cell_type": "markdown",
   "source": [
    "## Deleting iuytr y erty columns\n",
    "* 'Erty' Column contains the same value for each row, we can delete it since it provides no information.\n",
    "* 'iuytr' column contains the same information in 'symmetry_mean' we delete one of them, in this case 'iuytr' is deleted."
   ],
   "metadata": {
    "collapsed": false,
    "pycharm": {
     "name": "#%% md\n"
    }
   }
  },
  {
   "cell_type": "code",
   "execution_count": 344,
   "outputs": [
    {
     "data": {
      "text/plain": "908765434567    16180\nName: erty, dtype: int64"
     },
     "execution_count": 344,
     "metadata": {},
     "output_type": "execute_result"
    }
   ],
   "source": [
    "df['erty'].value_counts() ## todos los valores son iguales, se borra erty\n"
   ],
   "metadata": {
    "collapsed": false,
    "pycharm": {
     "name": "#%%\n"
    }
   }
  },
  {
   "cell_type": "code",
   "execution_count": 345,
   "outputs": [],
   "source": [
    "df.drop('erty',axis=1,inplace=True)"
   ],
   "metadata": {
    "collapsed": false,
    "pycharm": {
     "name": "#%%\n"
    }
   }
  },
  {
   "cell_type": "code",
   "execution_count": 346,
   "outputs": [
    {
     "data": {
      "text/plain": "                         iuytr            symmetry_mean\n1                        211.0                    211.0\n2            -88888765432345.0        -88888765432345.0\n4                           ?                        ? \n5                       0.1671                   0.1671\n7                       0.1667                   0.1667\n...                        ...                      ...\n19703                    216.0                    216.0\n19705                   0.1671                   0.1671\n19706                   0.1405                   0.1405\n19708                   0.2275                   0.2275\n19709  rxctf378968 7656463sdfg  rxctf378968 7656463sdfg\n\n[16180 rows x 2 columns]",
      "text/html": "<div>\n<style scoped>\n    .dataframe tbody tr th:only-of-type {\n        vertical-align: middle;\n    }\n\n    .dataframe tbody tr th {\n        vertical-align: top;\n    }\n\n    .dataframe thead th {\n        text-align: right;\n    }\n</style>\n<table border=\"1\" class=\"dataframe\">\n  <thead>\n    <tr style=\"text-align: right;\">\n      <th></th>\n      <th>iuytr</th>\n      <th>symmetry_mean</th>\n    </tr>\n  </thead>\n  <tbody>\n    <tr>\n      <th>1</th>\n      <td>211.0</td>\n      <td>211.0</td>\n    </tr>\n    <tr>\n      <th>2</th>\n      <td>-88888765432345.0</td>\n      <td>-88888765432345.0</td>\n    </tr>\n    <tr>\n      <th>4</th>\n      <td>?</td>\n      <td>?</td>\n    </tr>\n    <tr>\n      <th>5</th>\n      <td>0.1671</td>\n      <td>0.1671</td>\n    </tr>\n    <tr>\n      <th>7</th>\n      <td>0.1667</td>\n      <td>0.1667</td>\n    </tr>\n    <tr>\n      <th>...</th>\n      <td>...</td>\n      <td>...</td>\n    </tr>\n    <tr>\n      <th>19703</th>\n      <td>216.0</td>\n      <td>216.0</td>\n    </tr>\n    <tr>\n      <th>19705</th>\n      <td>0.1671</td>\n      <td>0.1671</td>\n    </tr>\n    <tr>\n      <th>19706</th>\n      <td>0.1405</td>\n      <td>0.1405</td>\n    </tr>\n    <tr>\n      <th>19708</th>\n      <td>0.2275</td>\n      <td>0.2275</td>\n    </tr>\n    <tr>\n      <th>19709</th>\n      <td>rxctf378968 7656463sdfg</td>\n      <td>rxctf378968 7656463sdfg</td>\n    </tr>\n  </tbody>\n</table>\n<p>16180 rows × 2 columns</p>\n</div>"
     },
     "execution_count": 346,
     "metadata": {},
     "output_type": "execute_result"
    }
   ],
   "source": [
    "df[['iuytr','symmetry_mean']] ## estas dos columnas tienen la misma informacion, borrar una\n"
   ],
   "metadata": {
    "collapsed": false,
    "pycharm": {
     "name": "#%%\n"
    }
   }
  },
  {
   "cell_type": "code",
   "execution_count": 347,
   "outputs": [],
   "source": [
    "df.drop('iuytr',axis=1,inplace=True)"
   ],
   "metadata": {
    "collapsed": false,
    "pycharm": {
     "name": "#%%\n"
    }
   }
  },
  {
   "cell_type": "code",
   "execution_count": 348,
   "outputs": [
    {
     "data": {
      "text/plain": "       index perimeter_se             radius_worst concave points_mean  \\\n1        279         1.83        999765432456788.0             0.03711   \n2        307       1144.0                   9699.0            0.003472   \n4        576       2183.0                       ?              0.02278   \n5        350       2225.0                    13.28             0.01162   \n7        120       1103.0                    12.82             0.02623   \n...      ...          ...                      ...                 ...   \n19703    602       2844.0                       ?              0.05613   \n19705    350       2225.0  rxctf378968 7656463sdfg             0.01162   \n19706    442       2235.0                    15.27            0.009937   \n19708    501       2974.0                    16.01             0.06759   \n19709    233       3767.0                    24.47              0.0834   \n\n         smoothness_mean area_mean concavity_se texture_mean concavity_worst  \\\n1                0.09516     587.4      0.01457        15.18          0.1456   \n2      -88888765432345.0     246.3     0.003681         14.4         0.01472   \n4                0.09524     409.0      0.01349        18.75              ?    \n5                0.07561     421.0     0.005949        17.07         0.03046   \n7                0.09373     403.3      0.01514        10.82          0.2102   \n...                  ...       ...          ...          ...             ...   \n19703             0.1008     809.8      0.02219        21.54          0.2992   \n19705            0.07561     421.0     0.005949        17.07         0.03046   \n19706  -88888765432345.0     585.9     0.007741        15.79         0.03517   \n19708             0.1162     595.9      0.03476        24.49          0.3381   \n19709            0.09159    1319.0      0.03457        27.81          0.4146   \n\n                 smoothness_se  ...        id            symmetry_mean  \\\n1                     0.004235  ...   8911834                    211.0   \n2                     0.007389  ...     89346        -88888765432345.0   \n4                     0.008328  ...  85759902                       ?    \n5                     0.006583  ...    899187                   0.1671   \n7                           ?   ...    865137                   0.1667   \n...                        ...  ...       ...                      ...   \n19703                 0.004877  ...  86730502                    216.0   \n19705  rxctf378968 7656463sdfg  ...    899187                   0.1671   \n19706        -88888765432345.0  ...  90944601                   0.1405   \n19708                  0.00968  ...     91504                   0.2275   \n19709                  0.00502  ...  88206102  rxctf378968 7656463sdfg   \n\n      symmetry_worst diagnosis     fractal_dimension_se     perimeter_mean  \\\n1             0.2955         B                 0.001593  999765432456788.0   \n2             0.2991         B                 0.002153              56.36   \n4             0.3306         B                 0.002386              73.34   \n5             0.2731         B                 0.002668               73.7   \n7             0.3016         B                 0.002206              73.34   \n...              ...       ...                      ...                ...   \n19703             ?          M                       ?               106.2   \n19705         0.2731         B  rxctf378968 7656463sdfg               73.7   \n19706         0.1859         B                 0.002564  -88888765432345.0   \n19708         0.3651         M                 0.006995              92.33   \n19709         0.2437         M                 0.002887              134.4   \n\n             compactness_worst        symmetry_se compactness_se  \\\n1                       0.1724            0.01528        0.01541   \n2                      0.05232            0.02701       0.004883   \n4                           ?             0.03218       0.008722   \n5                      0.06476            0.02216       0.006991   \n7                        239.0            0.01344             ?    \n...                        ...                ...            ...   \n19703                   0.3055            0.01535        0.01952   \n19705                  0.06476            0.02216       0.006991   \n19706                   0.1071  -88888765432345.0        0.01156   \n19708                   0.3966            0.02434        0.03856   \n19709  rxctf378968 7656463sdfg            0.01298        0.02062   \n\n               radius_se  \n1      999765432456788.0  \n2                 0.1746  \n4                 0.3249  \n5                 0.3534  \n7                     ?   \n...                  ...  \n19703             0.4332  \n19705             0.3534  \n19706             0.3563  \n19708             0.4751  \n19709              524.0  \n\n[16180 rows x 33 columns]",
      "text/html": "<div>\n<style scoped>\n    .dataframe tbody tr th:only-of-type {\n        vertical-align: middle;\n    }\n\n    .dataframe tbody tr th {\n        vertical-align: top;\n    }\n\n    .dataframe thead th {\n        text-align: right;\n    }\n</style>\n<table border=\"1\" class=\"dataframe\">\n  <thead>\n    <tr style=\"text-align: right;\">\n      <th></th>\n      <th>index</th>\n      <th>perimeter_se</th>\n      <th>radius_worst</th>\n      <th>concave points_mean</th>\n      <th>smoothness_mean</th>\n      <th>area_mean</th>\n      <th>concavity_se</th>\n      <th>texture_mean</th>\n      <th>concavity_worst</th>\n      <th>smoothness_se</th>\n      <th>...</th>\n      <th>id</th>\n      <th>symmetry_mean</th>\n      <th>symmetry_worst</th>\n      <th>diagnosis</th>\n      <th>fractal_dimension_se</th>\n      <th>perimeter_mean</th>\n      <th>compactness_worst</th>\n      <th>symmetry_se</th>\n      <th>compactness_se</th>\n      <th>radius_se</th>\n    </tr>\n  </thead>\n  <tbody>\n    <tr>\n      <th>1</th>\n      <td>279</td>\n      <td>1.83</td>\n      <td>999765432456788.0</td>\n      <td>0.03711</td>\n      <td>0.09516</td>\n      <td>587.4</td>\n      <td>0.01457</td>\n      <td>15.18</td>\n      <td>0.1456</td>\n      <td>0.004235</td>\n      <td>...</td>\n      <td>8911834</td>\n      <td>211.0</td>\n      <td>0.2955</td>\n      <td>B</td>\n      <td>0.001593</td>\n      <td>999765432456788.0</td>\n      <td>0.1724</td>\n      <td>0.01528</td>\n      <td>0.01541</td>\n      <td>999765432456788.0</td>\n    </tr>\n    <tr>\n      <th>2</th>\n      <td>307</td>\n      <td>1144.0</td>\n      <td>9699.0</td>\n      <td>0.003472</td>\n      <td>-88888765432345.0</td>\n      <td>246.3</td>\n      <td>0.003681</td>\n      <td>14.4</td>\n      <td>0.01472</td>\n      <td>0.007389</td>\n      <td>...</td>\n      <td>89346</td>\n      <td>-88888765432345.0</td>\n      <td>0.2991</td>\n      <td>B</td>\n      <td>0.002153</td>\n      <td>56.36</td>\n      <td>0.05232</td>\n      <td>0.02701</td>\n      <td>0.004883</td>\n      <td>0.1746</td>\n    </tr>\n    <tr>\n      <th>4</th>\n      <td>576</td>\n      <td>2183.0</td>\n      <td>?</td>\n      <td>0.02278</td>\n      <td>0.09524</td>\n      <td>409.0</td>\n      <td>0.01349</td>\n      <td>18.75</td>\n      <td>?</td>\n      <td>0.008328</td>\n      <td>...</td>\n      <td>85759902</td>\n      <td>?</td>\n      <td>0.3306</td>\n      <td>B</td>\n      <td>0.002386</td>\n      <td>73.34</td>\n      <td>?</td>\n      <td>0.03218</td>\n      <td>0.008722</td>\n      <td>0.3249</td>\n    </tr>\n    <tr>\n      <th>5</th>\n      <td>350</td>\n      <td>2225.0</td>\n      <td>13.28</td>\n      <td>0.01162</td>\n      <td>0.07561</td>\n      <td>421.0</td>\n      <td>0.005949</td>\n      <td>17.07</td>\n      <td>0.03046</td>\n      <td>0.006583</td>\n      <td>...</td>\n      <td>899187</td>\n      <td>0.1671</td>\n      <td>0.2731</td>\n      <td>B</td>\n      <td>0.002668</td>\n      <td>73.7</td>\n      <td>0.06476</td>\n      <td>0.02216</td>\n      <td>0.006991</td>\n      <td>0.3534</td>\n    </tr>\n    <tr>\n      <th>7</th>\n      <td>120</td>\n      <td>1103.0</td>\n      <td>12.82</td>\n      <td>0.02623</td>\n      <td>0.09373</td>\n      <td>403.3</td>\n      <td>0.01514</td>\n      <td>10.82</td>\n      <td>0.2102</td>\n      <td>?</td>\n      <td>...</td>\n      <td>865137</td>\n      <td>0.1667</td>\n      <td>0.3016</td>\n      <td>B</td>\n      <td>0.002206</td>\n      <td>73.34</td>\n      <td>239.0</td>\n      <td>0.01344</td>\n      <td>?</td>\n      <td>?</td>\n    </tr>\n    <tr>\n      <th>...</th>\n      <td>...</td>\n      <td>...</td>\n      <td>...</td>\n      <td>...</td>\n      <td>...</td>\n      <td>...</td>\n      <td>...</td>\n      <td>...</td>\n      <td>...</td>\n      <td>...</td>\n      <td>...</td>\n      <td>...</td>\n      <td>...</td>\n      <td>...</td>\n      <td>...</td>\n      <td>...</td>\n      <td>...</td>\n      <td>...</td>\n      <td>...</td>\n      <td>...</td>\n      <td>...</td>\n    </tr>\n    <tr>\n      <th>19703</th>\n      <td>602</td>\n      <td>2844.0</td>\n      <td>?</td>\n      <td>0.05613</td>\n      <td>0.1008</td>\n      <td>809.8</td>\n      <td>0.02219</td>\n      <td>21.54</td>\n      <td>0.2992</td>\n      <td>0.004877</td>\n      <td>...</td>\n      <td>86730502</td>\n      <td>216.0</td>\n      <td>?</td>\n      <td>M</td>\n      <td>?</td>\n      <td>106.2</td>\n      <td>0.3055</td>\n      <td>0.01535</td>\n      <td>0.01952</td>\n      <td>0.4332</td>\n    </tr>\n    <tr>\n      <th>19705</th>\n      <td>350</td>\n      <td>2225.0</td>\n      <td>rxctf378968 7656463sdfg</td>\n      <td>0.01162</td>\n      <td>0.07561</td>\n      <td>421.0</td>\n      <td>0.005949</td>\n      <td>17.07</td>\n      <td>0.03046</td>\n      <td>rxctf378968 7656463sdfg</td>\n      <td>...</td>\n      <td>899187</td>\n      <td>0.1671</td>\n      <td>0.2731</td>\n      <td>B</td>\n      <td>rxctf378968 7656463sdfg</td>\n      <td>73.7</td>\n      <td>0.06476</td>\n      <td>0.02216</td>\n      <td>0.006991</td>\n      <td>0.3534</td>\n    </tr>\n    <tr>\n      <th>19706</th>\n      <td>442</td>\n      <td>2235.0</td>\n      <td>15.27</td>\n      <td>0.009937</td>\n      <td>-88888765432345.0</td>\n      <td>585.9</td>\n      <td>0.007741</td>\n      <td>15.79</td>\n      <td>0.03517</td>\n      <td>-88888765432345.0</td>\n      <td>...</td>\n      <td>90944601</td>\n      <td>0.1405</td>\n      <td>0.1859</td>\n      <td>B</td>\n      <td>0.002564</td>\n      <td>-88888765432345.0</td>\n      <td>0.1071</td>\n      <td>-88888765432345.0</td>\n      <td>0.01156</td>\n      <td>0.3563</td>\n    </tr>\n    <tr>\n      <th>19708</th>\n      <td>501</td>\n      <td>2974.0</td>\n      <td>16.01</td>\n      <td>0.06759</td>\n      <td>0.1162</td>\n      <td>595.9</td>\n      <td>0.03476</td>\n      <td>24.49</td>\n      <td>0.3381</td>\n      <td>0.00968</td>\n      <td>...</td>\n      <td>91504</td>\n      <td>0.2275</td>\n      <td>0.3651</td>\n      <td>M</td>\n      <td>0.006995</td>\n      <td>92.33</td>\n      <td>0.3966</td>\n      <td>0.02434</td>\n      <td>0.03856</td>\n      <td>0.4751</td>\n    </tr>\n    <tr>\n      <th>19709</th>\n      <td>233</td>\n      <td>3767.0</td>\n      <td>24.47</td>\n      <td>0.0834</td>\n      <td>0.09159</td>\n      <td>1319.0</td>\n      <td>0.03457</td>\n      <td>27.81</td>\n      <td>0.4146</td>\n      <td>0.00502</td>\n      <td>...</td>\n      <td>88206102</td>\n      <td>rxctf378968 7656463sdfg</td>\n      <td>0.2437</td>\n      <td>M</td>\n      <td>0.002887</td>\n      <td>134.4</td>\n      <td>rxctf378968 7656463sdfg</td>\n      <td>0.01298</td>\n      <td>0.02062</td>\n      <td>524.0</td>\n    </tr>\n  </tbody>\n</table>\n<p>16180 rows × 33 columns</p>\n</div>"
     },
     "execution_count": 348,
     "metadata": {},
     "output_type": "execute_result"
    }
   ],
   "source": [
    "df"
   ],
   "metadata": {
    "collapsed": false,
    "pycharm": {
     "name": "#%%\n"
    }
   }
  },
  {
   "cell_type": "markdown",
   "source": [
    "## Identifying missing values\n",
    "We found around 3-4% of na values for each feature, we'll analize what to do with these features after a more in depth analisis. See below."
   ],
   "metadata": {
    "collapsed": false,
    "pycharm": {
     "name": "#%% md\n"
    }
   }
  },
  {
   "cell_type": "code",
   "execution_count": 349,
   "outputs": [
    {
     "data": {
      "text/plain": "perimeter_se               3.275649\nradius_worst               3.182942\nconcave points_mean        3.244747\nsmoothness_mean            4.295426\narea_mean                  4.140915\nconcavity_se               3.831891\ntexture_mean               3.522868\nconcavity_worst            3.213844\nsmoothness_se              2.626700\nconcave points_se          3.430161\narea_worst                 3.337454\ncompactness_mean           3.770087\nradius_mean                3.491965\narea_se                    3.831891\nconcave points_worst       2.997528\nfractal_dimension_worst    2.904821\nperimeter_worst            3.152040\ntexture_se                 3.182942\nfractal_dimension_mean     3.090235\ntexture_worst              3.244747\nsmoothness_worst           3.337454\nconcavity_mean             4.295426\nid                         2.657602\nsymmetry_mean              3.831891\nsymmetry_worst             2.843016\nfractal_dimension_se       3.059333\nperimeter_mean             3.770087\ncompactness_worst          2.966625\nsymmetry_se                2.966625\ncompactness_se             3.244747\nradius_se                  3.152040\ndtype: float64"
     },
     "execution_count": 349,
     "metadata": {},
     "output_type": "execute_result"
    }
   ],
   "source": [
    "missing = df.isnull().sum()\n",
    "missing[missing>0]*100/len(df)"
   ],
   "metadata": {
    "collapsed": false,
    "pycharm": {
     "name": "#%%\n"
    }
   }
  },
  {
   "cell_type": "markdown",
   "source": [
    "## Cleaning spaces after and before data\n",
    "* At this point we need to check if our data has spaces at the beggining or at the end, in order to do this, we change index type to string and use a for cicle to apply str.strip() function to all the columns, so the spaces after and before each string are deleted. We'll change datatypes to numeric again as they are supossed to be,but this allows us to handle possible mistakes when cleaning."
   ],
   "metadata": {
    "collapsed": false,
    "pycharm": {
     "name": "#%% md\n"
    }
   }
  },
  {
   "cell_type": "code",
   "execution_count": 350,
   "outputs": [],
   "source": [
    "df['index']=df['index'].astype('string')\n",
    "list= ['index', 'perimeter_se', 'radius_worst', 'concave points_mean',\n",
    "       'smoothness_mean', 'area_mean', 'concavity_se', 'texture_mean',\n",
    "       'concavity_worst', 'smoothness_se', 'concave points_se', 'area_worst',\n",
    "       'compactness_mean', 'radius_mean', 'area_se', 'concave points_worst'\n",
    "       , 'fractal_dimension_worst', 'perimeter_worst', 'texture_se',\n",
    "       'fractal_dimension_mean', 'texture_worst', 'smoothness_worst',\n",
    "       'concavity_mean', 'id', 'symmetry_mean', 'symmetry_worst', 'diagnosis',\n",
    "       'fractal_dimension_se', 'perimeter_mean', 'compactness_worst',\n",
    "       'symmetry_se', 'compactness_se', 'radius_se']\n",
    "for i in list:\n",
    "    df[i]= df[i].str.strip()"
   ],
   "metadata": {
    "collapsed": false,
    "pycharm": {
     "name": "#%%\n"
    }
   }
  },
  {
   "cell_type": "markdown",
   "source": [
    "## Handling corrupt values\n",
    "* Checking the whole dataset, we can see there are 4 types of errors present in many (almost all) columns, we create a list with these errors and use a for to replace these errors for np.nan in each column of our dataset (df) in order to better handle possible mistakes using methods for np.nan.\n",
    "\n",
    " Errors found:\n",
    "- 'rxctf378968 7656463sdfg'\n",
    "- '-88888765432345.0'\n",
    "- '999765432456788.0'\n",
    "- '?'"
   ],
   "metadata": {
    "collapsed": false,
    "pycharm": {
     "name": "#%% md\n"
    }
   }
  },
  {
   "cell_type": "code",
   "execution_count": 351,
   "outputs": [],
   "source": [
    "list=['rxctf378968 7656463sdfg','-88888765432345.0','999765432456788.0','?']\n",
    "for i in list:\n",
    "       df.replace(i,np.nan,inplace=True)\n"
   ],
   "metadata": {
    "collapsed": false,
    "pycharm": {
     "name": "#%%\n"
    }
   }
  },
  {
   "cell_type": "code",
   "execution_count": 352,
   "outputs": [
    {
     "data": {
      "text/plain": "      index perimeter_se radius_worst concave points_mean smoothness_mean  \\\n1       279         1.83          NaN             0.03711         0.09516   \n2       307       1144.0       9699.0            0.003472             NaN   \n4       576       2183.0          NaN             0.02278         0.09524   \n5       350       2225.0        13.28             0.01162         0.07561   \n7       120       1103.0        12.82             0.02623         0.09373   \n...     ...          ...          ...                 ...             ...   \n19703   602       2844.0          NaN             0.05613          0.1008   \n19705   350       2225.0          NaN             0.01162         0.07561   \n19706   442       2235.0        15.27            0.009937             NaN   \n19708   501       2974.0        16.01             0.06759          0.1162   \n19709   233       3767.0        24.47              0.0834         0.09159   \n\n      area_mean concavity_se texture_mean concavity_worst smoothness_se  ...  \\\n1         587.4      0.01457        15.18          0.1456      0.004235  ...   \n2         246.3     0.003681         14.4         0.01472      0.007389  ...   \n4         409.0      0.01349        18.75             NaN      0.008328  ...   \n5         421.0     0.005949        17.07         0.03046      0.006583  ...   \n7         403.3      0.01514        10.82          0.2102           NaN  ...   \n...         ...          ...          ...             ...           ...  ...   \n19703     809.8      0.02219        21.54          0.2992      0.004877  ...   \n19705     421.0     0.005949        17.07         0.03046           NaN  ...   \n19706     585.9     0.007741        15.79         0.03517           NaN  ...   \n19708     595.9      0.03476        24.49          0.3381       0.00968  ...   \n19709    1319.0      0.03457        27.81          0.4146       0.00502  ...   \n\n             id symmetry_mean symmetry_worst diagnosis fractal_dimension_se  \\\n1       8911834         211.0         0.2955         B             0.001593   \n2         89346           NaN         0.2991         B             0.002153   \n4      85759902           NaN         0.3306         B             0.002386   \n5        899187        0.1671         0.2731         B             0.002668   \n7        865137        0.1667         0.3016         B             0.002206   \n...         ...           ...            ...       ...                  ...   \n19703  86730502         216.0            NaN         M                  NaN   \n19705    899187        0.1671         0.2731         B                  NaN   \n19706  90944601        0.1405         0.1859         B             0.002564   \n19708     91504        0.2275         0.3651         M             0.006995   \n19709  88206102           NaN         0.2437         M             0.002887   \n\n      perimeter_mean compactness_worst symmetry_se compactness_se radius_se  \n1                NaN            0.1724     0.01528        0.01541       NaN  \n2              56.36           0.05232     0.02701       0.004883    0.1746  \n4              73.34               NaN     0.03218       0.008722    0.3249  \n5               73.7           0.06476     0.02216       0.006991    0.3534  \n7              73.34             239.0     0.01344            NaN       NaN  \n...              ...               ...         ...            ...       ...  \n19703          106.2            0.3055     0.01535        0.01952    0.4332  \n19705           73.7           0.06476     0.02216       0.006991    0.3534  \n19706            NaN            0.1071         NaN        0.01156    0.3563  \n19708          92.33            0.3966     0.02434        0.03856    0.4751  \n19709          134.4               NaN     0.01298        0.02062     524.0  \n\n[16180 rows x 33 columns]",
      "text/html": "<div>\n<style scoped>\n    .dataframe tbody tr th:only-of-type {\n        vertical-align: middle;\n    }\n\n    .dataframe tbody tr th {\n        vertical-align: top;\n    }\n\n    .dataframe thead th {\n        text-align: right;\n    }\n</style>\n<table border=\"1\" class=\"dataframe\">\n  <thead>\n    <tr style=\"text-align: right;\">\n      <th></th>\n      <th>index</th>\n      <th>perimeter_se</th>\n      <th>radius_worst</th>\n      <th>concave points_mean</th>\n      <th>smoothness_mean</th>\n      <th>area_mean</th>\n      <th>concavity_se</th>\n      <th>texture_mean</th>\n      <th>concavity_worst</th>\n      <th>smoothness_se</th>\n      <th>...</th>\n      <th>id</th>\n      <th>symmetry_mean</th>\n      <th>symmetry_worst</th>\n      <th>diagnosis</th>\n      <th>fractal_dimension_se</th>\n      <th>perimeter_mean</th>\n      <th>compactness_worst</th>\n      <th>symmetry_se</th>\n      <th>compactness_se</th>\n      <th>radius_se</th>\n    </tr>\n  </thead>\n  <tbody>\n    <tr>\n      <th>1</th>\n      <td>279</td>\n      <td>1.83</td>\n      <td>NaN</td>\n      <td>0.03711</td>\n      <td>0.09516</td>\n      <td>587.4</td>\n      <td>0.01457</td>\n      <td>15.18</td>\n      <td>0.1456</td>\n      <td>0.004235</td>\n      <td>...</td>\n      <td>8911834</td>\n      <td>211.0</td>\n      <td>0.2955</td>\n      <td>B</td>\n      <td>0.001593</td>\n      <td>NaN</td>\n      <td>0.1724</td>\n      <td>0.01528</td>\n      <td>0.01541</td>\n      <td>NaN</td>\n    </tr>\n    <tr>\n      <th>2</th>\n      <td>307</td>\n      <td>1144.0</td>\n      <td>9699.0</td>\n      <td>0.003472</td>\n      <td>NaN</td>\n      <td>246.3</td>\n      <td>0.003681</td>\n      <td>14.4</td>\n      <td>0.01472</td>\n      <td>0.007389</td>\n      <td>...</td>\n      <td>89346</td>\n      <td>NaN</td>\n      <td>0.2991</td>\n      <td>B</td>\n      <td>0.002153</td>\n      <td>56.36</td>\n      <td>0.05232</td>\n      <td>0.02701</td>\n      <td>0.004883</td>\n      <td>0.1746</td>\n    </tr>\n    <tr>\n      <th>4</th>\n      <td>576</td>\n      <td>2183.0</td>\n      <td>NaN</td>\n      <td>0.02278</td>\n      <td>0.09524</td>\n      <td>409.0</td>\n      <td>0.01349</td>\n      <td>18.75</td>\n      <td>NaN</td>\n      <td>0.008328</td>\n      <td>...</td>\n      <td>85759902</td>\n      <td>NaN</td>\n      <td>0.3306</td>\n      <td>B</td>\n      <td>0.002386</td>\n      <td>73.34</td>\n      <td>NaN</td>\n      <td>0.03218</td>\n      <td>0.008722</td>\n      <td>0.3249</td>\n    </tr>\n    <tr>\n      <th>5</th>\n      <td>350</td>\n      <td>2225.0</td>\n      <td>13.28</td>\n      <td>0.01162</td>\n      <td>0.07561</td>\n      <td>421.0</td>\n      <td>0.005949</td>\n      <td>17.07</td>\n      <td>0.03046</td>\n      <td>0.006583</td>\n      <td>...</td>\n      <td>899187</td>\n      <td>0.1671</td>\n      <td>0.2731</td>\n      <td>B</td>\n      <td>0.002668</td>\n      <td>73.7</td>\n      <td>0.06476</td>\n      <td>0.02216</td>\n      <td>0.006991</td>\n      <td>0.3534</td>\n    </tr>\n    <tr>\n      <th>7</th>\n      <td>120</td>\n      <td>1103.0</td>\n      <td>12.82</td>\n      <td>0.02623</td>\n      <td>0.09373</td>\n      <td>403.3</td>\n      <td>0.01514</td>\n      <td>10.82</td>\n      <td>0.2102</td>\n      <td>NaN</td>\n      <td>...</td>\n      <td>865137</td>\n      <td>0.1667</td>\n      <td>0.3016</td>\n      <td>B</td>\n      <td>0.002206</td>\n      <td>73.34</td>\n      <td>239.0</td>\n      <td>0.01344</td>\n      <td>NaN</td>\n      <td>NaN</td>\n    </tr>\n    <tr>\n      <th>...</th>\n      <td>...</td>\n      <td>...</td>\n      <td>...</td>\n      <td>...</td>\n      <td>...</td>\n      <td>...</td>\n      <td>...</td>\n      <td>...</td>\n      <td>...</td>\n      <td>...</td>\n      <td>...</td>\n      <td>...</td>\n      <td>...</td>\n      <td>...</td>\n      <td>...</td>\n      <td>...</td>\n      <td>...</td>\n      <td>...</td>\n      <td>...</td>\n      <td>...</td>\n      <td>...</td>\n    </tr>\n    <tr>\n      <th>19703</th>\n      <td>602</td>\n      <td>2844.0</td>\n      <td>NaN</td>\n      <td>0.05613</td>\n      <td>0.1008</td>\n      <td>809.8</td>\n      <td>0.02219</td>\n      <td>21.54</td>\n      <td>0.2992</td>\n      <td>0.004877</td>\n      <td>...</td>\n      <td>86730502</td>\n      <td>216.0</td>\n      <td>NaN</td>\n      <td>M</td>\n      <td>NaN</td>\n      <td>106.2</td>\n      <td>0.3055</td>\n      <td>0.01535</td>\n      <td>0.01952</td>\n      <td>0.4332</td>\n    </tr>\n    <tr>\n      <th>19705</th>\n      <td>350</td>\n      <td>2225.0</td>\n      <td>NaN</td>\n      <td>0.01162</td>\n      <td>0.07561</td>\n      <td>421.0</td>\n      <td>0.005949</td>\n      <td>17.07</td>\n      <td>0.03046</td>\n      <td>NaN</td>\n      <td>...</td>\n      <td>899187</td>\n      <td>0.1671</td>\n      <td>0.2731</td>\n      <td>B</td>\n      <td>NaN</td>\n      <td>73.7</td>\n      <td>0.06476</td>\n      <td>0.02216</td>\n      <td>0.006991</td>\n      <td>0.3534</td>\n    </tr>\n    <tr>\n      <th>19706</th>\n      <td>442</td>\n      <td>2235.0</td>\n      <td>15.27</td>\n      <td>0.009937</td>\n      <td>NaN</td>\n      <td>585.9</td>\n      <td>0.007741</td>\n      <td>15.79</td>\n      <td>0.03517</td>\n      <td>NaN</td>\n      <td>...</td>\n      <td>90944601</td>\n      <td>0.1405</td>\n      <td>0.1859</td>\n      <td>B</td>\n      <td>0.002564</td>\n      <td>NaN</td>\n      <td>0.1071</td>\n      <td>NaN</td>\n      <td>0.01156</td>\n      <td>0.3563</td>\n    </tr>\n    <tr>\n      <th>19708</th>\n      <td>501</td>\n      <td>2974.0</td>\n      <td>16.01</td>\n      <td>0.06759</td>\n      <td>0.1162</td>\n      <td>595.9</td>\n      <td>0.03476</td>\n      <td>24.49</td>\n      <td>0.3381</td>\n      <td>0.00968</td>\n      <td>...</td>\n      <td>91504</td>\n      <td>0.2275</td>\n      <td>0.3651</td>\n      <td>M</td>\n      <td>0.006995</td>\n      <td>92.33</td>\n      <td>0.3966</td>\n      <td>0.02434</td>\n      <td>0.03856</td>\n      <td>0.4751</td>\n    </tr>\n    <tr>\n      <th>19709</th>\n      <td>233</td>\n      <td>3767.0</td>\n      <td>24.47</td>\n      <td>0.0834</td>\n      <td>0.09159</td>\n      <td>1319.0</td>\n      <td>0.03457</td>\n      <td>27.81</td>\n      <td>0.4146</td>\n      <td>0.00502</td>\n      <td>...</td>\n      <td>88206102</td>\n      <td>NaN</td>\n      <td>0.2437</td>\n      <td>M</td>\n      <td>0.002887</td>\n      <td>134.4</td>\n      <td>NaN</td>\n      <td>0.01298</td>\n      <td>0.02062</td>\n      <td>524.0</td>\n    </tr>\n  </tbody>\n</table>\n<p>16180 rows × 33 columns</p>\n</div>"
     },
     "execution_count": 352,
     "metadata": {},
     "output_type": "execute_result"
    }
   ],
   "source": [
    "df"
   ],
   "metadata": {
    "collapsed": false,
    "pycharm": {
     "name": "#%%\n"
    }
   }
  },
  {
   "cell_type": "markdown",
   "source": [
    "## Enconding target\n",
    "We use scikit learn LabelEncoder to encode diagnosis as follows:\n",
    "0 if diagnosis is B (Beningn) and  1 if its M (malignant)"
   ],
   "metadata": {
    "collapsed": false,
    "pycharm": {
     "name": "#%% md\n"
    }
   }
  },
  {
   "cell_type": "code",
   "execution_count": 353,
   "outputs": [],
   "source": [
    "from sklearn import preprocessing\n",
    "label_encoding = preprocessing.LabelEncoder()\n",
    "df['diagnosis'] = label_encoding.fit_transform(df['diagnosis'])\n",
    "\n",
    "## 0 es beningno y 1 es maligno\n"
   ],
   "metadata": {
    "collapsed": false,
    "pycharm": {
     "name": "#%%\n"
    }
   }
  },
  {
   "cell_type": "markdown",
   "source": [],
   "metadata": {
    "collapsed": false,
    "pycharm": {
     "name": "#%% md\n"
    }
   }
  },
  {
   "cell_type": "markdown",
   "source": [
    "## Seting dataset dtype as float and diagnosis as category"
   ],
   "metadata": {
    "collapsed": false,
    "pycharm": {
     "name": "#%% md\n"
    }
   }
  },
  {
   "cell_type": "code",
   "execution_count": 354,
   "outputs": [],
   "source": [
    "df=df.astype('float')"
   ],
   "metadata": {
    "collapsed": false,
    "pycharm": {
     "name": "#%%\n"
    }
   }
  },
  {
   "cell_type": "code",
   "execution_count": 355,
   "outputs": [],
   "source": [
    "df['diagnosis']=df['diagnosis'].astype('int').astype('category')\n"
   ],
   "metadata": {
    "collapsed": false,
    "pycharm": {
     "name": "#%%\n"
    }
   }
  },
  {
   "cell_type": "code",
   "execution_count": 356,
   "outputs": [
    {
     "name": "stdout",
     "output_type": "stream",
     "text": [
      "<class 'pandas.core.frame.DataFrame'>\n",
      "Int64Index: 16180 entries, 1 to 19709\n",
      "Data columns (total 33 columns):\n",
      " #   Column                   Non-Null Count  Dtype   \n",
      "---  ------                   --------------  -----   \n",
      " 0   index                    16180 non-null  float64 \n",
      " 1   perimeter_se             13640 non-null  float64 \n",
      " 2   radius_worst             13630 non-null  float64 \n",
      " 3   concave points_mean      13600 non-null  float64 \n",
      " 4   smoothness_mean          13450 non-null  float64 \n",
      " 5   area_mean                13425 non-null  float64 \n",
      " 6   concavity_se             13475 non-null  float64 \n",
      " 7   texture_mean             13565 non-null  float64 \n",
      " 8   concavity_worst          13540 non-null  float64 \n",
      " 9   smoothness_se            13610 non-null  float64 \n",
      " 10  concave points_se        13600 non-null  float64 \n",
      " 11  area_worst               13530 non-null  float64 \n",
      " 12  compactness_mean         13480 non-null  float64 \n",
      " 13  radius_mean              13495 non-null  float64 \n",
      " 14  area_se                  13475 non-null  float64 \n",
      " 15  concave points_worst     13620 non-null  float64 \n",
      " 16  fractal_dimension_worst  13615 non-null  float64 \n",
      " 17  perimeter_worst          13595 non-null  float64 \n",
      " 18  texture_se               13635 non-null  float64 \n",
      " 19  fractal_dimension_mean   13550 non-null  float64 \n",
      " 20  texture_worst            13615 non-null  float64 \n",
      " 21  smoothness_worst         13535 non-null  float64 \n",
      " 22  concavity_mean           13415 non-null  float64 \n",
      " 23  id                       14720 non-null  float64 \n",
      " 24  symmetry_mean            13485 non-null  float64 \n",
      " 25  symmetry_worst           13600 non-null  float64 \n",
      " 26  diagnosis                16180 non-null  category\n",
      " 27  fractal_dimension_se     13555 non-null  float64 \n",
      " 28  perimeter_mean           13450 non-null  float64 \n",
      " 29  compactness_worst        13725 non-null  float64 \n",
      " 30  symmetry_se              13580 non-null  float64 \n",
      " 31  compactness_se           13570 non-null  float64 \n",
      " 32  radius_se                13595 non-null  float64 \n",
      "dtypes: category(1), float64(32)\n",
      "memory usage: 4.1 MB\n"
     ]
    }
   ],
   "source": [
    "df.info()"
   ],
   "metadata": {
    "collapsed": false,
    "pycharm": {
     "name": "#%%\n"
    }
   }
  },
  {
   "cell_type": "markdown",
   "source": [
    "## First describe\n",
    "We can now make a first description of the raw data"
   ],
   "metadata": {
    "collapsed": false,
    "pycharm": {
     "name": "#%% md\n"
    }
   }
  },
  {
   "cell_type": "code",
   "execution_count": 357,
   "outputs": [
    {
     "data": {
      "text/plain": "             index  perimeter_se  radius_worst  concave points_mean  \\\ncount  16180.00000  13640.000000  13630.000000         13600.000000   \nmean     328.05068   2536.409364    323.328936             2.424616   \nstd      189.47624   1738.237381   1680.786074            16.207594   \nmin        0.00000      0.771400      7.930000             0.000000   \n25%      165.75000   1482.000000     13.290000             0.020270   \n50%      326.00000   2143.000000     15.300000             0.033700   \n75%      494.00000   3168.000000     19.920000             0.077520   \nmax      656.00000   9807.000000   9981.000000           162.000000   \n\n       smoothness_mean     area_mean  concavity_se  texture_mean  \\\ncount     13450.000000  13425.000000  13475.000000  13565.000000   \nmean          3.835104    656.435978      1.147903     19.416823   \nstd          19.928257    349.181590     17.733254      4.385227   \nmin           0.052630    143.500000      0.000000      9.710000   \n25%           0.086410    420.500000      0.015140     16.330000   \n50%           0.095920    556.700000      0.026260     18.900000   \n75%           0.106100    782.700000      0.042560     21.870000   \nmax         123.000000   2501.000000    396.000000     39.280000   \n\n       concavity_worst  smoothness_se  ...  concavity_mean            id  \\\ncount     13540.000000   13610.000000  ...    13415.000000  1.472000e+04   \nmean         24.441271       0.007034  ...        7.370354  3.075898e+13   \nstd         106.068910       0.003130  ...       34.793982  1.824612e+14   \nmin           0.000000       0.001713  ...        0.000000 -8.888877e+13   \n25%           0.121100       0.005033  ...        0.029950  8.654680e+05   \n50%           0.257100       0.006307  ...        0.063870  9.079150e+05   \n75%           0.426725       0.008109  ...        0.145700  8.912944e+06   \nmax        1252.000000       0.031130  ...      313.000000  9.997654e+14   \n\n       symmetry_mean  symmetry_worst  fractal_dimension_se  perimeter_mean  \\\ncount   13485.000000    13600.000000          13555.000000    13450.000000   \nmean       16.305977       31.056838              0.010388       92.300212   \nstd        52.516520       92.196651              0.199383       24.473417   \nmin         0.116700        0.156500              0.000895       43.790000   \n25%         0.163400        0.252300              0.002217       75.490000   \n50%         0.181300        0.288400              0.003053       86.910000   \n75%         0.202700        0.331300              0.004463      104.300000   \nmax       304.000000      544.000000              6.000000      188.500000   \n\n       compactness_worst   symmetry_se  compactness_se     radius_se  \ncount       13725.000000  13580.000000    13570.000000  13595.000000  \nmean           25.303201      0.219976        0.145002     81.108863  \nstd            95.437704      2.066789        1.474177    292.899986  \nmin             0.027290      0.007882        0.002252      0.111500  \n25%             0.150800      0.015020        0.013400      0.235100  \n50%             0.229700      0.018525        0.020480      0.343800  \n75%             0.385600      0.023240        0.032470      0.590700  \nmax          1058.000000     31.000000       27.000000   2873.000000  \n\n[8 rows x 32 columns]",
      "text/html": "<div>\n<style scoped>\n    .dataframe tbody tr th:only-of-type {\n        vertical-align: middle;\n    }\n\n    .dataframe tbody tr th {\n        vertical-align: top;\n    }\n\n    .dataframe thead th {\n        text-align: right;\n    }\n</style>\n<table border=\"1\" class=\"dataframe\">\n  <thead>\n    <tr style=\"text-align: right;\">\n      <th></th>\n      <th>index</th>\n      <th>perimeter_se</th>\n      <th>radius_worst</th>\n      <th>concave points_mean</th>\n      <th>smoothness_mean</th>\n      <th>area_mean</th>\n      <th>concavity_se</th>\n      <th>texture_mean</th>\n      <th>concavity_worst</th>\n      <th>smoothness_se</th>\n      <th>...</th>\n      <th>concavity_mean</th>\n      <th>id</th>\n      <th>symmetry_mean</th>\n      <th>symmetry_worst</th>\n      <th>fractal_dimension_se</th>\n      <th>perimeter_mean</th>\n      <th>compactness_worst</th>\n      <th>symmetry_se</th>\n      <th>compactness_se</th>\n      <th>radius_se</th>\n    </tr>\n  </thead>\n  <tbody>\n    <tr>\n      <th>count</th>\n      <td>16180.00000</td>\n      <td>13640.000000</td>\n      <td>13630.000000</td>\n      <td>13600.000000</td>\n      <td>13450.000000</td>\n      <td>13425.000000</td>\n      <td>13475.000000</td>\n      <td>13565.000000</td>\n      <td>13540.000000</td>\n      <td>13610.000000</td>\n      <td>...</td>\n      <td>13415.000000</td>\n      <td>1.472000e+04</td>\n      <td>13485.000000</td>\n      <td>13600.000000</td>\n      <td>13555.000000</td>\n      <td>13450.000000</td>\n      <td>13725.000000</td>\n      <td>13580.000000</td>\n      <td>13570.000000</td>\n      <td>13595.000000</td>\n    </tr>\n    <tr>\n      <th>mean</th>\n      <td>328.05068</td>\n      <td>2536.409364</td>\n      <td>323.328936</td>\n      <td>2.424616</td>\n      <td>3.835104</td>\n      <td>656.435978</td>\n      <td>1.147903</td>\n      <td>19.416823</td>\n      <td>24.441271</td>\n      <td>0.007034</td>\n      <td>...</td>\n      <td>7.370354</td>\n      <td>3.075898e+13</td>\n      <td>16.305977</td>\n      <td>31.056838</td>\n      <td>0.010388</td>\n      <td>92.300212</td>\n      <td>25.303201</td>\n      <td>0.219976</td>\n      <td>0.145002</td>\n      <td>81.108863</td>\n    </tr>\n    <tr>\n      <th>std</th>\n      <td>189.47624</td>\n      <td>1738.237381</td>\n      <td>1680.786074</td>\n      <td>16.207594</td>\n      <td>19.928257</td>\n      <td>349.181590</td>\n      <td>17.733254</td>\n      <td>4.385227</td>\n      <td>106.068910</td>\n      <td>0.003130</td>\n      <td>...</td>\n      <td>34.793982</td>\n      <td>1.824612e+14</td>\n      <td>52.516520</td>\n      <td>92.196651</td>\n      <td>0.199383</td>\n      <td>24.473417</td>\n      <td>95.437704</td>\n      <td>2.066789</td>\n      <td>1.474177</td>\n      <td>292.899986</td>\n    </tr>\n    <tr>\n      <th>min</th>\n      <td>0.00000</td>\n      <td>0.771400</td>\n      <td>7.930000</td>\n      <td>0.000000</td>\n      <td>0.052630</td>\n      <td>143.500000</td>\n      <td>0.000000</td>\n      <td>9.710000</td>\n      <td>0.000000</td>\n      <td>0.001713</td>\n      <td>...</td>\n      <td>0.000000</td>\n      <td>-8.888877e+13</td>\n      <td>0.116700</td>\n      <td>0.156500</td>\n      <td>0.000895</td>\n      <td>43.790000</td>\n      <td>0.027290</td>\n      <td>0.007882</td>\n      <td>0.002252</td>\n      <td>0.111500</td>\n    </tr>\n    <tr>\n      <th>25%</th>\n      <td>165.75000</td>\n      <td>1482.000000</td>\n      <td>13.290000</td>\n      <td>0.020270</td>\n      <td>0.086410</td>\n      <td>420.500000</td>\n      <td>0.015140</td>\n      <td>16.330000</td>\n      <td>0.121100</td>\n      <td>0.005033</td>\n      <td>...</td>\n      <td>0.029950</td>\n      <td>8.654680e+05</td>\n      <td>0.163400</td>\n      <td>0.252300</td>\n      <td>0.002217</td>\n      <td>75.490000</td>\n      <td>0.150800</td>\n      <td>0.015020</td>\n      <td>0.013400</td>\n      <td>0.235100</td>\n    </tr>\n    <tr>\n      <th>50%</th>\n      <td>326.00000</td>\n      <td>2143.000000</td>\n      <td>15.300000</td>\n      <td>0.033700</td>\n      <td>0.095920</td>\n      <td>556.700000</td>\n      <td>0.026260</td>\n      <td>18.900000</td>\n      <td>0.257100</td>\n      <td>0.006307</td>\n      <td>...</td>\n      <td>0.063870</td>\n      <td>9.079150e+05</td>\n      <td>0.181300</td>\n      <td>0.288400</td>\n      <td>0.003053</td>\n      <td>86.910000</td>\n      <td>0.229700</td>\n      <td>0.018525</td>\n      <td>0.020480</td>\n      <td>0.343800</td>\n    </tr>\n    <tr>\n      <th>75%</th>\n      <td>494.00000</td>\n      <td>3168.000000</td>\n      <td>19.920000</td>\n      <td>0.077520</td>\n      <td>0.106100</td>\n      <td>782.700000</td>\n      <td>0.042560</td>\n      <td>21.870000</td>\n      <td>0.426725</td>\n      <td>0.008109</td>\n      <td>...</td>\n      <td>0.145700</td>\n      <td>8.912944e+06</td>\n      <td>0.202700</td>\n      <td>0.331300</td>\n      <td>0.004463</td>\n      <td>104.300000</td>\n      <td>0.385600</td>\n      <td>0.023240</td>\n      <td>0.032470</td>\n      <td>0.590700</td>\n    </tr>\n    <tr>\n      <th>max</th>\n      <td>656.00000</td>\n      <td>9807.000000</td>\n      <td>9981.000000</td>\n      <td>162.000000</td>\n      <td>123.000000</td>\n      <td>2501.000000</td>\n      <td>396.000000</td>\n      <td>39.280000</td>\n      <td>1252.000000</td>\n      <td>0.031130</td>\n      <td>...</td>\n      <td>313.000000</td>\n      <td>9.997654e+14</td>\n      <td>304.000000</td>\n      <td>544.000000</td>\n      <td>6.000000</td>\n      <td>188.500000</td>\n      <td>1058.000000</td>\n      <td>31.000000</td>\n      <td>27.000000</td>\n      <td>2873.000000</td>\n    </tr>\n  </tbody>\n</table>\n<p>8 rows × 32 columns</p>\n</div>"
     },
     "execution_count": 357,
     "metadata": {},
     "output_type": "execute_result"
    }
   ],
   "source": [
    "df.describe()"
   ],
   "metadata": {
    "collapsed": false,
    "pycharm": {
     "name": "#%%\n"
    }
   }
  },
  {
   "cell_type": "code",
   "execution_count": 358,
   "outputs": [
    {
     "name": "stdout",
     "output_type": "stream",
     "text": [
      "<class 'pandas.core.frame.DataFrame'>\n",
      "Int64Index: 16180 entries, 1 to 19709\n",
      "Data columns (total 33 columns):\n",
      " #   Column                   Non-Null Count  Dtype   \n",
      "---  ------                   --------------  -----   \n",
      " 0   index                    16180 non-null  float64 \n",
      " 1   perimeter_se             13640 non-null  float64 \n",
      " 2   radius_worst             13630 non-null  float64 \n",
      " 3   concave points_mean      13600 non-null  float64 \n",
      " 4   smoothness_mean          13450 non-null  float64 \n",
      " 5   area_mean                13425 non-null  float64 \n",
      " 6   concavity_se             13475 non-null  float64 \n",
      " 7   texture_mean             13565 non-null  float64 \n",
      " 8   concavity_worst          13540 non-null  float64 \n",
      " 9   smoothness_se            13610 non-null  float64 \n",
      " 10  concave points_se        13600 non-null  float64 \n",
      " 11  area_worst               13530 non-null  float64 \n",
      " 12  compactness_mean         13480 non-null  float64 \n",
      " 13  radius_mean              13495 non-null  float64 \n",
      " 14  area_se                  13475 non-null  float64 \n",
      " 15  concave points_worst     13620 non-null  float64 \n",
      " 16  fractal_dimension_worst  13615 non-null  float64 \n",
      " 17  perimeter_worst          13595 non-null  float64 \n",
      " 18  texture_se               13635 non-null  float64 \n",
      " 19  fractal_dimension_mean   13550 non-null  float64 \n",
      " 20  texture_worst            13615 non-null  float64 \n",
      " 21  smoothness_worst         13535 non-null  float64 \n",
      " 22  concavity_mean           13415 non-null  float64 \n",
      " 23  id                       14720 non-null  float64 \n",
      " 24  symmetry_mean            13485 non-null  float64 \n",
      " 25  symmetry_worst           13600 non-null  float64 \n",
      " 26  diagnosis                16180 non-null  category\n",
      " 27  fractal_dimension_se     13555 non-null  float64 \n",
      " 28  perimeter_mean           13450 non-null  float64 \n",
      " 29  compactness_worst        13725 non-null  float64 \n",
      " 30  symmetry_se              13580 non-null  float64 \n",
      " 31  compactness_se           13570 non-null  float64 \n",
      " 32  radius_se                13595 non-null  float64 \n",
      "dtypes: category(1), float64(32)\n",
      "memory usage: 4.1 MB\n"
     ]
    }
   ],
   "source": [
    "df.info()"
   ],
   "metadata": {
    "collapsed": false,
    "pycharm": {
     "name": "#%%\n"
    }
   }
  },
  {
   "cell_type": "markdown",
   "source": [
    "## Saving current data into a parquet file"
   ],
   "metadata": {
    "collapsed": false,
    "pycharm": {
     "name": "#%% md\n"
    }
   }
  },
  {
   "cell_type": "code",
   "execution_count": 359,
   "outputs": [],
   "source": [
    "df.to_parquet(\"../data/interim/BreastCancer.parquet\", index = False)\n"
   ],
   "metadata": {
    "collapsed": false,
    "pycharm": {
     "name": "#%%\n"
    }
   }
  },
  {
   "cell_type": "code",
   "execution_count": 360,
   "outputs": [
    {
     "name": "stdout",
     "output_type": "stream",
     "text": [
      "<class 'pandas.core.frame.DataFrame'>\n",
      "RangeIndex: 16180 entries, 0 to 16179\n",
      "Data columns (total 33 columns):\n",
      " #   Column                   Non-Null Count  Dtype  \n",
      "---  ------                   --------------  -----  \n",
      " 0   index                    16180 non-null  float64\n",
      " 1   perimeter_se             13640 non-null  float64\n",
      " 2   radius_worst             13630 non-null  float64\n",
      " 3   concave points_mean      13600 non-null  float64\n",
      " 4   smoothness_mean          13450 non-null  float64\n",
      " 5   area_mean                13425 non-null  float64\n",
      " 6   concavity_se             13475 non-null  float64\n",
      " 7   texture_mean             13565 non-null  float64\n",
      " 8   concavity_worst          13540 non-null  float64\n",
      " 9   smoothness_se            13610 non-null  float64\n",
      " 10  concave points_se        13600 non-null  float64\n",
      " 11  area_worst               13530 non-null  float64\n",
      " 12  compactness_mean         13480 non-null  float64\n",
      " 13  radius_mean              13495 non-null  float64\n",
      " 14  area_se                  13475 non-null  float64\n",
      " 15  concave points_worst     13620 non-null  float64\n",
      " 16  fractal_dimension_worst  13615 non-null  float64\n",
      " 17  perimeter_worst          13595 non-null  float64\n",
      " 18  texture_se               13635 non-null  float64\n",
      " 19  fractal_dimension_mean   13550 non-null  float64\n",
      " 20  texture_worst            13615 non-null  float64\n",
      " 21  smoothness_worst         13535 non-null  float64\n",
      " 22  concavity_mean           13415 non-null  float64\n",
      " 23  id                       14720 non-null  float64\n",
      " 24  symmetry_mean            13485 non-null  float64\n",
      " 25  symmetry_worst           13600 non-null  float64\n",
      " 26  diagnosis                16180 non-null  int64  \n",
      " 27  fractal_dimension_se     13555 non-null  float64\n",
      " 28  perimeter_mean           13450 non-null  float64\n",
      " 29  compactness_worst        13725 non-null  float64\n",
      " 30  symmetry_se              13580 non-null  float64\n",
      " 31  compactness_se           13570 non-null  float64\n",
      " 32  radius_se                13595 non-null  float64\n",
      "dtypes: float64(32), int64(1)\n",
      "memory usage: 4.1 MB\n"
     ]
    }
   ],
   "source": [
    "\n",
    "df=pd.read_parquet(\"../data/interim/BreastCancer.parquet\", engine='pyarrow')\n",
    "df.info()"
   ],
   "metadata": {
    "collapsed": false,
    "pycharm": {
     "name": "#%%\n"
    }
   }
  },
  {
   "cell_type": "code",
   "execution_count": 361,
   "outputs": [],
   "source": [
    "## BORRAR SOLO PROVISIONAL\n",
    "df.dropna(inplace=True)"
   ],
   "metadata": {
    "collapsed": false,
    "pycharm": {
     "name": "#%%\n"
    }
   }
  },
  {
   "cell_type": "code",
   "execution_count": 362,
   "outputs": [],
   "source": [
    "df['diagnosis']=df['diagnosis'].astype('category')"
   ],
   "metadata": {
    "collapsed": false,
    "pycharm": {
     "name": "#%%\n"
    }
   }
  },
  {
   "cell_type": "code",
   "execution_count": 363,
   "outputs": [
    {
     "name": "stdout",
     "output_type": "stream",
     "text": [
      "<class 'pandas.core.frame.DataFrame'>\n",
      "Int64Index: 3230 entries, 3 to 16178\n",
      "Data columns (total 33 columns):\n",
      " #   Column                   Non-Null Count  Dtype   \n",
      "---  ------                   --------------  -----   \n",
      " 0   index                    3230 non-null   float64 \n",
      " 1   perimeter_se             3230 non-null   float64 \n",
      " 2   radius_worst             3230 non-null   float64 \n",
      " 3   concave points_mean      3230 non-null   float64 \n",
      " 4   smoothness_mean          3230 non-null   float64 \n",
      " 5   area_mean                3230 non-null   float64 \n",
      " 6   concavity_se             3230 non-null   float64 \n",
      " 7   texture_mean             3230 non-null   float64 \n",
      " 8   concavity_worst          3230 non-null   float64 \n",
      " 9   smoothness_se            3230 non-null   float64 \n",
      " 10  concave points_se        3230 non-null   float64 \n",
      " 11  area_worst               3230 non-null   float64 \n",
      " 12  compactness_mean         3230 non-null   float64 \n",
      " 13  radius_mean              3230 non-null   float64 \n",
      " 14  area_se                  3230 non-null   float64 \n",
      " 15  concave points_worst     3230 non-null   float64 \n",
      " 16  fractal_dimension_worst  3230 non-null   float64 \n",
      " 17  perimeter_worst          3230 non-null   float64 \n",
      " 18  texture_se               3230 non-null   float64 \n",
      " 19  fractal_dimension_mean   3230 non-null   float64 \n",
      " 20  texture_worst            3230 non-null   float64 \n",
      " 21  smoothness_worst         3230 non-null   float64 \n",
      " 22  concavity_mean           3230 non-null   float64 \n",
      " 23  id                       3230 non-null   float64 \n",
      " 24  symmetry_mean            3230 non-null   float64 \n",
      " 25  symmetry_worst           3230 non-null   float64 \n",
      " 26  diagnosis                3230 non-null   category\n",
      " 27  fractal_dimension_se     3230 non-null   float64 \n",
      " 28  perimeter_mean           3230 non-null   float64 \n",
      " 29  compactness_worst        3230 non-null   float64 \n",
      " 30  symmetry_se              3230 non-null   float64 \n",
      " 31  compactness_se           3230 non-null   float64 \n",
      " 32  radius_se                3230 non-null   float64 \n",
      "dtypes: category(1), float64(32)\n",
      "memory usage: 836.0 KB\n"
     ]
    }
   ],
   "source": [
    "\n",
    "df.info()"
   ],
   "metadata": {
    "collapsed": false,
    "pycharm": {
     "name": "#%%\n"
    }
   }
  },
  {
   "cell_type": "code",
   "execution_count": 364,
   "outputs": [
    {
     "data": {
      "text/plain": "      index  perimeter_se  radius_worst  concave points_mean  smoothness_mean  \\\n3     350.0        2225.0         13.28              0.01162          0.07561   \n13    562.0        2362.0         17.52              0.09429          0.10480   \n18    312.0        2346.0         14.19              0.02548          0.08794   \n22    341.0        1429.0         10.75              0.02292          0.08481   \n45      8.0        2406.0         15.49              0.09353          0.12730   \n...     ...           ...           ...                  ...              ...   \n3213  408.0        3061.0         21.08              0.08824          0.10360   \n3214  635.0        1657.0         14.34              0.01762          0.08369   \n3220  184.0        1344.0         17.80              0.03263          0.09057   \n3221  561.0        2041.0         11.92              0.00000          0.07449   \n3234  501.0        2974.0         16.01              0.06759          0.11620   \n\n      area_mean  concavity_se  texture_mean  concavity_worst  smoothness_se  \\\n3         421.0      0.005949         17.07          0.03046       0.006583   \n13        716.9      0.073590         30.62          1.17000       0.004625   \n18        504.1      0.031370         13.37          0.17690       0.006494   \n22        280.5      0.050280         16.84          0.43410       0.005954   \n45        519.8      0.035530         21.82        539.00000       0.005731   \n...         ...           ...           ...              ...            ...   \n3213      991.7      0.025090         20.66          0.33010       0.007231   \n3214      520.2      0.005681         25.13          0.04462       0.006054   \n3220      710.6      0.017740         22.41        363.00000       0.003290   \n3221      386.0      0.000000         29.37          0.00000       0.007594   \n3234      595.9      0.034760         24.49          0.33810       0.009680   \n\n      ...          id  symmetry_mean  symmetry_worst  diagnosis  \\\n3     ...    899187.0         0.1671          0.2731          0   \n13    ...    925622.0         0.2128          0.4089          1   \n18    ...  89382602.0         0.1601          0.2564          0   \n22    ...    898143.0         0.2036          0.2982          0   \n45    ...    844981.0       235.0000          0.4378          1   \n...   ...         ...            ...             ...        ...   \n3213  ...  90524101.0         0.1992        306.0000          1   \n3214  ...   9112594.0         0.1667          0.2306          0   \n3220  ...    873885.0         0.1727          0.3175          1   \n3221  ...    925311.0       106.0000          0.1566          0   \n3234  ...     91504.0         0.2275          0.3651          1   \n\n      fractal_dimension_se  perimeter_mean  compactness_worst  symmetry_se  \\\n3                 0.002668           73.70            0.06476      0.02216   \n13                0.006142          103.40            0.79170      0.02137   \n18                0.004392           82.29            0.22080      0.01731   \n22                0.004031           61.64            0.34160      0.01750   \n45                0.003749           87.50            0.54010      0.02143   \n...                    ...             ...                ...          ...   \n3213              0.003336          117.80            0.37350      0.01414   \n3214              0.001514           82.61            0.10930      0.01215   \n3220              0.002575           98.92            0.32990      0.01172   \n3221              0.001773           70.67            0.05494      0.01989   \n3234              0.006995           92.33            0.39660      0.02434   \n\n      compactness_se  radius_se  \n3           0.006991     0.3534  \n13          0.048440     0.2602  \n18          0.027680     0.3265  \n22          0.034710     0.1844  \n45          0.035020     0.3063  \n...              ...        ...  \n3213        0.027720     0.4537  \n3214        0.008974     0.2621  \n3220        0.013950     0.2054  \n3221        0.008878     0.3141  \n3234        0.038560     0.4751  \n\n[641 rows x 33 columns]",
      "text/html": "<div>\n<style scoped>\n    .dataframe tbody tr th:only-of-type {\n        vertical-align: middle;\n    }\n\n    .dataframe tbody tr th {\n        vertical-align: top;\n    }\n\n    .dataframe thead th {\n        text-align: right;\n    }\n</style>\n<table border=\"1\" class=\"dataframe\">\n  <thead>\n    <tr style=\"text-align: right;\">\n      <th></th>\n      <th>index</th>\n      <th>perimeter_se</th>\n      <th>radius_worst</th>\n      <th>concave points_mean</th>\n      <th>smoothness_mean</th>\n      <th>area_mean</th>\n      <th>concavity_se</th>\n      <th>texture_mean</th>\n      <th>concavity_worst</th>\n      <th>smoothness_se</th>\n      <th>...</th>\n      <th>id</th>\n      <th>symmetry_mean</th>\n      <th>symmetry_worst</th>\n      <th>diagnosis</th>\n      <th>fractal_dimension_se</th>\n      <th>perimeter_mean</th>\n      <th>compactness_worst</th>\n      <th>symmetry_se</th>\n      <th>compactness_se</th>\n      <th>radius_se</th>\n    </tr>\n  </thead>\n  <tbody>\n    <tr>\n      <th>3</th>\n      <td>350.0</td>\n      <td>2225.0</td>\n      <td>13.28</td>\n      <td>0.01162</td>\n      <td>0.07561</td>\n      <td>421.0</td>\n      <td>0.005949</td>\n      <td>17.07</td>\n      <td>0.03046</td>\n      <td>0.006583</td>\n      <td>...</td>\n      <td>899187.0</td>\n      <td>0.1671</td>\n      <td>0.2731</td>\n      <td>0</td>\n      <td>0.002668</td>\n      <td>73.70</td>\n      <td>0.06476</td>\n      <td>0.02216</td>\n      <td>0.006991</td>\n      <td>0.3534</td>\n    </tr>\n    <tr>\n      <th>13</th>\n      <td>562.0</td>\n      <td>2362.0</td>\n      <td>17.52</td>\n      <td>0.09429</td>\n      <td>0.10480</td>\n      <td>716.9</td>\n      <td>0.073590</td>\n      <td>30.62</td>\n      <td>1.17000</td>\n      <td>0.004625</td>\n      <td>...</td>\n      <td>925622.0</td>\n      <td>0.2128</td>\n      <td>0.4089</td>\n      <td>1</td>\n      <td>0.006142</td>\n      <td>103.40</td>\n      <td>0.79170</td>\n      <td>0.02137</td>\n      <td>0.048440</td>\n      <td>0.2602</td>\n    </tr>\n    <tr>\n      <th>18</th>\n      <td>312.0</td>\n      <td>2346.0</td>\n      <td>14.19</td>\n      <td>0.02548</td>\n      <td>0.08794</td>\n      <td>504.1</td>\n      <td>0.031370</td>\n      <td>13.37</td>\n      <td>0.17690</td>\n      <td>0.006494</td>\n      <td>...</td>\n      <td>89382602.0</td>\n      <td>0.1601</td>\n      <td>0.2564</td>\n      <td>0</td>\n      <td>0.004392</td>\n      <td>82.29</td>\n      <td>0.22080</td>\n      <td>0.01731</td>\n      <td>0.027680</td>\n      <td>0.3265</td>\n    </tr>\n    <tr>\n      <th>22</th>\n      <td>341.0</td>\n      <td>1429.0</td>\n      <td>10.75</td>\n      <td>0.02292</td>\n      <td>0.08481</td>\n      <td>280.5</td>\n      <td>0.050280</td>\n      <td>16.84</td>\n      <td>0.43410</td>\n      <td>0.005954</td>\n      <td>...</td>\n      <td>898143.0</td>\n      <td>0.2036</td>\n      <td>0.2982</td>\n      <td>0</td>\n      <td>0.004031</td>\n      <td>61.64</td>\n      <td>0.34160</td>\n      <td>0.01750</td>\n      <td>0.034710</td>\n      <td>0.1844</td>\n    </tr>\n    <tr>\n      <th>45</th>\n      <td>8.0</td>\n      <td>2406.0</td>\n      <td>15.49</td>\n      <td>0.09353</td>\n      <td>0.12730</td>\n      <td>519.8</td>\n      <td>0.035530</td>\n      <td>21.82</td>\n      <td>539.00000</td>\n      <td>0.005731</td>\n      <td>...</td>\n      <td>844981.0</td>\n      <td>235.0000</td>\n      <td>0.4378</td>\n      <td>1</td>\n      <td>0.003749</td>\n      <td>87.50</td>\n      <td>0.54010</td>\n      <td>0.02143</td>\n      <td>0.035020</td>\n      <td>0.3063</td>\n    </tr>\n    <tr>\n      <th>...</th>\n      <td>...</td>\n      <td>...</td>\n      <td>...</td>\n      <td>...</td>\n      <td>...</td>\n      <td>...</td>\n      <td>...</td>\n      <td>...</td>\n      <td>...</td>\n      <td>...</td>\n      <td>...</td>\n      <td>...</td>\n      <td>...</td>\n      <td>...</td>\n      <td>...</td>\n      <td>...</td>\n      <td>...</td>\n      <td>...</td>\n      <td>...</td>\n      <td>...</td>\n      <td>...</td>\n    </tr>\n    <tr>\n      <th>3213</th>\n      <td>408.0</td>\n      <td>3061.0</td>\n      <td>21.08</td>\n      <td>0.08824</td>\n      <td>0.10360</td>\n      <td>991.7</td>\n      <td>0.025090</td>\n      <td>20.66</td>\n      <td>0.33010</td>\n      <td>0.007231</td>\n      <td>...</td>\n      <td>90524101.0</td>\n      <td>0.1992</td>\n      <td>306.0000</td>\n      <td>1</td>\n      <td>0.003336</td>\n      <td>117.80</td>\n      <td>0.37350</td>\n      <td>0.01414</td>\n      <td>0.027720</td>\n      <td>0.4537</td>\n    </tr>\n    <tr>\n      <th>3214</th>\n      <td>635.0</td>\n      <td>1657.0</td>\n      <td>14.34</td>\n      <td>0.01762</td>\n      <td>0.08369</td>\n      <td>520.2</td>\n      <td>0.005681</td>\n      <td>25.13</td>\n      <td>0.04462</td>\n      <td>0.006054</td>\n      <td>...</td>\n      <td>9112594.0</td>\n      <td>0.1667</td>\n      <td>0.2306</td>\n      <td>0</td>\n      <td>0.001514</td>\n      <td>82.61</td>\n      <td>0.10930</td>\n      <td>0.01215</td>\n      <td>0.008974</td>\n      <td>0.2621</td>\n    </tr>\n    <tr>\n      <th>3220</th>\n      <td>184.0</td>\n      <td>1344.0</td>\n      <td>17.80</td>\n      <td>0.03263</td>\n      <td>0.09057</td>\n      <td>710.6</td>\n      <td>0.017740</td>\n      <td>22.41</td>\n      <td>363.00000</td>\n      <td>0.003290</td>\n      <td>...</td>\n      <td>873885.0</td>\n      <td>0.1727</td>\n      <td>0.3175</td>\n      <td>1</td>\n      <td>0.002575</td>\n      <td>98.92</td>\n      <td>0.32990</td>\n      <td>0.01172</td>\n      <td>0.013950</td>\n      <td>0.2054</td>\n    </tr>\n    <tr>\n      <th>3221</th>\n      <td>561.0</td>\n      <td>2041.0</td>\n      <td>11.92</td>\n      <td>0.00000</td>\n      <td>0.07449</td>\n      <td>386.0</td>\n      <td>0.000000</td>\n      <td>29.37</td>\n      <td>0.00000</td>\n      <td>0.007594</td>\n      <td>...</td>\n      <td>925311.0</td>\n      <td>106.0000</td>\n      <td>0.1566</td>\n      <td>0</td>\n      <td>0.001773</td>\n      <td>70.67</td>\n      <td>0.05494</td>\n      <td>0.01989</td>\n      <td>0.008878</td>\n      <td>0.3141</td>\n    </tr>\n    <tr>\n      <th>3234</th>\n      <td>501.0</td>\n      <td>2974.0</td>\n      <td>16.01</td>\n      <td>0.06759</td>\n      <td>0.11620</td>\n      <td>595.9</td>\n      <td>0.034760</td>\n      <td>24.49</td>\n      <td>0.33810</td>\n      <td>0.009680</td>\n      <td>...</td>\n      <td>91504.0</td>\n      <td>0.2275</td>\n      <td>0.3651</td>\n      <td>1</td>\n      <td>0.006995</td>\n      <td>92.33</td>\n      <td>0.39660</td>\n      <td>0.02434</td>\n      <td>0.038560</td>\n      <td>0.4751</td>\n    </tr>\n  </tbody>\n</table>\n<p>641 rows × 33 columns</p>\n</div>"
     },
     "execution_count": 364,
     "metadata": {},
     "output_type": "execute_result"
    }
   ],
   "source": [
    "df=df.drop_duplicates(keep='first', ignore_index=False)\n",
    "df"
   ],
   "metadata": {
    "collapsed": false,
    "pycharm": {
     "name": "#%%\n"
    }
   }
  },
  {
   "cell_type": "code",
   "execution_count": 365,
   "outputs": [
    {
     "data": {
      "text/plain": "      index  perimeter_se  radius_worst  concave points_mean  smoothness_mean  \\\n3     350.0        2225.0         13.28              0.01162          0.07561   \n13    562.0        2362.0         17.52              0.09429          0.10480   \n18    312.0        2346.0         14.19              0.02548          0.08794   \n22    341.0        1429.0         10.75              0.02292          0.08481   \n45      8.0        2406.0         15.49              0.09353          0.12730   \n...     ...           ...           ...                  ...              ...   \n3213  408.0        3061.0         21.08              0.08824          0.10360   \n3214  635.0        1657.0         14.34              0.01762          0.08369   \n3220  184.0        1344.0         17.80              0.03263          0.09057   \n3221  561.0        2041.0         11.92              0.00000          0.07449   \n3234  501.0        2974.0         16.01              0.06759          0.11620   \n\n      area_mean  concavity_se  texture_mean  concavity_worst  smoothness_se  \\\n3         421.0      0.005949         17.07          0.03046       0.006583   \n13        716.9      0.073590         30.62          1.17000       0.004625   \n18        504.1      0.031370         13.37          0.17690       0.006494   \n22        280.5      0.050280         16.84          0.43410       0.005954   \n45        519.8      0.035530         21.82        539.00000       0.005731   \n...         ...           ...           ...              ...            ...   \n3213      991.7      0.025090         20.66          0.33010       0.007231   \n3214      520.2      0.005681         25.13          0.04462       0.006054   \n3220      710.6      0.017740         22.41        363.00000       0.003290   \n3221      386.0      0.000000         29.37          0.00000       0.007594   \n3234      595.9      0.034760         24.49          0.33810       0.009680   \n\n      ...  concavity_mean  symmetry_mean  symmetry_worst  diagnosis  \\\n3     ...        0.008306         0.1671          0.2731          0   \n13    ...      255.000000         0.2128          0.4089          1   \n18    ...        0.040520         0.1601          0.2564          0   \n22    ...        0.084220         0.2036          0.2982          0   \n45    ...        0.185900       235.0000          0.4378          1   \n...   ...             ...            ...             ...        ...   \n3213  ...        0.120100         0.1992        306.0000          1   \n3214  ...        0.012060         0.1667          0.2306          0   \n3220  ...        0.053750         0.1727          0.3175          1   \n3221  ...        0.000000       106.0000          0.1566          0   \n3234  ...        0.135700         0.2275          0.3651          1   \n\n      fractal_dimension_se  perimeter_mean  compactness_worst  symmetry_se  \\\n3                 0.002668           73.70            0.06476      0.02216   \n13                0.006142          103.40            0.79170      0.02137   \n18                0.004392           82.29            0.22080      0.01731   \n22                0.004031           61.64            0.34160      0.01750   \n45                0.003749           87.50            0.54010      0.02143   \n...                    ...             ...                ...          ...   \n3213              0.003336          117.80            0.37350      0.01414   \n3214              0.001514           82.61            0.10930      0.01215   \n3220              0.002575           98.92            0.32990      0.01172   \n3221              0.001773           70.67            0.05494      0.01989   \n3234              0.006995           92.33            0.39660      0.02434   \n\n      compactness_se  radius_se  \n3           0.006991     0.3534  \n13          0.048440     0.2602  \n18          0.027680     0.3265  \n22          0.034710     0.1844  \n45          0.035020     0.3063  \n...              ...        ...  \n3213        0.027720     0.4537  \n3214        0.008974     0.2621  \n3220        0.013950     0.2054  \n3221        0.008878     0.3141  \n3234        0.038560     0.4751  \n\n[641 rows x 32 columns]",
      "text/html": "<div>\n<style scoped>\n    .dataframe tbody tr th:only-of-type {\n        vertical-align: middle;\n    }\n\n    .dataframe tbody tr th {\n        vertical-align: top;\n    }\n\n    .dataframe thead th {\n        text-align: right;\n    }\n</style>\n<table border=\"1\" class=\"dataframe\">\n  <thead>\n    <tr style=\"text-align: right;\">\n      <th></th>\n      <th>index</th>\n      <th>perimeter_se</th>\n      <th>radius_worst</th>\n      <th>concave points_mean</th>\n      <th>smoothness_mean</th>\n      <th>area_mean</th>\n      <th>concavity_se</th>\n      <th>texture_mean</th>\n      <th>concavity_worst</th>\n      <th>smoothness_se</th>\n      <th>...</th>\n      <th>concavity_mean</th>\n      <th>symmetry_mean</th>\n      <th>symmetry_worst</th>\n      <th>diagnosis</th>\n      <th>fractal_dimension_se</th>\n      <th>perimeter_mean</th>\n      <th>compactness_worst</th>\n      <th>symmetry_se</th>\n      <th>compactness_se</th>\n      <th>radius_se</th>\n    </tr>\n  </thead>\n  <tbody>\n    <tr>\n      <th>3</th>\n      <td>350.0</td>\n      <td>2225.0</td>\n      <td>13.28</td>\n      <td>0.01162</td>\n      <td>0.07561</td>\n      <td>421.0</td>\n      <td>0.005949</td>\n      <td>17.07</td>\n      <td>0.03046</td>\n      <td>0.006583</td>\n      <td>...</td>\n      <td>0.008306</td>\n      <td>0.1671</td>\n      <td>0.2731</td>\n      <td>0</td>\n      <td>0.002668</td>\n      <td>73.70</td>\n      <td>0.06476</td>\n      <td>0.02216</td>\n      <td>0.006991</td>\n      <td>0.3534</td>\n    </tr>\n    <tr>\n      <th>13</th>\n      <td>562.0</td>\n      <td>2362.0</td>\n      <td>17.52</td>\n      <td>0.09429</td>\n      <td>0.10480</td>\n      <td>716.9</td>\n      <td>0.073590</td>\n      <td>30.62</td>\n      <td>1.17000</td>\n      <td>0.004625</td>\n      <td>...</td>\n      <td>255.000000</td>\n      <td>0.2128</td>\n      <td>0.4089</td>\n      <td>1</td>\n      <td>0.006142</td>\n      <td>103.40</td>\n      <td>0.79170</td>\n      <td>0.02137</td>\n      <td>0.048440</td>\n      <td>0.2602</td>\n    </tr>\n    <tr>\n      <th>18</th>\n      <td>312.0</td>\n      <td>2346.0</td>\n      <td>14.19</td>\n      <td>0.02548</td>\n      <td>0.08794</td>\n      <td>504.1</td>\n      <td>0.031370</td>\n      <td>13.37</td>\n      <td>0.17690</td>\n      <td>0.006494</td>\n      <td>...</td>\n      <td>0.040520</td>\n      <td>0.1601</td>\n      <td>0.2564</td>\n      <td>0</td>\n      <td>0.004392</td>\n      <td>82.29</td>\n      <td>0.22080</td>\n      <td>0.01731</td>\n      <td>0.027680</td>\n      <td>0.3265</td>\n    </tr>\n    <tr>\n      <th>22</th>\n      <td>341.0</td>\n      <td>1429.0</td>\n      <td>10.75</td>\n      <td>0.02292</td>\n      <td>0.08481</td>\n      <td>280.5</td>\n      <td>0.050280</td>\n      <td>16.84</td>\n      <td>0.43410</td>\n      <td>0.005954</td>\n      <td>...</td>\n      <td>0.084220</td>\n      <td>0.2036</td>\n      <td>0.2982</td>\n      <td>0</td>\n      <td>0.004031</td>\n      <td>61.64</td>\n      <td>0.34160</td>\n      <td>0.01750</td>\n      <td>0.034710</td>\n      <td>0.1844</td>\n    </tr>\n    <tr>\n      <th>45</th>\n      <td>8.0</td>\n      <td>2406.0</td>\n      <td>15.49</td>\n      <td>0.09353</td>\n      <td>0.12730</td>\n      <td>519.8</td>\n      <td>0.035530</td>\n      <td>21.82</td>\n      <td>539.00000</td>\n      <td>0.005731</td>\n      <td>...</td>\n      <td>0.185900</td>\n      <td>235.0000</td>\n      <td>0.4378</td>\n      <td>1</td>\n      <td>0.003749</td>\n      <td>87.50</td>\n      <td>0.54010</td>\n      <td>0.02143</td>\n      <td>0.035020</td>\n      <td>0.3063</td>\n    </tr>\n    <tr>\n      <th>...</th>\n      <td>...</td>\n      <td>...</td>\n      <td>...</td>\n      <td>...</td>\n      <td>...</td>\n      <td>...</td>\n      <td>...</td>\n      <td>...</td>\n      <td>...</td>\n      <td>...</td>\n      <td>...</td>\n      <td>...</td>\n      <td>...</td>\n      <td>...</td>\n      <td>...</td>\n      <td>...</td>\n      <td>...</td>\n      <td>...</td>\n      <td>...</td>\n      <td>...</td>\n      <td>...</td>\n    </tr>\n    <tr>\n      <th>3213</th>\n      <td>408.0</td>\n      <td>3061.0</td>\n      <td>21.08</td>\n      <td>0.08824</td>\n      <td>0.10360</td>\n      <td>991.7</td>\n      <td>0.025090</td>\n      <td>20.66</td>\n      <td>0.33010</td>\n      <td>0.007231</td>\n      <td>...</td>\n      <td>0.120100</td>\n      <td>0.1992</td>\n      <td>306.0000</td>\n      <td>1</td>\n      <td>0.003336</td>\n      <td>117.80</td>\n      <td>0.37350</td>\n      <td>0.01414</td>\n      <td>0.027720</td>\n      <td>0.4537</td>\n    </tr>\n    <tr>\n      <th>3214</th>\n      <td>635.0</td>\n      <td>1657.0</td>\n      <td>14.34</td>\n      <td>0.01762</td>\n      <td>0.08369</td>\n      <td>520.2</td>\n      <td>0.005681</td>\n      <td>25.13</td>\n      <td>0.04462</td>\n      <td>0.006054</td>\n      <td>...</td>\n      <td>0.012060</td>\n      <td>0.1667</td>\n      <td>0.2306</td>\n      <td>0</td>\n      <td>0.001514</td>\n      <td>82.61</td>\n      <td>0.10930</td>\n      <td>0.01215</td>\n      <td>0.008974</td>\n      <td>0.2621</td>\n    </tr>\n    <tr>\n      <th>3220</th>\n      <td>184.0</td>\n      <td>1344.0</td>\n      <td>17.80</td>\n      <td>0.03263</td>\n      <td>0.09057</td>\n      <td>710.6</td>\n      <td>0.017740</td>\n      <td>22.41</td>\n      <td>363.00000</td>\n      <td>0.003290</td>\n      <td>...</td>\n      <td>0.053750</td>\n      <td>0.1727</td>\n      <td>0.3175</td>\n      <td>1</td>\n      <td>0.002575</td>\n      <td>98.92</td>\n      <td>0.32990</td>\n      <td>0.01172</td>\n      <td>0.013950</td>\n      <td>0.2054</td>\n    </tr>\n    <tr>\n      <th>3221</th>\n      <td>561.0</td>\n      <td>2041.0</td>\n      <td>11.92</td>\n      <td>0.00000</td>\n      <td>0.07449</td>\n      <td>386.0</td>\n      <td>0.000000</td>\n      <td>29.37</td>\n      <td>0.00000</td>\n      <td>0.007594</td>\n      <td>...</td>\n      <td>0.000000</td>\n      <td>106.0000</td>\n      <td>0.1566</td>\n      <td>0</td>\n      <td>0.001773</td>\n      <td>70.67</td>\n      <td>0.05494</td>\n      <td>0.01989</td>\n      <td>0.008878</td>\n      <td>0.3141</td>\n    </tr>\n    <tr>\n      <th>3234</th>\n      <td>501.0</td>\n      <td>2974.0</td>\n      <td>16.01</td>\n      <td>0.06759</td>\n      <td>0.11620</td>\n      <td>595.9</td>\n      <td>0.034760</td>\n      <td>24.49</td>\n      <td>0.33810</td>\n      <td>0.009680</td>\n      <td>...</td>\n      <td>0.135700</td>\n      <td>0.2275</td>\n      <td>0.3651</td>\n      <td>1</td>\n      <td>0.006995</td>\n      <td>92.33</td>\n      <td>0.39660</td>\n      <td>0.02434</td>\n      <td>0.038560</td>\n      <td>0.4751</td>\n    </tr>\n  </tbody>\n</table>\n<p>641 rows × 32 columns</p>\n</div>"
     },
     "execution_count": 365,
     "metadata": {},
     "output_type": "execute_result"
    }
   ],
   "source": [
    "df=df.drop('id',axis=1)\n",
    "df"
   ],
   "metadata": {
    "collapsed": false,
    "pycharm": {
     "name": "#%%\n"
    }
   }
  },
  {
   "cell_type": "code",
   "execution_count": 366,
   "outputs": [
    {
     "name": "stdout",
     "output_type": "stream",
     "text": [
      "<class 'pandas.core.frame.DataFrame'>\n",
      "Int64Index: 641 entries, 3 to 3234\n",
      "Data columns (total 32 columns):\n",
      " #   Column                   Non-Null Count  Dtype   \n",
      "---  ------                   --------------  -----   \n",
      " 0   index                    641 non-null    float64 \n",
      " 1   perimeter_se             641 non-null    float64 \n",
      " 2   radius_worst             641 non-null    float64 \n",
      " 3   concave points_mean      641 non-null    float64 \n",
      " 4   smoothness_mean          641 non-null    float64 \n",
      " 5   area_mean                641 non-null    float64 \n",
      " 6   concavity_se             641 non-null    float64 \n",
      " 7   texture_mean             641 non-null    float64 \n",
      " 8   concavity_worst          641 non-null    float64 \n",
      " 9   smoothness_se            641 non-null    float64 \n",
      " 10  concave points_se        641 non-null    float64 \n",
      " 11  area_worst               641 non-null    float64 \n",
      " 12  compactness_mean         641 non-null    float64 \n",
      " 13  radius_mean              641 non-null    float64 \n",
      " 14  area_se                  641 non-null    float64 \n",
      " 15  concave points_worst     641 non-null    float64 \n",
      " 16  fractal_dimension_worst  641 non-null    float64 \n",
      " 17  perimeter_worst          641 non-null    float64 \n",
      " 18  texture_se               641 non-null    float64 \n",
      " 19  fractal_dimension_mean   641 non-null    float64 \n",
      " 20  texture_worst            641 non-null    float64 \n",
      " 21  smoothness_worst         641 non-null    float64 \n",
      " 22  concavity_mean           641 non-null    float64 \n",
      " 23  symmetry_mean            641 non-null    float64 \n",
      " 24  symmetry_worst           641 non-null    float64 \n",
      " 25  diagnosis                641 non-null    category\n",
      " 26  fractal_dimension_se     641 non-null    float64 \n",
      " 27  perimeter_mean           641 non-null    float64 \n",
      " 28  compactness_worst        641 non-null    float64 \n",
      " 29  symmetry_se              641 non-null    float64 \n",
      " 30  compactness_se           641 non-null    float64 \n",
      " 31  radius_se                641 non-null    float64 \n",
      "dtypes: category(1), float64(31)\n",
      "memory usage: 161.0 KB\n"
     ]
    }
   ],
   "source": [
    "df=df.drop_duplicates(keep='first', ignore_index=False)\n",
    "df.info()"
   ],
   "metadata": {
    "collapsed": false,
    "pycharm": {
     "name": "#%%\n"
    }
   }
  },
  {
   "cell_type": "code",
   "execution_count": 367,
   "outputs": [
    {
     "name": "stdout",
     "output_type": "stream",
     "text": [
      "<class 'pandas.core.frame.DataFrame'>\n",
      "Int64Index: 641 entries, 3 to 3234\n",
      "Data columns (total 31 columns):\n",
      " #   Column                   Non-Null Count  Dtype   \n",
      "---  ------                   --------------  -----   \n",
      " 0   perimeter_se             641 non-null    float64 \n",
      " 1   radius_worst             641 non-null    float64 \n",
      " 2   concave points_mean      641 non-null    float64 \n",
      " 3   smoothness_mean          641 non-null    float64 \n",
      " 4   area_mean                641 non-null    float64 \n",
      " 5   concavity_se             641 non-null    float64 \n",
      " 6   texture_mean             641 non-null    float64 \n",
      " 7   concavity_worst          641 non-null    float64 \n",
      " 8   smoothness_se            641 non-null    float64 \n",
      " 9   concave points_se        641 non-null    float64 \n",
      " 10  area_worst               641 non-null    float64 \n",
      " 11  compactness_mean         641 non-null    float64 \n",
      " 12  radius_mean              641 non-null    float64 \n",
      " 13  area_se                  641 non-null    float64 \n",
      " 14  concave points_worst     641 non-null    float64 \n",
      " 15  fractal_dimension_worst  641 non-null    float64 \n",
      " 16  perimeter_worst          641 non-null    float64 \n",
      " 17  texture_se               641 non-null    float64 \n",
      " 18  fractal_dimension_mean   641 non-null    float64 \n",
      " 19  texture_worst            641 non-null    float64 \n",
      " 20  smoothness_worst         641 non-null    float64 \n",
      " 21  concavity_mean           641 non-null    float64 \n",
      " 22  symmetry_mean            641 non-null    float64 \n",
      " 23  symmetry_worst           641 non-null    float64 \n",
      " 24  diagnosis                641 non-null    category\n",
      " 25  fractal_dimension_se     641 non-null    float64 \n",
      " 26  perimeter_mean           641 non-null    float64 \n",
      " 27  compactness_worst        641 non-null    float64 \n",
      " 28  symmetry_se              641 non-null    float64 \n",
      " 29  compactness_se           641 non-null    float64 \n",
      " 30  radius_se                641 non-null    float64 \n",
      "dtypes: category(1), float64(30)\n",
      "memory usage: 156.0 KB\n"
     ]
    }
   ],
   "source": [
    "df=df.drop('index',axis=1)\n",
    "df.info()"
   ],
   "metadata": {
    "collapsed": false,
    "pycharm": {
     "name": "#%%\n"
    }
   }
  },
  {
   "cell_type": "code",
   "execution_count": 368,
   "outputs": [
    {
     "name": "stdout",
     "output_type": "stream",
     "text": [
      "<class 'pandas.core.frame.DataFrame'>\n",
      "Int64Index: 569 entries, 3 to 3234\n",
      "Data columns (total 31 columns):\n",
      " #   Column                   Non-Null Count  Dtype   \n",
      "---  ------                   --------------  -----   \n",
      " 0   perimeter_se             569 non-null    float64 \n",
      " 1   radius_worst             569 non-null    float64 \n",
      " 2   concave points_mean      569 non-null    float64 \n",
      " 3   smoothness_mean          569 non-null    float64 \n",
      " 4   area_mean                569 non-null    float64 \n",
      " 5   concavity_se             569 non-null    float64 \n",
      " 6   texture_mean             569 non-null    float64 \n",
      " 7   concavity_worst          569 non-null    float64 \n",
      " 8   smoothness_se            569 non-null    float64 \n",
      " 9   concave points_se        569 non-null    float64 \n",
      " 10  area_worst               569 non-null    float64 \n",
      " 11  compactness_mean         569 non-null    float64 \n",
      " 12  radius_mean              569 non-null    float64 \n",
      " 13  area_se                  569 non-null    float64 \n",
      " 14  concave points_worst     569 non-null    float64 \n",
      " 15  fractal_dimension_worst  569 non-null    float64 \n",
      " 16  perimeter_worst          569 non-null    float64 \n",
      " 17  texture_se               569 non-null    float64 \n",
      " 18  fractal_dimension_mean   569 non-null    float64 \n",
      " 19  texture_worst            569 non-null    float64 \n",
      " 20  smoothness_worst         569 non-null    float64 \n",
      " 21  concavity_mean           569 non-null    float64 \n",
      " 22  symmetry_mean            569 non-null    float64 \n",
      " 23  symmetry_worst           569 non-null    float64 \n",
      " 24  diagnosis                569 non-null    category\n",
      " 25  fractal_dimension_se     569 non-null    float64 \n",
      " 26  perimeter_mean           569 non-null    float64 \n",
      " 27  compactness_worst        569 non-null    float64 \n",
      " 28  symmetry_se              569 non-null    float64 \n",
      " 29  compactness_se           569 non-null    float64 \n",
      " 30  radius_se                569 non-null    float64 \n",
      "dtypes: category(1), float64(30)\n",
      "memory usage: 138.5 KB\n"
     ]
    }
   ],
   "source": [
    "df=df.drop_duplicates(keep='first', ignore_index=False)\n",
    "df.info()"
   ],
   "metadata": {
    "collapsed": false,
    "pycharm": {
     "name": "#%%\n"
    }
   }
  },
  {
   "cell_type": "code",
   "execution_count": 369,
   "outputs": [],
   "source": [
    "df.to_parquet(\"../data/interim/Breastclean1.parquet\", index = False)\n"
   ],
   "metadata": {
    "collapsed": false,
    "pycharm": {
     "name": "#%%\n"
    }
   }
  }
 ],
 "metadata": {
  "kernelspec": {
   "display_name": "Python 3",
   "language": "python",
   "name": "python3"
  },
  "language_info": {
   "codemirror_mode": {
    "name": "ipython",
    "version": 2
   },
   "file_extension": ".py",
   "mimetype": "text/x-python",
   "name": "python",
   "nbconvert_exporter": "python",
   "pygments_lexer": "ipython2",
   "version": "2.7.6"
  }
 },
 "nbformat": 4,
 "nbformat_minor": 0
}